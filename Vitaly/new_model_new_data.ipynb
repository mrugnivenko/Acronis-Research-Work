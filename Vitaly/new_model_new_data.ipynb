{
 "cells": [
  {
   "cell_type": "code",
   "execution_count": 1,
   "metadata": {},
   "outputs": [
    {
     "data": {
      "text/plain": [
       "'\\nimport lib.pe_df_reader as reader\\n'"
      ]
     },
     "execution_count": 1,
     "metadata": {},
     "output_type": "execute_result"
    }
   ],
   "source": [
    "import pandas as pd\n",
    "import numpy as np\n",
    "import matplotlib.pyplot as plt\n",
    "import matplotlib\n",
    "import sys\n",
    "import os\n",
    "from datetime import datetime\n",
    "import pickle\n",
    "import scipy.stats as st\n",
    "\n",
    "from sklearn.metrics import mean_absolute_error as MAE\n",
    "from sklearn import linear_model\n",
    "\n",
    "import seaborn as sns\n",
    "from plotly.subplots import make_subplots\n",
    "import plotly.graph_objects as go\n",
    "from plotly.offline import plot\n",
    "\n",
    "import json\n",
    "sys.path.insert(1, '../')\n",
    "import lib.pe_down_loading_data_frame as loader\n",
    "import lib.pe_utils as utils\n",
    "import lib.pe_model as model\n",
    "import lib.pe_config as conf\n",
    "import lib.pe_df_analyzer as analyzer\n",
    "import lib.pe_varmaker as va_m\n",
    "import lib.pe_df_writer as writer\n",
    "import lib.pe_metrics as metrics\n",
    "import lib.pe_preprocessing as prepro\n",
    "\n",
    "\n",
    "import lib.la_model as la_model\n",
    "\n",
    "import imp\n",
    "\n",
    "import json\n",
    "sys.path.insert(1, '../')\n",
    "import lib.pe_down_loading_data_frame as loader\n",
    "imp.reload(loader)\n",
    "import lib.pe_utils as utils\n",
    "imp.reload(utils)\n",
    "import lib.pe_model as model\n",
    "imp.reload(model)\n",
    "import lib.pe_config as conf\n",
    "imp.reload(conf)\n",
    "import lib.pe_df_analyzer as analyzer\n",
    "imp.reload(analyzer)\n",
    "import lib.pe_varmaker as va_m\n",
    "imp.reload(va_m)\n",
    "import lib.pe_df_writer as writer\n",
    "imp.reload(writer)\n",
    "import lib.pe_metrics as metrics\n",
    "imp.reload(metrics)\n",
    "import lib.pe_preprocessing as prepro\n",
    "imp.reload(prepro)\n",
    "import lib.la_prepro as la_prepro\n",
    "imp.reload(la_prepro)\n",
    "import lib.la_utils as la_utils\n",
    "imp.reload(la_utils)\n",
    "import lib.la_model as la_model\n",
    "imp.reload(la_model)\n",
    "load_model_data = utils.load_model_data\n",
    "load_var_data  = utils.load_var_data\n",
    "'''\n",
    "import lib.pe_df_reader as reader\n",
    "'''"
   ]
  },
  {
   "cell_type": "code",
   "execution_count": null,
   "metadata": {},
   "outputs": [],
   "source": []
  },
  {
   "cell_type": "code",
   "execution_count": 2,
   "metadata": {},
   "outputs": [
    {
     "name": "stdout",
     "output_type": "stream",
     "text": [
      "\n",
      "model:\n",
      "DC=au2-acs1\n",
      "INSTANCE=1\n",
      "\tdata for model is already loaded\n",
      "\n",
      "var:\n",
      "DC=au2-acs1\n",
      "INSTANCE=1\n",
      "\tvar data already loaded\n",
      "\n",
      "model:\n",
      "DC=au2-acs1\n",
      "INSTANCE=2\n",
      "\tdata for model is already loaded\n",
      "\n",
      "var:\n",
      "DC=au2-acs1\n",
      "INSTANCE=2\n",
      "\tvar data already loaded\n",
      "\n",
      "model:\n",
      "DC=au2-acs1\n",
      "INSTANCE=3\n",
      "\tdata for model is already loaded\n",
      "\n",
      "var:\n",
      "DC=au2-acs1\n",
      "INSTANCE=3\n",
      "\tvar data already loaded\n",
      "\n",
      "model:\n",
      "DC=au2-acs1\n",
      "INSTANCE=4\n",
      "\tdata for model is already loaded\n",
      "\n",
      "var:\n",
      "DC=au2-acs1\n",
      "INSTANCE=4\n",
      "\tvar data already loaded\n",
      "\n",
      "model:\n",
      "DC=au2-acs1\n",
      "INSTANCE=5\n",
      "\tdata for model is already loaded\n",
      "\n",
      "var:\n",
      "DC=au2-acs1\n",
      "INSTANCE=5\n",
      "\tvar data already loaded\n",
      "\n",
      "model:\n",
      "DC=au2-acs1\n",
      "INSTANCE=6\n",
      "\tdata for model is already loaded\n",
      "\n",
      "var:\n",
      "DC=au2-acs1\n",
      "INSTANCE=6\n",
      "\tvar data already loaded\n",
      "\n",
      "model:\n",
      "DC=au2-acs1\n",
      "INSTANCE=7\n",
      "\tdata for model is already loaded\n",
      "\n",
      "var:\n",
      "DC=au2-acs1\n",
      "INSTANCE=7\n",
      "\tvar data already loaded\n",
      "\n",
      "model:\n",
      "DC=au2-acs1\n",
      "INSTANCE=8\n",
      "\tdata for model is already loaded\n",
      "\n",
      "var:\n",
      "DC=au2-acs1\n",
      "INSTANCE=8\n",
      "\tvar data already loaded\n",
      "\n",
      "model:\n",
      "DC=au2-acs1\n",
      "INSTANCE=9\n",
      "\tdata for model is already loaded\n",
      "\n",
      "var:\n",
      "DC=au2-acs1\n",
      "INSTANCE=9\n",
      "\tvar data already loaded\n",
      "\n",
      "model:\n",
      "DC=au2-acs1\n",
      "INSTANCE=10\n",
      "\tdata for model is already loaded\n",
      "\n",
      "var:\n",
      "DC=au2-acs1\n",
      "INSTANCE=10\n",
      "\tvar data already loaded\n",
      "\n",
      "model:\n",
      "DC=au2-acs1\n",
      "INSTANCE=13\n",
      "\tdata for model is already loaded\n",
      "\n",
      "var:\n",
      "DC=au2-acs1\n",
      "INSTANCE=13\n",
      "\tvar data already loaded\n",
      "\n",
      "model:\n",
      "DC=au2-acs1\n",
      "INSTANCE=14\n",
      "\tdata for model is already loaded\n",
      "\n",
      "var:\n",
      "DC=au2-acs1\n",
      "INSTANCE=14\n",
      "\tvar data already loaded\n",
      "\n",
      "model:\n",
      "DC=au2-acs1\n",
      "INSTANCE=15\n",
      "\tdata for model is already loaded\n",
      "\n",
      "var:\n",
      "DC=au2-acs1\n",
      "INSTANCE=15\n",
      "\tvar data already loaded\n",
      "\n",
      "model:\n",
      "DC=au2-acs1\n",
      "INSTANCE=16\n",
      "\tdata for model is already loaded\n",
      "\n",
      "var:\n",
      "DC=au2-acs1\n",
      "INSTANCE=16\n",
      "\tvar data already loaded\n",
      "\n",
      "model:\n",
      "DC=au2-acs1\n",
      "INSTANCE=17\n",
      "\tdata for model is already loaded\n",
      "\n",
      "var:\n",
      "DC=au2-acs1\n",
      "INSTANCE=17\n",
      "\tvar data already loaded\n",
      "\n",
      "model:\n",
      "DC=au2-acs1\n",
      "INSTANCE=18\n",
      "\tdata for model is already loaded\n",
      "\n",
      "var:\n",
      "DC=au2-acs1\n",
      "INSTANCE=18\n",
      "\tvar data already loaded\n",
      "\n",
      "model:\n",
      "DC=au2-acs1\n",
      "INSTANCE=19\n",
      "\tdata for model is already loaded\n",
      "\n",
      "var:\n",
      "DC=au2-acs1\n",
      "INSTANCE=19\n",
      "\tvar data already loaded\n",
      "\n",
      "model:\n",
      "DC=au2-acs1\n",
      "INSTANCE=20\n",
      "\tdata for model is already loaded\n",
      "\n",
      "var:\n",
      "DC=au2-acs1\n",
      "INSTANCE=20\n",
      "\tvar data already loaded\n",
      "\n",
      "model:\n",
      "DC=au2-acs1\n",
      "INSTANCE=21\n",
      "\tdata for model is already loaded\n",
      "\n",
      "var:\n",
      "DC=au2-acs1\n",
      "INSTANCE=21\n",
      "\tvar data already loaded\n",
      "\n",
      "model:\n",
      "DC=eu3-acs1\n",
      "INSTANCE=1\n",
      "\tdata for model is already loaded\n",
      "\n",
      "var:\n",
      "DC=eu3-acs1\n",
      "INSTANCE=1\n",
      "\tvar data already loaded\n",
      "\n",
      "model:\n",
      "DC=eu3-acs1\n",
      "INSTANCE=2\n",
      "\tdata for model is already loaded\n",
      "\n",
      "var:\n",
      "DC=eu3-acs1\n",
      "INSTANCE=2\n",
      "\tvar data already loaded\n",
      "\n",
      "model:\n",
      "DC=eu3-acs1\n",
      "INSTANCE=3\n",
      "\tdata for model is already loaded\n",
      "\n",
      "var:\n",
      "DC=eu3-acs1\n",
      "INSTANCE=3\n",
      "\tvar data already loaded\n",
      "\n",
      "model:\n",
      "DC=eu3-acs1\n",
      "INSTANCE=4\n",
      "\tdata for model is already loaded\n",
      "\n",
      "var:\n",
      "DC=eu3-acs1\n",
      "INSTANCE=4\n",
      "\tvar data already loaded\n",
      "\n",
      "model:\n",
      "DC=eu3-acs1\n",
      "INSTANCE=5\n",
      "\tdata for model is already loaded\n",
      "\n",
      "var:\n",
      "DC=eu3-acs1\n",
      "INSTANCE=5\n",
      "\tvar data already loaded\n",
      "\n",
      "model:\n",
      "DC=eu3-acs1\n",
      "INSTANCE=6\n",
      "\tdata for model is already loaded\n",
      "\n",
      "var:\n",
      "DC=eu3-acs1\n",
      "INSTANCE=6\n",
      "\tvar data already loaded\n",
      "\n",
      "model:\n",
      "DC=eu3-acs1\n",
      "INSTANCE=7\n",
      "\tdata for model is already loaded\n",
      "\n",
      "var:\n",
      "DC=eu3-acs1\n",
      "INSTANCE=7\n",
      "\tvar data already loaded\n",
      "\n",
      "model:\n",
      "DC=eu3-acs1\n",
      "INSTANCE=8\n",
      "\tdata for model is already loaded\n",
      "\n",
      "var:\n",
      "DC=eu3-acs1\n",
      "INSTANCE=8\n",
      "\tvar data already loaded\n",
      "\n",
      "model:\n",
      "DC=eu3-acs1\n",
      "INSTANCE=9\n",
      "\tdata for model is already loaded\n",
      "\n",
      "var:\n",
      "DC=eu3-acs1\n",
      "INSTANCE=9\n",
      "\tvar data already loaded\n",
      "\n",
      "model:\n",
      "DC=eu3-acs1\n",
      "INSTANCE=10\n",
      "\tdata for model is already loaded\n",
      "\n",
      "var:\n",
      "DC=eu3-acs1\n",
      "INSTANCE=10\n",
      "\tvar data already loaded\n",
      "\n",
      "model:\n",
      "DC=eu3-acs1\n",
      "INSTANCE=11\n",
      "\tdata for model is already loaded\n",
      "\n",
      "var:\n",
      "DC=eu3-acs1\n",
      "INSTANCE=11\n",
      "\tvar data already loaded\n",
      "\n",
      "model:\n",
      "DC=eu3-acs1\n",
      "INSTANCE=12\n",
      "\tdata for model is already loaded\n",
      "\n",
      "var:\n",
      "DC=eu3-acs1\n",
      "INSTANCE=12\n",
      "\tvar data already loaded\n",
      "\n",
      "model:\n",
      "DC=eu3-acs1\n",
      "INSTANCE=13\n",
      "\tdata for model is already loaded\n",
      "\n",
      "var:\n",
      "DC=eu3-acs1\n",
      "INSTANCE=13\n",
      "\tvar data already loaded\n",
      "\n",
      "model:\n",
      "DC=eu3-acs1\n",
      "INSTANCE=14\n",
      "\tdata for model is already loaded\n",
      "\n",
      "var:\n",
      "DC=eu3-acs1\n",
      "INSTANCE=14\n",
      "\tvar data already loaded\n",
      "\n",
      "model:\n",
      "DC=eu3-acs1\n",
      "INSTANCE=15\n",
      "\tdata for model is already loaded\n",
      "\n",
      "var:\n",
      "DC=eu3-acs1\n",
      "INSTANCE=15\n",
      "\tvar data already loaded\n",
      "\n",
      "model:\n",
      "DC=eu3-acs1\n",
      "INSTANCE=16\n",
      "\tdata for model is already loaded\n",
      "\n",
      "var:\n",
      "DC=eu3-acs1\n",
      "INSTANCE=16\n",
      "\tvar data already loaded\n",
      "\n",
      "model:\n",
      "DC=eu3-acs1\n",
      "INSTANCE=17\n",
      "\tdata for model is already loaded\n",
      "\n",
      "var:\n",
      "DC=eu3-acs1\n",
      "INSTANCE=17\n",
      "\tvar data already loaded\n",
      "\n",
      "model:\n",
      "DC=eu3-acs1\n",
      "INSTANCE=18\n",
      "\tdata for model is already loaded\n",
      "\n",
      "var:\n",
      "DC=eu3-acs1\n",
      "INSTANCE=18\n",
      "\tvar data already loaded\n",
      "\n",
      "model:\n",
      "DC=eu3-acs1\n",
      "INSTANCE=19\n",
      "\tdata for model is already loaded\n",
      "\n",
      "var:\n",
      "DC=eu3-acs1\n",
      "INSTANCE=19\n",
      "\tvar data already loaded\n",
      "\n",
      "model:\n",
      "DC=eu3-acs1\n",
      "INSTANCE=20\n",
      "\tdata for model is already loaded\n",
      "\n",
      "var:\n",
      "DC=eu3-acs1\n",
      "INSTANCE=20\n",
      "\tvar data already loaded\n",
      "\n",
      "model:\n",
      "DC=eu3-acs1\n",
      "INSTANCE=21\n",
      "\tdata for model is already loaded\n",
      "\n",
      "var:\n",
      "DC=eu3-acs1\n",
      "INSTANCE=21\n",
      "\tvar data already loaded\n",
      "\n",
      "model:\n",
      "DC=eu3-acs1\n",
      "INSTANCE=22\n",
      "\tdata for model is already loaded\n",
      "\n",
      "var:\n",
      "DC=eu3-acs1\n",
      "INSTANCE=22\n",
      "\tvar data already loaded\n",
      "\n",
      "model:\n",
      "DC=eu3-acs1\n",
      "INSTANCE=23\n",
      "\tdata for model is already loaded\n",
      "\n",
      "var:\n",
      "DC=eu3-acs1\n",
      "INSTANCE=23\n",
      "\tvar data already loaded\n",
      "\n",
      "model:\n",
      "DC=eu3-acs1\n",
      "INSTANCE=24\n",
      "\tdata for model is already loaded\n",
      "\n",
      "var:\n",
      "DC=eu3-acs1\n",
      "INSTANCE=24\n",
      "\tvar data already loaded\n",
      "\n",
      "model:\n",
      "DC=eu3-acs1\n",
      "INSTANCE=25\n",
      "\tdata for model is already loaded\n",
      "\n",
      "var:\n",
      "DC=eu3-acs1\n",
      "INSTANCE=25\n",
      "\tvar data already loaded\n",
      "\n",
      "model:\n",
      "DC=eu3-acs1\n",
      "INSTANCE=26\n",
      "\tdata for model is already loaded\n",
      "\n",
      "var:\n",
      "DC=eu3-acs1\n",
      "INSTANCE=26\n",
      "\tvar data already loaded\n",
      "\n",
      "model:\n",
      "DC=eu3-acs1\n",
      "INSTANCE=27\n",
      "\tdata for model is already loaded\n",
      "\n",
      "var:\n",
      "DC=eu3-acs1\n",
      "INSTANCE=27\n",
      "\tvar data already loaded\n",
      "\n",
      "model:\n",
      "DC=eu3-acs1\n",
      "INSTANCE=28\n",
      "\tdata for model is already loaded\n",
      "\n",
      "var:\n",
      "DC=eu3-acs1\n",
      "INSTANCE=28\n",
      "\tvar data already loaded\n",
      "\n",
      "model:\n",
      "DC=eu3-acs1\n",
      "INSTANCE=29\n",
      "\tdata for model is already loaded\n",
      "\n",
      "var:\n",
      "DC=eu3-acs1\n",
      "INSTANCE=29\n",
      "\tvar data already loaded\n",
      "\n",
      "model:\n",
      "DC=eu3-acs1\n",
      "INSTANCE=30\n",
      "\tdata for model is already loaded\n",
      "\n",
      "var:\n",
      "DC=eu3-acs1\n",
      "INSTANCE=30\n",
      "\tvar data already loaded\n",
      "\n",
      "model:\n",
      "DC=eu3-acs1\n",
      "INSTANCE=31\n",
      "\tdata for model is already loaded\n",
      "\n",
      "var:\n",
      "DC=eu3-acs1\n",
      "INSTANCE=31\n",
      "\tvar data already loaded\n",
      "\n",
      "model:\n",
      "DC=us3\n",
      "INSTANCE=1\n",
      "\tdata for model is already loaded\n",
      "\n",
      "var:\n",
      "DC=us3\n",
      "INSTANCE=1\n",
      "\tvar data already loaded\n",
      "\n",
      "model:\n",
      "DC=us3\n",
      "INSTANCE=2\n",
      "\tdata for model is already loaded\n",
      "\n",
      "var:\n",
      "DC=us3\n",
      "INSTANCE=2\n",
      "\tvar data already loaded\n",
      "\n",
      "model:\n",
      "DC=us3\n",
      "INSTANCE=3\n",
      "\tdata for model is already loaded\n",
      "\n",
      "var:\n",
      "DC=us3\n",
      "INSTANCE=3\n",
      "\tvar data already loaded\n",
      "\n",
      "model:\n",
      "DC=us3\n",
      "INSTANCE=4\n",
      "\tdata for model is already loaded\n",
      "\n",
      "var:\n",
      "DC=us3\n",
      "INSTANCE=4\n",
      "\tvar data already loaded\n",
      "\n",
      "model:\n",
      "DC=us3\n",
      "INSTANCE=5\n",
      "\tdata for model is already loaded\n",
      "\n",
      "var:\n",
      "DC=us3\n",
      "INSTANCE=5\n",
      "\tvar data already loaded\n",
      "\n",
      "model:\n",
      "DC=us3\n",
      "INSTANCE=7\n",
      "\tdata for model is already loaded\n",
      "\n",
      "var:\n",
      "DC=us3\n",
      "INSTANCE=7\n",
      "\tvar data already loaded\n",
      "\n",
      "model:\n",
      "DC=us3\n",
      "INSTANCE=8\n",
      "\tdata for model is already loaded\n",
      "\n",
      "var:\n",
      "DC=us3\n",
      "INSTANCE=8\n",
      "\tvar data already loaded\n",
      "\n",
      "model:\n",
      "DC=us3\n",
      "INSTANCE=9\n",
      "\tdata for model is already loaded\n",
      "\n",
      "var:\n",
      "DC=us3\n",
      "INSTANCE=9\n",
      "\tvar data already loaded\n",
      "\n",
      "model:\n",
      "DC=us3\n",
      "INSTANCE=10\n",
      "\tdata for model is already loaded\n",
      "\n",
      "var:\n",
      "DC=us3\n",
      "INSTANCE=10\n",
      "\tvar data already loaded\n",
      "\n",
      "model:\n",
      "DC=us3\n",
      "INSTANCE=11\n",
      "\tdata for model is already loaded\n",
      "\n",
      "var:\n",
      "DC=us3\n",
      "INSTANCE=11\n",
      "\tvar data already loaded\n",
      "\n",
      "model:\n",
      "DC=us3\n",
      "INSTANCE=12\n",
      "\tdata for model is already loaded\n",
      "\n",
      "var:\n",
      "DC=us3\n",
      "INSTANCE=12\n",
      "\tvar data already loaded\n",
      "\n",
      "model:\n",
      "DC=us3\n",
      "INSTANCE=13\n",
      "\tdata for model is already loaded\n",
      "\n",
      "var:\n",
      "DC=us3\n",
      "INSTANCE=13\n",
      "\tvar data already loaded\n",
      "\n",
      "model:\n",
      "DC=us3\n",
      "INSTANCE=14\n",
      "\tdata for model is already loaded\n",
      "\n",
      "var:\n",
      "DC=us3\n",
      "INSTANCE=14\n",
      "\tvar data already loaded\n",
      "\n",
      "model:\n",
      "DC=us3\n",
      "INSTANCE=15\n",
      "\tdata for model is already loaded\n",
      "\n",
      "var:\n",
      "DC=us3\n",
      "INSTANCE=15\n",
      "\tvar data already loaded\n",
      "\n",
      "model:\n",
      "DC=us3\n",
      "INSTANCE=16\n",
      "\tdata for model is already loaded\n",
      "\n",
      "var:\n",
      "DC=us3\n",
      "INSTANCE=16\n",
      "\tvar data already loaded\n",
      "\n",
      "model:\n",
      "DC=us3\n",
      "INSTANCE=17\n",
      "\tdata for model is already loaded\n",
      "\n",
      "var:\n",
      "DC=us3\n",
      "INSTANCE=17\n",
      "\tvar data already loaded\n",
      "\n",
      "model:\n",
      "DC=us3\n",
      "INSTANCE=18\n",
      "\tdata for model is already loaded\n",
      "\n",
      "var:\n",
      "DC=us3\n",
      "INSTANCE=18\n",
      "\tvar data already loaded\n",
      "\n",
      "model:\n",
      "DC=us3\n",
      "INSTANCE=19\n",
      "\tdata for model is already loaded\n",
      "\n",
      "var:\n",
      "DC=us3\n",
      "INSTANCE=19\n",
      "\tvar data already loaded\n",
      "\n",
      "model:\n",
      "DC=us3\n",
      "INSTANCE=20\n",
      "\tdata for model is already loaded\n",
      "\n",
      "var:\n",
      "DC=us3\n",
      "INSTANCE=20\n",
      "\tvar data already loaded\n",
      "\n",
      "model:\n",
      "DC=us3\n",
      "INSTANCE=21\n",
      "\tdata for model is already loaded\n",
      "\n",
      "var:\n",
      "DC=us3\n",
      "INSTANCE=21\n",
      "\tvar data already loaded\n",
      "\n",
      "model:\n",
      "DC=us6-acs2\n",
      "INSTANCE=1\n",
      "\tdata for model is already loaded\n",
      "\n",
      "var:\n",
      "DC=us6-acs2\n",
      "INSTANCE=1\n",
      "\tvar data already loaded\n",
      "\n",
      "model:\n",
      "DC=us6-acs2\n",
      "INSTANCE=2\n",
      "\tdata for model is already loaded\n",
      "\n",
      "var:\n",
      "DC=us6-acs2\n",
      "INSTANCE=2\n",
      "\tvar data already loaded\n",
      "\n",
      "model:\n",
      "DC=us6-acs2\n",
      "INSTANCE=3\n",
      "\tdata for model is already loaded\n",
      "\n",
      "var:\n",
      "DC=us6-acs2\n",
      "INSTANCE=3\n",
      "\tvar data already loaded\n",
      "\n",
      "model:\n",
      "DC=us6-acs2\n",
      "INSTANCE=4\n",
      "\tdata for model is already loaded\n",
      "\n",
      "var:\n",
      "DC=us6-acs2\n",
      "INSTANCE=4\n",
      "\tvar data already loaded\n",
      "\n",
      "model:\n",
      "DC=us6-acs2\n",
      "INSTANCE=5\n",
      "\tdata for model is already loaded\n",
      "\n",
      "var:\n",
      "DC=us6-acs2\n",
      "INSTANCE=5\n",
      "\tvar data already loaded\n",
      "\n",
      "model:\n",
      "DC=us6-acs2\n",
      "INSTANCE=6\n",
      "\tdata for model is already loaded\n",
      "\n",
      "var:\n",
      "DC=us6-acs2\n",
      "INSTANCE=6\n",
      "\tvar data already loaded\n",
      "\n",
      "model:\n",
      "DC=us6-acs2\n",
      "INSTANCE=7\n",
      "\tdata for model is already loaded\n",
      "\n",
      "var:\n",
      "DC=us6-acs2\n",
      "INSTANCE=7\n",
      "\tvar data already loaded\n",
      "\n",
      "model:\n",
      "DC=us6-acs2\n",
      "INSTANCE=8\n",
      "\tdata for model is already loaded\n",
      "\n",
      "var:\n",
      "DC=us6-acs2\n",
      "INSTANCE=8\n",
      "\tvar data already loaded\n",
      "\n",
      "model:\n",
      "DC=us6-acs2\n",
      "INSTANCE=9\n",
      "\tdata for model is already loaded\n",
      "\n",
      "var:\n",
      "DC=us6-acs2\n",
      "INSTANCE=9\n",
      "\tvar data already loaded\n",
      "\n",
      "model:\n",
      "DC=us6-acs2\n",
      "INSTANCE=10\n",
      "\tdata for model is already loaded\n",
      "\n",
      "var:\n",
      "DC=us6-acs2\n",
      "INSTANCE=10\n",
      "\tvar data already loaded\n",
      "\n",
      "model:\n",
      "DC=us6-acs2\n",
      "INSTANCE=11\n",
      "\tdata for model is already loaded\n",
      "\n",
      "var:\n",
      "DC=us6-acs2\n",
      "INSTANCE=11\n",
      "\tvar data already loaded\n",
      "\n",
      "model:\n",
      "DC=us6-acs2\n",
      "INSTANCE=12\n",
      "\tdata for model is already loaded\n",
      "\n",
      "var:\n",
      "DC=us6-acs2\n",
      "INSTANCE=12\n",
      "\tvar data already loaded\n",
      "\n",
      "model:\n",
      "DC=us6-acs2\n",
      "INSTANCE=13\n",
      "\tdata for model is already loaded\n",
      "\n",
      "var:\n",
      "DC=us6-acs2\n",
      "INSTANCE=13\n",
      "\tvar data already loaded\n",
      "\n",
      "model:\n",
      "DC=us6-acs2\n",
      "INSTANCE=14\n",
      "\tdata for model is already loaded\n",
      "\n",
      "var:\n",
      "DC=us6-acs2\n",
      "INSTANCE=14\n",
      "\tvar data already loaded\n",
      "\n",
      "model:\n",
      "DC=us6-acs2\n",
      "INSTANCE=15\n",
      "\tdata for model is already loaded\n",
      "\n",
      "var:\n",
      "DC=us6-acs2\n",
      "INSTANCE=15\n",
      "\tvar data already loaded\n",
      "\n",
      "model:\n",
      "DC=us6-acs2\n",
      "INSTANCE=16\n",
      "\tdata for model is already loaded\n",
      "\n",
      "var:\n",
      "DC=us6-acs2\n",
      "INSTANCE=16\n",
      "\tvar data already loaded\n",
      "\n",
      "model:\n",
      "DC=us6-acs2\n",
      "INSTANCE=17\n",
      "\tdata for model is already loaded\n",
      "\n",
      "var:\n",
      "DC=us6-acs2\n",
      "INSTANCE=17\n",
      "\tvar data already loaded\n",
      "\n",
      "model:\n",
      "DC=us6-acs2\n",
      "INSTANCE=18\n",
      "\tdata for model is already loaded\n",
      "\n",
      "var:\n",
      "DC=us6-acs2\n",
      "INSTANCE=18\n",
      "\tvar data already loaded\n",
      "\n",
      "model:\n",
      "DC=us6-acs2\n",
      "INSTANCE=19\n",
      "\tdata for model is already loaded\n",
      "\n",
      "var:\n",
      "DC=us6-acs2\n",
      "INSTANCE=19\n",
      "\tvar data already loaded\n",
      "\n",
      "model:\n",
      "DC=us6-acs2\n",
      "INSTANCE=20\n",
      "\tdata for model is already loaded\n",
      "\n",
      "var:\n",
      "DC=us6-acs2\n",
      "INSTANCE=20\n",
      "\tvar data already loaded\n",
      "\n",
      "model:\n",
      "DC=us6-acs2\n",
      "INSTANCE=21\n",
      "\tdata for model is already loaded\n",
      "\n",
      "var:\n",
      "DC=us6-acs2\n",
      "INSTANCE=21\n",
      "\tvar data already loaded\n",
      "\n",
      "model:\n",
      "DC=us6-acs2\n",
      "INSTANCE=22\n",
      "\tdata for model is already loaded\n",
      "\n",
      "var:\n",
      "DC=us6-acs2\n",
      "INSTANCE=22\n",
      "\tvar data already loaded\n",
      "\n",
      "model:\n",
      "DC=us6-acs2\n",
      "INSTANCE=23\n",
      "\tdata for model is already loaded\n",
      "\n",
      "var:\n",
      "DC=us6-acs2\n",
      "INSTANCE=23\n",
      "\tvar data already loaded\n",
      "\n",
      "model:\n",
      "DC=us6-acs2\n",
      "INSTANCE=24\n",
      "\tdata for model is already loaded\n",
      "\n",
      "var:\n",
      "DC=us6-acs2\n",
      "INSTANCE=24\n",
      "\tvar data already loaded\n",
      "\n",
      "model:\n",
      "DC=us6-acs2\n",
      "INSTANCE=25\n",
      "\tdata for model is already loaded\n",
      "\n",
      "var:\n",
      "DC=us6-acs2\n",
      "INSTANCE=25\n",
      "\tvar data already loaded\n",
      "\n",
      "model:\n",
      "DC=us6-acs2\n",
      "INSTANCE=26\n",
      "\tdata for model is already loaded\n",
      "\n",
      "var:\n",
      "DC=us6-acs2\n",
      "INSTANCE=26\n",
      "\tvar data already loaded\n",
      "\n",
      "model:\n",
      "DC=us6-acs2\n",
      "INSTANCE=27\n",
      "\tdata for model is already loaded\n",
      "\n",
      "var:\n",
      "DC=us6-acs2\n",
      "INSTANCE=27\n",
      "\tvar data already loaded\n",
      "\n",
      "model:\n",
      "DC=us6-acs2\n",
      "INSTANCE=28\n",
      "\tdata for model is already loaded\n",
      "\n",
      "var:\n",
      "DC=us6-acs2\n",
      "INSTANCE=28\n",
      "\tvar data already loaded\n",
      "\n",
      "model:\n",
      "DC=us6-acs2\n",
      "INSTANCE=29\n",
      "\tdata for model is already loaded\n",
      "\n",
      "var:\n",
      "DC=us6-acs2\n",
      "INSTANCE=29\n",
      "\tvar data already loaded\n",
      "\n",
      "model:\n",
      "DC=us6-acs2\n",
      "INSTANCE=30\n",
      "\tdata for model is already loaded\n",
      "\n",
      "var:\n",
      "DC=us6-acs2\n",
      "INSTANCE=30\n",
      "\tvar data already loaded\n"
     ]
    }
   ],
   "source": [
    "dots = 5\n",
    "two_week = 60 * 24 * 7 * 2\n",
    "get_var = True\n",
    "step = '1m'\n",
    "\n",
    "start_date = '14/01/2020 00:01'\n",
    "end_date = '18/05/2020 23:45'\n",
    "folder = '14.01.2020_18.05.2020'\n",
    "\n",
    "step = '1m'\n",
    "dots=5\n",
    "dc_period = {'au2-acs1': ['14/01/2020 00:01', '18/05/2020 23:45'],\n",
    "             'eu3-acs1': ['14/01/2020 00:01', '18/05/2020 23:45'],\n",
    "             'us3': ['14/01/2020 00:01', '18/05/2020 23:45'],\n",
    "             'us6-acs2': ['14/01/2020 00:01', '18/05/2020 23:45']\n",
    "            }\n",
    "\n",
    "for dc in dc_period:\n",
    "    for inst_num in conf.get_inst_range_for_dc(dc):\n",
    "        start_time = dc_period[dc][0]\n",
    "        end_time = dc_period[dc][1]\n",
    "        \n",
    "        load_model_data(dc, inst_num, start_time, end_time, dots)\n",
    "        load_var_data(dc, inst_num, start_time, end_time, dots)"
   ]
  },
  {
   "cell_type": "markdown",
   "metadata": {},
   "source": [
    "# Если хочешь взглянуть на уже обработанные данные, то просто загрузи "
   ]
  },
  {
   "cell_type": "markdown",
   "metadata": {},
   "source": [
    "## Loading results "
   ]
  },
  {
   "cell_type": "code",
   "execution_count": 4,
   "metadata": {},
   "outputs": [],
   "source": [
    "for_heat_map_duration = pd.read_csv('../datasets/'+folder+'/heat_map_duartion.csv', header = None, index_col = 0, names = list(range(1,32)))\n",
    "for_heat_map_number = pd.read_csv('../datasets/'+folder+'/heat_map_nubmer.csv', header = None, index_col = 0, names = list(range(1,32)))\n",
    "for_result = pd.read_csv('../datasets/'+folder+'/for_result.csv',index_col = 0 )\n",
    "\n",
    "dc_reslut = json.load( open( \"../datasets/\"+folder+\"/anomaly_and_sigma.json\" ) )\n",
    "dict_dc_inst_anomalies = json.load( open( \"../datasets/\"+folder+\"/dict_dc_inst_anomalies.json\" ) )\n",
    "dict_dc_inst_anomalies_coeff = json.load( open( \"../datasets/\"+folder+\"/dict_dc_inst_anomalies_coeff.json\" ) )\n",
    "anomalies_dict_for_dcs = json.load( open( \"../datasets/\"+folder+\"/anomalies_dict_for_dcs.json\" ) )\n",
    "dict_dc_inst_metric = json.load( open( \"../datasets/\"+folder+\"/dict_dc_inst_metric.json\" ) )"
   ]
  },
  {
   "cell_type": "markdown",
   "metadata": {},
   "source": [
    "# Иначе обработай новые данные) "
   ]
  },
  {
   "cell_type": "markdown",
   "metadata": {},
   "source": [
    "# Применим модель "
   ]
  },
  {
   "cell_type": "code",
   "execution_count": 3,
   "metadata": {
    "scrolled": true
   },
   "outputs": [
    {
     "name": "stdout",
     "output_type": "stream",
     "text": [
      "\n",
      "DC = au2-acs1\n",
      "INSTANCE = au2-acs1-stor01.vstoragedomain\n",
      "model was already applied for this dc and inst\n",
      "\n",
      "DC = au2-acs1\n",
      "INSTANCE = au2-acs1-stor02.vstoragedomain\n",
      "model was already applied for this dc and inst\n",
      "\n",
      "DC = au2-acs1\n",
      "INSTANCE = au2-acs1-stor03.vstoragedomain\n",
      "model was already applied for this dc and inst\n",
      "\n",
      "DC = au2-acs1\n",
      "INSTANCE = au2-acs1-stor04.vstoragedomain\n",
      "model was already applied for this dc and inst\n",
      "\n",
      "DC = au2-acs1\n",
      "INSTANCE = au2-acs1-stor05.vstoragedomain\n",
      "model was already applied for this dc and inst\n",
      "\n",
      "DC = au2-acs1\n",
      "INSTANCE = au2-acs1-stor06.vstoragedomain\n",
      "model was already applied for this dc and inst\n",
      "\n",
      "DC = au2-acs1\n",
      "INSTANCE = au2-acs1-stor07.vstoragedomain\n",
      "model was already applied for this dc and inst\n",
      "\n",
      "DC = au2-acs1\n",
      "INSTANCE = au2-acs1-stor08.vstoragedomain\n",
      "model was already applied for this dc and inst\n",
      "\n",
      "DC = au2-acs1\n",
      "INSTANCE = au2-acs1-stor09.vstoragedomain\n",
      "model was already applied for this dc and inst\n",
      "\n",
      "DC = au2-acs1\n",
      "INSTANCE = au2-acs1-stor10.vstoragedomain\n",
      "model was already applied for this dc and inst\n",
      "\n",
      "DC = au2-acs1\n",
      "INSTANCE = au2-acs1-stor13.vstoragedomain\n",
      "model was already applied for this dc and inst\n",
      "\n",
      "DC = au2-acs1\n",
      "INSTANCE = au2-acs1-stor14.vstoragedomain\n",
      "model was already applied for this dc and inst\n",
      "\n",
      "DC = au2-acs1\n",
      "INSTANCE = au2-acs1-stor15.vstoragedomain\n",
      "model was already applied for this dc and inst\n",
      "\n",
      "DC = au2-acs1\n",
      "INSTANCE = au2-acs1-stor16.vstoragedomain\n",
      "model was already applied for this dc and inst\n",
      "\n",
      "DC = au2-acs1\n",
      "INSTANCE = au2-acs1-stor17.vstoragedomain\n",
      "model was already applied for this dc and inst\n",
      "\n",
      "DC = au2-acs1\n",
      "INSTANCE = au2-acs1-stor18.vstoragedomain\n",
      "model was already applied for this dc and inst\n",
      "\n",
      "DC = au2-acs1\n",
      "INSTANCE = au2-acs1-stor19.vstoragedomain\n",
      "model was already applied for this dc and inst\n",
      "\n",
      "DC = au2-acs1\n",
      "INSTANCE = au2-acs1-stor20.vstoragedomain\n",
      "model was already applied for this dc and inst\n",
      "\n",
      "DC = au2-acs1\n",
      "INSTANCE = au2-acs1-stor21.vstoragedomain\n",
      "model was already applied for this dc and inst\n",
      "\n",
      "DC = eu3-acs1\n",
      "INSTANCE = eu3-acs1-stor01.vstoragedomain\n",
      "model was already applied for this dc and inst\n",
      "\n",
      "DC = eu3-acs1\n",
      "INSTANCE = eu3-acs1-stor02.vstoragedomain\n",
      "model was already applied for this dc and inst\n",
      "\n",
      "DC = eu3-acs1\n",
      "INSTANCE = eu3-acs1-stor03.vstoragedomain\n",
      "model was already applied for this dc and inst\n",
      "\n",
      "DC = eu3-acs1\n",
      "INSTANCE = eu3-acs1-stor04.vstoragedomain\n",
      "model was already applied for this dc and inst\n",
      "\n",
      "DC = eu3-acs1\n",
      "INSTANCE = eu3-acs1-stor05.vstoragedomain\n",
      "model was already applied for this dc and inst\n",
      "\n",
      "DC = eu3-acs1\n",
      "INSTANCE = eu3-acs1-stor06.vstoragedomain\n",
      "model was already applied for this dc and inst\n",
      "\n",
      "DC = eu3-acs1\n",
      "INSTANCE = eu3-acs1-stor07.vstoragedomain\n",
      "model was already applied for this dc and inst\n",
      "\n",
      "DC = eu3-acs1\n",
      "INSTANCE = eu3-acs1-stor08.vstoragedomain\n",
      "model was already applied for this dc and inst\n",
      "\n",
      "DC = eu3-acs1\n",
      "INSTANCE = eu3-acs1-stor09.vstoragedomain\n",
      "model was already applied for this dc and inst\n",
      "\n",
      "DC = eu3-acs1\n",
      "INSTANCE = eu3-acs1-stor10.vstoragedomain\n",
      "model was already applied for this dc and inst\n",
      "\n",
      "DC = eu3-acs1\n",
      "INSTANCE = eu3-acs1-stor11.vstoragedomain\n",
      "model was already applied for this dc and inst\n",
      "\n",
      "DC = eu3-acs1\n",
      "INSTANCE = eu3-acs1-stor12.vstoragedomain\n",
      "model was already applied for this dc and inst\n",
      "\n",
      "DC = eu3-acs1\n",
      "INSTANCE = eu3-acs1-stor13.vstoragedomain\n",
      "model was already applied for this dc and inst\n",
      "\n",
      "DC = eu3-acs1\n",
      "INSTANCE = eu3-acs1-stor14.vstoragedomain\n",
      "model was already applied for this dc and inst\n",
      "\n",
      "DC = eu3-acs1\n",
      "INSTANCE = eu3-acs1-stor15.vstoragedomain\n",
      "model was already applied for this dc and inst\n",
      "\n",
      "DC = eu3-acs1\n",
      "INSTANCE = eu3-acs1-stor16.vstoragedomain\n",
      "model was already applied for this dc and inst\n",
      "\n",
      "DC = eu3-acs1\n",
      "INSTANCE = eu3-acs1-stor17.vstoragedomain\n",
      "model was already applied for this dc and inst\n",
      "\n",
      "DC = eu3-acs1\n",
      "INSTANCE = eu3-acs1-stor18.vstoragedomain\n",
      "model was already applied for this dc and inst\n",
      "\n",
      "DC = eu3-acs1\n",
      "INSTANCE = eu3-acs1-stor19.vstoragedomain\n",
      "model was already applied for this dc and inst\n",
      "\n",
      "DC = eu3-acs1\n",
      "INSTANCE = eu3-acs1-stor20.vstoragedomain\n",
      "model was already applied for this dc and inst\n",
      "\n",
      "DC = eu3-acs1\n",
      "INSTANCE = eu3-acs1-stor21.vstoragedomain\n",
      "model was already applied for this dc and inst\n",
      "\n",
      "DC = eu3-acs1\n",
      "INSTANCE = eu3-acs1-stor22.vstoragedomain\n",
      "model was already applied for this dc and inst\n",
      "\n",
      "DC = eu3-acs1\n",
      "INSTANCE = eu3-acs1-stor23.vstoragedomain\n",
      "model was already applied for this dc and inst\n",
      "\n",
      "DC = eu3-acs1\n",
      "INSTANCE = eu3-acs1-stor24.vstoragedomain\n",
      "model was already applied for this dc and inst\n",
      "\n",
      "DC = eu3-acs1\n",
      "INSTANCE = eu3-acs1-stor25.vstoragedomain\n",
      "model was already applied for this dc and inst\n",
      "\n",
      "DC = eu3-acs1\n",
      "INSTANCE = eu3-acs1-stor26.vstoragedomain\n",
      "model was already applied for this dc and inst\n",
      "\n",
      "DC = eu3-acs1\n",
      "INSTANCE = eu3-acs1-stor27.vstoragedomain\n",
      "model was already applied for this dc and inst\n",
      "\n",
      "DC = eu3-acs1\n",
      "INSTANCE = eu3-acs1-stor28.vstoragedomain\n",
      "model was already applied for this dc and inst\n",
      "\n",
      "DC = eu3-acs1\n",
      "INSTANCE = eu3-acs1-stor29.vstoragedomain\n",
      "model was already applied for this dc and inst\n",
      "\n",
      "DC = eu3-acs1\n",
      "INSTANCE = eu3-acs1-stor30.vstoragedomain\n",
      "model was already applied for this dc and inst\n",
      "\n",
      "DC = eu3-acs1\n",
      "INSTANCE = eu3-acs1-stor31.vstoragedomain\n",
      "model was already applied for this dc and inst\n",
      "\n",
      "DC = us3\n",
      "INSTANCE = us3-acs1-stor01.vstoragedomain\n",
      "model was already applied for this dc and inst\n",
      "\n",
      "DC = us3\n",
      "INSTANCE = us3-acs1-stor02.vstoragedomain\n",
      "model was already applied for this dc and inst\n",
      "\n",
      "DC = us3\n",
      "INSTANCE = us3-acs1-stor03.vstoragedomain\n",
      "model was already applied for this dc and inst\n",
      "\n",
      "DC = us3\n",
      "INSTANCE = us3-acs1-stor04.vstoragedomain\n",
      "model was already applied for this dc and inst\n",
      "\n",
      "DC = us3\n",
      "INSTANCE = us3-acs1-stor05.vstoragedomain\n",
      "model was already applied for this dc and inst\n",
      "\n",
      "DC = us3\n",
      "INSTANCE = us3-acs1-stor07.vstoragedomain\n",
      "model was already applied for this dc and inst\n",
      "\n",
      "DC = us3\n",
      "INSTANCE = us3-acs1-stor08.vstoragedomain\n",
      "model was already applied for this dc and inst\n",
      "\n",
      "DC = us3\n",
      "INSTANCE = us3-acs1-stor09.vstoragedomain\n",
      "model was already applied for this dc and inst\n",
      "\n",
      "DC = us3\n",
      "INSTANCE = us3-acs1-stor10.vstoragedomain\n",
      "model was already applied for this dc and inst\n",
      "\n",
      "DC = us3\n",
      "INSTANCE = us3-acs1-stor11.vstoragedomain\n",
      "model was already applied for this dc and inst\n",
      "\n",
      "DC = us3\n",
      "INSTANCE = us3-acs1-stor12.vstoragedomain\n",
      "model was already applied for this dc and inst\n",
      "\n",
      "DC = us3\n",
      "INSTANCE = us3-acs1-stor13.vstoragedomain\n",
      "model was already applied for this dc and inst\n",
      "\n",
      "DC = us3\n",
      "INSTANCE = us3-acs1-stor14.vstoragedomain\n",
      "model was already applied for this dc and inst\n",
      "\n",
      "DC = us3\n",
      "INSTANCE = us3-acs1-stor15.vstoragedomain\n",
      "model was already applied for this dc and inst\n",
      "\n",
      "DC = us3\n",
      "INSTANCE = us3-acs1-stor16.vstoragedomain\n",
      "model was already applied for this dc and inst\n",
      "\n",
      "DC = us3\n",
      "INSTANCE = us3-acs1-stor17.vstoragedomain\n",
      "model was already applied for this dc and inst\n",
      "\n",
      "DC = us3\n",
      "INSTANCE = us3-acs1-stor18.vstoragedomain\n",
      "model was already applied for this dc and inst\n",
      "\n",
      "DC = us3\n",
      "INSTANCE = us3-acs1-stor19.vstoragedomain\n",
      "model was already applied for this dc and inst\n",
      "\n",
      "DC = us3\n",
      "INSTANCE = us3-acs1-stor20.vstoragedomain\n",
      "model was already applied for this dc and inst\n",
      "\n",
      "DC = us3\n",
      "INSTANCE = us3-acs1-stor21.vstoragedomain\n",
      "model was already applied for this dc and inst\n",
      "\n",
      "DC = us6-acs2\n",
      "INSTANCE = us6-acs2-stor01.vstoragedomain\n",
      "model was already applied for this dc and inst\n",
      "\n",
      "DC = us6-acs2\n",
      "INSTANCE = us6-acs2-stor02.vstoragedomain\n",
      "model was already applied for this dc and inst\n",
      "\n",
      "DC = us6-acs2\n",
      "INSTANCE = us6-acs2-stor03.vstoragedomain\n",
      "model was already applied for this dc and inst\n",
      "\n",
      "DC = us6-acs2\n",
      "INSTANCE = us6-acs2-stor04.vstoragedomain\n",
      "model was already applied for this dc and inst\n",
      "\n",
      "DC = us6-acs2\n",
      "INSTANCE = us6-acs2-stor05.vstoragedomain\n",
      "model was already applied for this dc and inst\n",
      "\n",
      "DC = us6-acs2\n",
      "INSTANCE = us6-acs2-stor06.vstoragedomain\n",
      "model was already applied for this dc and inst\n",
      "\n",
      "DC = us6-acs2\n",
      "INSTANCE = us6-acs2-stor07.vstoragedomain\n",
      "model was already applied for this dc and inst\n",
      "\n",
      "DC = us6-acs2\n",
      "INSTANCE = us6-acs2-stor08.vstoragedomain\n",
      "model was already applied for this dc and inst\n",
      "\n",
      "DC = us6-acs2\n",
      "INSTANCE = us6-acs2-stor09.vstoragedomain\n",
      "model was already applied for this dc and inst\n",
      "\n",
      "DC = us6-acs2\n",
      "INSTANCE = us6-acs2-stor10.vstoragedomain\n",
      "model was already applied for this dc and inst\n",
      "\n",
      "DC = us6-acs2\n",
      "INSTANCE = us6-acs2-stor11.vstoragedomain\n",
      "model was already applied for this dc and inst\n",
      "\n",
      "DC = us6-acs2\n",
      "INSTANCE = us6-acs2-stor12.vstoragedomain\n",
      "model was already applied for this dc and inst\n",
      "\n",
      "DC = us6-acs2\n",
      "INSTANCE = us6-acs2-stor13.vstoragedomain\n",
      "model was already applied for this dc and inst\n",
      "\n",
      "DC = us6-acs2\n",
      "INSTANCE = us6-acs2-stor14.vstoragedomain\n",
      "model was already applied for this dc and inst\n",
      "\n",
      "DC = us6-acs2\n",
      "INSTANCE = us6-acs2-stor15.vstoragedomain\n",
      "model was already applied for this dc and inst\n",
      "\n",
      "DC = us6-acs2\n",
      "INSTANCE = us6-acs2-stor16.vstoragedomain\n",
      "model was already applied for this dc and inst\n",
      "\n",
      "DC = us6-acs2\n",
      "INSTANCE = us6-acs2-stor17.vstoragedomain\n",
      "model was already applied for this dc and inst\n",
      "\n",
      "DC = us6-acs2\n",
      "INSTANCE = us6-acs2-stor18.vstoragedomain\n",
      "model was already applied for this dc and inst\n",
      "\n",
      "DC = us6-acs2\n",
      "INSTANCE = us6-acs2-stor19.vstoragedomain\n",
      "model was already applied for this dc and inst\n",
      "\n",
      "DC = us6-acs2\n",
      "INSTANCE = us6-acs2-stor20.vstoragedomain\n",
      "model was already applied for this dc and inst\n",
      "\n",
      "DC = us6-acs2\n",
      "INSTANCE = us6-acs2-stor21.vstoragedomain\n",
      "model was already applied for this dc and inst\n",
      "\n",
      "DC = us6-acs2\n",
      "INSTANCE = us6-acs2-stor22.vstoragedomain\n",
      "model was already applied for this dc and inst\n",
      "\n",
      "DC = us6-acs2\n",
      "INSTANCE = us6-acs2-stor23.vstoragedomain\n",
      "model was already applied for this dc and inst\n",
      "\n",
      "DC = us6-acs2\n",
      "INSTANCE = us6-acs2-stor24.vstoragedomain\n",
      "model was already applied for this dc and inst\n",
      "\n",
      "DC = us6-acs2\n",
      "INSTANCE = us6-acs2-stor25.vstoragedomain\n",
      "model was already applied for this dc and inst\n",
      "\n",
      "DC = us6-acs2\n",
      "INSTANCE = us6-acs2-stor26.vstoragedomain\n",
      "model was already applied for this dc and inst\n",
      "\n",
      "DC = us6-acs2\n",
      "INSTANCE = us6-acs2-stor27.vstoragedomain\n",
      "model was already applied for this dc and inst\n",
      "\n",
      "DC = us6-acs2\n",
      "INSTANCE = us6-acs2-stor28.vstoragedomain\n",
      "model was already applied for this dc and inst\n",
      "\n",
      "DC = us6-acs2\n",
      "INSTANCE = us6-acs2-stor29.vstoragedomain\n",
      "model was already applied for this dc and inst\n",
      "\n",
      "DC = us6-acs2\n",
      "INSTANCE = us6-acs2-stor30.vstoragedomain\n",
      "model was already applied for this dc and inst\n"
     ]
    }
   ],
   "source": [
    "train_size = 60 * 24 * 7 \n",
    "# dict_dc_inst_metric = {}\n",
    "for dc in dc_period: \n",
    "    dict_dc = {}\n",
    "    for inst_num in conf.get_inst_range_for_dc(dc):\n",
    "        #coeff_df = pd.DataFrame()\n",
    "        instance = utils.get_instance_for_dc(dc, inst_num)\n",
    "        print(f'\\nDC = {dc}\\nINSTANCE = {instance}')\n",
    "        start_time = dc_period[dc][0]\n",
    "        end_time = dc_period[dc][1]\n",
    "        \n",
    "        st_time = start_time.replace(\" \", \"\").replace(\"/\", \"\").replace(\":\", \"\")\n",
    "        en_time = end_time.replace(\" \", \"\").replace(\"/\", \"\").replace(\":\", \"\")\n",
    "        \n",
    "        out_file_name = 'for_plot/'\n",
    "        out_file_name += utils.get_file_name(kind=f'simpleLR__train={train_size}__dots={dots}',\n",
    "                                            dc=dc, inst_num=inst_num, st_time=st_time, en_time=en_time, \n",
    "                                            dots=dots)\n",
    "        \n",
    "#         out_file_name_for_fitted_model = 'for_fitted_model/'\n",
    "#         out_file_name_for_fitted_model += utils.get_file_name(kind=f'simpleLR__train={train_size}__dots={dots}',\n",
    "#                                             dc=dc, inst_num=inst_num, st_time=st_time, en_time=en_time, \n",
    "#                                             dots=dots)\n",
    "        \n",
    "        if not os.path.isfile(f'../datasets/{out_file_name}.csv'):\n",
    "            # we already got fine model\n",
    "            \n",
    "            data_file_name = load_model_data(dc, inst_num, st_time, en_time, pri=False)\n",
    "\n",
    "            # and data\n",
    "            data = pd.read_csv(data_file_name)\n",
    "            data = la_prepro.fill_misses(data)\n",
    "            train_data = data[:train_size]\n",
    "            print(f'train_data.shape={train_data.shape}')\n",
    "            \n",
    "            predictor = la_model.get_best_model()\n",
    "            predictor.fit(train_data)  \n",
    "#             model_name = '../datasets/' + out_file_name_for_fitted_model + '.sav'\n",
    "#             pickle.dump(predictor, open(model_name, 'wb'))\n",
    "            out = predictor.predict(data)\n",
    "            out.dropna(inplace=True)\n",
    "            \n",
    "#             coeff_df['coef'] = predictor.est.coef_\n",
    "#             coeff_df.index = predictor.features\n",
    "#             min_v = 0\n",
    "#             coeff_df = coeff_df[coeff_df['coef'] > min_v].sort_values('coef', ascending=False)\n",
    "#             main_metrics = []\n",
    "#             for metric in coeff_df.index.tolist():\n",
    "#                 if not metric[-1] in [str(i) for i in list(range(1,10))]:\n",
    "#                     main_metrics.append(metric)    \n",
    "#                 else:\n",
    "#                     if not metric[:-3] in main_metrics:\n",
    "#                         main_metrics.append(metric[:-3])\n",
    "#             if 'target' in main_metrics:\n",
    "#                 main_metrics.remove('target')\n",
    "#             if 'er' in main_metrics:\n",
    "#                 main_metrics.remove('er')\n",
    "#             main_metrics = main_metrics[:5]\n",
    "#             dict_dc[inst_num] = main_metrics\n",
    "            \n",
    "            # for division by number of requests - 1 cell \n",
    "            #data['number_of_process'] = data[data.columns[1]].diff()\n",
    "            \n",
    "            out['predictions'] = predictor.scaler_y.inverse_transform(out['predictions_sc'].values.reshape(-1, 1))\n",
    "            out['target_der'] = predictor.scaler_y.inverse_transform(out['target_der_sc'].values.reshape(-1, 1))\n",
    "            \n",
    "            y_hat = predictor.scaler_y.inverse_transform(out['predictions_sc'].values.reshape((-1, 1)))\n",
    "            y = predictor.scaler_y.inverse_transform(out['target_der_sc'].values.reshape((-1, 1)))\n",
    "            out['main_error'] = metrics.relative_mae(y, y_hat, abs_val=True, vectorize=True)\n",
    "            \n",
    "            # for division by number of requests - 2 cells\n",
    "            #ts_out = set(out['time_stamp'].values.tolist())\n",
    "            #out['main_error']= out['main_error']/data['number_of_process'][data['time_stamp'].isin(ts_out)]\n",
    "            \n",
    "            # for division by number of requests - 3 cells\n",
    "            #out.dropna(inplace=True)\n",
    "            #out.replace([np.inf, -np.inf], np.nan, inplace = True)\n",
    "            #out.dropna(inplace=True)\n",
    "            \n",
    "            integrated = utils.get_inegral(init=out['target'].values[0], \n",
    "                                           values=out['predictions'].values)[1:]\n",
    "            out['predicted_target'] = integrated\n",
    "            # data with variance\n",
    "            if get_var:\n",
    "                bucket_query = 'abgw_iop_latency_ms_bucket{dc=\"' + dc + '\"' + ', err=\"OK\", iop=\"isync\", instance=\"' \n",
    "                bucket_query += instance + '\", proxied = \"0\"}'\n",
    "                metric_start = 'abgw_req_latency_ms_bucket{le=\"'\n",
    "                metirc_end = '\", dc=\"' + dc +'\", instance=\"' + instance +'\", req=\"OpenFile+Append\"} '\n",
    "                var_file_name = load_var_data(dc, inst_num, st_time, en_time, pri=False)\n",
    "                df_var = va_m.var_maker(start_time, end_time, bucket_query, metric_start, metirc_end,  data_path=var_file_name)\n",
    "                out = pd.merge(out, df_var[['time_stamp', 'variance', 'mean']], how='outer', on='time_stamp')\n",
    "            # ну а теперь пожалуй сохраним данные для отчётности\n",
    "            writer.write_df(df=out, file_name=out_file_name)\n",
    "        else:\n",
    "            print('model was already applied for this dc and inst')\n",
    "        # теперь обрабатываем и выявляем аномалии\n",
    "#     dict_dc_inst_metric[dc] = dict_dc"
   ]
  },
  {
   "cell_type": "code",
   "execution_count": 76,
   "metadata": {
    "scrolled": true
   },
   "outputs": [],
   "source": [
    "# dict_dc_inst_metric = {}\n",
    "# for dc in dc_period: \n",
    "#     dict_dc = {}\n",
    "#     for inst_num in conf.get_inst_range_for_dc(dc):\n",
    "#         coeff_df = pd.DataFrame()\n",
    "#         instance = utils.get_instance_for_dc(dc, inst_num)\n",
    "#         print(f'\\nDC = {dc}\\nINSTANCE = {instance}')\n",
    "#         start_time = dc_period[dc][0]\n",
    "#         end_time = dc_period[dc][1]\n",
    "        \n",
    "#         st_time = start_time.replace(\" \", \"\").replace(\"/\", \"\").replace(\":\", \"\")\n",
    "#         en_time = end_time.replace(\" \", \"\").replace(\"/\", \"\").replace(\":\", \"\")\n",
    "        \n",
    "#         out_file_name = 'for_plot/'\n",
    "#         out_file_name += utils.get_file_name(kind=f'simpleLR__train={train_size}__dots={dots}',\n",
    "#                                             dc=dc, inst_num=inst_num, st_time=st_time, en_time=en_time, \n",
    "#                                             dots=dots)\n",
    "        \n",
    "            \n",
    "#         data_file_name = load_model_data(dc, inst_num, st_time, en_time, dots, pri=False)\n",
    "\n",
    "#         # and data\n",
    "#         data = pd.read_csv(data_file_name)\n",
    "#         data = la_prepro.fill_misses(data)\n",
    "#         train_data = data[:train_size]\n",
    "#         print(f'train_data.shape={train_data.shape}')\n",
    "\n",
    "#         predictor = model.Model1_Scaled_Derive(dots=dots)\n",
    "#         predictor.fit(train_data)   \n",
    "\n",
    "\n",
    "#         coeff_df['coef'] = predictor.est.coef_\n",
    "#         coeff_df.index = predictor.features\n",
    "#         min_v = 0\n",
    "#         coeff_df = coeff_df[coeff_df['coef'] > min_v].sort_values('coef', ascending=False)\n",
    "#         main_metrics = []\n",
    "#         for metric in coeff_df.index.tolist():\n",
    "#             if not metric[-1] in [str(i) for i in list(range(1,10))]:\n",
    "#                 main_metrics.append(metric)    \n",
    "#             else:\n",
    "#                 if not metric[:-3] in main_metrics:\n",
    "#                     main_metrics.append(metric[:-3])\n",
    "#         main_metrics.remove('target')\n",
    "#         main_metrics = main_metrics[:5]\n",
    "#         dict_dc[inst_num] = main_metrics\n",
    "#     dict_dc_inst_metric[dc] = dict_dc"
   ]
  },
  {
   "cell_type": "code",
   "execution_count": 4,
   "metadata": {},
   "outputs": [],
   "source": [
    "path = '../datasets/for_plot/'\n",
    "\n",
    "norm_start_date = ''.join(''.join(''.join(start_date.split('/')).split(' ')).split(':'))\n",
    "norm_end_date = ''.join(''.join(''.join(end_date.split('/')).split(' ')).split(':'))\n",
    "\n",
    "dc_file = {}\n",
    "for r, d, f in os.walk(path):\n",
    "    for file in f:\n",
    "        f_s = str(file).split('__')\n",
    "        if f_s[0] == 'simpleLR' and f_s[2] == 'dots=5' and f_s[7] == '5.csv' and f_s[5] == norm_start_date and f_s[6] == norm_end_date :\n",
    "            # if there is a novel dc\n",
    "            if f_s[3] not in dc_file:\n",
    "                dc_file[f_s[3]] = [file]\n",
    "            # add a file name\n",
    "            else:\n",
    "                dc_file[f_s[3]].append(file)          "
   ]
  },
  {
   "cell_type": "markdown",
   "metadata": {},
   "source": [
    "# Поиск сигм "
   ]
  },
  {
   "cell_type": "code",
   "execution_count": 5,
   "metadata": {},
   "outputs": [],
   "source": [
    "def find_number_of_sigmas(dcs):\n",
    "    \n",
    "    if type(dcs) == str:\n",
    "        dcs = [dcs]\n",
    "    \n",
    "    path = '../datasets/for_plot/'\n",
    "    month = 60 * 24 * 30\n",
    "    \n",
    "    dc_result = {}\n",
    "    \n",
    "    for dc in dcs:    \n",
    "        print(f'DC {dc}')\n",
    "        n_an = []\n",
    "        n_main_error = []\n",
    "        n_mean = []\n",
    "        n_variance = []\n",
    "        for n_s in np.linspace(4, 8.0, 41):\n",
    "            print(f'\\tn_s={n_s}')\n",
    "            app = 0\n",
    "            app_er = 0\n",
    "            app_mean = 0 \n",
    "            app_var = 0\n",
    "            for file in sorted(dc_file[dc]):\n",
    "                f_s = str(file).split('__')\n",
    "                inst_n = int(f_s[4])\n",
    "                dc = f_s[3]\n",
    "                print(f'\\t\\tinst = {inst_n}')\n",
    "                train_size = int(f_s[1][6:])\n",
    "                duration = 0\n",
    "                # getting data and adding a column with date\n",
    "                plot_data = pd.read_csv(path + file).dropna()[train_size : train_size + 2*month]\n",
    "                \n",
    "                _reloads_ts = plot_data[plot_data['target'].diff() < 0]['time_stamp'].values\n",
    "                plot_data = analyzer.get_df_with_droped_reloads(plot_data, _reloads_ts, reload_window=60 * 10)\n",
    "                \n",
    "                list_of_anomalys = analyzer.find_interval_of_anomaly_with_mode(plot_data, n_s,\n",
    "                                                                         'and of mean and main_error')\n",
    "                \n",
    "                list_of_anomalys_main_error = analyzer.find_interval_of_anomaly_with_mode(plot_data, n_s,\n",
    "                                                                         'main_error')\n",
    "                \n",
    "                list_of_anomalys_mean = analyzer.find_interval_of_anomaly_with_mode(plot_data, n_s,\n",
    "                                                                         'mean')\n",
    "                \n",
    "                list_of_anomalys_var = analyzer.find_interval_of_anomaly_with_mode(plot_data, n_s,\n",
    "                                                                         'variance')\n",
    "                \n",
    "#                 if list_of_anomalys:\n",
    "#                     anomaly_duration = [(list_of_anomalys[i][1]-list_of_anomalys[i][0])/60 for i in range(len(list_of_anomalys))]\n",
    "#                     list_of_anomalys = [list_of_anomalys[i] for i in range(len(list_of_anomalys)) if anomaly_duration[i] >= 3 ]\n",
    "                \n",
    "        \n",
    "                app += len(list_of_anomalys)\n",
    "                app_er += len(list_of_anomalys_main_error)\n",
    "                app_mean += len(list_of_anomalys_mean)\n",
    "                app_var += len(list_of_anomalys_var)\n",
    "                    \n",
    "            n_an.append(app)\n",
    "            n_main_error.append(app_er)\n",
    "            n_mean.append(app_mean)\n",
    "            n_variance.append(app_var)\n",
    "            number_of_sigmas = n_s\n",
    "            # 14/30 так как мы ожидаем за 30 дней на полностью загруденном сервере 25 аномалий, а тут 2 недели\n",
    "            if  app <= np.round(len(dc_file[dc])*(20/30)*2):\n",
    "                number_of_sigmas = n_s\n",
    "                break\n",
    "                \n",
    "        dc_result[dc] = [number_of_sigmas, n_an,n_main_error, n_mean, n_variance]\n",
    "    return dc_result"
   ]
  },
  {
   "cell_type": "code",
   "execution_count": 6,
   "metadata": {
    "scrolled": true
   },
   "outputs": [
    {
     "name": "stdout",
     "output_type": "stream",
     "text": [
      "DC us3\n",
      "\tn_s=4.0\n",
      "\t\tinst = 10\n",
      "\t\tinst = 11\n",
      "\t\tinst = 12\n",
      "\t\tinst = 13\n",
      "\t\tinst = 14\n",
      "\t\tinst = 15\n",
      "\t\tinst = 16\n",
      "\t\tinst = 17\n",
      "\t\tinst = 18\n",
      "\t\tinst = 19\n",
      "\t\tinst = 1\n",
      "\t\tinst = 20\n",
      "\t\tinst = 21\n",
      "\t\tinst = 2\n",
      "\t\tinst = 3\n",
      "\t\tinst = 4\n",
      "\t\tinst = 5\n",
      "\t\tinst = 7\n",
      "\t\tinst = 8\n",
      "\t\tinst = 9\n",
      "\tn_s=4.1\n",
      "\t\tinst = 10\n",
      "\t\tinst = 11\n",
      "\t\tinst = 12\n",
      "\t\tinst = 13\n",
      "\t\tinst = 14\n",
      "\t\tinst = 15\n",
      "\t\tinst = 16\n",
      "\t\tinst = 17\n",
      "\t\tinst = 18\n",
      "\t\tinst = 19\n",
      "\t\tinst = 1\n",
      "\t\tinst = 20\n",
      "\t\tinst = 21\n",
      "\t\tinst = 2\n",
      "\t\tinst = 3\n",
      "\t\tinst = 4\n",
      "\t\tinst = 5\n",
      "\t\tinst = 7\n",
      "\t\tinst = 8\n",
      "\t\tinst = 9\n",
      "\tn_s=4.2\n",
      "\t\tinst = 10\n",
      "\t\tinst = 11\n",
      "\t\tinst = 12\n",
      "\t\tinst = 13\n",
      "\t\tinst = 14\n",
      "\t\tinst = 15\n",
      "\t\tinst = 16\n",
      "\t\tinst = 17\n",
      "\t\tinst = 18\n",
      "\t\tinst = 19\n",
      "\t\tinst = 1\n",
      "\t\tinst = 20\n",
      "\t\tinst = 21\n",
      "\t\tinst = 2\n",
      "\t\tinst = 3\n",
      "\t\tinst = 4\n",
      "\t\tinst = 5\n",
      "\t\tinst = 7\n",
      "\t\tinst = 8\n",
      "\t\tinst = 9\n",
      "\tn_s=4.3\n",
      "\t\tinst = 10\n",
      "\t\tinst = 11\n",
      "\t\tinst = 12\n",
      "\t\tinst = 13\n",
      "\t\tinst = 14\n",
      "\t\tinst = 15\n",
      "\t\tinst = 16\n",
      "\t\tinst = 17\n",
      "\t\tinst = 18\n",
      "\t\tinst = 19\n",
      "\t\tinst = 1\n",
      "\t\tinst = 20\n",
      "\t\tinst = 21\n",
      "\t\tinst = 2\n",
      "\t\tinst = 3\n",
      "\t\tinst = 4\n",
      "\t\tinst = 5\n",
      "\t\tinst = 7\n",
      "\t\tinst = 8\n",
      "\t\tinst = 9\n",
      "\tn_s=4.4\n",
      "\t\tinst = 10\n",
      "\t\tinst = 11\n",
      "\t\tinst = 12\n",
      "\t\tinst = 13\n",
      "\t\tinst = 14\n",
      "\t\tinst = 15\n",
      "\t\tinst = 16\n",
      "\t\tinst = 17\n",
      "\t\tinst = 18\n",
      "\t\tinst = 19\n",
      "\t\tinst = 1\n",
      "\t\tinst = 20\n",
      "\t\tinst = 21\n",
      "\t\tinst = 2\n",
      "\t\tinst = 3\n",
      "\t\tinst = 4\n",
      "\t\tinst = 5\n",
      "\t\tinst = 7\n",
      "\t\tinst = 8\n",
      "\t\tinst = 9\n",
      "\tn_s=4.5\n",
      "\t\tinst = 10\n",
      "\t\tinst = 11\n",
      "\t\tinst = 12\n",
      "\t\tinst = 13\n",
      "\t\tinst = 14\n",
      "\t\tinst = 15\n",
      "\t\tinst = 16\n",
      "\t\tinst = 17\n",
      "\t\tinst = 18\n",
      "\t\tinst = 19\n",
      "\t\tinst = 1\n",
      "\t\tinst = 20\n",
      "\t\tinst = 21\n",
      "\t\tinst = 2\n",
      "\t\tinst = 3\n",
      "\t\tinst = 4\n",
      "\t\tinst = 5\n",
      "\t\tinst = 7\n",
      "\t\tinst = 8\n",
      "\t\tinst = 9\n",
      "\tn_s=4.6\n",
      "\t\tinst = 10\n",
      "\t\tinst = 11\n",
      "\t\tinst = 12\n",
      "\t\tinst = 13\n",
      "\t\tinst = 14\n",
      "\t\tinst = 15\n",
      "\t\tinst = 16\n",
      "\t\tinst = 17\n",
      "\t\tinst = 18\n",
      "\t\tinst = 19\n",
      "\t\tinst = 1\n",
      "\t\tinst = 20\n",
      "\t\tinst = 21\n",
      "\t\tinst = 2\n",
      "\t\tinst = 3\n",
      "\t\tinst = 4\n",
      "\t\tinst = 5\n",
      "\t\tinst = 7\n",
      "\t\tinst = 8\n",
      "\t\tinst = 9\n",
      "\tn_s=4.7\n",
      "\t\tinst = 10\n",
      "\t\tinst = 11\n",
      "\t\tinst = 12\n",
      "\t\tinst = 13\n",
      "\t\tinst = 14\n",
      "\t\tinst = 15\n",
      "\t\tinst = 16\n",
      "\t\tinst = 17\n",
      "\t\tinst = 18\n",
      "\t\tinst = 19\n",
      "\t\tinst = 1\n",
      "\t\tinst = 20\n",
      "\t\tinst = 21\n",
      "\t\tinst = 2\n",
      "\t\tinst = 3\n",
      "\t\tinst = 4\n",
      "\t\tinst = 5\n",
      "\t\tinst = 7\n",
      "\t\tinst = 8\n",
      "\t\tinst = 9\n",
      "\tn_s=4.8\n",
      "\t\tinst = 10\n",
      "\t\tinst = 11\n",
      "\t\tinst = 12\n",
      "\t\tinst = 13\n",
      "\t\tinst = 14\n",
      "\t\tinst = 15\n",
      "\t\tinst = 16\n",
      "\t\tinst = 17\n",
      "\t\tinst = 18\n",
      "\t\tinst = 19\n",
      "\t\tinst = 1\n",
      "\t\tinst = 20\n",
      "\t\tinst = 21\n",
      "\t\tinst = 2\n",
      "\t\tinst = 3\n",
      "\t\tinst = 4\n",
      "\t\tinst = 5\n",
      "\t\tinst = 7\n",
      "\t\tinst = 8\n",
      "\t\tinst = 9\n",
      "\tn_s=4.9\n",
      "\t\tinst = 10\n",
      "\t\tinst = 11\n",
      "\t\tinst = 12\n",
      "\t\tinst = 13\n",
      "\t\tinst = 14\n",
      "\t\tinst = 15\n",
      "\t\tinst = 16\n",
      "\t\tinst = 17\n",
      "\t\tinst = 18\n",
      "\t\tinst = 19\n",
      "\t\tinst = 1\n",
      "\t\tinst = 20\n",
      "\t\tinst = 21\n",
      "\t\tinst = 2\n",
      "\t\tinst = 3\n",
      "\t\tinst = 4\n",
      "\t\tinst = 5\n",
      "\t\tinst = 7\n",
      "\t\tinst = 8\n",
      "\t\tinst = 9\n",
      "\tn_s=5.0\n",
      "\t\tinst = 10\n",
      "\t\tinst = 11\n",
      "\t\tinst = 12\n",
      "\t\tinst = 13\n",
      "\t\tinst = 14\n",
      "\t\tinst = 15\n",
      "\t\tinst = 16\n",
      "\t\tinst = 17\n",
      "\t\tinst = 18\n",
      "\t\tinst = 19\n",
      "\t\tinst = 1\n",
      "\t\tinst = 20\n",
      "\t\tinst = 21\n",
      "\t\tinst = 2\n",
      "\t\tinst = 3\n",
      "\t\tinst = 4\n",
      "\t\tinst = 5\n",
      "\t\tinst = 7\n",
      "\t\tinst = 8\n",
      "\t\tinst = 9\n",
      "\tn_s=5.1\n",
      "\t\tinst = 10\n",
      "\t\tinst = 11\n",
      "\t\tinst = 12\n",
      "\t\tinst = 13\n",
      "\t\tinst = 14\n",
      "\t\tinst = 15\n",
      "\t\tinst = 16\n",
      "\t\tinst = 17\n",
      "\t\tinst = 18\n",
      "\t\tinst = 19\n",
      "\t\tinst = 1\n",
      "\t\tinst = 20\n",
      "\t\tinst = 21\n",
      "\t\tinst = 2\n",
      "\t\tinst = 3\n",
      "\t\tinst = 4\n",
      "\t\tinst = 5\n",
      "\t\tinst = 7\n",
      "\t\tinst = 8\n",
      "\t\tinst = 9\n",
      "\tn_s=5.2\n",
      "\t\tinst = 10\n",
      "\t\tinst = 11\n",
      "\t\tinst = 12\n",
      "\t\tinst = 13\n",
      "\t\tinst = 14\n",
      "\t\tinst = 15\n",
      "\t\tinst = 16\n",
      "\t\tinst = 17\n",
      "\t\tinst = 18\n",
      "\t\tinst = 19\n",
      "\t\tinst = 1\n",
      "\t\tinst = 20\n",
      "\t\tinst = 21\n",
      "\t\tinst = 2\n",
      "\t\tinst = 3\n",
      "\t\tinst = 4\n",
      "\t\tinst = 5\n",
      "\t\tinst = 7\n",
      "\t\tinst = 8\n",
      "\t\tinst = 9\n",
      "\tn_s=5.3\n",
      "\t\tinst = 10\n",
      "\t\tinst = 11\n",
      "\t\tinst = 12\n",
      "\t\tinst = 13\n",
      "\t\tinst = 14\n",
      "\t\tinst = 15\n",
      "\t\tinst = 16\n",
      "\t\tinst = 17\n",
      "\t\tinst = 18\n",
      "\t\tinst = 19\n",
      "\t\tinst = 1\n",
      "\t\tinst = 20\n",
      "\t\tinst = 21\n",
      "\t\tinst = 2\n",
      "\t\tinst = 3\n",
      "\t\tinst = 4\n",
      "\t\tinst = 5\n",
      "\t\tinst = 7\n",
      "\t\tinst = 8\n",
      "\t\tinst = 9\n",
      "\tn_s=5.4\n",
      "\t\tinst = 10\n",
      "\t\tinst = 11\n",
      "\t\tinst = 12\n",
      "\t\tinst = 13\n",
      "\t\tinst = 14\n",
      "\t\tinst = 15\n",
      "\t\tinst = 16\n",
      "\t\tinst = 17\n",
      "\t\tinst = 18\n",
      "\t\tinst = 19\n",
      "\t\tinst = 1\n",
      "\t\tinst = 20\n",
      "\t\tinst = 21\n",
      "\t\tinst = 2\n",
      "\t\tinst = 3\n",
      "\t\tinst = 4\n",
      "\t\tinst = 5\n",
      "\t\tinst = 7\n",
      "\t\tinst = 8\n",
      "\t\tinst = 9\n",
      "\tn_s=5.5\n",
      "\t\tinst = 10\n",
      "\t\tinst = 11\n",
      "\t\tinst = 12\n",
      "\t\tinst = 13\n",
      "\t\tinst = 14\n",
      "\t\tinst = 15\n",
      "\t\tinst = 16\n",
      "\t\tinst = 17\n",
      "\t\tinst = 18\n",
      "\t\tinst = 19\n",
      "\t\tinst = 1\n",
      "\t\tinst = 20\n",
      "\t\tinst = 21\n",
      "\t\tinst = 2\n",
      "\t\tinst = 3\n",
      "\t\tinst = 4\n",
      "\t\tinst = 5\n",
      "\t\tinst = 7\n",
      "\t\tinst = 8\n",
      "\t\tinst = 9\n",
      "\tn_s=5.6\n",
      "\t\tinst = 10\n",
      "\t\tinst = 11\n",
      "\t\tinst = 12\n",
      "\t\tinst = 13\n",
      "\t\tinst = 14\n",
      "\t\tinst = 15\n",
      "\t\tinst = 16\n",
      "\t\tinst = 17\n",
      "\t\tinst = 18\n",
      "\t\tinst = 19\n",
      "\t\tinst = 1\n",
      "\t\tinst = 20\n",
      "\t\tinst = 21\n",
      "\t\tinst = 2\n",
      "\t\tinst = 3\n",
      "\t\tinst = 4\n",
      "\t\tinst = 5\n",
      "\t\tinst = 7\n",
      "\t\tinst = 8\n",
      "\t\tinst = 9\n",
      "\tn_s=5.7\n",
      "\t\tinst = 10\n",
      "\t\tinst = 11\n",
      "\t\tinst = 12\n",
      "\t\tinst = 13\n",
      "\t\tinst = 14\n",
      "\t\tinst = 15\n",
      "\t\tinst = 16\n",
      "\t\tinst = 17\n",
      "\t\tinst = 18\n",
      "\t\tinst = 19\n",
      "\t\tinst = 1\n",
      "\t\tinst = 20\n",
      "\t\tinst = 21\n",
      "\t\tinst = 2\n",
      "\t\tinst = 3\n",
      "\t\tinst = 4\n",
      "\t\tinst = 5\n",
      "\t\tinst = 7\n",
      "\t\tinst = 8\n",
      "\t\tinst = 9\n",
      "\tn_s=5.8\n",
      "\t\tinst = 10\n",
      "\t\tinst = 11\n",
      "\t\tinst = 12\n",
      "\t\tinst = 13\n",
      "\t\tinst = 14\n",
      "\t\tinst = 15\n",
      "\t\tinst = 16\n",
      "\t\tinst = 17\n",
      "\t\tinst = 18\n",
      "\t\tinst = 19\n",
      "\t\tinst = 1\n",
      "\t\tinst = 20\n",
      "\t\tinst = 21\n",
      "\t\tinst = 2\n",
      "\t\tinst = 3\n",
      "\t\tinst = 4\n",
      "\t\tinst = 5\n",
      "\t\tinst = 7\n",
      "\t\tinst = 8\n",
      "\t\tinst = 9\n",
      "\tn_s=5.9\n",
      "\t\tinst = 10\n",
      "\t\tinst = 11\n",
      "\t\tinst = 12\n",
      "\t\tinst = 13\n",
      "\t\tinst = 14\n",
      "\t\tinst = 15\n",
      "\t\tinst = 16\n",
      "\t\tinst = 17\n",
      "\t\tinst = 18\n",
      "\t\tinst = 19\n",
      "\t\tinst = 1\n",
      "\t\tinst = 20\n",
      "\t\tinst = 21\n",
      "\t\tinst = 2\n",
      "\t\tinst = 3\n",
      "\t\tinst = 4\n",
      "\t\tinst = 5\n",
      "\t\tinst = 7\n",
      "\t\tinst = 8\n",
      "\t\tinst = 9\n",
      "\tn_s=6.0\n",
      "\t\tinst = 10\n",
      "\t\tinst = 11\n",
      "\t\tinst = 12\n",
      "\t\tinst = 13\n",
      "\t\tinst = 14\n",
      "\t\tinst = 15\n",
      "\t\tinst = 16\n",
      "\t\tinst = 17\n",
      "\t\tinst = 18\n",
      "\t\tinst = 19\n",
      "\t\tinst = 1\n",
      "\t\tinst = 20\n",
      "\t\tinst = 21\n",
      "\t\tinst = 2\n",
      "\t\tinst = 3\n",
      "\t\tinst = 4\n",
      "\t\tinst = 5\n",
      "\t\tinst = 7\n",
      "\t\tinst = 8\n",
      "\t\tinst = 9\n",
      "\tn_s=6.1\n",
      "\t\tinst = 10\n",
      "\t\tinst = 11\n",
      "\t\tinst = 12\n",
      "\t\tinst = 13\n",
      "\t\tinst = 14\n",
      "\t\tinst = 15\n",
      "\t\tinst = 16\n",
      "\t\tinst = 17\n",
      "\t\tinst = 18\n",
      "\t\tinst = 19\n",
      "\t\tinst = 1\n",
      "\t\tinst = 20\n",
      "\t\tinst = 21\n",
      "\t\tinst = 2\n",
      "\t\tinst = 3\n",
      "\t\tinst = 4\n",
      "\t\tinst = 5\n",
      "\t\tinst = 7\n",
      "\t\tinst = 8\n",
      "\t\tinst = 9\n",
      "\tn_s=6.2\n",
      "\t\tinst = 10\n",
      "\t\tinst = 11\n",
      "\t\tinst = 12\n",
      "\t\tinst = 13\n",
      "\t\tinst = 14\n",
      "\t\tinst = 15\n",
      "\t\tinst = 16\n",
      "\t\tinst = 17\n",
      "\t\tinst = 18\n",
      "\t\tinst = 19\n",
      "\t\tinst = 1\n",
      "\t\tinst = 20\n",
      "\t\tinst = 21\n",
      "\t\tinst = 2\n",
      "\t\tinst = 3\n",
      "\t\tinst = 4\n",
      "\t\tinst = 5\n",
      "\t\tinst = 7\n",
      "\t\tinst = 8\n",
      "\t\tinst = 9\n",
      "\tn_s=6.300000000000001\n",
      "\t\tinst = 10\n",
      "\t\tinst = 11\n",
      "\t\tinst = 12\n",
      "\t\tinst = 13\n",
      "\t\tinst = 14\n",
      "\t\tinst = 15\n",
      "\t\tinst = 16\n",
      "\t\tinst = 17\n",
      "\t\tinst = 18\n",
      "\t\tinst = 19\n",
      "\t\tinst = 1\n",
      "\t\tinst = 20\n",
      "\t\tinst = 21\n",
      "\t\tinst = 2\n",
      "\t\tinst = 3\n",
      "\t\tinst = 4\n",
      "\t\tinst = 5\n",
      "\t\tinst = 7\n",
      "\t\tinst = 8\n",
      "\t\tinst = 9\n",
      "\tn_s=6.4\n",
      "\t\tinst = 10\n",
      "\t\tinst = 11\n",
      "\t\tinst = 12\n",
      "\t\tinst = 13\n",
      "\t\tinst = 14\n",
      "\t\tinst = 15\n",
      "\t\tinst = 16\n",
      "\t\tinst = 17\n",
      "\t\tinst = 18\n",
      "\t\tinst = 19\n",
      "\t\tinst = 1\n",
      "\t\tinst = 20\n",
      "\t\tinst = 21\n",
      "\t\tinst = 2\n",
      "\t\tinst = 3\n",
      "\t\tinst = 4\n",
      "\t\tinst = 5\n",
      "\t\tinst = 7\n",
      "\t\tinst = 8\n",
      "\t\tinst = 9\n",
      "\tn_s=6.5\n",
      "\t\tinst = 10\n",
      "\t\tinst = 11\n",
      "\t\tinst = 12\n",
      "\t\tinst = 13\n",
      "\t\tinst = 14\n",
      "\t\tinst = 15\n",
      "\t\tinst = 16\n",
      "\t\tinst = 17\n",
      "\t\tinst = 18\n",
      "\t\tinst = 19\n",
      "\t\tinst = 1\n",
      "\t\tinst = 20\n",
      "\t\tinst = 21\n",
      "\t\tinst = 2\n",
      "\t\tinst = 3\n",
      "\t\tinst = 4\n",
      "\t\tinst = 5\n",
      "\t\tinst = 7\n",
      "\t\tinst = 8\n",
      "\t\tinst = 9\n",
      "\tn_s=6.6\n",
      "\t\tinst = 10\n",
      "\t\tinst = 11\n",
      "\t\tinst = 12\n",
      "\t\tinst = 13\n",
      "\t\tinst = 14\n",
      "\t\tinst = 15\n",
      "\t\tinst = 16\n",
      "\t\tinst = 17\n",
      "\t\tinst = 18\n",
      "\t\tinst = 19\n",
      "\t\tinst = 1\n",
      "\t\tinst = 20\n",
      "\t\tinst = 21\n",
      "\t\tinst = 2\n",
      "\t\tinst = 3\n",
      "\t\tinst = 4\n",
      "\t\tinst = 5\n",
      "\t\tinst = 7\n",
      "\t\tinst = 8\n",
      "\t\tinst = 9\n",
      "\tn_s=6.7\n",
      "\t\tinst = 10\n",
      "\t\tinst = 11\n",
      "\t\tinst = 12\n",
      "\t\tinst = 13\n",
      "\t\tinst = 14\n",
      "\t\tinst = 15\n",
      "\t\tinst = 16\n",
      "\t\tinst = 17\n",
      "\t\tinst = 18\n",
      "\t\tinst = 19\n",
      "\t\tinst = 1\n",
      "\t\tinst = 20\n",
      "\t\tinst = 21\n",
      "\t\tinst = 2\n",
      "\t\tinst = 3\n",
      "\t\tinst = 4\n",
      "\t\tinst = 5\n",
      "\t\tinst = 7\n",
      "\t\tinst = 8\n",
      "\t\tinst = 9\n",
      "\tn_s=6.800000000000001\n",
      "\t\tinst = 10\n",
      "\t\tinst = 11\n",
      "\t\tinst = 12\n",
      "\t\tinst = 13\n",
      "\t\tinst = 14\n",
      "\t\tinst = 15\n",
      "\t\tinst = 16\n",
      "\t\tinst = 17\n",
      "\t\tinst = 18\n",
      "\t\tinst = 19\n",
      "\t\tinst = 1\n",
      "\t\tinst = 20\n",
      "\t\tinst = 21\n",
      "\t\tinst = 2\n",
      "\t\tinst = 3\n",
      "\t\tinst = 4\n",
      "\t\tinst = 5\n",
      "\t\tinst = 7\n",
      "\t\tinst = 8\n",
      "\t\tinst = 9\n",
      "\tn_s=6.9\n",
      "\t\tinst = 10\n",
      "\t\tinst = 11\n",
      "\t\tinst = 12\n",
      "\t\tinst = 13\n",
      "\t\tinst = 14\n",
      "\t\tinst = 15\n",
      "\t\tinst = 16\n",
      "\t\tinst = 17\n",
      "\t\tinst = 18\n",
      "\t\tinst = 19\n",
      "\t\tinst = 1\n",
      "\t\tinst = 20\n",
      "\t\tinst = 21\n",
      "\t\tinst = 2\n",
      "\t\tinst = 3\n",
      "\t\tinst = 4\n",
      "\t\tinst = 5\n",
      "\t\tinst = 7\n",
      "\t\tinst = 8\n",
      "\t\tinst = 9\n",
      "\tn_s=7.0\n",
      "\t\tinst = 10\n",
      "\t\tinst = 11\n",
      "\t\tinst = 12\n",
      "\t\tinst = 13\n",
      "\t\tinst = 14\n",
      "\t\tinst = 15\n",
      "\t\tinst = 16\n",
      "\t\tinst = 17\n",
      "\t\tinst = 18\n",
      "\t\tinst = 19\n",
      "\t\tinst = 1\n",
      "\t\tinst = 20\n",
      "\t\tinst = 21\n",
      "\t\tinst = 2\n",
      "\t\tinst = 3\n",
      "\t\tinst = 4\n",
      "\t\tinst = 5\n",
      "\t\tinst = 7\n",
      "\t\tinst = 8\n",
      "\t\tinst = 9\n",
      "\tn_s=7.1\n",
      "\t\tinst = 10\n",
      "\t\tinst = 11\n",
      "\t\tinst = 12\n",
      "\t\tinst = 13\n",
      "\t\tinst = 14\n",
      "\t\tinst = 15\n",
      "\t\tinst = 16\n",
      "\t\tinst = 17\n",
      "\t\tinst = 18\n",
      "\t\tinst = 19\n",
      "\t\tinst = 1\n",
      "\t\tinst = 20\n",
      "\t\tinst = 21\n",
      "\t\tinst = 2\n",
      "\t\tinst = 3\n",
      "\t\tinst = 4\n",
      "\t\tinst = 5\n",
      "\t\tinst = 7\n",
      "\t\tinst = 8\n",
      "\t\tinst = 9\n",
      "\tn_s=7.2\n",
      "\t\tinst = 10\n",
      "\t\tinst = 11\n",
      "\t\tinst = 12\n",
      "\t\tinst = 13\n",
      "\t\tinst = 14\n",
      "\t\tinst = 15\n",
      "\t\tinst = 16\n",
      "\t\tinst = 17\n",
      "\t\tinst = 18\n",
      "\t\tinst = 19\n",
      "\t\tinst = 1\n",
      "\t\tinst = 20\n",
      "\t\tinst = 21\n",
      "\t\tinst = 2\n",
      "\t\tinst = 3\n",
      "\t\tinst = 4\n",
      "\t\tinst = 5\n",
      "\t\tinst = 7\n",
      "\t\tinst = 8\n",
      "\t\tinst = 9\n",
      "\tn_s=7.300000000000001\n",
      "\t\tinst = 10\n",
      "\t\tinst = 11\n",
      "\t\tinst = 12\n",
      "\t\tinst = 13\n",
      "\t\tinst = 14\n",
      "\t\tinst = 15\n",
      "\t\tinst = 16\n",
      "\t\tinst = 17\n",
      "\t\tinst = 18\n",
      "\t\tinst = 19\n",
      "\t\tinst = 1\n",
      "\t\tinst = 20\n",
      "\t\tinst = 21\n",
      "\t\tinst = 2\n",
      "\t\tinst = 3\n",
      "\t\tinst = 4\n"
     ]
    },
    {
     "name": "stdout",
     "output_type": "stream",
     "text": [
      "\t\tinst = 5\n",
      "\t\tinst = 7\n",
      "\t\tinst = 8\n",
      "\t\tinst = 9\n",
      "\tn_s=7.4\n",
      "\t\tinst = 10\n",
      "\t\tinst = 11\n",
      "\t\tinst = 12\n",
      "\t\tinst = 13\n",
      "\t\tinst = 14\n",
      "\t\tinst = 15\n",
      "\t\tinst = 16\n",
      "\t\tinst = 17\n",
      "\t\tinst = 18\n",
      "\t\tinst = 19\n",
      "\t\tinst = 1\n",
      "\t\tinst = 20\n",
      "\t\tinst = 21\n",
      "\t\tinst = 2\n",
      "\t\tinst = 3\n",
      "\t\tinst = 4\n",
      "\t\tinst = 5\n",
      "\t\tinst = 7\n",
      "\t\tinst = 8\n",
      "\t\tinst = 9\n",
      "\tn_s=7.5\n",
      "\t\tinst = 10\n",
      "\t\tinst = 11\n",
      "\t\tinst = 12\n",
      "\t\tinst = 13\n",
      "\t\tinst = 14\n",
      "\t\tinst = 15\n",
      "\t\tinst = 16\n",
      "\t\tinst = 17\n",
      "\t\tinst = 18\n",
      "\t\tinst = 19\n",
      "\t\tinst = 1\n",
      "\t\tinst = 20\n",
      "\t\tinst = 21\n",
      "\t\tinst = 2\n",
      "\t\tinst = 3\n",
      "\t\tinst = 4\n",
      "\t\tinst = 5\n",
      "\t\tinst = 7\n",
      "\t\tinst = 8\n",
      "\t\tinst = 9\n",
      "\tn_s=7.6\n",
      "\t\tinst = 10\n",
      "\t\tinst = 11\n",
      "\t\tinst = 12\n",
      "\t\tinst = 13\n",
      "\t\tinst = 14\n",
      "\t\tinst = 15\n",
      "\t\tinst = 16\n",
      "\t\tinst = 17\n",
      "\t\tinst = 18\n",
      "\t\tinst = 19\n",
      "\t\tinst = 1\n",
      "\t\tinst = 20\n",
      "\t\tinst = 21\n",
      "\t\tinst = 2\n",
      "\t\tinst = 3\n",
      "\t\tinst = 4\n",
      "\t\tinst = 5\n",
      "\t\tinst = 7\n",
      "\t\tinst = 8\n",
      "\t\tinst = 9\n",
      "\tn_s=7.7\n",
      "\t\tinst = 10\n",
      "\t\tinst = 11\n",
      "\t\tinst = 12\n",
      "\t\tinst = 13\n",
      "\t\tinst = 14\n",
      "\t\tinst = 15\n",
      "\t\tinst = 16\n",
      "\t\tinst = 17\n",
      "\t\tinst = 18\n",
      "\t\tinst = 19\n",
      "\t\tinst = 1\n",
      "\t\tinst = 20\n",
      "\t\tinst = 21\n",
      "\t\tinst = 2\n",
      "\t\tinst = 3\n",
      "\t\tinst = 4\n",
      "\t\tinst = 5\n",
      "\t\tinst = 7\n",
      "\t\tinst = 8\n",
      "\t\tinst = 9\n",
      "\tn_s=7.800000000000001\n",
      "\t\tinst = 10\n",
      "\t\tinst = 11\n",
      "\t\tinst = 12\n",
      "\t\tinst = 13\n",
      "\t\tinst = 14\n",
      "\t\tinst = 15\n",
      "\t\tinst = 16\n",
      "\t\tinst = 17\n",
      "\t\tinst = 18\n",
      "\t\tinst = 19\n",
      "\t\tinst = 1\n",
      "\t\tinst = 20\n",
      "\t\tinst = 21\n",
      "\t\tinst = 2\n",
      "\t\tinst = 3\n",
      "\t\tinst = 4\n",
      "\t\tinst = 5\n",
      "\t\tinst = 7\n",
      "\t\tinst = 8\n",
      "\t\tinst = 9\n",
      "\tn_s=7.9\n",
      "\t\tinst = 10\n",
      "\t\tinst = 11\n",
      "\t\tinst = 12\n",
      "\t\tinst = 13\n",
      "\t\tinst = 14\n",
      "\t\tinst = 15\n",
      "\t\tinst = 16\n",
      "\t\tinst = 17\n",
      "\t\tinst = 18\n",
      "\t\tinst = 19\n",
      "\t\tinst = 1\n",
      "\t\tinst = 20\n",
      "\t\tinst = 21\n",
      "\t\tinst = 2\n",
      "\t\tinst = 3\n",
      "\t\tinst = 4\n",
      "\t\tinst = 5\n",
      "\t\tinst = 7\n",
      "\t\tinst = 8\n",
      "\t\tinst = 9\n",
      "\tn_s=8.0\n",
      "\t\tinst = 10\n",
      "\t\tinst = 11\n",
      "\t\tinst = 12\n",
      "\t\tinst = 13\n",
      "\t\tinst = 14\n",
      "\t\tinst = 15\n",
      "\t\tinst = 16\n",
      "\t\tinst = 17\n",
      "\t\tinst = 18\n",
      "\t\tinst = 19\n",
      "\t\tinst = 1\n",
      "\t\tinst = 20\n",
      "\t\tinst = 21\n",
      "\t\tinst = 2\n",
      "\t\tinst = 3\n",
      "\t\tinst = 4\n",
      "\t\tinst = 5\n",
      "\t\tinst = 7\n",
      "\t\tinst = 8\n",
      "\t\tinst = 9\n",
      "DC au2-acs1\n",
      "\tn_s=4.0\n",
      "\t\tinst = 10\n",
      "\t\tinst = 13\n",
      "\t\tinst = 14\n",
      "\t\tinst = 15\n",
      "\t\tinst = 16\n",
      "\t\tinst = 17\n",
      "\t\tinst = 18\n",
      "\t\tinst = 19\n",
      "\t\tinst = 1\n",
      "\t\tinst = 20\n",
      "\t\tinst = 21\n",
      "\t\tinst = 2\n",
      "\t\tinst = 3\n",
      "\t\tinst = 4\n",
      "\t\tinst = 5\n",
      "\t\tinst = 6\n",
      "\t\tinst = 7\n",
      "\t\tinst = 8\n",
      "\t\tinst = 9\n",
      "\tn_s=4.1\n",
      "\t\tinst = 10\n",
      "\t\tinst = 13\n",
      "\t\tinst = 14\n",
      "\t\tinst = 15\n",
      "\t\tinst = 16\n",
      "\t\tinst = 17\n",
      "\t\tinst = 18\n",
      "\t\tinst = 19\n",
      "\t\tinst = 1\n",
      "\t\tinst = 20\n",
      "\t\tinst = 21\n",
      "\t\tinst = 2\n",
      "\t\tinst = 3\n",
      "\t\tinst = 4\n",
      "\t\tinst = 5\n",
      "\t\tinst = 6\n",
      "\t\tinst = 7\n",
      "\t\tinst = 8\n",
      "\t\tinst = 9\n",
      "\tn_s=4.2\n",
      "\t\tinst = 10\n",
      "\t\tinst = 13\n",
      "\t\tinst = 14\n",
      "\t\tinst = 15\n",
      "\t\tinst = 16\n",
      "\t\tinst = 17\n",
      "\t\tinst = 18\n",
      "\t\tinst = 19\n",
      "\t\tinst = 1\n",
      "\t\tinst = 20\n",
      "\t\tinst = 21\n",
      "\t\tinst = 2\n",
      "\t\tinst = 3\n",
      "\t\tinst = 4\n",
      "\t\tinst = 5\n",
      "\t\tinst = 6\n",
      "\t\tinst = 7\n",
      "\t\tinst = 8\n",
      "\t\tinst = 9\n",
      "\tn_s=4.3\n",
      "\t\tinst = 10\n",
      "\t\tinst = 13\n",
      "\t\tinst = 14\n",
      "\t\tinst = 15\n",
      "\t\tinst = 16\n",
      "\t\tinst = 17\n",
      "\t\tinst = 18\n",
      "\t\tinst = 19\n",
      "\t\tinst = 1\n",
      "\t\tinst = 20\n",
      "\t\tinst = 21\n",
      "\t\tinst = 2\n",
      "\t\tinst = 3\n",
      "\t\tinst = 4\n",
      "\t\tinst = 5\n",
      "\t\tinst = 6\n",
      "\t\tinst = 7\n",
      "\t\tinst = 8\n",
      "\t\tinst = 9\n",
      "\tn_s=4.4\n",
      "\t\tinst = 10\n",
      "\t\tinst = 13\n",
      "\t\tinst = 14\n",
      "\t\tinst = 15\n",
      "\t\tinst = 16\n",
      "\t\tinst = 17\n",
      "\t\tinst = 18\n",
      "\t\tinst = 19\n",
      "\t\tinst = 1\n",
      "\t\tinst = 20\n",
      "\t\tinst = 21\n",
      "\t\tinst = 2\n",
      "\t\tinst = 3\n",
      "\t\tinst = 4\n",
      "\t\tinst = 5\n",
      "\t\tinst = 6\n",
      "\t\tinst = 7\n",
      "\t\tinst = 8\n",
      "\t\tinst = 9\n",
      "\tn_s=4.5\n",
      "\t\tinst = 10\n",
      "\t\tinst = 13\n",
      "\t\tinst = 14\n",
      "\t\tinst = 15\n",
      "\t\tinst = 16\n",
      "\t\tinst = 17\n",
      "\t\tinst = 18\n",
      "\t\tinst = 19\n",
      "\t\tinst = 1\n",
      "\t\tinst = 20\n",
      "\t\tinst = 21\n",
      "\t\tinst = 2\n",
      "\t\tinst = 3\n",
      "\t\tinst = 4\n",
      "\t\tinst = 5\n",
      "\t\tinst = 6\n",
      "\t\tinst = 7\n",
      "\t\tinst = 8\n",
      "\t\tinst = 9\n",
      "\tn_s=4.6\n",
      "\t\tinst = 10\n",
      "\t\tinst = 13\n",
      "\t\tinst = 14\n",
      "\t\tinst = 15\n",
      "\t\tinst = 16\n",
      "\t\tinst = 17\n",
      "\t\tinst = 18\n",
      "\t\tinst = 19\n",
      "\t\tinst = 1\n",
      "\t\tinst = 20\n",
      "\t\tinst = 21\n",
      "\t\tinst = 2\n",
      "\t\tinst = 3\n",
      "\t\tinst = 4\n",
      "\t\tinst = 5\n",
      "\t\tinst = 6\n",
      "\t\tinst = 7\n",
      "\t\tinst = 8\n",
      "\t\tinst = 9\n",
      "\tn_s=4.7\n",
      "\t\tinst = 10\n",
      "\t\tinst = 13\n",
      "\t\tinst = 14\n",
      "\t\tinst = 15\n",
      "\t\tinst = 16\n",
      "\t\tinst = 17\n",
      "\t\tinst = 18\n",
      "\t\tinst = 19\n",
      "\t\tinst = 1\n",
      "\t\tinst = 20\n",
      "\t\tinst = 21\n",
      "\t\tinst = 2\n",
      "\t\tinst = 3\n",
      "\t\tinst = 4\n",
      "\t\tinst = 5\n",
      "\t\tinst = 6\n",
      "\t\tinst = 7\n",
      "\t\tinst = 8\n",
      "\t\tinst = 9\n",
      "\tn_s=4.8\n",
      "\t\tinst = 10\n",
      "\t\tinst = 13\n",
      "\t\tinst = 14\n",
      "\t\tinst = 15\n",
      "\t\tinst = 16\n",
      "\t\tinst = 17\n",
      "\t\tinst = 18\n",
      "\t\tinst = 19\n",
      "\t\tinst = 1\n",
      "\t\tinst = 20\n",
      "\t\tinst = 21\n",
      "\t\tinst = 2\n",
      "\t\tinst = 3\n",
      "\t\tinst = 4\n",
      "\t\tinst = 5\n",
      "\t\tinst = 6\n",
      "\t\tinst = 7\n",
      "\t\tinst = 8\n",
      "\t\tinst = 9\n",
      "\tn_s=4.9\n",
      "\t\tinst = 10\n",
      "\t\tinst = 13\n",
      "\t\tinst = 14\n",
      "\t\tinst = 15\n",
      "\t\tinst = 16\n",
      "\t\tinst = 17\n",
      "\t\tinst = 18\n",
      "\t\tinst = 19\n",
      "\t\tinst = 1\n",
      "\t\tinst = 20\n",
      "\t\tinst = 21\n",
      "\t\tinst = 2\n",
      "\t\tinst = 3\n",
      "\t\tinst = 4\n",
      "\t\tinst = 5\n",
      "\t\tinst = 6\n",
      "\t\tinst = 7\n",
      "\t\tinst = 8\n",
      "\t\tinst = 9\n",
      "\tn_s=5.0\n",
      "\t\tinst = 10\n",
      "\t\tinst = 13\n",
      "\t\tinst = 14\n",
      "\t\tinst = 15\n",
      "\t\tinst = 16\n",
      "\t\tinst = 17\n",
      "\t\tinst = 18\n",
      "\t\tinst = 19\n",
      "\t\tinst = 1\n",
      "\t\tinst = 20\n",
      "\t\tinst = 21\n",
      "\t\tinst = 2\n",
      "\t\tinst = 3\n",
      "\t\tinst = 4\n",
      "\t\tinst = 5\n",
      "\t\tinst = 6\n",
      "\t\tinst = 7\n",
      "\t\tinst = 8\n",
      "\t\tinst = 9\n",
      "\tn_s=5.1\n",
      "\t\tinst = 10\n",
      "\t\tinst = 13\n",
      "\t\tinst = 14\n",
      "\t\tinst = 15\n",
      "\t\tinst = 16\n",
      "\t\tinst = 17\n",
      "\t\tinst = 18\n",
      "\t\tinst = 19\n",
      "\t\tinst = 1\n",
      "\t\tinst = 20\n",
      "\t\tinst = 21\n",
      "\t\tinst = 2\n",
      "\t\tinst = 3\n",
      "\t\tinst = 4\n",
      "\t\tinst = 5\n",
      "\t\tinst = 6\n",
      "\t\tinst = 7\n",
      "\t\tinst = 8\n",
      "\t\tinst = 9\n",
      "\tn_s=5.2\n",
      "\t\tinst = 10\n",
      "\t\tinst = 13\n",
      "\t\tinst = 14\n",
      "\t\tinst = 15\n",
      "\t\tinst = 16\n",
      "\t\tinst = 17\n",
      "\t\tinst = 18\n",
      "\t\tinst = 19\n",
      "\t\tinst = 1\n",
      "\t\tinst = 20\n",
      "\t\tinst = 21\n",
      "\t\tinst = 2\n",
      "\t\tinst = 3\n",
      "\t\tinst = 4\n",
      "\t\tinst = 5\n",
      "\t\tinst = 6\n",
      "\t\tinst = 7\n",
      "\t\tinst = 8\n",
      "\t\tinst = 9\n",
      "\tn_s=5.3\n",
      "\t\tinst = 10\n",
      "\t\tinst = 13\n",
      "\t\tinst = 14\n",
      "\t\tinst = 15\n",
      "\t\tinst = 16\n",
      "\t\tinst = 17\n",
      "\t\tinst = 18\n",
      "\t\tinst = 19\n",
      "\t\tinst = 1\n",
      "\t\tinst = 20\n",
      "\t\tinst = 21\n",
      "\t\tinst = 2\n",
      "\t\tinst = 3\n",
      "\t\tinst = 4\n",
      "\t\tinst = 5\n",
      "\t\tinst = 6\n",
      "\t\tinst = 7\n",
      "\t\tinst = 8\n",
      "\t\tinst = 9\n",
      "\tn_s=5.4\n",
      "\t\tinst = 10\n",
      "\t\tinst = 13\n",
      "\t\tinst = 14\n",
      "\t\tinst = 15\n",
      "\t\tinst = 16\n",
      "\t\tinst = 17\n",
      "\t\tinst = 18\n",
      "\t\tinst = 19\n",
      "\t\tinst = 1\n",
      "\t\tinst = 20\n",
      "\t\tinst = 21\n",
      "\t\tinst = 2\n",
      "\t\tinst = 3\n",
      "\t\tinst = 4\n",
      "\t\tinst = 5\n",
      "\t\tinst = 6\n",
      "\t\tinst = 7\n",
      "\t\tinst = 8\n",
      "\t\tinst = 9\n",
      "\tn_s=5.5\n",
      "\t\tinst = 10\n",
      "\t\tinst = 13\n",
      "\t\tinst = 14\n",
      "\t\tinst = 15\n",
      "\t\tinst = 16\n",
      "\t\tinst = 17\n",
      "\t\tinst = 18\n",
      "\t\tinst = 19\n",
      "\t\tinst = 1\n",
      "\t\tinst = 20\n",
      "\t\tinst = 21\n",
      "\t\tinst = 2\n",
      "\t\tinst = 3\n",
      "\t\tinst = 4\n",
      "\t\tinst = 5\n",
      "\t\tinst = 6\n",
      "\t\tinst = 7\n",
      "\t\tinst = 8\n",
      "\t\tinst = 9\n",
      "\tn_s=5.6\n",
      "\t\tinst = 10\n",
      "\t\tinst = 13\n",
      "\t\tinst = 14\n",
      "\t\tinst = 15\n",
      "\t\tinst = 16\n",
      "\t\tinst = 17\n",
      "\t\tinst = 18\n",
      "\t\tinst = 19\n",
      "\t\tinst = 1\n",
      "\t\tinst = 20\n",
      "\t\tinst = 21\n",
      "\t\tinst = 2\n",
      "\t\tinst = 3\n",
      "\t\tinst = 4\n",
      "\t\tinst = 5\n",
      "\t\tinst = 6\n",
      "\t\tinst = 7\n",
      "\t\tinst = 8\n",
      "\t\tinst = 9\n",
      "\tn_s=5.7\n",
      "\t\tinst = 10\n",
      "\t\tinst = 13\n",
      "\t\tinst = 14\n",
      "\t\tinst = 15\n",
      "\t\tinst = 16\n",
      "\t\tinst = 17\n",
      "\t\tinst = 18\n",
      "\t\tinst = 19\n",
      "\t\tinst = 1\n",
      "\t\tinst = 20\n",
      "\t\tinst = 21\n",
      "\t\tinst = 2\n",
      "\t\tinst = 3\n",
      "\t\tinst = 4\n",
      "\t\tinst = 5\n",
      "\t\tinst = 6\n",
      "\t\tinst = 7\n",
      "\t\tinst = 8\n",
      "\t\tinst = 9\n",
      "\tn_s=5.8\n",
      "\t\tinst = 10\n",
      "\t\tinst = 13\n",
      "\t\tinst = 14\n",
      "\t\tinst = 15\n",
      "\t\tinst = 16\n",
      "\t\tinst = 17\n",
      "\t\tinst = 18\n",
      "\t\tinst = 19\n",
      "\t\tinst = 1\n",
      "\t\tinst = 20\n",
      "\t\tinst = 21\n",
      "\t\tinst = 2\n",
      "\t\tinst = 3\n",
      "\t\tinst = 4\n",
      "\t\tinst = 5\n",
      "\t\tinst = 6\n",
      "\t\tinst = 7\n",
      "\t\tinst = 8\n",
      "\t\tinst = 9\n",
      "\tn_s=5.9\n",
      "\t\tinst = 10\n",
      "\t\tinst = 13\n",
      "\t\tinst = 14\n",
      "\t\tinst = 15\n",
      "\t\tinst = 16\n",
      "\t\tinst = 17\n",
      "\t\tinst = 18\n",
      "\t\tinst = 19\n",
      "\t\tinst = 1\n",
      "\t\tinst = 20\n",
      "\t\tinst = 21\n",
      "\t\tinst = 2\n",
      "\t\tinst = 3\n",
      "\t\tinst = 4\n",
      "\t\tinst = 5\n",
      "\t\tinst = 6\n",
      "\t\tinst = 7\n",
      "\t\tinst = 8\n",
      "\t\tinst = 9\n",
      "\tn_s=6.0\n",
      "\t\tinst = 10\n",
      "\t\tinst = 13\n",
      "\t\tinst = 14\n",
      "\t\tinst = 15\n",
      "\t\tinst = 16\n",
      "\t\tinst = 17\n",
      "\t\tinst = 18\n",
      "\t\tinst = 19\n",
      "\t\tinst = 1\n",
      "\t\tinst = 20\n",
      "\t\tinst = 21\n",
      "\t\tinst = 2\n",
      "\t\tinst = 3\n",
      "\t\tinst = 4\n",
      "\t\tinst = 5\n",
      "\t\tinst = 6\n",
      "\t\tinst = 7\n",
      "\t\tinst = 8\n",
      "\t\tinst = 9\n",
      "\tn_s=6.1\n",
      "\t\tinst = 10\n",
      "\t\tinst = 13\n",
      "\t\tinst = 14\n",
      "\t\tinst = 15\n",
      "\t\tinst = 16\n",
      "\t\tinst = 17\n",
      "\t\tinst = 18\n",
      "\t\tinst = 19\n",
      "\t\tinst = 1\n",
      "\t\tinst = 20\n",
      "\t\tinst = 21\n",
      "\t\tinst = 2\n",
      "\t\tinst = 3\n",
      "\t\tinst = 4\n",
      "\t\tinst = 5\n",
      "\t\tinst = 6\n",
      "\t\tinst = 7\n",
      "\t\tinst = 8\n",
      "\t\tinst = 9\n",
      "\tn_s=6.2\n",
      "\t\tinst = 10\n",
      "\t\tinst = 13\n",
      "\t\tinst = 14\n",
      "\t\tinst = 15\n",
      "\t\tinst = 16\n",
      "\t\tinst = 17\n",
      "\t\tinst = 18\n",
      "\t\tinst = 19\n",
      "\t\tinst = 1\n",
      "\t\tinst = 20\n",
      "\t\tinst = 21\n",
      "\t\tinst = 2\n",
      "\t\tinst = 3\n",
      "\t\tinst = 4\n",
      "\t\tinst = 5\n",
      "\t\tinst = 6\n",
      "\t\tinst = 7\n",
      "\t\tinst = 8\n",
      "\t\tinst = 9\n",
      "\tn_s=6.300000000000001\n",
      "\t\tinst = 10\n",
      "\t\tinst = 13\n",
      "\t\tinst = 14\n",
      "\t\tinst = 15\n",
      "\t\tinst = 16\n",
      "\t\tinst = 17\n",
      "\t\tinst = 18\n",
      "\t\tinst = 19\n",
      "\t\tinst = 1\n",
      "\t\tinst = 20\n",
      "\t\tinst = 21\n",
      "\t\tinst = 2\n",
      "\t\tinst = 3\n",
      "\t\tinst = 4\n",
      "\t\tinst = 5\n",
      "\t\tinst = 6\n",
      "\t\tinst = 7\n",
      "\t\tinst = 8\n",
      "\t\tinst = 9\n",
      "\tn_s=6.4\n",
      "\t\tinst = 10\n",
      "\t\tinst = 13\n",
      "\t\tinst = 14\n",
      "\t\tinst = 15\n",
      "\t\tinst = 16\n",
      "\t\tinst = 17\n",
      "\t\tinst = 18\n",
      "\t\tinst = 19\n",
      "\t\tinst = 1\n",
      "\t\tinst = 20\n",
      "\t\tinst = 21\n",
      "\t\tinst = 2\n",
      "\t\tinst = 3\n",
      "\t\tinst = 4\n",
      "\t\tinst = 5\n",
      "\t\tinst = 6\n",
      "\t\tinst = 7\n",
      "\t\tinst = 8\n",
      "\t\tinst = 9\n",
      "DC eu3-acs1\n",
      "\tn_s=4.0\n",
      "\t\tinst = 10\n",
      "\t\tinst = 11\n",
      "\t\tinst = 12\n",
      "\t\tinst = 13\n",
      "\t\tinst = 14\n",
      "\t\tinst = 15\n",
      "\t\tinst = 16\n",
      "\t\tinst = 17\n",
      "\t\tinst = 18\n",
      "\t\tinst = 19\n",
      "\t\tinst = 1\n",
      "\t\tinst = 20\n",
      "\t\tinst = 21\n",
      "\t\tinst = 22\n",
      "\t\tinst = 23\n",
      "\t\tinst = 24\n",
      "\t\tinst = 25\n",
      "\t\tinst = 26\n",
      "\t\tinst = 27\n",
      "\t\tinst = 28\n",
      "\t\tinst = 29\n",
      "\t\tinst = 2\n",
      "\t\tinst = 30\n",
      "\t\tinst = 31\n",
      "\t\tinst = 3\n",
      "\t\tinst = 4\n",
      "\t\tinst = 5\n",
      "\t\tinst = 6\n",
      "\t\tinst = 7\n",
      "\t\tinst = 8\n",
      "\t\tinst = 9\n",
      "\tn_s=4.1\n",
      "\t\tinst = 10\n",
      "\t\tinst = 11\n",
      "\t\tinst = 12\n",
      "\t\tinst = 13\n",
      "\t\tinst = 14\n",
      "\t\tinst = 15\n",
      "\t\tinst = 16\n",
      "\t\tinst = 17\n",
      "\t\tinst = 18\n",
      "\t\tinst = 19\n",
      "\t\tinst = 1\n",
      "\t\tinst = 20\n",
      "\t\tinst = 21\n",
      "\t\tinst = 22\n",
      "\t\tinst = 23\n",
      "\t\tinst = 24\n",
      "\t\tinst = 25\n",
      "\t\tinst = 26\n",
      "\t\tinst = 27\n",
      "\t\tinst = 28\n",
      "\t\tinst = 29\n",
      "\t\tinst = 2\n",
      "\t\tinst = 30\n",
      "\t\tinst = 31\n",
      "\t\tinst = 3\n",
      "\t\tinst = 4\n",
      "\t\tinst = 5\n",
      "\t\tinst = 6\n"
     ]
    },
    {
     "name": "stdout",
     "output_type": "stream",
     "text": [
      "\t\tinst = 7\n",
      "\t\tinst = 8\n",
      "\t\tinst = 9\n",
      "\tn_s=4.2\n",
      "\t\tinst = 10\n",
      "\t\tinst = 11\n",
      "\t\tinst = 12\n",
      "\t\tinst = 13\n",
      "\t\tinst = 14\n",
      "\t\tinst = 15\n",
      "\t\tinst = 16\n",
      "\t\tinst = 17\n",
      "\t\tinst = 18\n",
      "\t\tinst = 19\n",
      "\t\tinst = 1\n",
      "\t\tinst = 20\n",
      "\t\tinst = 21\n",
      "\t\tinst = 22\n",
      "\t\tinst = 23\n",
      "\t\tinst = 24\n",
      "\t\tinst = 25\n",
      "\t\tinst = 26\n",
      "\t\tinst = 27\n",
      "\t\tinst = 28\n",
      "\t\tinst = 29\n",
      "\t\tinst = 2\n",
      "\t\tinst = 30\n",
      "\t\tinst = 31\n",
      "\t\tinst = 3\n",
      "\t\tinst = 4\n",
      "\t\tinst = 5\n",
      "\t\tinst = 6\n",
      "\t\tinst = 7\n",
      "\t\tinst = 8\n",
      "\t\tinst = 9\n",
      "\tn_s=4.3\n",
      "\t\tinst = 10\n",
      "\t\tinst = 11\n",
      "\t\tinst = 12\n",
      "\t\tinst = 13\n",
      "\t\tinst = 14\n",
      "\t\tinst = 15\n",
      "\t\tinst = 16\n",
      "\t\tinst = 17\n",
      "\t\tinst = 18\n",
      "\t\tinst = 19\n",
      "\t\tinst = 1\n",
      "\t\tinst = 20\n",
      "\t\tinst = 21\n",
      "\t\tinst = 22\n",
      "\t\tinst = 23\n",
      "\t\tinst = 24\n",
      "\t\tinst = 25\n",
      "\t\tinst = 26\n",
      "\t\tinst = 27\n",
      "\t\tinst = 28\n",
      "\t\tinst = 29\n",
      "\t\tinst = 2\n",
      "\t\tinst = 30\n",
      "\t\tinst = 31\n",
      "\t\tinst = 3\n",
      "\t\tinst = 4\n",
      "\t\tinst = 5\n",
      "\t\tinst = 6\n",
      "\t\tinst = 7\n",
      "\t\tinst = 8\n",
      "\t\tinst = 9\n",
      "\tn_s=4.4\n",
      "\t\tinst = 10\n",
      "\t\tinst = 11\n",
      "\t\tinst = 12\n",
      "\t\tinst = 13\n",
      "\t\tinst = 14\n",
      "\t\tinst = 15\n",
      "\t\tinst = 16\n",
      "\t\tinst = 17\n",
      "\t\tinst = 18\n",
      "\t\tinst = 19\n",
      "\t\tinst = 1\n",
      "\t\tinst = 20\n",
      "\t\tinst = 21\n",
      "\t\tinst = 22\n",
      "\t\tinst = 23\n",
      "\t\tinst = 24\n",
      "\t\tinst = 25\n",
      "\t\tinst = 26\n",
      "\t\tinst = 27\n",
      "\t\tinst = 28\n",
      "\t\tinst = 29\n",
      "\t\tinst = 2\n",
      "\t\tinst = 30\n",
      "\t\tinst = 31\n",
      "\t\tinst = 3\n",
      "\t\tinst = 4\n",
      "\t\tinst = 5\n",
      "\t\tinst = 6\n",
      "\t\tinst = 7\n",
      "\t\tinst = 8\n",
      "\t\tinst = 9\n",
      "\tn_s=4.5\n",
      "\t\tinst = 10\n",
      "\t\tinst = 11\n",
      "\t\tinst = 12\n",
      "\t\tinst = 13\n",
      "\t\tinst = 14\n",
      "\t\tinst = 15\n",
      "\t\tinst = 16\n",
      "\t\tinst = 17\n",
      "\t\tinst = 18\n",
      "\t\tinst = 19\n",
      "\t\tinst = 1\n",
      "\t\tinst = 20\n",
      "\t\tinst = 21\n",
      "\t\tinst = 22\n",
      "\t\tinst = 23\n",
      "\t\tinst = 24\n",
      "\t\tinst = 25\n",
      "\t\tinst = 26\n",
      "\t\tinst = 27\n",
      "\t\tinst = 28\n",
      "\t\tinst = 29\n",
      "\t\tinst = 2\n",
      "\t\tinst = 30\n",
      "\t\tinst = 31\n",
      "\t\tinst = 3\n",
      "\t\tinst = 4\n",
      "\t\tinst = 5\n",
      "\t\tinst = 6\n",
      "\t\tinst = 7\n",
      "\t\tinst = 8\n",
      "\t\tinst = 9\n",
      "\tn_s=4.6\n",
      "\t\tinst = 10\n",
      "\t\tinst = 11\n",
      "\t\tinst = 12\n",
      "\t\tinst = 13\n",
      "\t\tinst = 14\n",
      "\t\tinst = 15\n",
      "\t\tinst = 16\n",
      "\t\tinst = 17\n",
      "\t\tinst = 18\n",
      "\t\tinst = 19\n",
      "\t\tinst = 1\n",
      "\t\tinst = 20\n",
      "\t\tinst = 21\n",
      "\t\tinst = 22\n",
      "\t\tinst = 23\n",
      "\t\tinst = 24\n",
      "\t\tinst = 25\n",
      "\t\tinst = 26\n",
      "\t\tinst = 27\n",
      "\t\tinst = 28\n",
      "\t\tinst = 29\n",
      "\t\tinst = 2\n",
      "\t\tinst = 30\n",
      "\t\tinst = 31\n",
      "\t\tinst = 3\n",
      "\t\tinst = 4\n",
      "\t\tinst = 5\n",
      "\t\tinst = 6\n",
      "\t\tinst = 7\n",
      "\t\tinst = 8\n",
      "\t\tinst = 9\n",
      "\tn_s=4.7\n",
      "\t\tinst = 10\n",
      "\t\tinst = 11\n",
      "\t\tinst = 12\n",
      "\t\tinst = 13\n",
      "\t\tinst = 14\n",
      "\t\tinst = 15\n",
      "\t\tinst = 16\n",
      "\t\tinst = 17\n",
      "\t\tinst = 18\n",
      "\t\tinst = 19\n",
      "\t\tinst = 1\n",
      "\t\tinst = 20\n",
      "\t\tinst = 21\n",
      "\t\tinst = 22\n",
      "\t\tinst = 23\n",
      "\t\tinst = 24\n",
      "\t\tinst = 25\n",
      "\t\tinst = 26\n",
      "\t\tinst = 27\n",
      "\t\tinst = 28\n",
      "\t\tinst = 29\n",
      "\t\tinst = 2\n",
      "\t\tinst = 30\n",
      "\t\tinst = 31\n",
      "\t\tinst = 3\n",
      "\t\tinst = 4\n",
      "\t\tinst = 5\n",
      "\t\tinst = 6\n",
      "\t\tinst = 7\n",
      "\t\tinst = 8\n",
      "\t\tinst = 9\n",
      "\tn_s=4.8\n",
      "\t\tinst = 10\n",
      "\t\tinst = 11\n",
      "\t\tinst = 12\n",
      "\t\tinst = 13\n",
      "\t\tinst = 14\n",
      "\t\tinst = 15\n",
      "\t\tinst = 16\n",
      "\t\tinst = 17\n",
      "\t\tinst = 18\n",
      "\t\tinst = 19\n",
      "\t\tinst = 1\n",
      "\t\tinst = 20\n",
      "\t\tinst = 21\n",
      "\t\tinst = 22\n",
      "\t\tinst = 23\n",
      "\t\tinst = 24\n",
      "\t\tinst = 25\n",
      "\t\tinst = 26\n",
      "\t\tinst = 27\n",
      "\t\tinst = 28\n",
      "\t\tinst = 29\n",
      "\t\tinst = 2\n",
      "\t\tinst = 30\n",
      "\t\tinst = 31\n",
      "\t\tinst = 3\n",
      "\t\tinst = 4\n",
      "\t\tinst = 5\n",
      "\t\tinst = 6\n",
      "\t\tinst = 7\n",
      "\t\tinst = 8\n",
      "\t\tinst = 9\n",
      "\tn_s=4.9\n",
      "\t\tinst = 10\n",
      "\t\tinst = 11\n",
      "\t\tinst = 12\n",
      "\t\tinst = 13\n",
      "\t\tinst = 14\n",
      "\t\tinst = 15\n",
      "\t\tinst = 16\n",
      "\t\tinst = 17\n",
      "\t\tinst = 18\n",
      "\t\tinst = 19\n",
      "\t\tinst = 1\n",
      "\t\tinst = 20\n",
      "\t\tinst = 21\n",
      "\t\tinst = 22\n",
      "\t\tinst = 23\n",
      "\t\tinst = 24\n",
      "\t\tinst = 25\n",
      "\t\tinst = 26\n",
      "\t\tinst = 27\n",
      "\t\tinst = 28\n",
      "\t\tinst = 29\n",
      "\t\tinst = 2\n",
      "\t\tinst = 30\n",
      "\t\tinst = 31\n",
      "\t\tinst = 3\n",
      "\t\tinst = 4\n",
      "\t\tinst = 5\n",
      "\t\tinst = 6\n",
      "\t\tinst = 7\n",
      "\t\tinst = 8\n",
      "\t\tinst = 9\n",
      "\tn_s=5.0\n",
      "\t\tinst = 10\n",
      "\t\tinst = 11\n",
      "\t\tinst = 12\n",
      "\t\tinst = 13\n",
      "\t\tinst = 14\n",
      "\t\tinst = 15\n",
      "\t\tinst = 16\n",
      "\t\tinst = 17\n",
      "\t\tinst = 18\n",
      "\t\tinst = 19\n",
      "\t\tinst = 1\n",
      "\t\tinst = 20\n",
      "\t\tinst = 21\n",
      "\t\tinst = 22\n",
      "\t\tinst = 23\n",
      "\t\tinst = 24\n",
      "\t\tinst = 25\n",
      "\t\tinst = 26\n",
      "\t\tinst = 27\n",
      "\t\tinst = 28\n",
      "\t\tinst = 29\n",
      "\t\tinst = 2\n",
      "\t\tinst = 30\n",
      "\t\tinst = 31\n",
      "\t\tinst = 3\n",
      "\t\tinst = 4\n",
      "\t\tinst = 5\n",
      "\t\tinst = 6\n",
      "\t\tinst = 7\n",
      "\t\tinst = 8\n",
      "\t\tinst = 9\n",
      "\tn_s=5.1\n",
      "\t\tinst = 10\n",
      "\t\tinst = 11\n",
      "\t\tinst = 12\n",
      "\t\tinst = 13\n",
      "\t\tinst = 14\n",
      "\t\tinst = 15\n",
      "\t\tinst = 16\n",
      "\t\tinst = 17\n",
      "\t\tinst = 18\n",
      "\t\tinst = 19\n",
      "\t\tinst = 1\n",
      "\t\tinst = 20\n",
      "\t\tinst = 21\n",
      "\t\tinst = 22\n",
      "\t\tinst = 23\n",
      "\t\tinst = 24\n",
      "\t\tinst = 25\n",
      "\t\tinst = 26\n",
      "\t\tinst = 27\n",
      "\t\tinst = 28\n",
      "\t\tinst = 29\n",
      "\t\tinst = 2\n",
      "\t\tinst = 30\n",
      "\t\tinst = 31\n",
      "\t\tinst = 3\n",
      "\t\tinst = 4\n",
      "\t\tinst = 5\n",
      "\t\tinst = 6\n",
      "\t\tinst = 7\n",
      "\t\tinst = 8\n",
      "\t\tinst = 9\n",
      "\tn_s=5.2\n",
      "\t\tinst = 10\n",
      "\t\tinst = 11\n",
      "\t\tinst = 12\n",
      "\t\tinst = 13\n",
      "\t\tinst = 14\n",
      "\t\tinst = 15\n",
      "\t\tinst = 16\n",
      "\t\tinst = 17\n",
      "\t\tinst = 18\n",
      "\t\tinst = 19\n",
      "\t\tinst = 1\n",
      "\t\tinst = 20\n",
      "\t\tinst = 21\n",
      "\t\tinst = 22\n",
      "\t\tinst = 23\n",
      "\t\tinst = 24\n",
      "\t\tinst = 25\n",
      "\t\tinst = 26\n",
      "\t\tinst = 27\n",
      "\t\tinst = 28\n",
      "\t\tinst = 29\n",
      "\t\tinst = 2\n",
      "\t\tinst = 30\n",
      "\t\tinst = 31\n",
      "\t\tinst = 3\n",
      "\t\tinst = 4\n",
      "\t\tinst = 5\n",
      "\t\tinst = 6\n",
      "\t\tinst = 7\n",
      "\t\tinst = 8\n",
      "\t\tinst = 9\n",
      "\tn_s=5.3\n",
      "\t\tinst = 10\n",
      "\t\tinst = 11\n",
      "\t\tinst = 12\n",
      "\t\tinst = 13\n",
      "\t\tinst = 14\n",
      "\t\tinst = 15\n",
      "\t\tinst = 16\n",
      "\t\tinst = 17\n",
      "\t\tinst = 18\n",
      "\t\tinst = 19\n",
      "\t\tinst = 1\n",
      "\t\tinst = 20\n",
      "\t\tinst = 21\n",
      "\t\tinst = 22\n",
      "\t\tinst = 23\n",
      "\t\tinst = 24\n",
      "\t\tinst = 25\n",
      "\t\tinst = 26\n",
      "\t\tinst = 27\n",
      "\t\tinst = 28\n",
      "\t\tinst = 29\n",
      "\t\tinst = 2\n",
      "\t\tinst = 30\n",
      "\t\tinst = 31\n",
      "\t\tinst = 3\n",
      "\t\tinst = 4\n",
      "\t\tinst = 5\n",
      "\t\tinst = 6\n",
      "\t\tinst = 7\n",
      "\t\tinst = 8\n",
      "\t\tinst = 9\n",
      "\tn_s=5.4\n",
      "\t\tinst = 10\n",
      "\t\tinst = 11\n",
      "\t\tinst = 12\n",
      "\t\tinst = 13\n",
      "\t\tinst = 14\n",
      "\t\tinst = 15\n",
      "\t\tinst = 16\n",
      "\t\tinst = 17\n",
      "\t\tinst = 18\n",
      "\t\tinst = 19\n",
      "\t\tinst = 1\n",
      "\t\tinst = 20\n",
      "\t\tinst = 21\n",
      "\t\tinst = 22\n",
      "\t\tinst = 23\n",
      "\t\tinst = 24\n",
      "\t\tinst = 25\n",
      "\t\tinst = 26\n",
      "\t\tinst = 27\n",
      "\t\tinst = 28\n",
      "\t\tinst = 29\n",
      "\t\tinst = 2\n",
      "\t\tinst = 30\n",
      "\t\tinst = 31\n",
      "\t\tinst = 3\n",
      "\t\tinst = 4\n",
      "\t\tinst = 5\n",
      "\t\tinst = 6\n",
      "\t\tinst = 7\n",
      "\t\tinst = 8\n",
      "\t\tinst = 9\n",
      "\tn_s=5.5\n",
      "\t\tinst = 10\n",
      "\t\tinst = 11\n",
      "\t\tinst = 12\n",
      "\t\tinst = 13\n",
      "\t\tinst = 14\n",
      "\t\tinst = 15\n",
      "\t\tinst = 16\n",
      "\t\tinst = 17\n",
      "\t\tinst = 18\n",
      "\t\tinst = 19\n",
      "\t\tinst = 1\n",
      "\t\tinst = 20\n",
      "\t\tinst = 21\n",
      "\t\tinst = 22\n",
      "\t\tinst = 23\n",
      "\t\tinst = 24\n",
      "\t\tinst = 25\n",
      "\t\tinst = 26\n",
      "\t\tinst = 27\n",
      "\t\tinst = 28\n",
      "\t\tinst = 29\n",
      "\t\tinst = 2\n",
      "\t\tinst = 30\n",
      "\t\tinst = 31\n",
      "\t\tinst = 3\n",
      "\t\tinst = 4\n",
      "\t\tinst = 5\n",
      "\t\tinst = 6\n",
      "\t\tinst = 7\n",
      "\t\tinst = 8\n",
      "\t\tinst = 9\n",
      "\tn_s=5.6\n",
      "\t\tinst = 10\n",
      "\t\tinst = 11\n",
      "\t\tinst = 12\n",
      "\t\tinst = 13\n",
      "\t\tinst = 14\n",
      "\t\tinst = 15\n",
      "\t\tinst = 16\n",
      "\t\tinst = 17\n",
      "\t\tinst = 18\n",
      "\t\tinst = 19\n",
      "\t\tinst = 1\n",
      "\t\tinst = 20\n",
      "\t\tinst = 21\n",
      "\t\tinst = 22\n",
      "\t\tinst = 23\n",
      "\t\tinst = 24\n",
      "\t\tinst = 25\n",
      "\t\tinst = 26\n",
      "\t\tinst = 27\n",
      "\t\tinst = 28\n",
      "\t\tinst = 29\n",
      "\t\tinst = 2\n",
      "\t\tinst = 30\n",
      "\t\tinst = 31\n",
      "\t\tinst = 3\n",
      "\t\tinst = 4\n",
      "\t\tinst = 5\n",
      "\t\tinst = 6\n",
      "\t\tinst = 7\n",
      "\t\tinst = 8\n",
      "\t\tinst = 9\n",
      "\tn_s=5.7\n",
      "\t\tinst = 10\n",
      "\t\tinst = 11\n",
      "\t\tinst = 12\n",
      "\t\tinst = 13\n",
      "\t\tinst = 14\n",
      "\t\tinst = 15\n",
      "\t\tinst = 16\n",
      "\t\tinst = 17\n",
      "\t\tinst = 18\n",
      "\t\tinst = 19\n",
      "\t\tinst = 1\n",
      "\t\tinst = 20\n",
      "\t\tinst = 21\n",
      "\t\tinst = 22\n",
      "\t\tinst = 23\n",
      "\t\tinst = 24\n",
      "\t\tinst = 25\n",
      "\t\tinst = 26\n",
      "\t\tinst = 27\n",
      "\t\tinst = 28\n",
      "\t\tinst = 29\n",
      "\t\tinst = 2\n",
      "\t\tinst = 30\n",
      "\t\tinst = 31\n",
      "\t\tinst = 3\n",
      "\t\tinst = 4\n",
      "\t\tinst = 5\n",
      "\t\tinst = 6\n",
      "\t\tinst = 7\n",
      "\t\tinst = 8\n",
      "\t\tinst = 9\n",
      "\tn_s=5.8\n",
      "\t\tinst = 10\n",
      "\t\tinst = 11\n",
      "\t\tinst = 12\n",
      "\t\tinst = 13\n",
      "\t\tinst = 14\n",
      "\t\tinst = 15\n",
      "\t\tinst = 16\n",
      "\t\tinst = 17\n",
      "\t\tinst = 18\n",
      "\t\tinst = 19\n",
      "\t\tinst = 1\n",
      "\t\tinst = 20\n",
      "\t\tinst = 21\n",
      "\t\tinst = 22\n",
      "\t\tinst = 23\n",
      "\t\tinst = 24\n",
      "\t\tinst = 25\n",
      "\t\tinst = 26\n",
      "\t\tinst = 27\n",
      "\t\tinst = 28\n",
      "\t\tinst = 29\n",
      "\t\tinst = 2\n",
      "\t\tinst = 30\n",
      "\t\tinst = 31\n",
      "\t\tinst = 3\n",
      "\t\tinst = 4\n",
      "\t\tinst = 5\n",
      "\t\tinst = 6\n",
      "\t\tinst = 7\n",
      "\t\tinst = 8\n",
      "\t\tinst = 9\n",
      "\tn_s=5.9\n",
      "\t\tinst = 10\n",
      "\t\tinst = 11\n",
      "\t\tinst = 12\n",
      "\t\tinst = 13\n",
      "\t\tinst = 14\n",
      "\t\tinst = 15\n",
      "\t\tinst = 16\n",
      "\t\tinst = 17\n",
      "\t\tinst = 18\n",
      "\t\tinst = 19\n",
      "\t\tinst = 1\n",
      "\t\tinst = 20\n",
      "\t\tinst = 21\n",
      "\t\tinst = 22\n",
      "\t\tinst = 23\n",
      "\t\tinst = 24\n",
      "\t\tinst = 25\n",
      "\t\tinst = 26\n",
      "\t\tinst = 27\n",
      "\t\tinst = 28\n",
      "\t\tinst = 29\n",
      "\t\tinst = 2\n",
      "\t\tinst = 30\n",
      "\t\tinst = 31\n",
      "\t\tinst = 3\n",
      "\t\tinst = 4\n",
      "\t\tinst = 5\n",
      "\t\tinst = 6\n",
      "\t\tinst = 7\n",
      "\t\tinst = 8\n",
      "\t\tinst = 9\n",
      "\tn_s=6.0\n",
      "\t\tinst = 10\n",
      "\t\tinst = 11\n",
      "\t\tinst = 12\n",
      "\t\tinst = 13\n",
      "\t\tinst = 14\n",
      "\t\tinst = 15\n",
      "\t\tinst = 16\n",
      "\t\tinst = 17\n",
      "\t\tinst = 18\n",
      "\t\tinst = 19\n",
      "\t\tinst = 1\n",
      "\t\tinst = 20\n",
      "\t\tinst = 21\n",
      "\t\tinst = 22\n",
      "\t\tinst = 23\n",
      "\t\tinst = 24\n",
      "\t\tinst = 25\n",
      "\t\tinst = 26\n",
      "\t\tinst = 27\n",
      "\t\tinst = 28\n",
      "\t\tinst = 29\n",
      "\t\tinst = 2\n",
      "\t\tinst = 30\n",
      "\t\tinst = 31\n",
      "\t\tinst = 3\n",
      "\t\tinst = 4\n",
      "\t\tinst = 5\n",
      "\t\tinst = 6\n",
      "\t\tinst = 7\n",
      "\t\tinst = 8\n",
      "\t\tinst = 9\n",
      "\tn_s=6.1\n",
      "\t\tinst = 10\n",
      "\t\tinst = 11\n",
      "\t\tinst = 12\n",
      "\t\tinst = 13\n",
      "\t\tinst = 14\n",
      "\t\tinst = 15\n",
      "\t\tinst = 16\n",
      "\t\tinst = 17\n",
      "\t\tinst = 18\n",
      "\t\tinst = 19\n",
      "\t\tinst = 1\n",
      "\t\tinst = 20\n",
      "\t\tinst = 21\n",
      "\t\tinst = 22\n",
      "\t\tinst = 23\n",
      "\t\tinst = 24\n",
      "\t\tinst = 25\n",
      "\t\tinst = 26\n",
      "\t\tinst = 27\n",
      "\t\tinst = 28\n",
      "\t\tinst = 29\n",
      "\t\tinst = 2\n",
      "\t\tinst = 30\n",
      "\t\tinst = 31\n",
      "\t\tinst = 3\n",
      "\t\tinst = 4\n",
      "\t\tinst = 5\n",
      "\t\tinst = 6\n",
      "\t\tinst = 7\n",
      "\t\tinst = 8\n",
      "\t\tinst = 9\n",
      "\tn_s=6.2\n",
      "\t\tinst = 10\n",
      "\t\tinst = 11\n",
      "\t\tinst = 12\n",
      "\t\tinst = 13\n",
      "\t\tinst = 14\n",
      "\t\tinst = 15\n",
      "\t\tinst = 16\n",
      "\t\tinst = 17\n",
      "\t\tinst = 18\n",
      "\t\tinst = 19\n",
      "\t\tinst = 1\n",
      "\t\tinst = 20\n",
      "\t\tinst = 21\n",
      "\t\tinst = 22\n",
      "\t\tinst = 23\n",
      "\t\tinst = 24\n",
      "\t\tinst = 25\n",
      "\t\tinst = 26\n",
      "\t\tinst = 27\n",
      "\t\tinst = 28\n",
      "\t\tinst = 29\n",
      "\t\tinst = 2\n",
      "\t\tinst = 30\n",
      "\t\tinst = 31\n",
      "\t\tinst = 3\n",
      "\t\tinst = 4\n",
      "\t\tinst = 5\n",
      "\t\tinst = 6\n",
      "\t\tinst = 7\n",
      "\t\tinst = 8\n",
      "\t\tinst = 9\n",
      "\tn_s=6.300000000000001\n",
      "\t\tinst = 10\n",
      "\t\tinst = 11\n",
      "\t\tinst = 12\n",
      "\t\tinst = 13\n",
      "\t\tinst = 14\n",
      "\t\tinst = 15\n",
      "\t\tinst = 16\n",
      "\t\tinst = 17\n",
      "\t\tinst = 18\n",
      "\t\tinst = 19\n",
      "\t\tinst = 1\n",
      "\t\tinst = 20\n",
      "\t\tinst = 21\n",
      "\t\tinst = 22\n",
      "\t\tinst = 23\n",
      "\t\tinst = 24\n",
      "\t\tinst = 25\n",
      "\t\tinst = 26\n",
      "\t\tinst = 27\n",
      "\t\tinst = 28\n",
      "\t\tinst = 29\n",
      "\t\tinst = 2\n",
      "\t\tinst = 30\n",
      "\t\tinst = 31\n",
      "\t\tinst = 3\n",
      "\t\tinst = 4\n",
      "\t\tinst = 5\n",
      "\t\tinst = 6\n"
     ]
    },
    {
     "name": "stdout",
     "output_type": "stream",
     "text": [
      "\t\tinst = 7\n",
      "\t\tinst = 8\n",
      "\t\tinst = 9\n",
      "\tn_s=6.4\n",
      "\t\tinst = 10\n",
      "\t\tinst = 11\n",
      "\t\tinst = 12\n",
      "\t\tinst = 13\n",
      "\t\tinst = 14\n",
      "\t\tinst = 15\n",
      "\t\tinst = 16\n",
      "\t\tinst = 17\n",
      "\t\tinst = 18\n",
      "\t\tinst = 19\n",
      "\t\tinst = 1\n",
      "\t\tinst = 20\n",
      "\t\tinst = 21\n",
      "\t\tinst = 22\n",
      "\t\tinst = 23\n",
      "\t\tinst = 24\n",
      "\t\tinst = 25\n",
      "\t\tinst = 26\n",
      "\t\tinst = 27\n",
      "\t\tinst = 28\n",
      "\t\tinst = 29\n",
      "\t\tinst = 2\n",
      "\t\tinst = 30\n",
      "\t\tinst = 31\n",
      "\t\tinst = 3\n",
      "\t\tinst = 4\n",
      "\t\tinst = 5\n",
      "\t\tinst = 6\n",
      "\t\tinst = 7\n",
      "\t\tinst = 8\n",
      "\t\tinst = 9\n",
      "\tn_s=6.5\n",
      "\t\tinst = 10\n",
      "\t\tinst = 11\n",
      "\t\tinst = 12\n",
      "\t\tinst = 13\n",
      "\t\tinst = 14\n",
      "\t\tinst = 15\n",
      "\t\tinst = 16\n",
      "\t\tinst = 17\n",
      "\t\tinst = 18\n",
      "\t\tinst = 19\n",
      "\t\tinst = 1\n",
      "\t\tinst = 20\n",
      "\t\tinst = 21\n",
      "\t\tinst = 22\n",
      "\t\tinst = 23\n",
      "\t\tinst = 24\n",
      "\t\tinst = 25\n",
      "\t\tinst = 26\n",
      "\t\tinst = 27\n",
      "\t\tinst = 28\n",
      "\t\tinst = 29\n",
      "\t\tinst = 2\n",
      "\t\tinst = 30\n",
      "\t\tinst = 31\n",
      "\t\tinst = 3\n",
      "\t\tinst = 4\n",
      "\t\tinst = 5\n",
      "\t\tinst = 6\n",
      "\t\tinst = 7\n",
      "\t\tinst = 8\n",
      "\t\tinst = 9\n",
      "\tn_s=6.6\n",
      "\t\tinst = 10\n",
      "\t\tinst = 11\n",
      "\t\tinst = 12\n",
      "\t\tinst = 13\n",
      "\t\tinst = 14\n",
      "\t\tinst = 15\n",
      "\t\tinst = 16\n",
      "\t\tinst = 17\n",
      "\t\tinst = 18\n",
      "\t\tinst = 19\n",
      "\t\tinst = 1\n",
      "\t\tinst = 20\n",
      "\t\tinst = 21\n",
      "\t\tinst = 22\n",
      "\t\tinst = 23\n",
      "\t\tinst = 24\n",
      "\t\tinst = 25\n",
      "\t\tinst = 26\n",
      "\t\tinst = 27\n",
      "\t\tinst = 28\n",
      "\t\tinst = 29\n",
      "\t\tinst = 2\n",
      "\t\tinst = 30\n",
      "\t\tinst = 31\n",
      "\t\tinst = 3\n",
      "\t\tinst = 4\n",
      "\t\tinst = 5\n",
      "\t\tinst = 6\n",
      "\t\tinst = 7\n",
      "\t\tinst = 8\n",
      "\t\tinst = 9\n",
      "\tn_s=6.7\n",
      "\t\tinst = 10\n",
      "\t\tinst = 11\n",
      "\t\tinst = 12\n",
      "\t\tinst = 13\n",
      "\t\tinst = 14\n",
      "\t\tinst = 15\n",
      "\t\tinst = 16\n",
      "\t\tinst = 17\n",
      "\t\tinst = 18\n",
      "\t\tinst = 19\n",
      "\t\tinst = 1\n",
      "\t\tinst = 20\n",
      "\t\tinst = 21\n",
      "\t\tinst = 22\n",
      "\t\tinst = 23\n",
      "\t\tinst = 24\n",
      "\t\tinst = 25\n",
      "\t\tinst = 26\n",
      "\t\tinst = 27\n",
      "\t\tinst = 28\n",
      "\t\tinst = 29\n",
      "\t\tinst = 2\n",
      "\t\tinst = 30\n",
      "\t\tinst = 31\n",
      "\t\tinst = 3\n",
      "\t\tinst = 4\n",
      "\t\tinst = 5\n",
      "\t\tinst = 6\n",
      "\t\tinst = 7\n",
      "\t\tinst = 8\n",
      "\t\tinst = 9\n",
      "\tn_s=6.800000000000001\n",
      "\t\tinst = 10\n",
      "\t\tinst = 11\n",
      "\t\tinst = 12\n",
      "\t\tinst = 13\n",
      "\t\tinst = 14\n",
      "\t\tinst = 15\n",
      "\t\tinst = 16\n",
      "\t\tinst = 17\n",
      "\t\tinst = 18\n",
      "\t\tinst = 19\n",
      "\t\tinst = 1\n",
      "\t\tinst = 20\n",
      "\t\tinst = 21\n",
      "\t\tinst = 22\n",
      "\t\tinst = 23\n",
      "\t\tinst = 24\n",
      "\t\tinst = 25\n",
      "\t\tinst = 26\n",
      "\t\tinst = 27\n",
      "\t\tinst = 28\n",
      "\t\tinst = 29\n",
      "\t\tinst = 2\n",
      "\t\tinst = 30\n",
      "\t\tinst = 31\n",
      "\t\tinst = 3\n",
      "\t\tinst = 4\n",
      "\t\tinst = 5\n",
      "\t\tinst = 6\n",
      "\t\tinst = 7\n",
      "\t\tinst = 8\n",
      "\t\tinst = 9\n",
      "\tn_s=6.9\n",
      "\t\tinst = 10\n",
      "\t\tinst = 11\n",
      "\t\tinst = 12\n",
      "\t\tinst = 13\n",
      "\t\tinst = 14\n",
      "\t\tinst = 15\n",
      "\t\tinst = 16\n",
      "\t\tinst = 17\n",
      "\t\tinst = 18\n",
      "\t\tinst = 19\n",
      "\t\tinst = 1\n",
      "\t\tinst = 20\n",
      "\t\tinst = 21\n",
      "\t\tinst = 22\n",
      "\t\tinst = 23\n",
      "\t\tinst = 24\n",
      "\t\tinst = 25\n",
      "\t\tinst = 26\n",
      "\t\tinst = 27\n",
      "\t\tinst = 28\n",
      "\t\tinst = 29\n",
      "\t\tinst = 2\n",
      "\t\tinst = 30\n",
      "\t\tinst = 31\n",
      "\t\tinst = 3\n",
      "\t\tinst = 4\n",
      "\t\tinst = 5\n",
      "\t\tinst = 6\n",
      "\t\tinst = 7\n",
      "\t\tinst = 8\n",
      "\t\tinst = 9\n",
      "\tn_s=7.0\n",
      "\t\tinst = 10\n",
      "\t\tinst = 11\n",
      "\t\tinst = 12\n",
      "\t\tinst = 13\n",
      "\t\tinst = 14\n",
      "\t\tinst = 15\n",
      "\t\tinst = 16\n",
      "\t\tinst = 17\n",
      "\t\tinst = 18\n",
      "\t\tinst = 19\n",
      "\t\tinst = 1\n",
      "\t\tinst = 20\n",
      "\t\tinst = 21\n",
      "\t\tinst = 22\n",
      "\t\tinst = 23\n",
      "\t\tinst = 24\n",
      "\t\tinst = 25\n",
      "\t\tinst = 26\n",
      "\t\tinst = 27\n",
      "\t\tinst = 28\n",
      "\t\tinst = 29\n",
      "\t\tinst = 2\n",
      "\t\tinst = 30\n",
      "\t\tinst = 31\n",
      "\t\tinst = 3\n",
      "\t\tinst = 4\n",
      "\t\tinst = 5\n",
      "\t\tinst = 6\n",
      "\t\tinst = 7\n",
      "\t\tinst = 8\n",
      "\t\tinst = 9\n",
      "\tn_s=7.1\n",
      "\t\tinst = 10\n",
      "\t\tinst = 11\n",
      "\t\tinst = 12\n",
      "\t\tinst = 13\n",
      "\t\tinst = 14\n",
      "\t\tinst = 15\n",
      "\t\tinst = 16\n",
      "\t\tinst = 17\n",
      "\t\tinst = 18\n",
      "\t\tinst = 19\n",
      "\t\tinst = 1\n",
      "\t\tinst = 20\n",
      "\t\tinst = 21\n",
      "\t\tinst = 22\n",
      "\t\tinst = 23\n",
      "\t\tinst = 24\n",
      "\t\tinst = 25\n",
      "\t\tinst = 26\n",
      "\t\tinst = 27\n",
      "\t\tinst = 28\n",
      "\t\tinst = 29\n",
      "\t\tinst = 2\n",
      "\t\tinst = 30\n",
      "\t\tinst = 31\n",
      "\t\tinst = 3\n",
      "\t\tinst = 4\n",
      "\t\tinst = 5\n",
      "\t\tinst = 6\n",
      "\t\tinst = 7\n",
      "\t\tinst = 8\n",
      "\t\tinst = 9\n",
      "\tn_s=7.2\n",
      "\t\tinst = 10\n",
      "\t\tinst = 11\n",
      "\t\tinst = 12\n",
      "\t\tinst = 13\n",
      "\t\tinst = 14\n",
      "\t\tinst = 15\n",
      "\t\tinst = 16\n",
      "\t\tinst = 17\n",
      "\t\tinst = 18\n",
      "\t\tinst = 19\n",
      "\t\tinst = 1\n",
      "\t\tinst = 20\n",
      "\t\tinst = 21\n",
      "\t\tinst = 22\n",
      "\t\tinst = 23\n",
      "\t\tinst = 24\n",
      "\t\tinst = 25\n",
      "\t\tinst = 26\n",
      "\t\tinst = 27\n",
      "\t\tinst = 28\n",
      "\t\tinst = 29\n",
      "\t\tinst = 2\n",
      "\t\tinst = 30\n",
      "\t\tinst = 31\n",
      "\t\tinst = 3\n",
      "\t\tinst = 4\n",
      "\t\tinst = 5\n",
      "\t\tinst = 6\n",
      "\t\tinst = 7\n",
      "\t\tinst = 8\n",
      "\t\tinst = 9\n",
      "\tn_s=7.300000000000001\n",
      "\t\tinst = 10\n",
      "\t\tinst = 11\n",
      "\t\tinst = 12\n",
      "\t\tinst = 13\n",
      "\t\tinst = 14\n",
      "\t\tinst = 15\n",
      "\t\tinst = 16\n",
      "\t\tinst = 17\n",
      "\t\tinst = 18\n",
      "\t\tinst = 19\n",
      "\t\tinst = 1\n",
      "\t\tinst = 20\n",
      "\t\tinst = 21\n",
      "\t\tinst = 22\n",
      "\t\tinst = 23\n",
      "\t\tinst = 24\n",
      "\t\tinst = 25\n",
      "\t\tinst = 26\n",
      "\t\tinst = 27\n",
      "\t\tinst = 28\n",
      "\t\tinst = 29\n",
      "\t\tinst = 2\n",
      "\t\tinst = 30\n",
      "\t\tinst = 31\n",
      "\t\tinst = 3\n",
      "\t\tinst = 4\n",
      "\t\tinst = 5\n",
      "\t\tinst = 6\n",
      "\t\tinst = 7\n",
      "\t\tinst = 8\n",
      "\t\tinst = 9\n",
      "\tn_s=7.4\n",
      "\t\tinst = 10\n",
      "\t\tinst = 11\n",
      "\t\tinst = 12\n",
      "\t\tinst = 13\n",
      "\t\tinst = 14\n",
      "\t\tinst = 15\n",
      "\t\tinst = 16\n",
      "\t\tinst = 17\n",
      "\t\tinst = 18\n",
      "\t\tinst = 19\n",
      "\t\tinst = 1\n",
      "\t\tinst = 20\n",
      "\t\tinst = 21\n",
      "\t\tinst = 22\n",
      "\t\tinst = 23\n",
      "\t\tinst = 24\n",
      "\t\tinst = 25\n",
      "\t\tinst = 26\n",
      "\t\tinst = 27\n",
      "\t\tinst = 28\n",
      "\t\tinst = 29\n",
      "\t\tinst = 2\n",
      "\t\tinst = 30\n",
      "\t\tinst = 31\n",
      "\t\tinst = 3\n",
      "\t\tinst = 4\n",
      "\t\tinst = 5\n",
      "\t\tinst = 6\n",
      "\t\tinst = 7\n",
      "\t\tinst = 8\n",
      "\t\tinst = 9\n",
      "\tn_s=7.5\n",
      "\t\tinst = 10\n",
      "\t\tinst = 11\n",
      "\t\tinst = 12\n",
      "\t\tinst = 13\n",
      "\t\tinst = 14\n",
      "\t\tinst = 15\n",
      "\t\tinst = 16\n",
      "\t\tinst = 17\n",
      "\t\tinst = 18\n",
      "\t\tinst = 19\n",
      "\t\tinst = 1\n",
      "\t\tinst = 20\n",
      "\t\tinst = 21\n",
      "\t\tinst = 22\n",
      "\t\tinst = 23\n",
      "\t\tinst = 24\n",
      "\t\tinst = 25\n",
      "\t\tinst = 26\n",
      "\t\tinst = 27\n",
      "\t\tinst = 28\n",
      "\t\tinst = 29\n",
      "\t\tinst = 2\n",
      "\t\tinst = 30\n",
      "\t\tinst = 31\n",
      "\t\tinst = 3\n",
      "\t\tinst = 4\n",
      "\t\tinst = 5\n",
      "\t\tinst = 6\n",
      "\t\tinst = 7\n",
      "\t\tinst = 8\n",
      "\t\tinst = 9\n",
      "\tn_s=7.6\n",
      "\t\tinst = 10\n",
      "\t\tinst = 11\n",
      "\t\tinst = 12\n",
      "\t\tinst = 13\n",
      "\t\tinst = 14\n",
      "\t\tinst = 15\n",
      "\t\tinst = 16\n",
      "\t\tinst = 17\n",
      "\t\tinst = 18\n",
      "\t\tinst = 19\n",
      "\t\tinst = 1\n",
      "\t\tinst = 20\n",
      "\t\tinst = 21\n",
      "\t\tinst = 22\n",
      "\t\tinst = 23\n",
      "\t\tinst = 24\n",
      "\t\tinst = 25\n",
      "\t\tinst = 26\n",
      "\t\tinst = 27\n",
      "\t\tinst = 28\n",
      "\t\tinst = 29\n",
      "\t\tinst = 2\n",
      "\t\tinst = 30\n",
      "\t\tinst = 31\n",
      "\t\tinst = 3\n",
      "\t\tinst = 4\n",
      "\t\tinst = 5\n",
      "\t\tinst = 6\n",
      "\t\tinst = 7\n",
      "\t\tinst = 8\n",
      "\t\tinst = 9\n",
      "DC us6-acs2\n",
      "\tn_s=4.0\n",
      "\t\tinst = 10\n",
      "\t\tinst = 11\n",
      "\t\tinst = 12\n",
      "\t\tinst = 13\n",
      "\t\tinst = 14\n",
      "\t\tinst = 15\n",
      "\t\tinst = 16\n",
      "\t\tinst = 17\n",
      "\t\tinst = 18\n",
      "\t\tinst = 19\n",
      "\t\tinst = 1\n",
      "\t\tinst = 20\n",
      "\t\tinst = 21\n",
      "\t\tinst = 22\n",
      "\t\tinst = 23\n",
      "\t\tinst = 24\n",
      "\t\tinst = 25\n",
      "\t\tinst = 26\n",
      "\t\tinst = 27\n",
      "\t\tinst = 28\n",
      "\t\tinst = 29\n",
      "\t\tinst = 2\n",
      "\t\tinst = 30\n",
      "\t\tinst = 3\n",
      "\t\tinst = 4\n",
      "\t\tinst = 5\n",
      "\t\tinst = 6\n",
      "\t\tinst = 7\n",
      "\t\tinst = 8\n",
      "\t\tinst = 9\n",
      "\tn_s=4.1\n",
      "\t\tinst = 10\n",
      "\t\tinst = 11\n",
      "\t\tinst = 12\n",
      "\t\tinst = 13\n",
      "\t\tinst = 14\n",
      "\t\tinst = 15\n",
      "\t\tinst = 16\n",
      "\t\tinst = 17\n",
      "\t\tinst = 18\n",
      "\t\tinst = 19\n",
      "\t\tinst = 1\n",
      "\t\tinst = 20\n",
      "\t\tinst = 21\n",
      "\t\tinst = 22\n",
      "\t\tinst = 23\n",
      "\t\tinst = 24\n",
      "\t\tinst = 25\n",
      "\t\tinst = 26\n",
      "\t\tinst = 27\n",
      "\t\tinst = 28\n",
      "\t\tinst = 29\n",
      "\t\tinst = 2\n",
      "\t\tinst = 30\n",
      "\t\tinst = 3\n",
      "\t\tinst = 4\n",
      "\t\tinst = 5\n",
      "\t\tinst = 6\n",
      "\t\tinst = 7\n",
      "\t\tinst = 8\n",
      "\t\tinst = 9\n",
      "\tn_s=4.2\n",
      "\t\tinst = 10\n",
      "\t\tinst = 11\n",
      "\t\tinst = 12\n",
      "\t\tinst = 13\n",
      "\t\tinst = 14\n",
      "\t\tinst = 15\n",
      "\t\tinst = 16\n",
      "\t\tinst = 17\n",
      "\t\tinst = 18\n",
      "\t\tinst = 19\n",
      "\t\tinst = 1\n",
      "\t\tinst = 20\n",
      "\t\tinst = 21\n",
      "\t\tinst = 22\n",
      "\t\tinst = 23\n",
      "\t\tinst = 24\n",
      "\t\tinst = 25\n",
      "\t\tinst = 26\n",
      "\t\tinst = 27\n",
      "\t\tinst = 28\n",
      "\t\tinst = 29\n",
      "\t\tinst = 2\n",
      "\t\tinst = 30\n",
      "\t\tinst = 3\n",
      "\t\tinst = 4\n",
      "\t\tinst = 5\n",
      "\t\tinst = 6\n",
      "\t\tinst = 7\n",
      "\t\tinst = 8\n",
      "\t\tinst = 9\n",
      "\tn_s=4.3\n",
      "\t\tinst = 10\n",
      "\t\tinst = 11\n",
      "\t\tinst = 12\n",
      "\t\tinst = 13\n",
      "\t\tinst = 14\n",
      "\t\tinst = 15\n",
      "\t\tinst = 16\n",
      "\t\tinst = 17\n",
      "\t\tinst = 18\n",
      "\t\tinst = 19\n",
      "\t\tinst = 1\n",
      "\t\tinst = 20\n",
      "\t\tinst = 21\n",
      "\t\tinst = 22\n",
      "\t\tinst = 23\n",
      "\t\tinst = 24\n",
      "\t\tinst = 25\n",
      "\t\tinst = 26\n",
      "\t\tinst = 27\n",
      "\t\tinst = 28\n",
      "\t\tinst = 29\n",
      "\t\tinst = 2\n",
      "\t\tinst = 30\n",
      "\t\tinst = 3\n",
      "\t\tinst = 4\n",
      "\t\tinst = 5\n",
      "\t\tinst = 6\n",
      "\t\tinst = 7\n",
      "\t\tinst = 8\n",
      "\t\tinst = 9\n",
      "\tn_s=4.4\n",
      "\t\tinst = 10\n",
      "\t\tinst = 11\n",
      "\t\tinst = 12\n",
      "\t\tinst = 13\n",
      "\t\tinst = 14\n",
      "\t\tinst = 15\n",
      "\t\tinst = 16\n",
      "\t\tinst = 17\n",
      "\t\tinst = 18\n",
      "\t\tinst = 19\n",
      "\t\tinst = 1\n",
      "\t\tinst = 20\n",
      "\t\tinst = 21\n",
      "\t\tinst = 22\n",
      "\t\tinst = 23\n",
      "\t\tinst = 24\n",
      "\t\tinst = 25\n",
      "\t\tinst = 26\n",
      "\t\tinst = 27\n",
      "\t\tinst = 28\n",
      "\t\tinst = 29\n",
      "\t\tinst = 2\n",
      "\t\tinst = 30\n",
      "\t\tinst = 3\n",
      "\t\tinst = 4\n",
      "\t\tinst = 5\n",
      "\t\tinst = 6\n",
      "\t\tinst = 7\n",
      "\t\tinst = 8\n",
      "\t\tinst = 9\n",
      "\tn_s=4.5\n",
      "\t\tinst = 10\n",
      "\t\tinst = 11\n",
      "\t\tinst = 12\n",
      "\t\tinst = 13\n",
      "\t\tinst = 14\n",
      "\t\tinst = 15\n",
      "\t\tinst = 16\n",
      "\t\tinst = 17\n",
      "\t\tinst = 18\n",
      "\t\tinst = 19\n",
      "\t\tinst = 1\n",
      "\t\tinst = 20\n",
      "\t\tinst = 21\n",
      "\t\tinst = 22\n",
      "\t\tinst = 23\n",
      "\t\tinst = 24\n",
      "\t\tinst = 25\n",
      "\t\tinst = 26\n",
      "\t\tinst = 27\n",
      "\t\tinst = 28\n",
      "\t\tinst = 29\n",
      "\t\tinst = 2\n",
      "\t\tinst = 30\n",
      "\t\tinst = 3\n",
      "\t\tinst = 4\n",
      "\t\tinst = 5\n",
      "\t\tinst = 6\n",
      "\t\tinst = 7\n",
      "\t\tinst = 8\n",
      "\t\tinst = 9\n",
      "\tn_s=4.6\n",
      "\t\tinst = 10\n",
      "\t\tinst = 11\n",
      "\t\tinst = 12\n",
      "\t\tinst = 13\n",
      "\t\tinst = 14\n",
      "\t\tinst = 15\n",
      "\t\tinst = 16\n",
      "\t\tinst = 17\n",
      "\t\tinst = 18\n",
      "\t\tinst = 19\n",
      "\t\tinst = 1\n",
      "\t\tinst = 20\n",
      "\t\tinst = 21\n",
      "\t\tinst = 22\n",
      "\t\tinst = 23\n",
      "\t\tinst = 24\n",
      "\t\tinst = 25\n",
      "\t\tinst = 26\n",
      "\t\tinst = 27\n",
      "\t\tinst = 28\n",
      "\t\tinst = 29\n",
      "\t\tinst = 2\n",
      "\t\tinst = 30\n",
      "\t\tinst = 3\n",
      "\t\tinst = 4\n",
      "\t\tinst = 5\n",
      "\t\tinst = 6\n",
      "\t\tinst = 7\n",
      "\t\tinst = 8\n",
      "\t\tinst = 9\n",
      "\tn_s=4.7\n",
      "\t\tinst = 10\n",
      "\t\tinst = 11\n",
      "\t\tinst = 12\n",
      "\t\tinst = 13\n",
      "\t\tinst = 14\n",
      "\t\tinst = 15\n",
      "\t\tinst = 16\n",
      "\t\tinst = 17\n",
      "\t\tinst = 18\n",
      "\t\tinst = 19\n",
      "\t\tinst = 1\n",
      "\t\tinst = 20\n",
      "\t\tinst = 21\n",
      "\t\tinst = 22\n",
      "\t\tinst = 23\n",
      "\t\tinst = 24\n",
      "\t\tinst = 25\n",
      "\t\tinst = 26\n",
      "\t\tinst = 27\n",
      "\t\tinst = 28\n",
      "\t\tinst = 29\n",
      "\t\tinst = 2\n",
      "\t\tinst = 30\n",
      "\t\tinst = 3\n",
      "\t\tinst = 4\n",
      "\t\tinst = 5\n",
      "\t\tinst = 6\n",
      "\t\tinst = 7\n",
      "\t\tinst = 8\n",
      "\t\tinst = 9\n",
      "\tn_s=4.8\n",
      "\t\tinst = 10\n",
      "\t\tinst = 11\n",
      "\t\tinst = 12\n",
      "\t\tinst = 13\n",
      "\t\tinst = 14\n",
      "\t\tinst = 15\n",
      "\t\tinst = 16\n",
      "\t\tinst = 17\n",
      "\t\tinst = 18\n",
      "\t\tinst = 19\n",
      "\t\tinst = 1\n",
      "\t\tinst = 20\n",
      "\t\tinst = 21\n",
      "\t\tinst = 22\n",
      "\t\tinst = 23\n",
      "\t\tinst = 24\n",
      "\t\tinst = 25\n",
      "\t\tinst = 26\n",
      "\t\tinst = 27\n",
      "\t\tinst = 28\n",
      "\t\tinst = 29\n",
      "\t\tinst = 2\n",
      "\t\tinst = 30\n",
      "\t\tinst = 3\n",
      "\t\tinst = 4\n",
      "\t\tinst = 5\n",
      "\t\tinst = 6\n",
      "\t\tinst = 7\n",
      "\t\tinst = 8\n",
      "\t\tinst = 9\n",
      "\tn_s=4.9\n",
      "\t\tinst = 10\n",
      "\t\tinst = 11\n",
      "\t\tinst = 12\n"
     ]
    },
    {
     "name": "stdout",
     "output_type": "stream",
     "text": [
      "\t\tinst = 13\n",
      "\t\tinst = 14\n",
      "\t\tinst = 15\n",
      "\t\tinst = 16\n",
      "\t\tinst = 17\n",
      "\t\tinst = 18\n",
      "\t\tinst = 19\n",
      "\t\tinst = 1\n",
      "\t\tinst = 20\n",
      "\t\tinst = 21\n",
      "\t\tinst = 22\n",
      "\t\tinst = 23\n",
      "\t\tinst = 24\n",
      "\t\tinst = 25\n",
      "\t\tinst = 26\n",
      "\t\tinst = 27\n",
      "\t\tinst = 28\n",
      "\t\tinst = 29\n",
      "\t\tinst = 2\n",
      "\t\tinst = 30\n",
      "\t\tinst = 3\n",
      "\t\tinst = 4\n",
      "\t\tinst = 5\n",
      "\t\tinst = 6\n",
      "\t\tinst = 7\n",
      "\t\tinst = 8\n",
      "\t\tinst = 9\n",
      "\tn_s=5.0\n",
      "\t\tinst = 10\n",
      "\t\tinst = 11\n",
      "\t\tinst = 12\n",
      "\t\tinst = 13\n",
      "\t\tinst = 14\n",
      "\t\tinst = 15\n",
      "\t\tinst = 16\n",
      "\t\tinst = 17\n",
      "\t\tinst = 18\n",
      "\t\tinst = 19\n",
      "\t\tinst = 1\n",
      "\t\tinst = 20\n",
      "\t\tinst = 21\n",
      "\t\tinst = 22\n",
      "\t\tinst = 23\n",
      "\t\tinst = 24\n",
      "\t\tinst = 25\n",
      "\t\tinst = 26\n",
      "\t\tinst = 27\n",
      "\t\tinst = 28\n",
      "\t\tinst = 29\n",
      "\t\tinst = 2\n",
      "\t\tinst = 30\n",
      "\t\tinst = 3\n",
      "\t\tinst = 4\n",
      "\t\tinst = 5\n",
      "\t\tinst = 6\n",
      "\t\tinst = 7\n",
      "\t\tinst = 8\n",
      "\t\tinst = 9\n",
      "\tn_s=5.1\n",
      "\t\tinst = 10\n",
      "\t\tinst = 11\n",
      "\t\tinst = 12\n",
      "\t\tinst = 13\n",
      "\t\tinst = 14\n",
      "\t\tinst = 15\n",
      "\t\tinst = 16\n",
      "\t\tinst = 17\n",
      "\t\tinst = 18\n",
      "\t\tinst = 19\n",
      "\t\tinst = 1\n",
      "\t\tinst = 20\n",
      "\t\tinst = 21\n",
      "\t\tinst = 22\n",
      "\t\tinst = 23\n",
      "\t\tinst = 24\n",
      "\t\tinst = 25\n",
      "\t\tinst = 26\n",
      "\t\tinst = 27\n",
      "\t\tinst = 28\n",
      "\t\tinst = 29\n",
      "\t\tinst = 2\n",
      "\t\tinst = 30\n",
      "\t\tinst = 3\n",
      "\t\tinst = 4\n",
      "\t\tinst = 5\n",
      "\t\tinst = 6\n",
      "\t\tinst = 7\n",
      "\t\tinst = 8\n",
      "\t\tinst = 9\n",
      "\tn_s=5.2\n",
      "\t\tinst = 10\n",
      "\t\tinst = 11\n",
      "\t\tinst = 12\n",
      "\t\tinst = 13\n",
      "\t\tinst = 14\n",
      "\t\tinst = 15\n",
      "\t\tinst = 16\n",
      "\t\tinst = 17\n",
      "\t\tinst = 18\n",
      "\t\tinst = 19\n",
      "\t\tinst = 1\n",
      "\t\tinst = 20\n",
      "\t\tinst = 21\n",
      "\t\tinst = 22\n",
      "\t\tinst = 23\n",
      "\t\tinst = 24\n",
      "\t\tinst = 25\n",
      "\t\tinst = 26\n",
      "\t\tinst = 27\n",
      "\t\tinst = 28\n",
      "\t\tinst = 29\n",
      "\t\tinst = 2\n",
      "\t\tinst = 30\n",
      "\t\tinst = 3\n",
      "\t\tinst = 4\n",
      "\t\tinst = 5\n",
      "\t\tinst = 6\n",
      "\t\tinst = 7\n",
      "\t\tinst = 8\n",
      "\t\tinst = 9\n",
      "\tn_s=5.3\n",
      "\t\tinst = 10\n",
      "\t\tinst = 11\n",
      "\t\tinst = 12\n",
      "\t\tinst = 13\n",
      "\t\tinst = 14\n",
      "\t\tinst = 15\n",
      "\t\tinst = 16\n",
      "\t\tinst = 17\n",
      "\t\tinst = 18\n",
      "\t\tinst = 19\n",
      "\t\tinst = 1\n",
      "\t\tinst = 20\n",
      "\t\tinst = 21\n",
      "\t\tinst = 22\n",
      "\t\tinst = 23\n",
      "\t\tinst = 24\n",
      "\t\tinst = 25\n",
      "\t\tinst = 26\n",
      "\t\tinst = 27\n",
      "\t\tinst = 28\n",
      "\t\tinst = 29\n",
      "\t\tinst = 2\n",
      "\t\tinst = 30\n",
      "\t\tinst = 3\n",
      "\t\tinst = 4\n",
      "\t\tinst = 5\n",
      "\t\tinst = 6\n",
      "\t\tinst = 7\n",
      "\t\tinst = 8\n",
      "\t\tinst = 9\n",
      "\tn_s=5.4\n",
      "\t\tinst = 10\n",
      "\t\tinst = 11\n",
      "\t\tinst = 12\n",
      "\t\tinst = 13\n",
      "\t\tinst = 14\n",
      "\t\tinst = 15\n",
      "\t\tinst = 16\n",
      "\t\tinst = 17\n",
      "\t\tinst = 18\n",
      "\t\tinst = 19\n",
      "\t\tinst = 1\n",
      "\t\tinst = 20\n",
      "\t\tinst = 21\n",
      "\t\tinst = 22\n",
      "\t\tinst = 23\n",
      "\t\tinst = 24\n",
      "\t\tinst = 25\n",
      "\t\tinst = 26\n",
      "\t\tinst = 27\n",
      "\t\tinst = 28\n",
      "\t\tinst = 29\n",
      "\t\tinst = 2\n",
      "\t\tinst = 30\n",
      "\t\tinst = 3\n",
      "\t\tinst = 4\n",
      "\t\tinst = 5\n",
      "\t\tinst = 6\n",
      "\t\tinst = 7\n",
      "\t\tinst = 8\n",
      "\t\tinst = 9\n",
      "\tn_s=5.5\n",
      "\t\tinst = 10\n",
      "\t\tinst = 11\n",
      "\t\tinst = 12\n",
      "\t\tinst = 13\n",
      "\t\tinst = 14\n",
      "\t\tinst = 15\n",
      "\t\tinst = 16\n",
      "\t\tinst = 17\n",
      "\t\tinst = 18\n",
      "\t\tinst = 19\n",
      "\t\tinst = 1\n",
      "\t\tinst = 20\n",
      "\t\tinst = 21\n",
      "\t\tinst = 22\n",
      "\t\tinst = 23\n",
      "\t\tinst = 24\n",
      "\t\tinst = 25\n",
      "\t\tinst = 26\n",
      "\t\tinst = 27\n",
      "\t\tinst = 28\n",
      "\t\tinst = 29\n",
      "\t\tinst = 2\n",
      "\t\tinst = 30\n",
      "\t\tinst = 3\n",
      "\t\tinst = 4\n",
      "\t\tinst = 5\n",
      "\t\tinst = 6\n",
      "\t\tinst = 7\n",
      "\t\tinst = 8\n",
      "\t\tinst = 9\n",
      "\tn_s=5.6\n",
      "\t\tinst = 10\n",
      "\t\tinst = 11\n",
      "\t\tinst = 12\n",
      "\t\tinst = 13\n",
      "\t\tinst = 14\n",
      "\t\tinst = 15\n",
      "\t\tinst = 16\n",
      "\t\tinst = 17\n",
      "\t\tinst = 18\n",
      "\t\tinst = 19\n",
      "\t\tinst = 1\n",
      "\t\tinst = 20\n",
      "\t\tinst = 21\n",
      "\t\tinst = 22\n",
      "\t\tinst = 23\n",
      "\t\tinst = 24\n",
      "\t\tinst = 25\n",
      "\t\tinst = 26\n",
      "\t\tinst = 27\n",
      "\t\tinst = 28\n",
      "\t\tinst = 29\n",
      "\t\tinst = 2\n",
      "\t\tinst = 30\n",
      "\t\tinst = 3\n",
      "\t\tinst = 4\n",
      "\t\tinst = 5\n",
      "\t\tinst = 6\n",
      "\t\tinst = 7\n",
      "\t\tinst = 8\n",
      "\t\tinst = 9\n",
      "\tn_s=5.7\n",
      "\t\tinst = 10\n",
      "\t\tinst = 11\n",
      "\t\tinst = 12\n",
      "\t\tinst = 13\n",
      "\t\tinst = 14\n",
      "\t\tinst = 15\n",
      "\t\tinst = 16\n",
      "\t\tinst = 17\n",
      "\t\tinst = 18\n",
      "\t\tinst = 19\n",
      "\t\tinst = 1\n",
      "\t\tinst = 20\n",
      "\t\tinst = 21\n",
      "\t\tinst = 22\n",
      "\t\tinst = 23\n",
      "\t\tinst = 24\n",
      "\t\tinst = 25\n",
      "\t\tinst = 26\n",
      "\t\tinst = 27\n",
      "\t\tinst = 28\n",
      "\t\tinst = 29\n",
      "\t\tinst = 2\n",
      "\t\tinst = 30\n",
      "\t\tinst = 3\n",
      "\t\tinst = 4\n",
      "\t\tinst = 5\n",
      "\t\tinst = 6\n",
      "\t\tinst = 7\n",
      "\t\tinst = 8\n",
      "\t\tinst = 9\n"
     ]
    }
   ],
   "source": [
    "dcs = list(dc_file.keys())\n",
    "dc_reslut = find_number_of_sigmas(dcs)"
   ]
  },
  {
   "cell_type": "code",
   "execution_count": 9,
   "metadata": {},
   "outputs": [],
   "source": [
    "def plot_sigmas_anomalies(dc_result):\n",
    "    for dc in dc_result:\n",
    "        fig = make_subplots(rows = 1, cols=1)\n",
    "        number_of_sigmas = dc_result[dc][0]\n",
    "        n_an = dc_result[dc][1]\n",
    "        n_main_error = dc_result[dc][2]\n",
    "        n_mean = dc_result[dc][3]\n",
    "        n_variance = dc_result[dc][4]\n",
    "        x = np.linspace(4.0, 8.0, 41)[:len(n_an)]\n",
    "        fig.add_trace(go.Scatter(x=x, y=n_an, name = 'main error and mean'), row = 1 , col = 1)\n",
    "        fig.add_trace(go.Scatter(x=x, y=n_main_error, name = 'main error ', marker_color = 'blue'), row = 1 , col = 1 )\n",
    "        fig.add_trace(go.Scatter(x=x, y=n_mean, name = 'mean', marker_color = 'green'), row = 1 , col = 1 )\n",
    "        fig.add_trace(go.Scatter(x=x, y=n_variance, name = 'variance', marker_color = 'gold'), row = 1 , col = 1 )\n",
    "        fig.update_layout(height=500, width=700, title_text = 'dc = ' + dc, xaxis_title=\"Number of sigmas\",\n",
    "        yaxis_title=\"Number of anomalies\")\n",
    "        fig.show()"
   ]
  },
  {
   "cell_type": "code",
   "execution_count": 10,
   "metadata": {
    "scrolled": false
   },
   "outputs": [
    {
     "data": {
      "application/vnd.plotly.v1+json": {
       "config": {
        "plotlyServerURL": "https://plot.ly"
       },
       "data": [
        {
         "name": "main error and mean",
         "type": "scatter",
         "x": [
          4,
          4.1,
          4.2,
          4.3,
          4.4,
          4.5,
          4.6,
          4.7,
          4.8,
          4.9,
          5,
          5.1,
          5.2,
          5.3,
          5.4,
          5.5,
          5.6,
          5.7,
          5.8,
          5.9,
          6,
          6.1,
          6.2,
          6.300000000000001,
          6.4,
          6.5,
          6.6,
          6.7,
          6.800000000000001,
          6.9,
          7,
          7.1,
          7.2,
          7.300000000000001,
          7.4,
          7.5,
          7.6,
          7.7,
          7.800000000000001,
          7.9,
          8
         ],
         "xaxis": "x",
         "y": [
          125,
          120,
          110,
          107,
          102,
          100,
          96,
          91,
          90,
          86,
          85,
          81,
          79,
          75,
          74,
          72,
          71,
          67,
          65,
          63,
          62,
          61,
          59,
          58,
          58,
          57,
          55,
          54,
          53,
          53,
          50,
          49,
          48,
          45,
          45,
          44,
          43,
          42,
          40,
          40,
          40
         ],
         "yaxis": "y"
        },
        {
         "marker": {
          "color": "blue"
         },
         "name": "main error ",
         "type": "scatter",
         "x": [
          4,
          4.1,
          4.2,
          4.3,
          4.4,
          4.5,
          4.6,
          4.7,
          4.8,
          4.9,
          5,
          5.1,
          5.2,
          5.3,
          5.4,
          5.5,
          5.6,
          5.7,
          5.8,
          5.9,
          6,
          6.1,
          6.2,
          6.300000000000001,
          6.4,
          6.5,
          6.6,
          6.7,
          6.800000000000001,
          6.9,
          7,
          7.1,
          7.2,
          7.300000000000001,
          7.4,
          7.5,
          7.6,
          7.7,
          7.800000000000001,
          7.9,
          8
         ],
         "xaxis": "x",
         "y": [
          224,
          216,
          203,
          197,
          187,
          186,
          184,
          180,
          178,
          172,
          166,
          161,
          160,
          156,
          155,
          154,
          151,
          146,
          142,
          141,
          139,
          140,
          139,
          135,
          134,
          133,
          134,
          133,
          131,
          130,
          127,
          125,
          126,
          124,
          124,
          123,
          120,
          118,
          117,
          117,
          117
         ],
         "yaxis": "y"
        },
        {
         "marker": {
          "color": "green"
         },
         "name": "mean",
         "type": "scatter",
         "x": [
          4,
          4.1,
          4.2,
          4.3,
          4.4,
          4.5,
          4.6,
          4.7,
          4.8,
          4.9,
          5,
          5.1,
          5.2,
          5.3,
          5.4,
          5.5,
          5.6,
          5.7,
          5.8,
          5.9,
          6,
          6.1,
          6.2,
          6.300000000000001,
          6.4,
          6.5,
          6.6,
          6.7,
          6.800000000000001,
          6.9,
          7,
          7.1,
          7.2,
          7.300000000000001,
          7.4,
          7.5,
          7.6,
          7.7,
          7.800000000000001,
          7.9,
          8
         ],
         "xaxis": "x",
         "y": [
          424,
          385,
          346,
          326,
          308,
          285,
          271,
          256,
          245,
          234,
          220,
          217,
          205,
          197,
          193,
          185,
          180,
          178,
          173,
          166,
          162,
          152,
          148,
          141,
          139,
          135,
          127,
          122,
          117,
          118,
          113,
          110,
          107,
          103,
          103,
          99,
          96,
          94,
          93,
          92,
          88
         ],
         "yaxis": "y"
        },
        {
         "marker": {
          "color": "gold"
         },
         "name": "variance",
         "type": "scatter",
         "x": [
          4,
          4.1,
          4.2,
          4.3,
          4.4,
          4.5,
          4.6,
          4.7,
          4.8,
          4.9,
          5,
          5.1,
          5.2,
          5.3,
          5.4,
          5.5,
          5.6,
          5.7,
          5.8,
          5.9,
          6,
          6.1,
          6.2,
          6.300000000000001,
          6.4,
          6.5,
          6.6,
          6.7,
          6.800000000000001,
          6.9,
          7,
          7.1,
          7.2,
          7.300000000000001,
          7.4,
          7.5,
          7.6,
          7.7,
          7.800000000000001,
          7.9,
          8
         ],
         "xaxis": "x",
         "y": [
          347,
          340,
          334,
          329,
          321,
          306,
          292,
          284,
          272,
          266,
          260,
          248,
          235,
          225,
          220,
          215,
          208,
          204,
          199,
          194,
          188,
          181,
          173,
          172,
          167,
          164,
          157,
          156,
          153,
          146,
          143,
          138,
          136,
          133,
          130,
          126,
          123,
          120,
          120,
          121,
          117
         ],
         "yaxis": "y"
        }
       ],
       "layout": {
        "height": 500,
        "template": {
         "data": {
          "bar": [
           {
            "error_x": {
             "color": "#2a3f5f"
            },
            "error_y": {
             "color": "#2a3f5f"
            },
            "marker": {
             "line": {
              "color": "#E5ECF6",
              "width": 0.5
             }
            },
            "type": "bar"
           }
          ],
          "barpolar": [
           {
            "marker": {
             "line": {
              "color": "#E5ECF6",
              "width": 0.5
             }
            },
            "type": "barpolar"
           }
          ],
          "carpet": [
           {
            "aaxis": {
             "endlinecolor": "#2a3f5f",
             "gridcolor": "white",
             "linecolor": "white",
             "minorgridcolor": "white",
             "startlinecolor": "#2a3f5f"
            },
            "baxis": {
             "endlinecolor": "#2a3f5f",
             "gridcolor": "white",
             "linecolor": "white",
             "minorgridcolor": "white",
             "startlinecolor": "#2a3f5f"
            },
            "type": "carpet"
           }
          ],
          "choropleth": [
           {
            "colorbar": {
             "outlinewidth": 0,
             "ticks": ""
            },
            "type": "choropleth"
           }
          ],
          "contour": [
           {
            "colorbar": {
             "outlinewidth": 0,
             "ticks": ""
            },
            "colorscale": [
             [
              0,
              "#0d0887"
             ],
             [
              0.1111111111111111,
              "#46039f"
             ],
             [
              0.2222222222222222,
              "#7201a8"
             ],
             [
              0.3333333333333333,
              "#9c179e"
             ],
             [
              0.4444444444444444,
              "#bd3786"
             ],
             [
              0.5555555555555556,
              "#d8576b"
             ],
             [
              0.6666666666666666,
              "#ed7953"
             ],
             [
              0.7777777777777778,
              "#fb9f3a"
             ],
             [
              0.8888888888888888,
              "#fdca26"
             ],
             [
              1,
              "#f0f921"
             ]
            ],
            "type": "contour"
           }
          ],
          "contourcarpet": [
           {
            "colorbar": {
             "outlinewidth": 0,
             "ticks": ""
            },
            "type": "contourcarpet"
           }
          ],
          "heatmap": [
           {
            "colorbar": {
             "outlinewidth": 0,
             "ticks": ""
            },
            "colorscale": [
             [
              0,
              "#0d0887"
             ],
             [
              0.1111111111111111,
              "#46039f"
             ],
             [
              0.2222222222222222,
              "#7201a8"
             ],
             [
              0.3333333333333333,
              "#9c179e"
             ],
             [
              0.4444444444444444,
              "#bd3786"
             ],
             [
              0.5555555555555556,
              "#d8576b"
             ],
             [
              0.6666666666666666,
              "#ed7953"
             ],
             [
              0.7777777777777778,
              "#fb9f3a"
             ],
             [
              0.8888888888888888,
              "#fdca26"
             ],
             [
              1,
              "#f0f921"
             ]
            ],
            "type": "heatmap"
           }
          ],
          "heatmapgl": [
           {
            "colorbar": {
             "outlinewidth": 0,
             "ticks": ""
            },
            "colorscale": [
             [
              0,
              "#0d0887"
             ],
             [
              0.1111111111111111,
              "#46039f"
             ],
             [
              0.2222222222222222,
              "#7201a8"
             ],
             [
              0.3333333333333333,
              "#9c179e"
             ],
             [
              0.4444444444444444,
              "#bd3786"
             ],
             [
              0.5555555555555556,
              "#d8576b"
             ],
             [
              0.6666666666666666,
              "#ed7953"
             ],
             [
              0.7777777777777778,
              "#fb9f3a"
             ],
             [
              0.8888888888888888,
              "#fdca26"
             ],
             [
              1,
              "#f0f921"
             ]
            ],
            "type": "heatmapgl"
           }
          ],
          "histogram": [
           {
            "marker": {
             "colorbar": {
              "outlinewidth": 0,
              "ticks": ""
             }
            },
            "type": "histogram"
           }
          ],
          "histogram2d": [
           {
            "colorbar": {
             "outlinewidth": 0,
             "ticks": ""
            },
            "colorscale": [
             [
              0,
              "#0d0887"
             ],
             [
              0.1111111111111111,
              "#46039f"
             ],
             [
              0.2222222222222222,
              "#7201a8"
             ],
             [
              0.3333333333333333,
              "#9c179e"
             ],
             [
              0.4444444444444444,
              "#bd3786"
             ],
             [
              0.5555555555555556,
              "#d8576b"
             ],
             [
              0.6666666666666666,
              "#ed7953"
             ],
             [
              0.7777777777777778,
              "#fb9f3a"
             ],
             [
              0.8888888888888888,
              "#fdca26"
             ],
             [
              1,
              "#f0f921"
             ]
            ],
            "type": "histogram2d"
           }
          ],
          "histogram2dcontour": [
           {
            "colorbar": {
             "outlinewidth": 0,
             "ticks": ""
            },
            "colorscale": [
             [
              0,
              "#0d0887"
             ],
             [
              0.1111111111111111,
              "#46039f"
             ],
             [
              0.2222222222222222,
              "#7201a8"
             ],
             [
              0.3333333333333333,
              "#9c179e"
             ],
             [
              0.4444444444444444,
              "#bd3786"
             ],
             [
              0.5555555555555556,
              "#d8576b"
             ],
             [
              0.6666666666666666,
              "#ed7953"
             ],
             [
              0.7777777777777778,
              "#fb9f3a"
             ],
             [
              0.8888888888888888,
              "#fdca26"
             ],
             [
              1,
              "#f0f921"
             ]
            ],
            "type": "histogram2dcontour"
           }
          ],
          "mesh3d": [
           {
            "colorbar": {
             "outlinewidth": 0,
             "ticks": ""
            },
            "type": "mesh3d"
           }
          ],
          "parcoords": [
           {
            "line": {
             "colorbar": {
              "outlinewidth": 0,
              "ticks": ""
             }
            },
            "type": "parcoords"
           }
          ],
          "pie": [
           {
            "automargin": true,
            "type": "pie"
           }
          ],
          "scatter": [
           {
            "marker": {
             "colorbar": {
              "outlinewidth": 0,
              "ticks": ""
             }
            },
            "type": "scatter"
           }
          ],
          "scatter3d": [
           {
            "line": {
             "colorbar": {
              "outlinewidth": 0,
              "ticks": ""
             }
            },
            "marker": {
             "colorbar": {
              "outlinewidth": 0,
              "ticks": ""
             }
            },
            "type": "scatter3d"
           }
          ],
          "scattercarpet": [
           {
            "marker": {
             "colorbar": {
              "outlinewidth": 0,
              "ticks": ""
             }
            },
            "type": "scattercarpet"
           }
          ],
          "scattergeo": [
           {
            "marker": {
             "colorbar": {
              "outlinewidth": 0,
              "ticks": ""
             }
            },
            "type": "scattergeo"
           }
          ],
          "scattergl": [
           {
            "marker": {
             "colorbar": {
              "outlinewidth": 0,
              "ticks": ""
             }
            },
            "type": "scattergl"
           }
          ],
          "scattermapbox": [
           {
            "marker": {
             "colorbar": {
              "outlinewidth": 0,
              "ticks": ""
             }
            },
            "type": "scattermapbox"
           }
          ],
          "scatterpolar": [
           {
            "marker": {
             "colorbar": {
              "outlinewidth": 0,
              "ticks": ""
             }
            },
            "type": "scatterpolar"
           }
          ],
          "scatterpolargl": [
           {
            "marker": {
             "colorbar": {
              "outlinewidth": 0,
              "ticks": ""
             }
            },
            "type": "scatterpolargl"
           }
          ],
          "scatterternary": [
           {
            "marker": {
             "colorbar": {
              "outlinewidth": 0,
              "ticks": ""
             }
            },
            "type": "scatterternary"
           }
          ],
          "surface": [
           {
            "colorbar": {
             "outlinewidth": 0,
             "ticks": ""
            },
            "colorscale": [
             [
              0,
              "#0d0887"
             ],
             [
              0.1111111111111111,
              "#46039f"
             ],
             [
              0.2222222222222222,
              "#7201a8"
             ],
             [
              0.3333333333333333,
              "#9c179e"
             ],
             [
              0.4444444444444444,
              "#bd3786"
             ],
             [
              0.5555555555555556,
              "#d8576b"
             ],
             [
              0.6666666666666666,
              "#ed7953"
             ],
             [
              0.7777777777777778,
              "#fb9f3a"
             ],
             [
              0.8888888888888888,
              "#fdca26"
             ],
             [
              1,
              "#f0f921"
             ]
            ],
            "type": "surface"
           }
          ],
          "table": [
           {
            "cells": {
             "fill": {
              "color": "#EBF0F8"
             },
             "line": {
              "color": "white"
             }
            },
            "header": {
             "fill": {
              "color": "#C8D4E3"
             },
             "line": {
              "color": "white"
             }
            },
            "type": "table"
           }
          ]
         },
         "layout": {
          "annotationdefaults": {
           "arrowcolor": "#2a3f5f",
           "arrowhead": 0,
           "arrowwidth": 1
          },
          "coloraxis": {
           "colorbar": {
            "outlinewidth": 0,
            "ticks": ""
           }
          },
          "colorscale": {
           "diverging": [
            [
             0,
             "#8e0152"
            ],
            [
             0.1,
             "#c51b7d"
            ],
            [
             0.2,
             "#de77ae"
            ],
            [
             0.3,
             "#f1b6da"
            ],
            [
             0.4,
             "#fde0ef"
            ],
            [
             0.5,
             "#f7f7f7"
            ],
            [
             0.6,
             "#e6f5d0"
            ],
            [
             0.7,
             "#b8e186"
            ],
            [
             0.8,
             "#7fbc41"
            ],
            [
             0.9,
             "#4d9221"
            ],
            [
             1,
             "#276419"
            ]
           ],
           "sequential": [
            [
             0,
             "#0d0887"
            ],
            [
             0.1111111111111111,
             "#46039f"
            ],
            [
             0.2222222222222222,
             "#7201a8"
            ],
            [
             0.3333333333333333,
             "#9c179e"
            ],
            [
             0.4444444444444444,
             "#bd3786"
            ],
            [
             0.5555555555555556,
             "#d8576b"
            ],
            [
             0.6666666666666666,
             "#ed7953"
            ],
            [
             0.7777777777777778,
             "#fb9f3a"
            ],
            [
             0.8888888888888888,
             "#fdca26"
            ],
            [
             1,
             "#f0f921"
            ]
           ],
           "sequentialminus": [
            [
             0,
             "#0d0887"
            ],
            [
             0.1111111111111111,
             "#46039f"
            ],
            [
             0.2222222222222222,
             "#7201a8"
            ],
            [
             0.3333333333333333,
             "#9c179e"
            ],
            [
             0.4444444444444444,
             "#bd3786"
            ],
            [
             0.5555555555555556,
             "#d8576b"
            ],
            [
             0.6666666666666666,
             "#ed7953"
            ],
            [
             0.7777777777777778,
             "#fb9f3a"
            ],
            [
             0.8888888888888888,
             "#fdca26"
            ],
            [
             1,
             "#f0f921"
            ]
           ]
          },
          "colorway": [
           "#636efa",
           "#EF553B",
           "#00cc96",
           "#ab63fa",
           "#FFA15A",
           "#19d3f3",
           "#FF6692",
           "#B6E880",
           "#FF97FF",
           "#FECB52"
          ],
          "font": {
           "color": "#2a3f5f"
          },
          "geo": {
           "bgcolor": "white",
           "lakecolor": "white",
           "landcolor": "#E5ECF6",
           "showlakes": true,
           "showland": true,
           "subunitcolor": "white"
          },
          "hoverlabel": {
           "align": "left"
          },
          "hovermode": "closest",
          "mapbox": {
           "style": "light"
          },
          "paper_bgcolor": "white",
          "plot_bgcolor": "#E5ECF6",
          "polar": {
           "angularaxis": {
            "gridcolor": "white",
            "linecolor": "white",
            "ticks": ""
           },
           "bgcolor": "#E5ECF6",
           "radialaxis": {
            "gridcolor": "white",
            "linecolor": "white",
            "ticks": ""
           }
          },
          "scene": {
           "xaxis": {
            "backgroundcolor": "#E5ECF6",
            "gridcolor": "white",
            "gridwidth": 2,
            "linecolor": "white",
            "showbackground": true,
            "ticks": "",
            "zerolinecolor": "white"
           },
           "yaxis": {
            "backgroundcolor": "#E5ECF6",
            "gridcolor": "white",
            "gridwidth": 2,
            "linecolor": "white",
            "showbackground": true,
            "ticks": "",
            "zerolinecolor": "white"
           },
           "zaxis": {
            "backgroundcolor": "#E5ECF6",
            "gridcolor": "white",
            "gridwidth": 2,
            "linecolor": "white",
            "showbackground": true,
            "ticks": "",
            "zerolinecolor": "white"
           }
          },
          "shapedefaults": {
           "line": {
            "color": "#2a3f5f"
           }
          },
          "ternary": {
           "aaxis": {
            "gridcolor": "white",
            "linecolor": "white",
            "ticks": ""
           },
           "baxis": {
            "gridcolor": "white",
            "linecolor": "white",
            "ticks": ""
           },
           "bgcolor": "#E5ECF6",
           "caxis": {
            "gridcolor": "white",
            "linecolor": "white",
            "ticks": ""
           }
          },
          "title": {
           "x": 0.05
          },
          "xaxis": {
           "automargin": true,
           "gridcolor": "white",
           "linecolor": "white",
           "ticks": "",
           "title": {
            "standoff": 15
           },
           "zerolinecolor": "white",
           "zerolinewidth": 2
          },
          "yaxis": {
           "automargin": true,
           "gridcolor": "white",
           "linecolor": "white",
           "ticks": "",
           "title": {
            "standoff": 15
           },
           "zerolinecolor": "white",
           "zerolinewidth": 2
          }
         }
        },
        "title": {
         "text": "dc = us3"
        },
        "width": 700,
        "xaxis": {
         "anchor": "y",
         "domain": [
          0,
          1
         ],
         "title": {
          "text": "Number of sigmas"
         }
        },
        "yaxis": {
         "anchor": "x",
         "domain": [
          0,
          1
         ],
         "title": {
          "text": "Number of anomalies"
         }
        }
       }
      },
      "text/html": [
       "<div>\n",
       "        \n",
       "        \n",
       "            <div id=\"e448b8f8-eb03-4442-8f95-3d6bc1028ff6\" class=\"plotly-graph-div\" style=\"height:500px; width:700px;\"></div>\n",
       "            <script type=\"text/javascript\">\n",
       "                require([\"plotly\"], function(Plotly) {\n",
       "                    window.PLOTLYENV=window.PLOTLYENV || {};\n",
       "                    \n",
       "                if (document.getElementById(\"e448b8f8-eb03-4442-8f95-3d6bc1028ff6\")) {\n",
       "                    Plotly.newPlot(\n",
       "                        'e448b8f8-eb03-4442-8f95-3d6bc1028ff6',\n",
       "                        [{\"name\": \"main error and mean\", \"type\": \"scatter\", \"x\": [4.0, 4.1, 4.2, 4.3, 4.4, 4.5, 4.6, 4.7, 4.8, 4.9, 5.0, 5.1, 5.2, 5.3, 5.4, 5.5, 5.6, 5.7, 5.8, 5.9, 6.0, 6.1, 6.2, 6.300000000000001, 6.4, 6.5, 6.6, 6.7, 6.800000000000001, 6.9, 7.0, 7.1, 7.2, 7.300000000000001, 7.4, 7.5, 7.6, 7.7, 7.800000000000001, 7.9, 8.0], \"xaxis\": \"x\", \"y\": [125, 120, 110, 107, 102, 100, 96, 91, 90, 86, 85, 81, 79, 75, 74, 72, 71, 67, 65, 63, 62, 61, 59, 58, 58, 57, 55, 54, 53, 53, 50, 49, 48, 45, 45, 44, 43, 42, 40, 40, 40], \"yaxis\": \"y\"}, {\"marker\": {\"color\": \"blue\"}, \"name\": \"main error \", \"type\": \"scatter\", \"x\": [4.0, 4.1, 4.2, 4.3, 4.4, 4.5, 4.6, 4.7, 4.8, 4.9, 5.0, 5.1, 5.2, 5.3, 5.4, 5.5, 5.6, 5.7, 5.8, 5.9, 6.0, 6.1, 6.2, 6.300000000000001, 6.4, 6.5, 6.6, 6.7, 6.800000000000001, 6.9, 7.0, 7.1, 7.2, 7.300000000000001, 7.4, 7.5, 7.6, 7.7, 7.800000000000001, 7.9, 8.0], \"xaxis\": \"x\", \"y\": [224, 216, 203, 197, 187, 186, 184, 180, 178, 172, 166, 161, 160, 156, 155, 154, 151, 146, 142, 141, 139, 140, 139, 135, 134, 133, 134, 133, 131, 130, 127, 125, 126, 124, 124, 123, 120, 118, 117, 117, 117], \"yaxis\": \"y\"}, {\"marker\": {\"color\": \"green\"}, \"name\": \"mean\", \"type\": \"scatter\", \"x\": [4.0, 4.1, 4.2, 4.3, 4.4, 4.5, 4.6, 4.7, 4.8, 4.9, 5.0, 5.1, 5.2, 5.3, 5.4, 5.5, 5.6, 5.7, 5.8, 5.9, 6.0, 6.1, 6.2, 6.300000000000001, 6.4, 6.5, 6.6, 6.7, 6.800000000000001, 6.9, 7.0, 7.1, 7.2, 7.300000000000001, 7.4, 7.5, 7.6, 7.7, 7.800000000000001, 7.9, 8.0], \"xaxis\": \"x\", \"y\": [424, 385, 346, 326, 308, 285, 271, 256, 245, 234, 220, 217, 205, 197, 193, 185, 180, 178, 173, 166, 162, 152, 148, 141, 139, 135, 127, 122, 117, 118, 113, 110, 107, 103, 103, 99, 96, 94, 93, 92, 88], \"yaxis\": \"y\"}, {\"marker\": {\"color\": \"gold\"}, \"name\": \"variance\", \"type\": \"scatter\", \"x\": [4.0, 4.1, 4.2, 4.3, 4.4, 4.5, 4.6, 4.7, 4.8, 4.9, 5.0, 5.1, 5.2, 5.3, 5.4, 5.5, 5.6, 5.7, 5.8, 5.9, 6.0, 6.1, 6.2, 6.300000000000001, 6.4, 6.5, 6.6, 6.7, 6.800000000000001, 6.9, 7.0, 7.1, 7.2, 7.300000000000001, 7.4, 7.5, 7.6, 7.7, 7.800000000000001, 7.9, 8.0], \"xaxis\": \"x\", \"y\": [347, 340, 334, 329, 321, 306, 292, 284, 272, 266, 260, 248, 235, 225, 220, 215, 208, 204, 199, 194, 188, 181, 173, 172, 167, 164, 157, 156, 153, 146, 143, 138, 136, 133, 130, 126, 123, 120, 120, 121, 117], \"yaxis\": \"y\"}],\n",
       "                        {\"height\": 500, \"template\": {\"data\": {\"bar\": [{\"error_x\": {\"color\": \"#2a3f5f\"}, \"error_y\": {\"color\": \"#2a3f5f\"}, \"marker\": {\"line\": {\"color\": \"#E5ECF6\", \"width\": 0.5}}, \"type\": \"bar\"}], \"barpolar\": [{\"marker\": {\"line\": {\"color\": \"#E5ECF6\", \"width\": 0.5}}, \"type\": \"barpolar\"}], \"carpet\": [{\"aaxis\": {\"endlinecolor\": \"#2a3f5f\", \"gridcolor\": \"white\", \"linecolor\": \"white\", \"minorgridcolor\": \"white\", \"startlinecolor\": \"#2a3f5f\"}, \"baxis\": {\"endlinecolor\": \"#2a3f5f\", \"gridcolor\": \"white\", \"linecolor\": \"white\", \"minorgridcolor\": \"white\", \"startlinecolor\": \"#2a3f5f\"}, \"type\": \"carpet\"}], \"choropleth\": [{\"colorbar\": {\"outlinewidth\": 0, \"ticks\": \"\"}, \"type\": \"choropleth\"}], \"contour\": [{\"colorbar\": {\"outlinewidth\": 0, \"ticks\": \"\"}, \"colorscale\": [[0.0, \"#0d0887\"], [0.1111111111111111, \"#46039f\"], [0.2222222222222222, \"#7201a8\"], [0.3333333333333333, \"#9c179e\"], [0.4444444444444444, \"#bd3786\"], [0.5555555555555556, \"#d8576b\"], [0.6666666666666666, \"#ed7953\"], [0.7777777777777778, \"#fb9f3a\"], [0.8888888888888888, \"#fdca26\"], [1.0, \"#f0f921\"]], \"type\": \"contour\"}], \"contourcarpet\": [{\"colorbar\": {\"outlinewidth\": 0, \"ticks\": \"\"}, \"type\": \"contourcarpet\"}], \"heatmap\": [{\"colorbar\": {\"outlinewidth\": 0, \"ticks\": \"\"}, \"colorscale\": [[0.0, \"#0d0887\"], [0.1111111111111111, \"#46039f\"], [0.2222222222222222, \"#7201a8\"], [0.3333333333333333, \"#9c179e\"], [0.4444444444444444, \"#bd3786\"], [0.5555555555555556, \"#d8576b\"], [0.6666666666666666, \"#ed7953\"], [0.7777777777777778, \"#fb9f3a\"], [0.8888888888888888, \"#fdca26\"], [1.0, \"#f0f921\"]], \"type\": \"heatmap\"}], \"heatmapgl\": [{\"colorbar\": {\"outlinewidth\": 0, \"ticks\": \"\"}, \"colorscale\": [[0.0, \"#0d0887\"], [0.1111111111111111, \"#46039f\"], [0.2222222222222222, \"#7201a8\"], [0.3333333333333333, \"#9c179e\"], [0.4444444444444444, \"#bd3786\"], [0.5555555555555556, \"#d8576b\"], [0.6666666666666666, \"#ed7953\"], [0.7777777777777778, \"#fb9f3a\"], [0.8888888888888888, \"#fdca26\"], [1.0, \"#f0f921\"]], \"type\": \"heatmapgl\"}], \"histogram\": [{\"marker\": {\"colorbar\": {\"outlinewidth\": 0, \"ticks\": \"\"}}, \"type\": \"histogram\"}], \"histogram2d\": [{\"colorbar\": {\"outlinewidth\": 0, \"ticks\": \"\"}, \"colorscale\": [[0.0, \"#0d0887\"], [0.1111111111111111, \"#46039f\"], [0.2222222222222222, \"#7201a8\"], [0.3333333333333333, \"#9c179e\"], [0.4444444444444444, \"#bd3786\"], [0.5555555555555556, \"#d8576b\"], [0.6666666666666666, \"#ed7953\"], [0.7777777777777778, \"#fb9f3a\"], [0.8888888888888888, \"#fdca26\"], [1.0, \"#f0f921\"]], \"type\": \"histogram2d\"}], \"histogram2dcontour\": [{\"colorbar\": {\"outlinewidth\": 0, \"ticks\": \"\"}, \"colorscale\": [[0.0, \"#0d0887\"], [0.1111111111111111, \"#46039f\"], [0.2222222222222222, \"#7201a8\"], [0.3333333333333333, \"#9c179e\"], [0.4444444444444444, \"#bd3786\"], [0.5555555555555556, \"#d8576b\"], [0.6666666666666666, \"#ed7953\"], [0.7777777777777778, \"#fb9f3a\"], [0.8888888888888888, \"#fdca26\"], [1.0, \"#f0f921\"]], \"type\": \"histogram2dcontour\"}], \"mesh3d\": [{\"colorbar\": {\"outlinewidth\": 0, \"ticks\": \"\"}, \"type\": \"mesh3d\"}], \"parcoords\": [{\"line\": {\"colorbar\": {\"outlinewidth\": 0, \"ticks\": \"\"}}, \"type\": \"parcoords\"}], \"pie\": [{\"automargin\": true, \"type\": \"pie\"}], \"scatter\": [{\"marker\": {\"colorbar\": {\"outlinewidth\": 0, \"ticks\": \"\"}}, \"type\": \"scatter\"}], \"scatter3d\": [{\"line\": {\"colorbar\": {\"outlinewidth\": 0, \"ticks\": \"\"}}, \"marker\": {\"colorbar\": {\"outlinewidth\": 0, \"ticks\": \"\"}}, \"type\": \"scatter3d\"}], \"scattercarpet\": [{\"marker\": {\"colorbar\": {\"outlinewidth\": 0, \"ticks\": \"\"}}, \"type\": \"scattercarpet\"}], \"scattergeo\": [{\"marker\": {\"colorbar\": {\"outlinewidth\": 0, \"ticks\": \"\"}}, \"type\": \"scattergeo\"}], \"scattergl\": [{\"marker\": {\"colorbar\": {\"outlinewidth\": 0, \"ticks\": \"\"}}, \"type\": \"scattergl\"}], \"scattermapbox\": [{\"marker\": {\"colorbar\": {\"outlinewidth\": 0, \"ticks\": \"\"}}, \"type\": \"scattermapbox\"}], \"scatterpolar\": [{\"marker\": {\"colorbar\": {\"outlinewidth\": 0, \"ticks\": \"\"}}, \"type\": \"scatterpolar\"}], \"scatterpolargl\": [{\"marker\": {\"colorbar\": {\"outlinewidth\": 0, \"ticks\": \"\"}}, \"type\": \"scatterpolargl\"}], \"scatterternary\": [{\"marker\": {\"colorbar\": {\"outlinewidth\": 0, \"ticks\": \"\"}}, \"type\": \"scatterternary\"}], \"surface\": [{\"colorbar\": {\"outlinewidth\": 0, \"ticks\": \"\"}, \"colorscale\": [[0.0, \"#0d0887\"], [0.1111111111111111, \"#46039f\"], [0.2222222222222222, \"#7201a8\"], [0.3333333333333333, \"#9c179e\"], [0.4444444444444444, \"#bd3786\"], [0.5555555555555556, \"#d8576b\"], [0.6666666666666666, \"#ed7953\"], [0.7777777777777778, \"#fb9f3a\"], [0.8888888888888888, \"#fdca26\"], [1.0, \"#f0f921\"]], \"type\": \"surface\"}], \"table\": [{\"cells\": {\"fill\": {\"color\": \"#EBF0F8\"}, \"line\": {\"color\": \"white\"}}, \"header\": {\"fill\": {\"color\": \"#C8D4E3\"}, \"line\": {\"color\": \"white\"}}, \"type\": \"table\"}]}, \"layout\": {\"annotationdefaults\": {\"arrowcolor\": \"#2a3f5f\", \"arrowhead\": 0, \"arrowwidth\": 1}, \"coloraxis\": {\"colorbar\": {\"outlinewidth\": 0, \"ticks\": \"\"}}, \"colorscale\": {\"diverging\": [[0, \"#8e0152\"], [0.1, \"#c51b7d\"], [0.2, \"#de77ae\"], [0.3, \"#f1b6da\"], [0.4, \"#fde0ef\"], [0.5, \"#f7f7f7\"], [0.6, \"#e6f5d0\"], [0.7, \"#b8e186\"], [0.8, \"#7fbc41\"], [0.9, \"#4d9221\"], [1, \"#276419\"]], \"sequential\": [[0.0, \"#0d0887\"], [0.1111111111111111, \"#46039f\"], [0.2222222222222222, \"#7201a8\"], [0.3333333333333333, \"#9c179e\"], [0.4444444444444444, \"#bd3786\"], [0.5555555555555556, \"#d8576b\"], [0.6666666666666666, \"#ed7953\"], [0.7777777777777778, \"#fb9f3a\"], [0.8888888888888888, \"#fdca26\"], [1.0, \"#f0f921\"]], \"sequentialminus\": [[0.0, \"#0d0887\"], [0.1111111111111111, \"#46039f\"], [0.2222222222222222, \"#7201a8\"], [0.3333333333333333, \"#9c179e\"], [0.4444444444444444, \"#bd3786\"], [0.5555555555555556, \"#d8576b\"], [0.6666666666666666, \"#ed7953\"], [0.7777777777777778, \"#fb9f3a\"], [0.8888888888888888, \"#fdca26\"], [1.0, \"#f0f921\"]]}, \"colorway\": [\"#636efa\", \"#EF553B\", \"#00cc96\", \"#ab63fa\", \"#FFA15A\", \"#19d3f3\", \"#FF6692\", \"#B6E880\", \"#FF97FF\", \"#FECB52\"], \"font\": {\"color\": \"#2a3f5f\"}, \"geo\": {\"bgcolor\": \"white\", \"lakecolor\": \"white\", \"landcolor\": \"#E5ECF6\", \"showlakes\": true, \"showland\": true, \"subunitcolor\": \"white\"}, \"hoverlabel\": {\"align\": \"left\"}, \"hovermode\": \"closest\", \"mapbox\": {\"style\": \"light\"}, \"paper_bgcolor\": \"white\", \"plot_bgcolor\": \"#E5ECF6\", \"polar\": {\"angularaxis\": {\"gridcolor\": \"white\", \"linecolor\": \"white\", \"ticks\": \"\"}, \"bgcolor\": \"#E5ECF6\", \"radialaxis\": {\"gridcolor\": \"white\", \"linecolor\": \"white\", \"ticks\": \"\"}}, \"scene\": {\"xaxis\": {\"backgroundcolor\": \"#E5ECF6\", \"gridcolor\": \"white\", \"gridwidth\": 2, \"linecolor\": \"white\", \"showbackground\": true, \"ticks\": \"\", \"zerolinecolor\": \"white\"}, \"yaxis\": {\"backgroundcolor\": \"#E5ECF6\", \"gridcolor\": \"white\", \"gridwidth\": 2, \"linecolor\": \"white\", \"showbackground\": true, \"ticks\": \"\", \"zerolinecolor\": \"white\"}, \"zaxis\": {\"backgroundcolor\": \"#E5ECF6\", \"gridcolor\": \"white\", \"gridwidth\": 2, \"linecolor\": \"white\", \"showbackground\": true, \"ticks\": \"\", \"zerolinecolor\": \"white\"}}, \"shapedefaults\": {\"line\": {\"color\": \"#2a3f5f\"}}, \"ternary\": {\"aaxis\": {\"gridcolor\": \"white\", \"linecolor\": \"white\", \"ticks\": \"\"}, \"baxis\": {\"gridcolor\": \"white\", \"linecolor\": \"white\", \"ticks\": \"\"}, \"bgcolor\": \"#E5ECF6\", \"caxis\": {\"gridcolor\": \"white\", \"linecolor\": \"white\", \"ticks\": \"\"}}, \"title\": {\"x\": 0.05}, \"xaxis\": {\"automargin\": true, \"gridcolor\": \"white\", \"linecolor\": \"white\", \"ticks\": \"\", \"title\": {\"standoff\": 15}, \"zerolinecolor\": \"white\", \"zerolinewidth\": 2}, \"yaxis\": {\"automargin\": true, \"gridcolor\": \"white\", \"linecolor\": \"white\", \"ticks\": \"\", \"title\": {\"standoff\": 15}, \"zerolinecolor\": \"white\", \"zerolinewidth\": 2}}}, \"title\": {\"text\": \"dc = us3\"}, \"width\": 700, \"xaxis\": {\"anchor\": \"y\", \"domain\": [0.0, 1.0], \"title\": {\"text\": \"Number of sigmas\"}}, \"yaxis\": {\"anchor\": \"x\", \"domain\": [0.0, 1.0], \"title\": {\"text\": \"Number of anomalies\"}}},\n",
       "                        {\"responsive\": true}\n",
       "                    ).then(function(){\n",
       "                            \n",
       "var gd = document.getElementById('e448b8f8-eb03-4442-8f95-3d6bc1028ff6');\n",
       "var x = new MutationObserver(function (mutations, observer) {{\n",
       "        var display = window.getComputedStyle(gd).display;\n",
       "        if (!display || display === 'none') {{\n",
       "            console.log([gd, 'removed!']);\n",
       "            Plotly.purge(gd);\n",
       "            observer.disconnect();\n",
       "        }}\n",
       "}});\n",
       "\n",
       "// Listen for the removal of the full notebook cells\n",
       "var notebookContainer = gd.closest('#notebook-container');\n",
       "if (notebookContainer) {{\n",
       "    x.observe(notebookContainer, {childList: true});\n",
       "}}\n",
       "\n",
       "// Listen for the clearing of the current output cell\n",
       "var outputEl = gd.closest('.output');\n",
       "if (outputEl) {{\n",
       "    x.observe(outputEl, {childList: true});\n",
       "}}\n",
       "\n",
       "                        })\n",
       "                };\n",
       "                });\n",
       "            </script>\n",
       "        </div>"
      ]
     },
     "metadata": {},
     "output_type": "display_data"
    },
    {
     "data": {
      "application/vnd.plotly.v1+json": {
       "config": {
        "plotlyServerURL": "https://plot.ly"
       },
       "data": [
        {
         "name": "main error and mean",
         "type": "scatter",
         "x": [
          4,
          4.1,
          4.2,
          4.3,
          4.4,
          4.5,
          4.6,
          4.7,
          4.8,
          4.9,
          5,
          5.1,
          5.2,
          5.3,
          5.4,
          5.5,
          5.6,
          5.7,
          5.8,
          5.9,
          6,
          6.1,
          6.2,
          6.300000000000001,
          6.4
         ],
         "xaxis": "x",
         "y": [
          471,
          389,
          314,
          257,
          209,
          176,
          141,
          119,
          101,
          91,
          80,
          72,
          66,
          59,
          55,
          47,
          39,
          37,
          35,
          32,
          32,
          30,
          29,
          29,
          24
         ],
         "yaxis": "y"
        },
        {
         "marker": {
          "color": "blue"
         },
         "name": "main error ",
         "type": "scatter",
         "x": [
          4,
          4.1,
          4.2,
          4.3,
          4.4,
          4.5,
          4.6,
          4.7,
          4.8,
          4.9,
          5,
          5.1,
          5.2,
          5.3,
          5.4,
          5.5,
          5.6,
          5.7,
          5.8,
          5.9,
          6,
          6.1,
          6.2,
          6.300000000000001,
          6.4
         ],
         "xaxis": "x",
         "y": [
          1673,
          1562,
          1458,
          1338,
          1232,
          1135,
          1036,
          940,
          864,
          787,
          714,
          646,
          592,
          544,
          499,
          443,
          402,
          357,
          318,
          288,
          264,
          241,
          219,
          200,
          189
         ],
         "yaxis": "y"
        },
        {
         "marker": {
          "color": "green"
         },
         "name": "mean",
         "type": "scatter",
         "x": [
          4,
          4.1,
          4.2,
          4.3,
          4.4,
          4.5,
          4.6,
          4.7,
          4.8,
          4.9,
          5,
          5.1,
          5.2,
          5.3,
          5.4,
          5.5,
          5.6,
          5.7,
          5.8,
          5.9,
          6,
          6.1,
          6.2,
          6.300000000000001,
          6.4
         ],
         "xaxis": "x",
         "y": [
          1183,
          1007,
          843,
          712,
          600,
          526,
          456,
          379,
          332,
          284,
          248,
          221,
          199,
          181,
          168,
          150,
          137,
          128,
          118,
          113,
          106,
          95,
          90,
          87,
          76
         ],
         "yaxis": "y"
        },
        {
         "marker": {
          "color": "gold"
         },
         "name": "variance",
         "type": "scatter",
         "x": [
          4,
          4.1,
          4.2,
          4.3,
          4.4,
          4.5,
          4.6,
          4.7,
          4.8,
          4.9,
          5,
          5.1,
          5.2,
          5.3,
          5.4,
          5.5,
          5.6,
          5.7,
          5.8,
          5.9,
          6,
          6.1,
          6.2,
          6.300000000000001,
          6.4
         ],
         "xaxis": "x",
         "y": [
          340,
          319,
          302,
          289,
          276,
          268,
          254,
          242,
          230,
          218,
          210,
          204,
          195,
          189,
          181,
          170,
          161,
          155,
          150,
          144,
          140,
          133,
          125,
          118,
          116
         ],
         "yaxis": "y"
        }
       ],
       "layout": {
        "height": 500,
        "template": {
         "data": {
          "bar": [
           {
            "error_x": {
             "color": "#2a3f5f"
            },
            "error_y": {
             "color": "#2a3f5f"
            },
            "marker": {
             "line": {
              "color": "#E5ECF6",
              "width": 0.5
             }
            },
            "type": "bar"
           }
          ],
          "barpolar": [
           {
            "marker": {
             "line": {
              "color": "#E5ECF6",
              "width": 0.5
             }
            },
            "type": "barpolar"
           }
          ],
          "carpet": [
           {
            "aaxis": {
             "endlinecolor": "#2a3f5f",
             "gridcolor": "white",
             "linecolor": "white",
             "minorgridcolor": "white",
             "startlinecolor": "#2a3f5f"
            },
            "baxis": {
             "endlinecolor": "#2a3f5f",
             "gridcolor": "white",
             "linecolor": "white",
             "minorgridcolor": "white",
             "startlinecolor": "#2a3f5f"
            },
            "type": "carpet"
           }
          ],
          "choropleth": [
           {
            "colorbar": {
             "outlinewidth": 0,
             "ticks": ""
            },
            "type": "choropleth"
           }
          ],
          "contour": [
           {
            "colorbar": {
             "outlinewidth": 0,
             "ticks": ""
            },
            "colorscale": [
             [
              0,
              "#0d0887"
             ],
             [
              0.1111111111111111,
              "#46039f"
             ],
             [
              0.2222222222222222,
              "#7201a8"
             ],
             [
              0.3333333333333333,
              "#9c179e"
             ],
             [
              0.4444444444444444,
              "#bd3786"
             ],
             [
              0.5555555555555556,
              "#d8576b"
             ],
             [
              0.6666666666666666,
              "#ed7953"
             ],
             [
              0.7777777777777778,
              "#fb9f3a"
             ],
             [
              0.8888888888888888,
              "#fdca26"
             ],
             [
              1,
              "#f0f921"
             ]
            ],
            "type": "contour"
           }
          ],
          "contourcarpet": [
           {
            "colorbar": {
             "outlinewidth": 0,
             "ticks": ""
            },
            "type": "contourcarpet"
           }
          ],
          "heatmap": [
           {
            "colorbar": {
             "outlinewidth": 0,
             "ticks": ""
            },
            "colorscale": [
             [
              0,
              "#0d0887"
             ],
             [
              0.1111111111111111,
              "#46039f"
             ],
             [
              0.2222222222222222,
              "#7201a8"
             ],
             [
              0.3333333333333333,
              "#9c179e"
             ],
             [
              0.4444444444444444,
              "#bd3786"
             ],
             [
              0.5555555555555556,
              "#d8576b"
             ],
             [
              0.6666666666666666,
              "#ed7953"
             ],
             [
              0.7777777777777778,
              "#fb9f3a"
             ],
             [
              0.8888888888888888,
              "#fdca26"
             ],
             [
              1,
              "#f0f921"
             ]
            ],
            "type": "heatmap"
           }
          ],
          "heatmapgl": [
           {
            "colorbar": {
             "outlinewidth": 0,
             "ticks": ""
            },
            "colorscale": [
             [
              0,
              "#0d0887"
             ],
             [
              0.1111111111111111,
              "#46039f"
             ],
             [
              0.2222222222222222,
              "#7201a8"
             ],
             [
              0.3333333333333333,
              "#9c179e"
             ],
             [
              0.4444444444444444,
              "#bd3786"
             ],
             [
              0.5555555555555556,
              "#d8576b"
             ],
             [
              0.6666666666666666,
              "#ed7953"
             ],
             [
              0.7777777777777778,
              "#fb9f3a"
             ],
             [
              0.8888888888888888,
              "#fdca26"
             ],
             [
              1,
              "#f0f921"
             ]
            ],
            "type": "heatmapgl"
           }
          ],
          "histogram": [
           {
            "marker": {
             "colorbar": {
              "outlinewidth": 0,
              "ticks": ""
             }
            },
            "type": "histogram"
           }
          ],
          "histogram2d": [
           {
            "colorbar": {
             "outlinewidth": 0,
             "ticks": ""
            },
            "colorscale": [
             [
              0,
              "#0d0887"
             ],
             [
              0.1111111111111111,
              "#46039f"
             ],
             [
              0.2222222222222222,
              "#7201a8"
             ],
             [
              0.3333333333333333,
              "#9c179e"
             ],
             [
              0.4444444444444444,
              "#bd3786"
             ],
             [
              0.5555555555555556,
              "#d8576b"
             ],
             [
              0.6666666666666666,
              "#ed7953"
             ],
             [
              0.7777777777777778,
              "#fb9f3a"
             ],
             [
              0.8888888888888888,
              "#fdca26"
             ],
             [
              1,
              "#f0f921"
             ]
            ],
            "type": "histogram2d"
           }
          ],
          "histogram2dcontour": [
           {
            "colorbar": {
             "outlinewidth": 0,
             "ticks": ""
            },
            "colorscale": [
             [
              0,
              "#0d0887"
             ],
             [
              0.1111111111111111,
              "#46039f"
             ],
             [
              0.2222222222222222,
              "#7201a8"
             ],
             [
              0.3333333333333333,
              "#9c179e"
             ],
             [
              0.4444444444444444,
              "#bd3786"
             ],
             [
              0.5555555555555556,
              "#d8576b"
             ],
             [
              0.6666666666666666,
              "#ed7953"
             ],
             [
              0.7777777777777778,
              "#fb9f3a"
             ],
             [
              0.8888888888888888,
              "#fdca26"
             ],
             [
              1,
              "#f0f921"
             ]
            ],
            "type": "histogram2dcontour"
           }
          ],
          "mesh3d": [
           {
            "colorbar": {
             "outlinewidth": 0,
             "ticks": ""
            },
            "type": "mesh3d"
           }
          ],
          "parcoords": [
           {
            "line": {
             "colorbar": {
              "outlinewidth": 0,
              "ticks": ""
             }
            },
            "type": "parcoords"
           }
          ],
          "pie": [
           {
            "automargin": true,
            "type": "pie"
           }
          ],
          "scatter": [
           {
            "marker": {
             "colorbar": {
              "outlinewidth": 0,
              "ticks": ""
             }
            },
            "type": "scatter"
           }
          ],
          "scatter3d": [
           {
            "line": {
             "colorbar": {
              "outlinewidth": 0,
              "ticks": ""
             }
            },
            "marker": {
             "colorbar": {
              "outlinewidth": 0,
              "ticks": ""
             }
            },
            "type": "scatter3d"
           }
          ],
          "scattercarpet": [
           {
            "marker": {
             "colorbar": {
              "outlinewidth": 0,
              "ticks": ""
             }
            },
            "type": "scattercarpet"
           }
          ],
          "scattergeo": [
           {
            "marker": {
             "colorbar": {
              "outlinewidth": 0,
              "ticks": ""
             }
            },
            "type": "scattergeo"
           }
          ],
          "scattergl": [
           {
            "marker": {
             "colorbar": {
              "outlinewidth": 0,
              "ticks": ""
             }
            },
            "type": "scattergl"
           }
          ],
          "scattermapbox": [
           {
            "marker": {
             "colorbar": {
              "outlinewidth": 0,
              "ticks": ""
             }
            },
            "type": "scattermapbox"
           }
          ],
          "scatterpolar": [
           {
            "marker": {
             "colorbar": {
              "outlinewidth": 0,
              "ticks": ""
             }
            },
            "type": "scatterpolar"
           }
          ],
          "scatterpolargl": [
           {
            "marker": {
             "colorbar": {
              "outlinewidth": 0,
              "ticks": ""
             }
            },
            "type": "scatterpolargl"
           }
          ],
          "scatterternary": [
           {
            "marker": {
             "colorbar": {
              "outlinewidth": 0,
              "ticks": ""
             }
            },
            "type": "scatterternary"
           }
          ],
          "surface": [
           {
            "colorbar": {
             "outlinewidth": 0,
             "ticks": ""
            },
            "colorscale": [
             [
              0,
              "#0d0887"
             ],
             [
              0.1111111111111111,
              "#46039f"
             ],
             [
              0.2222222222222222,
              "#7201a8"
             ],
             [
              0.3333333333333333,
              "#9c179e"
             ],
             [
              0.4444444444444444,
              "#bd3786"
             ],
             [
              0.5555555555555556,
              "#d8576b"
             ],
             [
              0.6666666666666666,
              "#ed7953"
             ],
             [
              0.7777777777777778,
              "#fb9f3a"
             ],
             [
              0.8888888888888888,
              "#fdca26"
             ],
             [
              1,
              "#f0f921"
             ]
            ],
            "type": "surface"
           }
          ],
          "table": [
           {
            "cells": {
             "fill": {
              "color": "#EBF0F8"
             },
             "line": {
              "color": "white"
             }
            },
            "header": {
             "fill": {
              "color": "#C8D4E3"
             },
             "line": {
              "color": "white"
             }
            },
            "type": "table"
           }
          ]
         },
         "layout": {
          "annotationdefaults": {
           "arrowcolor": "#2a3f5f",
           "arrowhead": 0,
           "arrowwidth": 1
          },
          "coloraxis": {
           "colorbar": {
            "outlinewidth": 0,
            "ticks": ""
           }
          },
          "colorscale": {
           "diverging": [
            [
             0,
             "#8e0152"
            ],
            [
             0.1,
             "#c51b7d"
            ],
            [
             0.2,
             "#de77ae"
            ],
            [
             0.3,
             "#f1b6da"
            ],
            [
             0.4,
             "#fde0ef"
            ],
            [
             0.5,
             "#f7f7f7"
            ],
            [
             0.6,
             "#e6f5d0"
            ],
            [
             0.7,
             "#b8e186"
            ],
            [
             0.8,
             "#7fbc41"
            ],
            [
             0.9,
             "#4d9221"
            ],
            [
             1,
             "#276419"
            ]
           ],
           "sequential": [
            [
             0,
             "#0d0887"
            ],
            [
             0.1111111111111111,
             "#46039f"
            ],
            [
             0.2222222222222222,
             "#7201a8"
            ],
            [
             0.3333333333333333,
             "#9c179e"
            ],
            [
             0.4444444444444444,
             "#bd3786"
            ],
            [
             0.5555555555555556,
             "#d8576b"
            ],
            [
             0.6666666666666666,
             "#ed7953"
            ],
            [
             0.7777777777777778,
             "#fb9f3a"
            ],
            [
             0.8888888888888888,
             "#fdca26"
            ],
            [
             1,
             "#f0f921"
            ]
           ],
           "sequentialminus": [
            [
             0,
             "#0d0887"
            ],
            [
             0.1111111111111111,
             "#46039f"
            ],
            [
             0.2222222222222222,
             "#7201a8"
            ],
            [
             0.3333333333333333,
             "#9c179e"
            ],
            [
             0.4444444444444444,
             "#bd3786"
            ],
            [
             0.5555555555555556,
             "#d8576b"
            ],
            [
             0.6666666666666666,
             "#ed7953"
            ],
            [
             0.7777777777777778,
             "#fb9f3a"
            ],
            [
             0.8888888888888888,
             "#fdca26"
            ],
            [
             1,
             "#f0f921"
            ]
           ]
          },
          "colorway": [
           "#636efa",
           "#EF553B",
           "#00cc96",
           "#ab63fa",
           "#FFA15A",
           "#19d3f3",
           "#FF6692",
           "#B6E880",
           "#FF97FF",
           "#FECB52"
          ],
          "font": {
           "color": "#2a3f5f"
          },
          "geo": {
           "bgcolor": "white",
           "lakecolor": "white",
           "landcolor": "#E5ECF6",
           "showlakes": true,
           "showland": true,
           "subunitcolor": "white"
          },
          "hoverlabel": {
           "align": "left"
          },
          "hovermode": "closest",
          "mapbox": {
           "style": "light"
          },
          "paper_bgcolor": "white",
          "plot_bgcolor": "#E5ECF6",
          "polar": {
           "angularaxis": {
            "gridcolor": "white",
            "linecolor": "white",
            "ticks": ""
           },
           "bgcolor": "#E5ECF6",
           "radialaxis": {
            "gridcolor": "white",
            "linecolor": "white",
            "ticks": ""
           }
          },
          "scene": {
           "xaxis": {
            "backgroundcolor": "#E5ECF6",
            "gridcolor": "white",
            "gridwidth": 2,
            "linecolor": "white",
            "showbackground": true,
            "ticks": "",
            "zerolinecolor": "white"
           },
           "yaxis": {
            "backgroundcolor": "#E5ECF6",
            "gridcolor": "white",
            "gridwidth": 2,
            "linecolor": "white",
            "showbackground": true,
            "ticks": "",
            "zerolinecolor": "white"
           },
           "zaxis": {
            "backgroundcolor": "#E5ECF6",
            "gridcolor": "white",
            "gridwidth": 2,
            "linecolor": "white",
            "showbackground": true,
            "ticks": "",
            "zerolinecolor": "white"
           }
          },
          "shapedefaults": {
           "line": {
            "color": "#2a3f5f"
           }
          },
          "ternary": {
           "aaxis": {
            "gridcolor": "white",
            "linecolor": "white",
            "ticks": ""
           },
           "baxis": {
            "gridcolor": "white",
            "linecolor": "white",
            "ticks": ""
           },
           "bgcolor": "#E5ECF6",
           "caxis": {
            "gridcolor": "white",
            "linecolor": "white",
            "ticks": ""
           }
          },
          "title": {
           "x": 0.05
          },
          "xaxis": {
           "automargin": true,
           "gridcolor": "white",
           "linecolor": "white",
           "ticks": "",
           "title": {
            "standoff": 15
           },
           "zerolinecolor": "white",
           "zerolinewidth": 2
          },
          "yaxis": {
           "automargin": true,
           "gridcolor": "white",
           "linecolor": "white",
           "ticks": "",
           "title": {
            "standoff": 15
           },
           "zerolinecolor": "white",
           "zerolinewidth": 2
          }
         }
        },
        "title": {
         "text": "dc = au2-acs1"
        },
        "width": 700,
        "xaxis": {
         "anchor": "y",
         "domain": [
          0,
          1
         ],
         "title": {
          "text": "Number of sigmas"
         }
        },
        "yaxis": {
         "anchor": "x",
         "domain": [
          0,
          1
         ],
         "title": {
          "text": "Number of anomalies"
         }
        }
       }
      },
      "text/html": [
       "<div>\n",
       "        \n",
       "        \n",
       "            <div id=\"3c2b4a73-2d6c-481c-8a13-49d458f124f6\" class=\"plotly-graph-div\" style=\"height:500px; width:700px;\"></div>\n",
       "            <script type=\"text/javascript\">\n",
       "                require([\"plotly\"], function(Plotly) {\n",
       "                    window.PLOTLYENV=window.PLOTLYENV || {};\n",
       "                    \n",
       "                if (document.getElementById(\"3c2b4a73-2d6c-481c-8a13-49d458f124f6\")) {\n",
       "                    Plotly.newPlot(\n",
       "                        '3c2b4a73-2d6c-481c-8a13-49d458f124f6',\n",
       "                        [{\"name\": \"main error and mean\", \"type\": \"scatter\", \"x\": [4.0, 4.1, 4.2, 4.3, 4.4, 4.5, 4.6, 4.7, 4.8, 4.9, 5.0, 5.1, 5.2, 5.3, 5.4, 5.5, 5.6, 5.7, 5.8, 5.9, 6.0, 6.1, 6.2, 6.300000000000001, 6.4], \"xaxis\": \"x\", \"y\": [471, 389, 314, 257, 209, 176, 141, 119, 101, 91, 80, 72, 66, 59, 55, 47, 39, 37, 35, 32, 32, 30, 29, 29, 24], \"yaxis\": \"y\"}, {\"marker\": {\"color\": \"blue\"}, \"name\": \"main error \", \"type\": \"scatter\", \"x\": [4.0, 4.1, 4.2, 4.3, 4.4, 4.5, 4.6, 4.7, 4.8, 4.9, 5.0, 5.1, 5.2, 5.3, 5.4, 5.5, 5.6, 5.7, 5.8, 5.9, 6.0, 6.1, 6.2, 6.300000000000001, 6.4], \"xaxis\": \"x\", \"y\": [1673, 1562, 1458, 1338, 1232, 1135, 1036, 940, 864, 787, 714, 646, 592, 544, 499, 443, 402, 357, 318, 288, 264, 241, 219, 200, 189], \"yaxis\": \"y\"}, {\"marker\": {\"color\": \"green\"}, \"name\": \"mean\", \"type\": \"scatter\", \"x\": [4.0, 4.1, 4.2, 4.3, 4.4, 4.5, 4.6, 4.7, 4.8, 4.9, 5.0, 5.1, 5.2, 5.3, 5.4, 5.5, 5.6, 5.7, 5.8, 5.9, 6.0, 6.1, 6.2, 6.300000000000001, 6.4], \"xaxis\": \"x\", \"y\": [1183, 1007, 843, 712, 600, 526, 456, 379, 332, 284, 248, 221, 199, 181, 168, 150, 137, 128, 118, 113, 106, 95, 90, 87, 76], \"yaxis\": \"y\"}, {\"marker\": {\"color\": \"gold\"}, \"name\": \"variance\", \"type\": \"scatter\", \"x\": [4.0, 4.1, 4.2, 4.3, 4.4, 4.5, 4.6, 4.7, 4.8, 4.9, 5.0, 5.1, 5.2, 5.3, 5.4, 5.5, 5.6, 5.7, 5.8, 5.9, 6.0, 6.1, 6.2, 6.300000000000001, 6.4], \"xaxis\": \"x\", \"y\": [340, 319, 302, 289, 276, 268, 254, 242, 230, 218, 210, 204, 195, 189, 181, 170, 161, 155, 150, 144, 140, 133, 125, 118, 116], \"yaxis\": \"y\"}],\n",
       "                        {\"height\": 500, \"template\": {\"data\": {\"bar\": [{\"error_x\": {\"color\": \"#2a3f5f\"}, \"error_y\": {\"color\": \"#2a3f5f\"}, \"marker\": {\"line\": {\"color\": \"#E5ECF6\", \"width\": 0.5}}, \"type\": \"bar\"}], \"barpolar\": [{\"marker\": {\"line\": {\"color\": \"#E5ECF6\", \"width\": 0.5}}, \"type\": \"barpolar\"}], \"carpet\": [{\"aaxis\": {\"endlinecolor\": \"#2a3f5f\", \"gridcolor\": \"white\", \"linecolor\": \"white\", \"minorgridcolor\": \"white\", \"startlinecolor\": \"#2a3f5f\"}, \"baxis\": {\"endlinecolor\": \"#2a3f5f\", \"gridcolor\": \"white\", \"linecolor\": \"white\", \"minorgridcolor\": \"white\", \"startlinecolor\": \"#2a3f5f\"}, \"type\": \"carpet\"}], \"choropleth\": [{\"colorbar\": {\"outlinewidth\": 0, \"ticks\": \"\"}, \"type\": \"choropleth\"}], \"contour\": [{\"colorbar\": {\"outlinewidth\": 0, \"ticks\": \"\"}, \"colorscale\": [[0.0, \"#0d0887\"], [0.1111111111111111, \"#46039f\"], [0.2222222222222222, \"#7201a8\"], [0.3333333333333333, \"#9c179e\"], [0.4444444444444444, \"#bd3786\"], [0.5555555555555556, \"#d8576b\"], [0.6666666666666666, \"#ed7953\"], [0.7777777777777778, \"#fb9f3a\"], [0.8888888888888888, \"#fdca26\"], [1.0, \"#f0f921\"]], \"type\": \"contour\"}], \"contourcarpet\": [{\"colorbar\": {\"outlinewidth\": 0, \"ticks\": \"\"}, \"type\": \"contourcarpet\"}], \"heatmap\": [{\"colorbar\": {\"outlinewidth\": 0, \"ticks\": \"\"}, \"colorscale\": [[0.0, \"#0d0887\"], [0.1111111111111111, \"#46039f\"], [0.2222222222222222, \"#7201a8\"], [0.3333333333333333, \"#9c179e\"], [0.4444444444444444, \"#bd3786\"], [0.5555555555555556, \"#d8576b\"], [0.6666666666666666, \"#ed7953\"], [0.7777777777777778, \"#fb9f3a\"], [0.8888888888888888, \"#fdca26\"], [1.0, \"#f0f921\"]], \"type\": \"heatmap\"}], \"heatmapgl\": [{\"colorbar\": {\"outlinewidth\": 0, \"ticks\": \"\"}, \"colorscale\": [[0.0, \"#0d0887\"], [0.1111111111111111, \"#46039f\"], [0.2222222222222222, \"#7201a8\"], [0.3333333333333333, \"#9c179e\"], [0.4444444444444444, \"#bd3786\"], [0.5555555555555556, \"#d8576b\"], [0.6666666666666666, \"#ed7953\"], [0.7777777777777778, \"#fb9f3a\"], [0.8888888888888888, \"#fdca26\"], [1.0, \"#f0f921\"]], \"type\": \"heatmapgl\"}], \"histogram\": [{\"marker\": {\"colorbar\": {\"outlinewidth\": 0, \"ticks\": \"\"}}, \"type\": \"histogram\"}], \"histogram2d\": [{\"colorbar\": {\"outlinewidth\": 0, \"ticks\": \"\"}, \"colorscale\": [[0.0, \"#0d0887\"], [0.1111111111111111, \"#46039f\"], [0.2222222222222222, \"#7201a8\"], [0.3333333333333333, \"#9c179e\"], [0.4444444444444444, \"#bd3786\"], [0.5555555555555556, \"#d8576b\"], [0.6666666666666666, \"#ed7953\"], [0.7777777777777778, \"#fb9f3a\"], [0.8888888888888888, \"#fdca26\"], [1.0, \"#f0f921\"]], \"type\": \"histogram2d\"}], \"histogram2dcontour\": [{\"colorbar\": {\"outlinewidth\": 0, \"ticks\": \"\"}, \"colorscale\": [[0.0, \"#0d0887\"], [0.1111111111111111, \"#46039f\"], [0.2222222222222222, \"#7201a8\"], [0.3333333333333333, \"#9c179e\"], [0.4444444444444444, \"#bd3786\"], [0.5555555555555556, \"#d8576b\"], [0.6666666666666666, \"#ed7953\"], [0.7777777777777778, \"#fb9f3a\"], [0.8888888888888888, \"#fdca26\"], [1.0, \"#f0f921\"]], \"type\": \"histogram2dcontour\"}], \"mesh3d\": [{\"colorbar\": {\"outlinewidth\": 0, \"ticks\": \"\"}, \"type\": \"mesh3d\"}], \"parcoords\": [{\"line\": {\"colorbar\": {\"outlinewidth\": 0, \"ticks\": \"\"}}, \"type\": \"parcoords\"}], \"pie\": [{\"automargin\": true, \"type\": \"pie\"}], \"scatter\": [{\"marker\": {\"colorbar\": {\"outlinewidth\": 0, \"ticks\": \"\"}}, \"type\": \"scatter\"}], \"scatter3d\": [{\"line\": {\"colorbar\": {\"outlinewidth\": 0, \"ticks\": \"\"}}, \"marker\": {\"colorbar\": {\"outlinewidth\": 0, \"ticks\": \"\"}}, \"type\": \"scatter3d\"}], \"scattercarpet\": [{\"marker\": {\"colorbar\": {\"outlinewidth\": 0, \"ticks\": \"\"}}, \"type\": \"scattercarpet\"}], \"scattergeo\": [{\"marker\": {\"colorbar\": {\"outlinewidth\": 0, \"ticks\": \"\"}}, \"type\": \"scattergeo\"}], \"scattergl\": [{\"marker\": {\"colorbar\": {\"outlinewidth\": 0, \"ticks\": \"\"}}, \"type\": \"scattergl\"}], \"scattermapbox\": [{\"marker\": {\"colorbar\": {\"outlinewidth\": 0, \"ticks\": \"\"}}, \"type\": \"scattermapbox\"}], \"scatterpolar\": [{\"marker\": {\"colorbar\": {\"outlinewidth\": 0, \"ticks\": \"\"}}, \"type\": \"scatterpolar\"}], \"scatterpolargl\": [{\"marker\": {\"colorbar\": {\"outlinewidth\": 0, \"ticks\": \"\"}}, \"type\": \"scatterpolargl\"}], \"scatterternary\": [{\"marker\": {\"colorbar\": {\"outlinewidth\": 0, \"ticks\": \"\"}}, \"type\": \"scatterternary\"}], \"surface\": [{\"colorbar\": {\"outlinewidth\": 0, \"ticks\": \"\"}, \"colorscale\": [[0.0, \"#0d0887\"], [0.1111111111111111, \"#46039f\"], [0.2222222222222222, \"#7201a8\"], [0.3333333333333333, \"#9c179e\"], [0.4444444444444444, \"#bd3786\"], [0.5555555555555556, \"#d8576b\"], [0.6666666666666666, \"#ed7953\"], [0.7777777777777778, \"#fb9f3a\"], [0.8888888888888888, \"#fdca26\"], [1.0, \"#f0f921\"]], \"type\": \"surface\"}], \"table\": [{\"cells\": {\"fill\": {\"color\": \"#EBF0F8\"}, \"line\": {\"color\": \"white\"}}, \"header\": {\"fill\": {\"color\": \"#C8D4E3\"}, \"line\": {\"color\": \"white\"}}, \"type\": \"table\"}]}, \"layout\": {\"annotationdefaults\": {\"arrowcolor\": \"#2a3f5f\", \"arrowhead\": 0, \"arrowwidth\": 1}, \"coloraxis\": {\"colorbar\": {\"outlinewidth\": 0, \"ticks\": \"\"}}, \"colorscale\": {\"diverging\": [[0, \"#8e0152\"], [0.1, \"#c51b7d\"], [0.2, \"#de77ae\"], [0.3, \"#f1b6da\"], [0.4, \"#fde0ef\"], [0.5, \"#f7f7f7\"], [0.6, \"#e6f5d0\"], [0.7, \"#b8e186\"], [0.8, \"#7fbc41\"], [0.9, \"#4d9221\"], [1, \"#276419\"]], \"sequential\": [[0.0, \"#0d0887\"], [0.1111111111111111, \"#46039f\"], [0.2222222222222222, \"#7201a8\"], [0.3333333333333333, \"#9c179e\"], [0.4444444444444444, \"#bd3786\"], [0.5555555555555556, \"#d8576b\"], [0.6666666666666666, \"#ed7953\"], [0.7777777777777778, \"#fb9f3a\"], [0.8888888888888888, \"#fdca26\"], [1.0, \"#f0f921\"]], \"sequentialminus\": [[0.0, \"#0d0887\"], [0.1111111111111111, \"#46039f\"], [0.2222222222222222, \"#7201a8\"], [0.3333333333333333, \"#9c179e\"], [0.4444444444444444, \"#bd3786\"], [0.5555555555555556, \"#d8576b\"], [0.6666666666666666, \"#ed7953\"], [0.7777777777777778, \"#fb9f3a\"], [0.8888888888888888, \"#fdca26\"], [1.0, \"#f0f921\"]]}, \"colorway\": [\"#636efa\", \"#EF553B\", \"#00cc96\", \"#ab63fa\", \"#FFA15A\", \"#19d3f3\", \"#FF6692\", \"#B6E880\", \"#FF97FF\", \"#FECB52\"], \"font\": {\"color\": \"#2a3f5f\"}, \"geo\": {\"bgcolor\": \"white\", \"lakecolor\": \"white\", \"landcolor\": \"#E5ECF6\", \"showlakes\": true, \"showland\": true, \"subunitcolor\": \"white\"}, \"hoverlabel\": {\"align\": \"left\"}, \"hovermode\": \"closest\", \"mapbox\": {\"style\": \"light\"}, \"paper_bgcolor\": \"white\", \"plot_bgcolor\": \"#E5ECF6\", \"polar\": {\"angularaxis\": {\"gridcolor\": \"white\", \"linecolor\": \"white\", \"ticks\": \"\"}, \"bgcolor\": \"#E5ECF6\", \"radialaxis\": {\"gridcolor\": \"white\", \"linecolor\": \"white\", \"ticks\": \"\"}}, \"scene\": {\"xaxis\": {\"backgroundcolor\": \"#E5ECF6\", \"gridcolor\": \"white\", \"gridwidth\": 2, \"linecolor\": \"white\", \"showbackground\": true, \"ticks\": \"\", \"zerolinecolor\": \"white\"}, \"yaxis\": {\"backgroundcolor\": \"#E5ECF6\", \"gridcolor\": \"white\", \"gridwidth\": 2, \"linecolor\": \"white\", \"showbackground\": true, \"ticks\": \"\", \"zerolinecolor\": \"white\"}, \"zaxis\": {\"backgroundcolor\": \"#E5ECF6\", \"gridcolor\": \"white\", \"gridwidth\": 2, \"linecolor\": \"white\", \"showbackground\": true, \"ticks\": \"\", \"zerolinecolor\": \"white\"}}, \"shapedefaults\": {\"line\": {\"color\": \"#2a3f5f\"}}, \"ternary\": {\"aaxis\": {\"gridcolor\": \"white\", \"linecolor\": \"white\", \"ticks\": \"\"}, \"baxis\": {\"gridcolor\": \"white\", \"linecolor\": \"white\", \"ticks\": \"\"}, \"bgcolor\": \"#E5ECF6\", \"caxis\": {\"gridcolor\": \"white\", \"linecolor\": \"white\", \"ticks\": \"\"}}, \"title\": {\"x\": 0.05}, \"xaxis\": {\"automargin\": true, \"gridcolor\": \"white\", \"linecolor\": \"white\", \"ticks\": \"\", \"title\": {\"standoff\": 15}, \"zerolinecolor\": \"white\", \"zerolinewidth\": 2}, \"yaxis\": {\"automargin\": true, \"gridcolor\": \"white\", \"linecolor\": \"white\", \"ticks\": \"\", \"title\": {\"standoff\": 15}, \"zerolinecolor\": \"white\", \"zerolinewidth\": 2}}}, \"title\": {\"text\": \"dc = au2-acs1\"}, \"width\": 700, \"xaxis\": {\"anchor\": \"y\", \"domain\": [0.0, 1.0], \"title\": {\"text\": \"Number of sigmas\"}}, \"yaxis\": {\"anchor\": \"x\", \"domain\": [0.0, 1.0], \"title\": {\"text\": \"Number of anomalies\"}}},\n",
       "                        {\"responsive\": true}\n",
       "                    ).then(function(){\n",
       "                            \n",
       "var gd = document.getElementById('3c2b4a73-2d6c-481c-8a13-49d458f124f6');\n",
       "var x = new MutationObserver(function (mutations, observer) {{\n",
       "        var display = window.getComputedStyle(gd).display;\n",
       "        if (!display || display === 'none') {{\n",
       "            console.log([gd, 'removed!']);\n",
       "            Plotly.purge(gd);\n",
       "            observer.disconnect();\n",
       "        }}\n",
       "}});\n",
       "\n",
       "// Listen for the removal of the full notebook cells\n",
       "var notebookContainer = gd.closest('#notebook-container');\n",
       "if (notebookContainer) {{\n",
       "    x.observe(notebookContainer, {childList: true});\n",
       "}}\n",
       "\n",
       "// Listen for the clearing of the current output cell\n",
       "var outputEl = gd.closest('.output');\n",
       "if (outputEl) {{\n",
       "    x.observe(outputEl, {childList: true});\n",
       "}}\n",
       "\n",
       "                        })\n",
       "                };\n",
       "                });\n",
       "            </script>\n",
       "        </div>"
      ]
     },
     "metadata": {},
     "output_type": "display_data"
    },
    {
     "data": {
      "application/vnd.plotly.v1+json": {
       "config": {
        "plotlyServerURL": "https://plot.ly"
       },
       "data": [
        {
         "name": "main error and mean",
         "type": "scatter",
         "x": [
          4,
          4.1,
          4.2,
          4.3,
          4.4,
          4.5,
          4.6,
          4.7,
          4.8,
          4.9,
          5,
          5.1,
          5.2,
          5.3,
          5.4,
          5.5,
          5.6,
          5.7,
          5.8,
          5.9,
          6,
          6.1,
          6.2,
          6.300000000000001,
          6.4,
          6.5,
          6.6,
          6.7,
          6.800000000000001,
          6.9,
          7,
          7.1,
          7.2,
          7.300000000000001,
          7.4,
          7.5,
          7.6
         ],
         "xaxis": "x",
         "y": [
          134,
          127,
          122,
          116,
          109,
          104,
          101,
          99,
          90,
          88,
          83,
          80,
          77,
          75,
          75,
          70,
          67,
          66,
          66,
          65,
          62,
          60,
          60,
          60,
          56,
          55,
          52,
          51,
          50,
          48,
          48,
          48,
          45,
          44,
          42,
          42,
          41
         ],
         "yaxis": "y"
        },
        {
         "marker": {
          "color": "blue"
         },
         "name": "main error ",
         "type": "scatter",
         "x": [
          4,
          4.1,
          4.2,
          4.3,
          4.4,
          4.5,
          4.6,
          4.7,
          4.8,
          4.9,
          5,
          5.1,
          5.2,
          5.3,
          5.4,
          5.5,
          5.6,
          5.7,
          5.8,
          5.9,
          6,
          6.1,
          6.2,
          6.300000000000001,
          6.4,
          6.5,
          6.6,
          6.7,
          6.800000000000001,
          6.9,
          7,
          7.1,
          7.2,
          7.300000000000001,
          7.4,
          7.5,
          7.6
         ],
         "xaxis": "x",
         "y": [
          499,
          460,
          440,
          408,
          385,
          362,
          342,
          323,
          308,
          302,
          289,
          277,
          268,
          258,
          253,
          247,
          243,
          240,
          236,
          231,
          228,
          224,
          220,
          216,
          211,
          202,
          199,
          191,
          189,
          186,
          183,
          176,
          174,
          169,
          163,
          162,
          161
         ],
         "yaxis": "y"
        },
        {
         "marker": {
          "color": "green"
         },
         "name": "mean",
         "type": "scatter",
         "x": [
          4,
          4.1,
          4.2,
          4.3,
          4.4,
          4.5,
          4.6,
          4.7,
          4.8,
          4.9,
          5,
          5.1,
          5.2,
          5.3,
          5.4,
          5.5,
          5.6,
          5.7,
          5.8,
          5.9,
          6,
          6.1,
          6.2,
          6.300000000000001,
          6.4,
          6.5,
          6.6,
          6.7,
          6.800000000000001,
          6.9,
          7,
          7.1,
          7.2,
          7.300000000000001,
          7.4,
          7.5,
          7.6
         ],
         "xaxis": "x",
         "y": [
          808,
          729,
          674,
          614,
          568,
          516,
          463,
          427,
          399,
          376,
          351,
          324,
          302,
          287,
          271,
          250,
          234,
          224,
          214,
          200,
          187,
          181,
          171,
          163,
          155,
          149,
          139,
          133,
          128,
          120,
          113,
          110,
          102,
          99,
          95,
          94,
          91
         ],
         "yaxis": "y"
        },
        {
         "marker": {
          "color": "gold"
         },
         "name": "variance",
         "type": "scatter",
         "x": [
          4,
          4.1,
          4.2,
          4.3,
          4.4,
          4.5,
          4.6,
          4.7,
          4.8,
          4.9,
          5,
          5.1,
          5.2,
          5.3,
          5.4,
          5.5,
          5.6,
          5.7,
          5.8,
          5.9,
          6,
          6.1,
          6.2,
          6.300000000000001,
          6.4,
          6.5,
          6.6,
          6.7,
          6.800000000000001,
          6.9,
          7,
          7.1,
          7.2,
          7.300000000000001,
          7.4,
          7.5,
          7.6
         ],
         "xaxis": "x",
         "y": [
          1484,
          1361,
          1246,
          1144,
          1053,
          967,
          888,
          820,
          759,
          682,
          626,
          579,
          542,
          497,
          453,
          424,
          384,
          357,
          337,
          317,
          300,
          286,
          268,
          250,
          236,
          228,
          219,
          214,
          204,
          191,
          177,
          170,
          157,
          155,
          149,
          144,
          136
         ],
         "yaxis": "y"
        }
       ],
       "layout": {
        "height": 500,
        "template": {
         "data": {
          "bar": [
           {
            "error_x": {
             "color": "#2a3f5f"
            },
            "error_y": {
             "color": "#2a3f5f"
            },
            "marker": {
             "line": {
              "color": "#E5ECF6",
              "width": 0.5
             }
            },
            "type": "bar"
           }
          ],
          "barpolar": [
           {
            "marker": {
             "line": {
              "color": "#E5ECF6",
              "width": 0.5
             }
            },
            "type": "barpolar"
           }
          ],
          "carpet": [
           {
            "aaxis": {
             "endlinecolor": "#2a3f5f",
             "gridcolor": "white",
             "linecolor": "white",
             "minorgridcolor": "white",
             "startlinecolor": "#2a3f5f"
            },
            "baxis": {
             "endlinecolor": "#2a3f5f",
             "gridcolor": "white",
             "linecolor": "white",
             "minorgridcolor": "white",
             "startlinecolor": "#2a3f5f"
            },
            "type": "carpet"
           }
          ],
          "choropleth": [
           {
            "colorbar": {
             "outlinewidth": 0,
             "ticks": ""
            },
            "type": "choropleth"
           }
          ],
          "contour": [
           {
            "colorbar": {
             "outlinewidth": 0,
             "ticks": ""
            },
            "colorscale": [
             [
              0,
              "#0d0887"
             ],
             [
              0.1111111111111111,
              "#46039f"
             ],
             [
              0.2222222222222222,
              "#7201a8"
             ],
             [
              0.3333333333333333,
              "#9c179e"
             ],
             [
              0.4444444444444444,
              "#bd3786"
             ],
             [
              0.5555555555555556,
              "#d8576b"
             ],
             [
              0.6666666666666666,
              "#ed7953"
             ],
             [
              0.7777777777777778,
              "#fb9f3a"
             ],
             [
              0.8888888888888888,
              "#fdca26"
             ],
             [
              1,
              "#f0f921"
             ]
            ],
            "type": "contour"
           }
          ],
          "contourcarpet": [
           {
            "colorbar": {
             "outlinewidth": 0,
             "ticks": ""
            },
            "type": "contourcarpet"
           }
          ],
          "heatmap": [
           {
            "colorbar": {
             "outlinewidth": 0,
             "ticks": ""
            },
            "colorscale": [
             [
              0,
              "#0d0887"
             ],
             [
              0.1111111111111111,
              "#46039f"
             ],
             [
              0.2222222222222222,
              "#7201a8"
             ],
             [
              0.3333333333333333,
              "#9c179e"
             ],
             [
              0.4444444444444444,
              "#bd3786"
             ],
             [
              0.5555555555555556,
              "#d8576b"
             ],
             [
              0.6666666666666666,
              "#ed7953"
             ],
             [
              0.7777777777777778,
              "#fb9f3a"
             ],
             [
              0.8888888888888888,
              "#fdca26"
             ],
             [
              1,
              "#f0f921"
             ]
            ],
            "type": "heatmap"
           }
          ],
          "heatmapgl": [
           {
            "colorbar": {
             "outlinewidth": 0,
             "ticks": ""
            },
            "colorscale": [
             [
              0,
              "#0d0887"
             ],
             [
              0.1111111111111111,
              "#46039f"
             ],
             [
              0.2222222222222222,
              "#7201a8"
             ],
             [
              0.3333333333333333,
              "#9c179e"
             ],
             [
              0.4444444444444444,
              "#bd3786"
             ],
             [
              0.5555555555555556,
              "#d8576b"
             ],
             [
              0.6666666666666666,
              "#ed7953"
             ],
             [
              0.7777777777777778,
              "#fb9f3a"
             ],
             [
              0.8888888888888888,
              "#fdca26"
             ],
             [
              1,
              "#f0f921"
             ]
            ],
            "type": "heatmapgl"
           }
          ],
          "histogram": [
           {
            "marker": {
             "colorbar": {
              "outlinewidth": 0,
              "ticks": ""
             }
            },
            "type": "histogram"
           }
          ],
          "histogram2d": [
           {
            "colorbar": {
             "outlinewidth": 0,
             "ticks": ""
            },
            "colorscale": [
             [
              0,
              "#0d0887"
             ],
             [
              0.1111111111111111,
              "#46039f"
             ],
             [
              0.2222222222222222,
              "#7201a8"
             ],
             [
              0.3333333333333333,
              "#9c179e"
             ],
             [
              0.4444444444444444,
              "#bd3786"
             ],
             [
              0.5555555555555556,
              "#d8576b"
             ],
             [
              0.6666666666666666,
              "#ed7953"
             ],
             [
              0.7777777777777778,
              "#fb9f3a"
             ],
             [
              0.8888888888888888,
              "#fdca26"
             ],
             [
              1,
              "#f0f921"
             ]
            ],
            "type": "histogram2d"
           }
          ],
          "histogram2dcontour": [
           {
            "colorbar": {
             "outlinewidth": 0,
             "ticks": ""
            },
            "colorscale": [
             [
              0,
              "#0d0887"
             ],
             [
              0.1111111111111111,
              "#46039f"
             ],
             [
              0.2222222222222222,
              "#7201a8"
             ],
             [
              0.3333333333333333,
              "#9c179e"
             ],
             [
              0.4444444444444444,
              "#bd3786"
             ],
             [
              0.5555555555555556,
              "#d8576b"
             ],
             [
              0.6666666666666666,
              "#ed7953"
             ],
             [
              0.7777777777777778,
              "#fb9f3a"
             ],
             [
              0.8888888888888888,
              "#fdca26"
             ],
             [
              1,
              "#f0f921"
             ]
            ],
            "type": "histogram2dcontour"
           }
          ],
          "mesh3d": [
           {
            "colorbar": {
             "outlinewidth": 0,
             "ticks": ""
            },
            "type": "mesh3d"
           }
          ],
          "parcoords": [
           {
            "line": {
             "colorbar": {
              "outlinewidth": 0,
              "ticks": ""
             }
            },
            "type": "parcoords"
           }
          ],
          "pie": [
           {
            "automargin": true,
            "type": "pie"
           }
          ],
          "scatter": [
           {
            "marker": {
             "colorbar": {
              "outlinewidth": 0,
              "ticks": ""
             }
            },
            "type": "scatter"
           }
          ],
          "scatter3d": [
           {
            "line": {
             "colorbar": {
              "outlinewidth": 0,
              "ticks": ""
             }
            },
            "marker": {
             "colorbar": {
              "outlinewidth": 0,
              "ticks": ""
             }
            },
            "type": "scatter3d"
           }
          ],
          "scattercarpet": [
           {
            "marker": {
             "colorbar": {
              "outlinewidth": 0,
              "ticks": ""
             }
            },
            "type": "scattercarpet"
           }
          ],
          "scattergeo": [
           {
            "marker": {
             "colorbar": {
              "outlinewidth": 0,
              "ticks": ""
             }
            },
            "type": "scattergeo"
           }
          ],
          "scattergl": [
           {
            "marker": {
             "colorbar": {
              "outlinewidth": 0,
              "ticks": ""
             }
            },
            "type": "scattergl"
           }
          ],
          "scattermapbox": [
           {
            "marker": {
             "colorbar": {
              "outlinewidth": 0,
              "ticks": ""
             }
            },
            "type": "scattermapbox"
           }
          ],
          "scatterpolar": [
           {
            "marker": {
             "colorbar": {
              "outlinewidth": 0,
              "ticks": ""
             }
            },
            "type": "scatterpolar"
           }
          ],
          "scatterpolargl": [
           {
            "marker": {
             "colorbar": {
              "outlinewidth": 0,
              "ticks": ""
             }
            },
            "type": "scatterpolargl"
           }
          ],
          "scatterternary": [
           {
            "marker": {
             "colorbar": {
              "outlinewidth": 0,
              "ticks": ""
             }
            },
            "type": "scatterternary"
           }
          ],
          "surface": [
           {
            "colorbar": {
             "outlinewidth": 0,
             "ticks": ""
            },
            "colorscale": [
             [
              0,
              "#0d0887"
             ],
             [
              0.1111111111111111,
              "#46039f"
             ],
             [
              0.2222222222222222,
              "#7201a8"
             ],
             [
              0.3333333333333333,
              "#9c179e"
             ],
             [
              0.4444444444444444,
              "#bd3786"
             ],
             [
              0.5555555555555556,
              "#d8576b"
             ],
             [
              0.6666666666666666,
              "#ed7953"
             ],
             [
              0.7777777777777778,
              "#fb9f3a"
             ],
             [
              0.8888888888888888,
              "#fdca26"
             ],
             [
              1,
              "#f0f921"
             ]
            ],
            "type": "surface"
           }
          ],
          "table": [
           {
            "cells": {
             "fill": {
              "color": "#EBF0F8"
             },
             "line": {
              "color": "white"
             }
            },
            "header": {
             "fill": {
              "color": "#C8D4E3"
             },
             "line": {
              "color": "white"
             }
            },
            "type": "table"
           }
          ]
         },
         "layout": {
          "annotationdefaults": {
           "arrowcolor": "#2a3f5f",
           "arrowhead": 0,
           "arrowwidth": 1
          },
          "coloraxis": {
           "colorbar": {
            "outlinewidth": 0,
            "ticks": ""
           }
          },
          "colorscale": {
           "diverging": [
            [
             0,
             "#8e0152"
            ],
            [
             0.1,
             "#c51b7d"
            ],
            [
             0.2,
             "#de77ae"
            ],
            [
             0.3,
             "#f1b6da"
            ],
            [
             0.4,
             "#fde0ef"
            ],
            [
             0.5,
             "#f7f7f7"
            ],
            [
             0.6,
             "#e6f5d0"
            ],
            [
             0.7,
             "#b8e186"
            ],
            [
             0.8,
             "#7fbc41"
            ],
            [
             0.9,
             "#4d9221"
            ],
            [
             1,
             "#276419"
            ]
           ],
           "sequential": [
            [
             0,
             "#0d0887"
            ],
            [
             0.1111111111111111,
             "#46039f"
            ],
            [
             0.2222222222222222,
             "#7201a8"
            ],
            [
             0.3333333333333333,
             "#9c179e"
            ],
            [
             0.4444444444444444,
             "#bd3786"
            ],
            [
             0.5555555555555556,
             "#d8576b"
            ],
            [
             0.6666666666666666,
             "#ed7953"
            ],
            [
             0.7777777777777778,
             "#fb9f3a"
            ],
            [
             0.8888888888888888,
             "#fdca26"
            ],
            [
             1,
             "#f0f921"
            ]
           ],
           "sequentialminus": [
            [
             0,
             "#0d0887"
            ],
            [
             0.1111111111111111,
             "#46039f"
            ],
            [
             0.2222222222222222,
             "#7201a8"
            ],
            [
             0.3333333333333333,
             "#9c179e"
            ],
            [
             0.4444444444444444,
             "#bd3786"
            ],
            [
             0.5555555555555556,
             "#d8576b"
            ],
            [
             0.6666666666666666,
             "#ed7953"
            ],
            [
             0.7777777777777778,
             "#fb9f3a"
            ],
            [
             0.8888888888888888,
             "#fdca26"
            ],
            [
             1,
             "#f0f921"
            ]
           ]
          },
          "colorway": [
           "#636efa",
           "#EF553B",
           "#00cc96",
           "#ab63fa",
           "#FFA15A",
           "#19d3f3",
           "#FF6692",
           "#B6E880",
           "#FF97FF",
           "#FECB52"
          ],
          "font": {
           "color": "#2a3f5f"
          },
          "geo": {
           "bgcolor": "white",
           "lakecolor": "white",
           "landcolor": "#E5ECF6",
           "showlakes": true,
           "showland": true,
           "subunitcolor": "white"
          },
          "hoverlabel": {
           "align": "left"
          },
          "hovermode": "closest",
          "mapbox": {
           "style": "light"
          },
          "paper_bgcolor": "white",
          "plot_bgcolor": "#E5ECF6",
          "polar": {
           "angularaxis": {
            "gridcolor": "white",
            "linecolor": "white",
            "ticks": ""
           },
           "bgcolor": "#E5ECF6",
           "radialaxis": {
            "gridcolor": "white",
            "linecolor": "white",
            "ticks": ""
           }
          },
          "scene": {
           "xaxis": {
            "backgroundcolor": "#E5ECF6",
            "gridcolor": "white",
            "gridwidth": 2,
            "linecolor": "white",
            "showbackground": true,
            "ticks": "",
            "zerolinecolor": "white"
           },
           "yaxis": {
            "backgroundcolor": "#E5ECF6",
            "gridcolor": "white",
            "gridwidth": 2,
            "linecolor": "white",
            "showbackground": true,
            "ticks": "",
            "zerolinecolor": "white"
           },
           "zaxis": {
            "backgroundcolor": "#E5ECF6",
            "gridcolor": "white",
            "gridwidth": 2,
            "linecolor": "white",
            "showbackground": true,
            "ticks": "",
            "zerolinecolor": "white"
           }
          },
          "shapedefaults": {
           "line": {
            "color": "#2a3f5f"
           }
          },
          "ternary": {
           "aaxis": {
            "gridcolor": "white",
            "linecolor": "white",
            "ticks": ""
           },
           "baxis": {
            "gridcolor": "white",
            "linecolor": "white",
            "ticks": ""
           },
           "bgcolor": "#E5ECF6",
           "caxis": {
            "gridcolor": "white",
            "linecolor": "white",
            "ticks": ""
           }
          },
          "title": {
           "x": 0.05
          },
          "xaxis": {
           "automargin": true,
           "gridcolor": "white",
           "linecolor": "white",
           "ticks": "",
           "title": {
            "standoff": 15
           },
           "zerolinecolor": "white",
           "zerolinewidth": 2
          },
          "yaxis": {
           "automargin": true,
           "gridcolor": "white",
           "linecolor": "white",
           "ticks": "",
           "title": {
            "standoff": 15
           },
           "zerolinecolor": "white",
           "zerolinewidth": 2
          }
         }
        },
        "title": {
         "text": "dc = eu3-acs1"
        },
        "width": 700,
        "xaxis": {
         "anchor": "y",
         "domain": [
          0,
          1
         ],
         "title": {
          "text": "Number of sigmas"
         }
        },
        "yaxis": {
         "anchor": "x",
         "domain": [
          0,
          1
         ],
         "title": {
          "text": "Number of anomalies"
         }
        }
       }
      },
      "text/html": [
       "<div>\n",
       "        \n",
       "        \n",
       "            <div id=\"acbe3095-58b0-43a2-9f8a-ff50fb376a23\" class=\"plotly-graph-div\" style=\"height:500px; width:700px;\"></div>\n",
       "            <script type=\"text/javascript\">\n",
       "                require([\"plotly\"], function(Plotly) {\n",
       "                    window.PLOTLYENV=window.PLOTLYENV || {};\n",
       "                    \n",
       "                if (document.getElementById(\"acbe3095-58b0-43a2-9f8a-ff50fb376a23\")) {\n",
       "                    Plotly.newPlot(\n",
       "                        'acbe3095-58b0-43a2-9f8a-ff50fb376a23',\n",
       "                        [{\"name\": \"main error and mean\", \"type\": \"scatter\", \"x\": [4.0, 4.1, 4.2, 4.3, 4.4, 4.5, 4.6, 4.7, 4.8, 4.9, 5.0, 5.1, 5.2, 5.3, 5.4, 5.5, 5.6, 5.7, 5.8, 5.9, 6.0, 6.1, 6.2, 6.300000000000001, 6.4, 6.5, 6.6, 6.7, 6.800000000000001, 6.9, 7.0, 7.1, 7.2, 7.300000000000001, 7.4, 7.5, 7.6], \"xaxis\": \"x\", \"y\": [134, 127, 122, 116, 109, 104, 101, 99, 90, 88, 83, 80, 77, 75, 75, 70, 67, 66, 66, 65, 62, 60, 60, 60, 56, 55, 52, 51, 50, 48, 48, 48, 45, 44, 42, 42, 41], \"yaxis\": \"y\"}, {\"marker\": {\"color\": \"blue\"}, \"name\": \"main error \", \"type\": \"scatter\", \"x\": [4.0, 4.1, 4.2, 4.3, 4.4, 4.5, 4.6, 4.7, 4.8, 4.9, 5.0, 5.1, 5.2, 5.3, 5.4, 5.5, 5.6, 5.7, 5.8, 5.9, 6.0, 6.1, 6.2, 6.300000000000001, 6.4, 6.5, 6.6, 6.7, 6.800000000000001, 6.9, 7.0, 7.1, 7.2, 7.300000000000001, 7.4, 7.5, 7.6], \"xaxis\": \"x\", \"y\": [499, 460, 440, 408, 385, 362, 342, 323, 308, 302, 289, 277, 268, 258, 253, 247, 243, 240, 236, 231, 228, 224, 220, 216, 211, 202, 199, 191, 189, 186, 183, 176, 174, 169, 163, 162, 161], \"yaxis\": \"y\"}, {\"marker\": {\"color\": \"green\"}, \"name\": \"mean\", \"type\": \"scatter\", \"x\": [4.0, 4.1, 4.2, 4.3, 4.4, 4.5, 4.6, 4.7, 4.8, 4.9, 5.0, 5.1, 5.2, 5.3, 5.4, 5.5, 5.6, 5.7, 5.8, 5.9, 6.0, 6.1, 6.2, 6.300000000000001, 6.4, 6.5, 6.6, 6.7, 6.800000000000001, 6.9, 7.0, 7.1, 7.2, 7.300000000000001, 7.4, 7.5, 7.6], \"xaxis\": \"x\", \"y\": [808, 729, 674, 614, 568, 516, 463, 427, 399, 376, 351, 324, 302, 287, 271, 250, 234, 224, 214, 200, 187, 181, 171, 163, 155, 149, 139, 133, 128, 120, 113, 110, 102, 99, 95, 94, 91], \"yaxis\": \"y\"}, {\"marker\": {\"color\": \"gold\"}, \"name\": \"variance\", \"type\": \"scatter\", \"x\": [4.0, 4.1, 4.2, 4.3, 4.4, 4.5, 4.6, 4.7, 4.8, 4.9, 5.0, 5.1, 5.2, 5.3, 5.4, 5.5, 5.6, 5.7, 5.8, 5.9, 6.0, 6.1, 6.2, 6.300000000000001, 6.4, 6.5, 6.6, 6.7, 6.800000000000001, 6.9, 7.0, 7.1, 7.2, 7.300000000000001, 7.4, 7.5, 7.6], \"xaxis\": \"x\", \"y\": [1484, 1361, 1246, 1144, 1053, 967, 888, 820, 759, 682, 626, 579, 542, 497, 453, 424, 384, 357, 337, 317, 300, 286, 268, 250, 236, 228, 219, 214, 204, 191, 177, 170, 157, 155, 149, 144, 136], \"yaxis\": \"y\"}],\n",
       "                        {\"height\": 500, \"template\": {\"data\": {\"bar\": [{\"error_x\": {\"color\": \"#2a3f5f\"}, \"error_y\": {\"color\": \"#2a3f5f\"}, \"marker\": {\"line\": {\"color\": \"#E5ECF6\", \"width\": 0.5}}, \"type\": \"bar\"}], \"barpolar\": [{\"marker\": {\"line\": {\"color\": \"#E5ECF6\", \"width\": 0.5}}, \"type\": \"barpolar\"}], \"carpet\": [{\"aaxis\": {\"endlinecolor\": \"#2a3f5f\", \"gridcolor\": \"white\", \"linecolor\": \"white\", \"minorgridcolor\": \"white\", \"startlinecolor\": \"#2a3f5f\"}, \"baxis\": {\"endlinecolor\": \"#2a3f5f\", \"gridcolor\": \"white\", \"linecolor\": \"white\", \"minorgridcolor\": \"white\", \"startlinecolor\": \"#2a3f5f\"}, \"type\": \"carpet\"}], \"choropleth\": [{\"colorbar\": {\"outlinewidth\": 0, \"ticks\": \"\"}, \"type\": \"choropleth\"}], \"contour\": [{\"colorbar\": {\"outlinewidth\": 0, \"ticks\": \"\"}, \"colorscale\": [[0.0, \"#0d0887\"], [0.1111111111111111, \"#46039f\"], [0.2222222222222222, \"#7201a8\"], [0.3333333333333333, \"#9c179e\"], [0.4444444444444444, \"#bd3786\"], [0.5555555555555556, \"#d8576b\"], [0.6666666666666666, \"#ed7953\"], [0.7777777777777778, \"#fb9f3a\"], [0.8888888888888888, \"#fdca26\"], [1.0, \"#f0f921\"]], \"type\": \"contour\"}], \"contourcarpet\": [{\"colorbar\": {\"outlinewidth\": 0, \"ticks\": \"\"}, \"type\": \"contourcarpet\"}], \"heatmap\": [{\"colorbar\": {\"outlinewidth\": 0, \"ticks\": \"\"}, \"colorscale\": [[0.0, \"#0d0887\"], [0.1111111111111111, \"#46039f\"], [0.2222222222222222, \"#7201a8\"], [0.3333333333333333, \"#9c179e\"], [0.4444444444444444, \"#bd3786\"], [0.5555555555555556, \"#d8576b\"], [0.6666666666666666, \"#ed7953\"], [0.7777777777777778, \"#fb9f3a\"], [0.8888888888888888, \"#fdca26\"], [1.0, \"#f0f921\"]], \"type\": \"heatmap\"}], \"heatmapgl\": [{\"colorbar\": {\"outlinewidth\": 0, \"ticks\": \"\"}, \"colorscale\": [[0.0, \"#0d0887\"], [0.1111111111111111, \"#46039f\"], [0.2222222222222222, \"#7201a8\"], [0.3333333333333333, \"#9c179e\"], [0.4444444444444444, \"#bd3786\"], [0.5555555555555556, \"#d8576b\"], [0.6666666666666666, \"#ed7953\"], [0.7777777777777778, \"#fb9f3a\"], [0.8888888888888888, \"#fdca26\"], [1.0, \"#f0f921\"]], \"type\": \"heatmapgl\"}], \"histogram\": [{\"marker\": {\"colorbar\": {\"outlinewidth\": 0, \"ticks\": \"\"}}, \"type\": \"histogram\"}], \"histogram2d\": [{\"colorbar\": {\"outlinewidth\": 0, \"ticks\": \"\"}, \"colorscale\": [[0.0, \"#0d0887\"], [0.1111111111111111, \"#46039f\"], [0.2222222222222222, \"#7201a8\"], [0.3333333333333333, \"#9c179e\"], [0.4444444444444444, \"#bd3786\"], [0.5555555555555556, \"#d8576b\"], [0.6666666666666666, \"#ed7953\"], [0.7777777777777778, \"#fb9f3a\"], [0.8888888888888888, \"#fdca26\"], [1.0, \"#f0f921\"]], \"type\": \"histogram2d\"}], \"histogram2dcontour\": [{\"colorbar\": {\"outlinewidth\": 0, \"ticks\": \"\"}, \"colorscale\": [[0.0, \"#0d0887\"], [0.1111111111111111, \"#46039f\"], [0.2222222222222222, \"#7201a8\"], [0.3333333333333333, \"#9c179e\"], [0.4444444444444444, \"#bd3786\"], [0.5555555555555556, \"#d8576b\"], [0.6666666666666666, \"#ed7953\"], [0.7777777777777778, \"#fb9f3a\"], [0.8888888888888888, \"#fdca26\"], [1.0, \"#f0f921\"]], \"type\": \"histogram2dcontour\"}], \"mesh3d\": [{\"colorbar\": {\"outlinewidth\": 0, \"ticks\": \"\"}, \"type\": \"mesh3d\"}], \"parcoords\": [{\"line\": {\"colorbar\": {\"outlinewidth\": 0, \"ticks\": \"\"}}, \"type\": \"parcoords\"}], \"pie\": [{\"automargin\": true, \"type\": \"pie\"}], \"scatter\": [{\"marker\": {\"colorbar\": {\"outlinewidth\": 0, \"ticks\": \"\"}}, \"type\": \"scatter\"}], \"scatter3d\": [{\"line\": {\"colorbar\": {\"outlinewidth\": 0, \"ticks\": \"\"}}, \"marker\": {\"colorbar\": {\"outlinewidth\": 0, \"ticks\": \"\"}}, \"type\": \"scatter3d\"}], \"scattercarpet\": [{\"marker\": {\"colorbar\": {\"outlinewidth\": 0, \"ticks\": \"\"}}, \"type\": \"scattercarpet\"}], \"scattergeo\": [{\"marker\": {\"colorbar\": {\"outlinewidth\": 0, \"ticks\": \"\"}}, \"type\": \"scattergeo\"}], \"scattergl\": [{\"marker\": {\"colorbar\": {\"outlinewidth\": 0, \"ticks\": \"\"}}, \"type\": \"scattergl\"}], \"scattermapbox\": [{\"marker\": {\"colorbar\": {\"outlinewidth\": 0, \"ticks\": \"\"}}, \"type\": \"scattermapbox\"}], \"scatterpolar\": [{\"marker\": {\"colorbar\": {\"outlinewidth\": 0, \"ticks\": \"\"}}, \"type\": \"scatterpolar\"}], \"scatterpolargl\": [{\"marker\": {\"colorbar\": {\"outlinewidth\": 0, \"ticks\": \"\"}}, \"type\": \"scatterpolargl\"}], \"scatterternary\": [{\"marker\": {\"colorbar\": {\"outlinewidth\": 0, \"ticks\": \"\"}}, \"type\": \"scatterternary\"}], \"surface\": [{\"colorbar\": {\"outlinewidth\": 0, \"ticks\": \"\"}, \"colorscale\": [[0.0, \"#0d0887\"], [0.1111111111111111, \"#46039f\"], [0.2222222222222222, \"#7201a8\"], [0.3333333333333333, \"#9c179e\"], [0.4444444444444444, \"#bd3786\"], [0.5555555555555556, \"#d8576b\"], [0.6666666666666666, \"#ed7953\"], [0.7777777777777778, \"#fb9f3a\"], [0.8888888888888888, \"#fdca26\"], [1.0, \"#f0f921\"]], \"type\": \"surface\"}], \"table\": [{\"cells\": {\"fill\": {\"color\": \"#EBF0F8\"}, \"line\": {\"color\": \"white\"}}, \"header\": {\"fill\": {\"color\": \"#C8D4E3\"}, \"line\": {\"color\": \"white\"}}, \"type\": \"table\"}]}, \"layout\": {\"annotationdefaults\": {\"arrowcolor\": \"#2a3f5f\", \"arrowhead\": 0, \"arrowwidth\": 1}, \"coloraxis\": {\"colorbar\": {\"outlinewidth\": 0, \"ticks\": \"\"}}, \"colorscale\": {\"diverging\": [[0, \"#8e0152\"], [0.1, \"#c51b7d\"], [0.2, \"#de77ae\"], [0.3, \"#f1b6da\"], [0.4, \"#fde0ef\"], [0.5, \"#f7f7f7\"], [0.6, \"#e6f5d0\"], [0.7, \"#b8e186\"], [0.8, \"#7fbc41\"], [0.9, \"#4d9221\"], [1, \"#276419\"]], \"sequential\": [[0.0, \"#0d0887\"], [0.1111111111111111, \"#46039f\"], [0.2222222222222222, \"#7201a8\"], [0.3333333333333333, \"#9c179e\"], [0.4444444444444444, \"#bd3786\"], [0.5555555555555556, \"#d8576b\"], [0.6666666666666666, \"#ed7953\"], [0.7777777777777778, \"#fb9f3a\"], [0.8888888888888888, \"#fdca26\"], [1.0, \"#f0f921\"]], \"sequentialminus\": [[0.0, \"#0d0887\"], [0.1111111111111111, \"#46039f\"], [0.2222222222222222, \"#7201a8\"], [0.3333333333333333, \"#9c179e\"], [0.4444444444444444, \"#bd3786\"], [0.5555555555555556, \"#d8576b\"], [0.6666666666666666, \"#ed7953\"], [0.7777777777777778, \"#fb9f3a\"], [0.8888888888888888, \"#fdca26\"], [1.0, \"#f0f921\"]]}, \"colorway\": [\"#636efa\", \"#EF553B\", \"#00cc96\", \"#ab63fa\", \"#FFA15A\", \"#19d3f3\", \"#FF6692\", \"#B6E880\", \"#FF97FF\", \"#FECB52\"], \"font\": {\"color\": \"#2a3f5f\"}, \"geo\": {\"bgcolor\": \"white\", \"lakecolor\": \"white\", \"landcolor\": \"#E5ECF6\", \"showlakes\": true, \"showland\": true, \"subunitcolor\": \"white\"}, \"hoverlabel\": {\"align\": \"left\"}, \"hovermode\": \"closest\", \"mapbox\": {\"style\": \"light\"}, \"paper_bgcolor\": \"white\", \"plot_bgcolor\": \"#E5ECF6\", \"polar\": {\"angularaxis\": {\"gridcolor\": \"white\", \"linecolor\": \"white\", \"ticks\": \"\"}, \"bgcolor\": \"#E5ECF6\", \"radialaxis\": {\"gridcolor\": \"white\", \"linecolor\": \"white\", \"ticks\": \"\"}}, \"scene\": {\"xaxis\": {\"backgroundcolor\": \"#E5ECF6\", \"gridcolor\": \"white\", \"gridwidth\": 2, \"linecolor\": \"white\", \"showbackground\": true, \"ticks\": \"\", \"zerolinecolor\": \"white\"}, \"yaxis\": {\"backgroundcolor\": \"#E5ECF6\", \"gridcolor\": \"white\", \"gridwidth\": 2, \"linecolor\": \"white\", \"showbackground\": true, \"ticks\": \"\", \"zerolinecolor\": \"white\"}, \"zaxis\": {\"backgroundcolor\": \"#E5ECF6\", \"gridcolor\": \"white\", \"gridwidth\": 2, \"linecolor\": \"white\", \"showbackground\": true, \"ticks\": \"\", \"zerolinecolor\": \"white\"}}, \"shapedefaults\": {\"line\": {\"color\": \"#2a3f5f\"}}, \"ternary\": {\"aaxis\": {\"gridcolor\": \"white\", \"linecolor\": \"white\", \"ticks\": \"\"}, \"baxis\": {\"gridcolor\": \"white\", \"linecolor\": \"white\", \"ticks\": \"\"}, \"bgcolor\": \"#E5ECF6\", \"caxis\": {\"gridcolor\": \"white\", \"linecolor\": \"white\", \"ticks\": \"\"}}, \"title\": {\"x\": 0.05}, \"xaxis\": {\"automargin\": true, \"gridcolor\": \"white\", \"linecolor\": \"white\", \"ticks\": \"\", \"title\": {\"standoff\": 15}, \"zerolinecolor\": \"white\", \"zerolinewidth\": 2}, \"yaxis\": {\"automargin\": true, \"gridcolor\": \"white\", \"linecolor\": \"white\", \"ticks\": \"\", \"title\": {\"standoff\": 15}, \"zerolinecolor\": \"white\", \"zerolinewidth\": 2}}}, \"title\": {\"text\": \"dc = eu3-acs1\"}, \"width\": 700, \"xaxis\": {\"anchor\": \"y\", \"domain\": [0.0, 1.0], \"title\": {\"text\": \"Number of sigmas\"}}, \"yaxis\": {\"anchor\": \"x\", \"domain\": [0.0, 1.0], \"title\": {\"text\": \"Number of anomalies\"}}},\n",
       "                        {\"responsive\": true}\n",
       "                    ).then(function(){\n",
       "                            \n",
       "var gd = document.getElementById('acbe3095-58b0-43a2-9f8a-ff50fb376a23');\n",
       "var x = new MutationObserver(function (mutations, observer) {{\n",
       "        var display = window.getComputedStyle(gd).display;\n",
       "        if (!display || display === 'none') {{\n",
       "            console.log([gd, 'removed!']);\n",
       "            Plotly.purge(gd);\n",
       "            observer.disconnect();\n",
       "        }}\n",
       "}});\n",
       "\n",
       "// Listen for the removal of the full notebook cells\n",
       "var notebookContainer = gd.closest('#notebook-container');\n",
       "if (notebookContainer) {{\n",
       "    x.observe(notebookContainer, {childList: true});\n",
       "}}\n",
       "\n",
       "// Listen for the clearing of the current output cell\n",
       "var outputEl = gd.closest('.output');\n",
       "if (outputEl) {{\n",
       "    x.observe(outputEl, {childList: true});\n",
       "}}\n",
       "\n",
       "                        })\n",
       "                };\n",
       "                });\n",
       "            </script>\n",
       "        </div>"
      ]
     },
     "metadata": {},
     "output_type": "display_data"
    },
    {
     "data": {
      "application/vnd.plotly.v1+json": {
       "config": {
        "plotlyServerURL": "https://plot.ly"
       },
       "data": [
        {
         "name": "main error and mean",
         "type": "scatter",
         "x": [
          4,
          4.1,
          4.2,
          4.3,
          4.4,
          4.5,
          4.6,
          4.7,
          4.8,
          4.9,
          5,
          5.1,
          5.2,
          5.3,
          5.4,
          5.5,
          5.6,
          5.7
         ],
         "xaxis": "x",
         "y": [
          98,
          94,
          87,
          80,
          78,
          76,
          72,
          68,
          65,
          63,
          61,
          57,
          53,
          50,
          48,
          46,
          44,
          38
         ],
         "yaxis": "y"
        },
        {
         "marker": {
          "color": "blue"
         },
         "name": "main error ",
         "type": "scatter",
         "x": [
          4,
          4.1,
          4.2,
          4.3,
          4.4,
          4.5,
          4.6,
          4.7,
          4.8,
          4.9,
          5,
          5.1,
          5.2,
          5.3,
          5.4,
          5.5,
          5.6,
          5.7
         ],
         "xaxis": "x",
         "y": [
          848,
          823,
          801,
          784,
          770,
          755,
          733,
          724,
          711,
          695,
          681,
          670,
          653,
          643,
          624,
          610,
          594,
          581
         ],
         "yaxis": "y"
        },
        {
         "marker": {
          "color": "green"
         },
         "name": "mean",
         "type": "scatter",
         "x": [
          4,
          4.1,
          4.2,
          4.3,
          4.4,
          4.5,
          4.6,
          4.7,
          4.8,
          4.9,
          5,
          5.1,
          5.2,
          5.3,
          5.4,
          5.5,
          5.6,
          5.7
         ],
         "xaxis": "x",
         "y": [
          130,
          124,
          118,
          109,
          105,
          102,
          99,
          93,
          91,
          89,
          86,
          84,
          78,
          73,
          71,
          67,
          63,
          57
         ],
         "yaxis": "y"
        },
        {
         "marker": {
          "color": "gold"
         },
         "name": "variance",
         "type": "scatter",
         "x": [
          4,
          4.1,
          4.2,
          4.3,
          4.4,
          4.5,
          4.6,
          4.7,
          4.8,
          4.9,
          5,
          5.1,
          5.2,
          5.3,
          5.4,
          5.5,
          5.6,
          5.7
         ],
         "xaxis": "x",
         "y": [
          175,
          169,
          165,
          159,
          155,
          150,
          143,
          141,
          134,
          129,
          123,
          122,
          116,
          112,
          109,
          107,
          103,
          96
         ],
         "yaxis": "y"
        }
       ],
       "layout": {
        "height": 500,
        "template": {
         "data": {
          "bar": [
           {
            "error_x": {
             "color": "#2a3f5f"
            },
            "error_y": {
             "color": "#2a3f5f"
            },
            "marker": {
             "line": {
              "color": "#E5ECF6",
              "width": 0.5
             }
            },
            "type": "bar"
           }
          ],
          "barpolar": [
           {
            "marker": {
             "line": {
              "color": "#E5ECF6",
              "width": 0.5
             }
            },
            "type": "barpolar"
           }
          ],
          "carpet": [
           {
            "aaxis": {
             "endlinecolor": "#2a3f5f",
             "gridcolor": "white",
             "linecolor": "white",
             "minorgridcolor": "white",
             "startlinecolor": "#2a3f5f"
            },
            "baxis": {
             "endlinecolor": "#2a3f5f",
             "gridcolor": "white",
             "linecolor": "white",
             "minorgridcolor": "white",
             "startlinecolor": "#2a3f5f"
            },
            "type": "carpet"
           }
          ],
          "choropleth": [
           {
            "colorbar": {
             "outlinewidth": 0,
             "ticks": ""
            },
            "type": "choropleth"
           }
          ],
          "contour": [
           {
            "colorbar": {
             "outlinewidth": 0,
             "ticks": ""
            },
            "colorscale": [
             [
              0,
              "#0d0887"
             ],
             [
              0.1111111111111111,
              "#46039f"
             ],
             [
              0.2222222222222222,
              "#7201a8"
             ],
             [
              0.3333333333333333,
              "#9c179e"
             ],
             [
              0.4444444444444444,
              "#bd3786"
             ],
             [
              0.5555555555555556,
              "#d8576b"
             ],
             [
              0.6666666666666666,
              "#ed7953"
             ],
             [
              0.7777777777777778,
              "#fb9f3a"
             ],
             [
              0.8888888888888888,
              "#fdca26"
             ],
             [
              1,
              "#f0f921"
             ]
            ],
            "type": "contour"
           }
          ],
          "contourcarpet": [
           {
            "colorbar": {
             "outlinewidth": 0,
             "ticks": ""
            },
            "type": "contourcarpet"
           }
          ],
          "heatmap": [
           {
            "colorbar": {
             "outlinewidth": 0,
             "ticks": ""
            },
            "colorscale": [
             [
              0,
              "#0d0887"
             ],
             [
              0.1111111111111111,
              "#46039f"
             ],
             [
              0.2222222222222222,
              "#7201a8"
             ],
             [
              0.3333333333333333,
              "#9c179e"
             ],
             [
              0.4444444444444444,
              "#bd3786"
             ],
             [
              0.5555555555555556,
              "#d8576b"
             ],
             [
              0.6666666666666666,
              "#ed7953"
             ],
             [
              0.7777777777777778,
              "#fb9f3a"
             ],
             [
              0.8888888888888888,
              "#fdca26"
             ],
             [
              1,
              "#f0f921"
             ]
            ],
            "type": "heatmap"
           }
          ],
          "heatmapgl": [
           {
            "colorbar": {
             "outlinewidth": 0,
             "ticks": ""
            },
            "colorscale": [
             [
              0,
              "#0d0887"
             ],
             [
              0.1111111111111111,
              "#46039f"
             ],
             [
              0.2222222222222222,
              "#7201a8"
             ],
             [
              0.3333333333333333,
              "#9c179e"
             ],
             [
              0.4444444444444444,
              "#bd3786"
             ],
             [
              0.5555555555555556,
              "#d8576b"
             ],
             [
              0.6666666666666666,
              "#ed7953"
             ],
             [
              0.7777777777777778,
              "#fb9f3a"
             ],
             [
              0.8888888888888888,
              "#fdca26"
             ],
             [
              1,
              "#f0f921"
             ]
            ],
            "type": "heatmapgl"
           }
          ],
          "histogram": [
           {
            "marker": {
             "colorbar": {
              "outlinewidth": 0,
              "ticks": ""
             }
            },
            "type": "histogram"
           }
          ],
          "histogram2d": [
           {
            "colorbar": {
             "outlinewidth": 0,
             "ticks": ""
            },
            "colorscale": [
             [
              0,
              "#0d0887"
             ],
             [
              0.1111111111111111,
              "#46039f"
             ],
             [
              0.2222222222222222,
              "#7201a8"
             ],
             [
              0.3333333333333333,
              "#9c179e"
             ],
             [
              0.4444444444444444,
              "#bd3786"
             ],
             [
              0.5555555555555556,
              "#d8576b"
             ],
             [
              0.6666666666666666,
              "#ed7953"
             ],
             [
              0.7777777777777778,
              "#fb9f3a"
             ],
             [
              0.8888888888888888,
              "#fdca26"
             ],
             [
              1,
              "#f0f921"
             ]
            ],
            "type": "histogram2d"
           }
          ],
          "histogram2dcontour": [
           {
            "colorbar": {
             "outlinewidth": 0,
             "ticks": ""
            },
            "colorscale": [
             [
              0,
              "#0d0887"
             ],
             [
              0.1111111111111111,
              "#46039f"
             ],
             [
              0.2222222222222222,
              "#7201a8"
             ],
             [
              0.3333333333333333,
              "#9c179e"
             ],
             [
              0.4444444444444444,
              "#bd3786"
             ],
             [
              0.5555555555555556,
              "#d8576b"
             ],
             [
              0.6666666666666666,
              "#ed7953"
             ],
             [
              0.7777777777777778,
              "#fb9f3a"
             ],
             [
              0.8888888888888888,
              "#fdca26"
             ],
             [
              1,
              "#f0f921"
             ]
            ],
            "type": "histogram2dcontour"
           }
          ],
          "mesh3d": [
           {
            "colorbar": {
             "outlinewidth": 0,
             "ticks": ""
            },
            "type": "mesh3d"
           }
          ],
          "parcoords": [
           {
            "line": {
             "colorbar": {
              "outlinewidth": 0,
              "ticks": ""
             }
            },
            "type": "parcoords"
           }
          ],
          "pie": [
           {
            "automargin": true,
            "type": "pie"
           }
          ],
          "scatter": [
           {
            "marker": {
             "colorbar": {
              "outlinewidth": 0,
              "ticks": ""
             }
            },
            "type": "scatter"
           }
          ],
          "scatter3d": [
           {
            "line": {
             "colorbar": {
              "outlinewidth": 0,
              "ticks": ""
             }
            },
            "marker": {
             "colorbar": {
              "outlinewidth": 0,
              "ticks": ""
             }
            },
            "type": "scatter3d"
           }
          ],
          "scattercarpet": [
           {
            "marker": {
             "colorbar": {
              "outlinewidth": 0,
              "ticks": ""
             }
            },
            "type": "scattercarpet"
           }
          ],
          "scattergeo": [
           {
            "marker": {
             "colorbar": {
              "outlinewidth": 0,
              "ticks": ""
             }
            },
            "type": "scattergeo"
           }
          ],
          "scattergl": [
           {
            "marker": {
             "colorbar": {
              "outlinewidth": 0,
              "ticks": ""
             }
            },
            "type": "scattergl"
           }
          ],
          "scattermapbox": [
           {
            "marker": {
             "colorbar": {
              "outlinewidth": 0,
              "ticks": ""
             }
            },
            "type": "scattermapbox"
           }
          ],
          "scatterpolar": [
           {
            "marker": {
             "colorbar": {
              "outlinewidth": 0,
              "ticks": ""
             }
            },
            "type": "scatterpolar"
           }
          ],
          "scatterpolargl": [
           {
            "marker": {
             "colorbar": {
              "outlinewidth": 0,
              "ticks": ""
             }
            },
            "type": "scatterpolargl"
           }
          ],
          "scatterternary": [
           {
            "marker": {
             "colorbar": {
              "outlinewidth": 0,
              "ticks": ""
             }
            },
            "type": "scatterternary"
           }
          ],
          "surface": [
           {
            "colorbar": {
             "outlinewidth": 0,
             "ticks": ""
            },
            "colorscale": [
             [
              0,
              "#0d0887"
             ],
             [
              0.1111111111111111,
              "#46039f"
             ],
             [
              0.2222222222222222,
              "#7201a8"
             ],
             [
              0.3333333333333333,
              "#9c179e"
             ],
             [
              0.4444444444444444,
              "#bd3786"
             ],
             [
              0.5555555555555556,
              "#d8576b"
             ],
             [
              0.6666666666666666,
              "#ed7953"
             ],
             [
              0.7777777777777778,
              "#fb9f3a"
             ],
             [
              0.8888888888888888,
              "#fdca26"
             ],
             [
              1,
              "#f0f921"
             ]
            ],
            "type": "surface"
           }
          ],
          "table": [
           {
            "cells": {
             "fill": {
              "color": "#EBF0F8"
             },
             "line": {
              "color": "white"
             }
            },
            "header": {
             "fill": {
              "color": "#C8D4E3"
             },
             "line": {
              "color": "white"
             }
            },
            "type": "table"
           }
          ]
         },
         "layout": {
          "annotationdefaults": {
           "arrowcolor": "#2a3f5f",
           "arrowhead": 0,
           "arrowwidth": 1
          },
          "coloraxis": {
           "colorbar": {
            "outlinewidth": 0,
            "ticks": ""
           }
          },
          "colorscale": {
           "diverging": [
            [
             0,
             "#8e0152"
            ],
            [
             0.1,
             "#c51b7d"
            ],
            [
             0.2,
             "#de77ae"
            ],
            [
             0.3,
             "#f1b6da"
            ],
            [
             0.4,
             "#fde0ef"
            ],
            [
             0.5,
             "#f7f7f7"
            ],
            [
             0.6,
             "#e6f5d0"
            ],
            [
             0.7,
             "#b8e186"
            ],
            [
             0.8,
             "#7fbc41"
            ],
            [
             0.9,
             "#4d9221"
            ],
            [
             1,
             "#276419"
            ]
           ],
           "sequential": [
            [
             0,
             "#0d0887"
            ],
            [
             0.1111111111111111,
             "#46039f"
            ],
            [
             0.2222222222222222,
             "#7201a8"
            ],
            [
             0.3333333333333333,
             "#9c179e"
            ],
            [
             0.4444444444444444,
             "#bd3786"
            ],
            [
             0.5555555555555556,
             "#d8576b"
            ],
            [
             0.6666666666666666,
             "#ed7953"
            ],
            [
             0.7777777777777778,
             "#fb9f3a"
            ],
            [
             0.8888888888888888,
             "#fdca26"
            ],
            [
             1,
             "#f0f921"
            ]
           ],
           "sequentialminus": [
            [
             0,
             "#0d0887"
            ],
            [
             0.1111111111111111,
             "#46039f"
            ],
            [
             0.2222222222222222,
             "#7201a8"
            ],
            [
             0.3333333333333333,
             "#9c179e"
            ],
            [
             0.4444444444444444,
             "#bd3786"
            ],
            [
             0.5555555555555556,
             "#d8576b"
            ],
            [
             0.6666666666666666,
             "#ed7953"
            ],
            [
             0.7777777777777778,
             "#fb9f3a"
            ],
            [
             0.8888888888888888,
             "#fdca26"
            ],
            [
             1,
             "#f0f921"
            ]
           ]
          },
          "colorway": [
           "#636efa",
           "#EF553B",
           "#00cc96",
           "#ab63fa",
           "#FFA15A",
           "#19d3f3",
           "#FF6692",
           "#B6E880",
           "#FF97FF",
           "#FECB52"
          ],
          "font": {
           "color": "#2a3f5f"
          },
          "geo": {
           "bgcolor": "white",
           "lakecolor": "white",
           "landcolor": "#E5ECF6",
           "showlakes": true,
           "showland": true,
           "subunitcolor": "white"
          },
          "hoverlabel": {
           "align": "left"
          },
          "hovermode": "closest",
          "mapbox": {
           "style": "light"
          },
          "paper_bgcolor": "white",
          "plot_bgcolor": "#E5ECF6",
          "polar": {
           "angularaxis": {
            "gridcolor": "white",
            "linecolor": "white",
            "ticks": ""
           },
           "bgcolor": "#E5ECF6",
           "radialaxis": {
            "gridcolor": "white",
            "linecolor": "white",
            "ticks": ""
           }
          },
          "scene": {
           "xaxis": {
            "backgroundcolor": "#E5ECF6",
            "gridcolor": "white",
            "gridwidth": 2,
            "linecolor": "white",
            "showbackground": true,
            "ticks": "",
            "zerolinecolor": "white"
           },
           "yaxis": {
            "backgroundcolor": "#E5ECF6",
            "gridcolor": "white",
            "gridwidth": 2,
            "linecolor": "white",
            "showbackground": true,
            "ticks": "",
            "zerolinecolor": "white"
           },
           "zaxis": {
            "backgroundcolor": "#E5ECF6",
            "gridcolor": "white",
            "gridwidth": 2,
            "linecolor": "white",
            "showbackground": true,
            "ticks": "",
            "zerolinecolor": "white"
           }
          },
          "shapedefaults": {
           "line": {
            "color": "#2a3f5f"
           }
          },
          "ternary": {
           "aaxis": {
            "gridcolor": "white",
            "linecolor": "white",
            "ticks": ""
           },
           "baxis": {
            "gridcolor": "white",
            "linecolor": "white",
            "ticks": ""
           },
           "bgcolor": "#E5ECF6",
           "caxis": {
            "gridcolor": "white",
            "linecolor": "white",
            "ticks": ""
           }
          },
          "title": {
           "x": 0.05
          },
          "xaxis": {
           "automargin": true,
           "gridcolor": "white",
           "linecolor": "white",
           "ticks": "",
           "title": {
            "standoff": 15
           },
           "zerolinecolor": "white",
           "zerolinewidth": 2
          },
          "yaxis": {
           "automargin": true,
           "gridcolor": "white",
           "linecolor": "white",
           "ticks": "",
           "title": {
            "standoff": 15
           },
           "zerolinecolor": "white",
           "zerolinewidth": 2
          }
         }
        },
        "title": {
         "text": "dc = us6-acs2"
        },
        "width": 700,
        "xaxis": {
         "anchor": "y",
         "domain": [
          0,
          1
         ],
         "title": {
          "text": "Number of sigmas"
         }
        },
        "yaxis": {
         "anchor": "x",
         "domain": [
          0,
          1
         ],
         "title": {
          "text": "Number of anomalies"
         }
        }
       }
      },
      "text/html": [
       "<div>\n",
       "        \n",
       "        \n",
       "            <div id=\"7b84b00b-ef52-45a3-a58a-ea01b8f44fe1\" class=\"plotly-graph-div\" style=\"height:500px; width:700px;\"></div>\n",
       "            <script type=\"text/javascript\">\n",
       "                require([\"plotly\"], function(Plotly) {\n",
       "                    window.PLOTLYENV=window.PLOTLYENV || {};\n",
       "                    \n",
       "                if (document.getElementById(\"7b84b00b-ef52-45a3-a58a-ea01b8f44fe1\")) {\n",
       "                    Plotly.newPlot(\n",
       "                        '7b84b00b-ef52-45a3-a58a-ea01b8f44fe1',\n",
       "                        [{\"name\": \"main error and mean\", \"type\": \"scatter\", \"x\": [4.0, 4.1, 4.2, 4.3, 4.4, 4.5, 4.6, 4.7, 4.8, 4.9, 5.0, 5.1, 5.2, 5.3, 5.4, 5.5, 5.6, 5.7], \"xaxis\": \"x\", \"y\": [98, 94, 87, 80, 78, 76, 72, 68, 65, 63, 61, 57, 53, 50, 48, 46, 44, 38], \"yaxis\": \"y\"}, {\"marker\": {\"color\": \"blue\"}, \"name\": \"main error \", \"type\": \"scatter\", \"x\": [4.0, 4.1, 4.2, 4.3, 4.4, 4.5, 4.6, 4.7, 4.8, 4.9, 5.0, 5.1, 5.2, 5.3, 5.4, 5.5, 5.6, 5.7], \"xaxis\": \"x\", \"y\": [848, 823, 801, 784, 770, 755, 733, 724, 711, 695, 681, 670, 653, 643, 624, 610, 594, 581], \"yaxis\": \"y\"}, {\"marker\": {\"color\": \"green\"}, \"name\": \"mean\", \"type\": \"scatter\", \"x\": [4.0, 4.1, 4.2, 4.3, 4.4, 4.5, 4.6, 4.7, 4.8, 4.9, 5.0, 5.1, 5.2, 5.3, 5.4, 5.5, 5.6, 5.7], \"xaxis\": \"x\", \"y\": [130, 124, 118, 109, 105, 102, 99, 93, 91, 89, 86, 84, 78, 73, 71, 67, 63, 57], \"yaxis\": \"y\"}, {\"marker\": {\"color\": \"gold\"}, \"name\": \"variance\", \"type\": \"scatter\", \"x\": [4.0, 4.1, 4.2, 4.3, 4.4, 4.5, 4.6, 4.7, 4.8, 4.9, 5.0, 5.1, 5.2, 5.3, 5.4, 5.5, 5.6, 5.7], \"xaxis\": \"x\", \"y\": [175, 169, 165, 159, 155, 150, 143, 141, 134, 129, 123, 122, 116, 112, 109, 107, 103, 96], \"yaxis\": \"y\"}],\n",
       "                        {\"height\": 500, \"template\": {\"data\": {\"bar\": [{\"error_x\": {\"color\": \"#2a3f5f\"}, \"error_y\": {\"color\": \"#2a3f5f\"}, \"marker\": {\"line\": {\"color\": \"#E5ECF6\", \"width\": 0.5}}, \"type\": \"bar\"}], \"barpolar\": [{\"marker\": {\"line\": {\"color\": \"#E5ECF6\", \"width\": 0.5}}, \"type\": \"barpolar\"}], \"carpet\": [{\"aaxis\": {\"endlinecolor\": \"#2a3f5f\", \"gridcolor\": \"white\", \"linecolor\": \"white\", \"minorgridcolor\": \"white\", \"startlinecolor\": \"#2a3f5f\"}, \"baxis\": {\"endlinecolor\": \"#2a3f5f\", \"gridcolor\": \"white\", \"linecolor\": \"white\", \"minorgridcolor\": \"white\", \"startlinecolor\": \"#2a3f5f\"}, \"type\": \"carpet\"}], \"choropleth\": [{\"colorbar\": {\"outlinewidth\": 0, \"ticks\": \"\"}, \"type\": \"choropleth\"}], \"contour\": [{\"colorbar\": {\"outlinewidth\": 0, \"ticks\": \"\"}, \"colorscale\": [[0.0, \"#0d0887\"], [0.1111111111111111, \"#46039f\"], [0.2222222222222222, \"#7201a8\"], [0.3333333333333333, \"#9c179e\"], [0.4444444444444444, \"#bd3786\"], [0.5555555555555556, \"#d8576b\"], [0.6666666666666666, \"#ed7953\"], [0.7777777777777778, \"#fb9f3a\"], [0.8888888888888888, \"#fdca26\"], [1.0, \"#f0f921\"]], \"type\": \"contour\"}], \"contourcarpet\": [{\"colorbar\": {\"outlinewidth\": 0, \"ticks\": \"\"}, \"type\": \"contourcarpet\"}], \"heatmap\": [{\"colorbar\": {\"outlinewidth\": 0, \"ticks\": \"\"}, \"colorscale\": [[0.0, \"#0d0887\"], [0.1111111111111111, \"#46039f\"], [0.2222222222222222, \"#7201a8\"], [0.3333333333333333, \"#9c179e\"], [0.4444444444444444, \"#bd3786\"], [0.5555555555555556, \"#d8576b\"], [0.6666666666666666, \"#ed7953\"], [0.7777777777777778, \"#fb9f3a\"], [0.8888888888888888, \"#fdca26\"], [1.0, \"#f0f921\"]], \"type\": \"heatmap\"}], \"heatmapgl\": [{\"colorbar\": {\"outlinewidth\": 0, \"ticks\": \"\"}, \"colorscale\": [[0.0, \"#0d0887\"], [0.1111111111111111, \"#46039f\"], [0.2222222222222222, \"#7201a8\"], [0.3333333333333333, \"#9c179e\"], [0.4444444444444444, \"#bd3786\"], [0.5555555555555556, \"#d8576b\"], [0.6666666666666666, \"#ed7953\"], [0.7777777777777778, \"#fb9f3a\"], [0.8888888888888888, \"#fdca26\"], [1.0, \"#f0f921\"]], \"type\": \"heatmapgl\"}], \"histogram\": [{\"marker\": {\"colorbar\": {\"outlinewidth\": 0, \"ticks\": \"\"}}, \"type\": \"histogram\"}], \"histogram2d\": [{\"colorbar\": {\"outlinewidth\": 0, \"ticks\": \"\"}, \"colorscale\": [[0.0, \"#0d0887\"], [0.1111111111111111, \"#46039f\"], [0.2222222222222222, \"#7201a8\"], [0.3333333333333333, \"#9c179e\"], [0.4444444444444444, \"#bd3786\"], [0.5555555555555556, \"#d8576b\"], [0.6666666666666666, \"#ed7953\"], [0.7777777777777778, \"#fb9f3a\"], [0.8888888888888888, \"#fdca26\"], [1.0, \"#f0f921\"]], \"type\": \"histogram2d\"}], \"histogram2dcontour\": [{\"colorbar\": {\"outlinewidth\": 0, \"ticks\": \"\"}, \"colorscale\": [[0.0, \"#0d0887\"], [0.1111111111111111, \"#46039f\"], [0.2222222222222222, \"#7201a8\"], [0.3333333333333333, \"#9c179e\"], [0.4444444444444444, \"#bd3786\"], [0.5555555555555556, \"#d8576b\"], [0.6666666666666666, \"#ed7953\"], [0.7777777777777778, \"#fb9f3a\"], [0.8888888888888888, \"#fdca26\"], [1.0, \"#f0f921\"]], \"type\": \"histogram2dcontour\"}], \"mesh3d\": [{\"colorbar\": {\"outlinewidth\": 0, \"ticks\": \"\"}, \"type\": \"mesh3d\"}], \"parcoords\": [{\"line\": {\"colorbar\": {\"outlinewidth\": 0, \"ticks\": \"\"}}, \"type\": \"parcoords\"}], \"pie\": [{\"automargin\": true, \"type\": \"pie\"}], \"scatter\": [{\"marker\": {\"colorbar\": {\"outlinewidth\": 0, \"ticks\": \"\"}}, \"type\": \"scatter\"}], \"scatter3d\": [{\"line\": {\"colorbar\": {\"outlinewidth\": 0, \"ticks\": \"\"}}, \"marker\": {\"colorbar\": {\"outlinewidth\": 0, \"ticks\": \"\"}}, \"type\": \"scatter3d\"}], \"scattercarpet\": [{\"marker\": {\"colorbar\": {\"outlinewidth\": 0, \"ticks\": \"\"}}, \"type\": \"scattercarpet\"}], \"scattergeo\": [{\"marker\": {\"colorbar\": {\"outlinewidth\": 0, \"ticks\": \"\"}}, \"type\": \"scattergeo\"}], \"scattergl\": [{\"marker\": {\"colorbar\": {\"outlinewidth\": 0, \"ticks\": \"\"}}, \"type\": \"scattergl\"}], \"scattermapbox\": [{\"marker\": {\"colorbar\": {\"outlinewidth\": 0, \"ticks\": \"\"}}, \"type\": \"scattermapbox\"}], \"scatterpolar\": [{\"marker\": {\"colorbar\": {\"outlinewidth\": 0, \"ticks\": \"\"}}, \"type\": \"scatterpolar\"}], \"scatterpolargl\": [{\"marker\": {\"colorbar\": {\"outlinewidth\": 0, \"ticks\": \"\"}}, \"type\": \"scatterpolargl\"}], \"scatterternary\": [{\"marker\": {\"colorbar\": {\"outlinewidth\": 0, \"ticks\": \"\"}}, \"type\": \"scatterternary\"}], \"surface\": [{\"colorbar\": {\"outlinewidth\": 0, \"ticks\": \"\"}, \"colorscale\": [[0.0, \"#0d0887\"], [0.1111111111111111, \"#46039f\"], [0.2222222222222222, \"#7201a8\"], [0.3333333333333333, \"#9c179e\"], [0.4444444444444444, \"#bd3786\"], [0.5555555555555556, \"#d8576b\"], [0.6666666666666666, \"#ed7953\"], [0.7777777777777778, \"#fb9f3a\"], [0.8888888888888888, \"#fdca26\"], [1.0, \"#f0f921\"]], \"type\": \"surface\"}], \"table\": [{\"cells\": {\"fill\": {\"color\": \"#EBF0F8\"}, \"line\": {\"color\": \"white\"}}, \"header\": {\"fill\": {\"color\": \"#C8D4E3\"}, \"line\": {\"color\": \"white\"}}, \"type\": \"table\"}]}, \"layout\": {\"annotationdefaults\": {\"arrowcolor\": \"#2a3f5f\", \"arrowhead\": 0, \"arrowwidth\": 1}, \"coloraxis\": {\"colorbar\": {\"outlinewidth\": 0, \"ticks\": \"\"}}, \"colorscale\": {\"diverging\": [[0, \"#8e0152\"], [0.1, \"#c51b7d\"], [0.2, \"#de77ae\"], [0.3, \"#f1b6da\"], [0.4, \"#fde0ef\"], [0.5, \"#f7f7f7\"], [0.6, \"#e6f5d0\"], [0.7, \"#b8e186\"], [0.8, \"#7fbc41\"], [0.9, \"#4d9221\"], [1, \"#276419\"]], \"sequential\": [[0.0, \"#0d0887\"], [0.1111111111111111, \"#46039f\"], [0.2222222222222222, \"#7201a8\"], [0.3333333333333333, \"#9c179e\"], [0.4444444444444444, \"#bd3786\"], [0.5555555555555556, \"#d8576b\"], [0.6666666666666666, \"#ed7953\"], [0.7777777777777778, \"#fb9f3a\"], [0.8888888888888888, \"#fdca26\"], [1.0, \"#f0f921\"]], \"sequentialminus\": [[0.0, \"#0d0887\"], [0.1111111111111111, \"#46039f\"], [0.2222222222222222, \"#7201a8\"], [0.3333333333333333, \"#9c179e\"], [0.4444444444444444, \"#bd3786\"], [0.5555555555555556, \"#d8576b\"], [0.6666666666666666, \"#ed7953\"], [0.7777777777777778, \"#fb9f3a\"], [0.8888888888888888, \"#fdca26\"], [1.0, \"#f0f921\"]]}, \"colorway\": [\"#636efa\", \"#EF553B\", \"#00cc96\", \"#ab63fa\", \"#FFA15A\", \"#19d3f3\", \"#FF6692\", \"#B6E880\", \"#FF97FF\", \"#FECB52\"], \"font\": {\"color\": \"#2a3f5f\"}, \"geo\": {\"bgcolor\": \"white\", \"lakecolor\": \"white\", \"landcolor\": \"#E5ECF6\", \"showlakes\": true, \"showland\": true, \"subunitcolor\": \"white\"}, \"hoverlabel\": {\"align\": \"left\"}, \"hovermode\": \"closest\", \"mapbox\": {\"style\": \"light\"}, \"paper_bgcolor\": \"white\", \"plot_bgcolor\": \"#E5ECF6\", \"polar\": {\"angularaxis\": {\"gridcolor\": \"white\", \"linecolor\": \"white\", \"ticks\": \"\"}, \"bgcolor\": \"#E5ECF6\", \"radialaxis\": {\"gridcolor\": \"white\", \"linecolor\": \"white\", \"ticks\": \"\"}}, \"scene\": {\"xaxis\": {\"backgroundcolor\": \"#E5ECF6\", \"gridcolor\": \"white\", \"gridwidth\": 2, \"linecolor\": \"white\", \"showbackground\": true, \"ticks\": \"\", \"zerolinecolor\": \"white\"}, \"yaxis\": {\"backgroundcolor\": \"#E5ECF6\", \"gridcolor\": \"white\", \"gridwidth\": 2, \"linecolor\": \"white\", \"showbackground\": true, \"ticks\": \"\", \"zerolinecolor\": \"white\"}, \"zaxis\": {\"backgroundcolor\": \"#E5ECF6\", \"gridcolor\": \"white\", \"gridwidth\": 2, \"linecolor\": \"white\", \"showbackground\": true, \"ticks\": \"\", \"zerolinecolor\": \"white\"}}, \"shapedefaults\": {\"line\": {\"color\": \"#2a3f5f\"}}, \"ternary\": {\"aaxis\": {\"gridcolor\": \"white\", \"linecolor\": \"white\", \"ticks\": \"\"}, \"baxis\": {\"gridcolor\": \"white\", \"linecolor\": \"white\", \"ticks\": \"\"}, \"bgcolor\": \"#E5ECF6\", \"caxis\": {\"gridcolor\": \"white\", \"linecolor\": \"white\", \"ticks\": \"\"}}, \"title\": {\"x\": 0.05}, \"xaxis\": {\"automargin\": true, \"gridcolor\": \"white\", \"linecolor\": \"white\", \"ticks\": \"\", \"title\": {\"standoff\": 15}, \"zerolinecolor\": \"white\", \"zerolinewidth\": 2}, \"yaxis\": {\"automargin\": true, \"gridcolor\": \"white\", \"linecolor\": \"white\", \"ticks\": \"\", \"title\": {\"standoff\": 15}, \"zerolinecolor\": \"white\", \"zerolinewidth\": 2}}}, \"title\": {\"text\": \"dc = us6-acs2\"}, \"width\": 700, \"xaxis\": {\"anchor\": \"y\", \"domain\": [0.0, 1.0], \"title\": {\"text\": \"Number of sigmas\"}}, \"yaxis\": {\"anchor\": \"x\", \"domain\": [0.0, 1.0], \"title\": {\"text\": \"Number of anomalies\"}}},\n",
       "                        {\"responsive\": true}\n",
       "                    ).then(function(){\n",
       "                            \n",
       "var gd = document.getElementById('7b84b00b-ef52-45a3-a58a-ea01b8f44fe1');\n",
       "var x = new MutationObserver(function (mutations, observer) {{\n",
       "        var display = window.getComputedStyle(gd).display;\n",
       "        if (!display || display === 'none') {{\n",
       "            console.log([gd, 'removed!']);\n",
       "            Plotly.purge(gd);\n",
       "            observer.disconnect();\n",
       "        }}\n",
       "}});\n",
       "\n",
       "// Listen for the removal of the full notebook cells\n",
       "var notebookContainer = gd.closest('#notebook-container');\n",
       "if (notebookContainer) {{\n",
       "    x.observe(notebookContainer, {childList: true});\n",
       "}}\n",
       "\n",
       "// Listen for the clearing of the current output cell\n",
       "var outputEl = gd.closest('.output');\n",
       "if (outputEl) {{\n",
       "    x.observe(outputEl, {childList: true});\n",
       "}}\n",
       "\n",
       "                        })\n",
       "                };\n",
       "                });\n",
       "            </script>\n",
       "        </div>"
      ]
     },
     "metadata": {},
     "output_type": "display_data"
    }
   ],
   "source": [
    "plot_sigmas_anomalies(dc_reslut)"
   ]
  },
  {
   "cell_type": "markdown",
   "metadata": {},
   "source": [
    "# Подведём какие-то итоги "
   ]
  },
  {
   "cell_type": "code",
   "execution_count": 94,
   "metadata": {},
   "outputs": [],
   "source": [
    "dcs = list(dc_file.keys())\n",
    "dc_reslut = {'us3' : [6.0], 'au2-acs1' : [6.0],'eu3-acs1' : [6.0],'us6-acs2' : [5.7]}"
   ]
  },
  {
   "cell_type": "code",
   "execution_count": 11,
   "metadata": {},
   "outputs": [],
   "source": [
    "def results(dcs, dc_result):\n",
    "    month = 60*24*30\n",
    "    path = '../datasets/for_plot/'\n",
    "    html_path = '../datasets/plots/'\n",
    "    \n",
    "    for_heat_map_duration = pd.DataFrame(np.zeros((4, 31)),index = dcs,\n",
    "                                         columns = [i for i in range(1,32)])\n",
    "\n",
    "    for_heat_map_number = pd.DataFrame(np.zeros((4, 31)),\n",
    "                                   index = dcs,\n",
    "                                   columns = [i for i in range(1,32)]\n",
    "                                  )\n",
    "\n",
    "    for_result = pd.DataFrame(index = dcs,\n",
    "                          columns = ['Number of sigmas',\n",
    "                                     'Number of anomalies',\n",
    "                                     'Expected number of anomalies',\n",
    "                                     'Amount of anomaly-time']\n",
    "                         )\n",
    "    dict_dc_inst_anomalies = {}\n",
    "    dict_dc_inst_anomalies_coeff = {}\n",
    "    anomalies_dict_for_dcs = {}\n",
    "    \n",
    "    for dc in dc_result:\n",
    "        dict_dc = {}\n",
    "        dict_dc_coeff = {}\n",
    "        anomalies_dict_for_dc = {}\n",
    "        number_of_all_anomalies = 0\n",
    "        n_s = dc_reslut[dc][0]\n",
    "        inst_and_duration_anomalies = {}\n",
    "        inst_and_number_anomalies = {}\n",
    "        all_duration = 0\n",
    "        \n",
    "        for file in sorted(dc_file[dc]):\n",
    "            duration = 0\n",
    "            f_s = str(file).split('__')\n",
    "            inst_n = int(f_s[4])\n",
    "            dc = f_s[3]\n",
    "            \n",
    "            # getting data and adding a column with date\n",
    "            train_size = int(f_s[1][6:])\n",
    "            plot_data = pd.read_csv(path + file).dropna()[train_size + month:]\n",
    "            reloads_ts = plot_data[plot_data['target_der'] < 0]['time_stamp'].values\n",
    "            plot_data = analyzer.get_df_with_no_reloads(plot_data, reloads_ts, 'predicted_target')\n",
    "            plot_data = analyzer.get_df_with_no_reloads(plot_data, reloads_ts, 'target')  \n",
    "            plot_data = analyzer.get_df_with_droped_reloads(plot_data, reloads_ts, reload_window=60 * 10)\n",
    "            \n",
    "            list_of_anomalys = analyzer.find_interval_of_anomaly_with_mode(plot_data, n_s,\n",
    "                                                                           'and of mean and main_error')\n",
    "            \n",
    "            anomalies_dict_for_dc[inst_n] = list_of_anomalys\n",
    "        \n",
    "            if list_of_anomalys:\n",
    "                anomaly_duration = [(list_of_anomalys[i][1]-list_of_anomalys[i][0])/60 for i in range(len(list_of_anomalys))]\n",
    "                list_of_anomalys = [list_of_anomalys[i] for i in range(len(list_of_anomalys)) if anomaly_duration[i] >= 3 ]\n",
    "                if list_of_anomalys:\n",
    "                    anomaly_duration = [(list_of_anomalys[i][1]-list_of_anomalys[i][0])/60 for i in range(len(list_of_anomalys))]\n",
    "                    dict_dc[inst_n] = list_of_anomalys\n",
    "                    print(f'dc = {dc}')\n",
    "                    print(f'inst_n = {inst_n}; anomalies: {list_of_anomalys}')\n",
    "                    both_coeff = []\n",
    "                    for mode in ['mean', 'main_error']:\n",
    "                        s, mu = analyzer.get_var_and_mean(plot_data, mode)\n",
    "                        an_point = analyzer.get_anomaly_dots(plot_data, s, mu, n_s, mode)\n",
    "                        number_of_point_in_inerval = [len([j for j in an_point if (j >= list_of_anomalys[i][0] and j <= list_of_anomalys[i][1])]) for i in range(len(list_of_anomalys))]\n",
    "                        coef = [number_of_point_in_inerval[i]/(anomaly_duration[i]+1) for i in range(len(anomaly_duration))]\n",
    "                        both_coeff.append(coef)\n",
    "                    final_coeff = list((np.array(both_coeff[0]) + np.array(both_coeff[1]))/2)\n",
    "                    final_coeff = [np.round(final_coeff[i], decimals = 2) for i in range(len(final_coeff))]\n",
    "                    dict_dc_coeff[inst_n] = final_coeff\n",
    "        \n",
    "                \n",
    "    \n",
    "            number_of_all_anomalies += len(list_of_anomalys)\n",
    "            \n",
    "            if list_of_anomalys:\n",
    "                for anomaly in list_of_anomalys:\n",
    "                    duration += (anomaly[1]-anomaly[0])\n",
    "                    inst_and_duration_anomalies[inst_n] = duration\n",
    "            else:\n",
    "                inst_and_duration_anomalies[inst_n] = 0\n",
    "                    \n",
    "                    \n",
    "            if list_of_anomalys:\n",
    "                inst_and_number_anomalies[inst_n] = len(list_of_anomalys)\n",
    "            else:\n",
    "                inst_and_number_anomalies[inst_n] = 0\n",
    "                \n",
    "                \n",
    "        for i in inst_and_duration_anomalies:\n",
    "                    inst_and_duration_anomalies[i] = inst_and_duration_anomalies[i]//60\n",
    "                \n",
    "        for duration in inst_and_duration_anomalies:\n",
    "                all_duration += inst_and_duration_anomalies[duration]\n",
    "            \n",
    "        \n",
    "        for_heat_map_duration.loc[dc] = inst_and_duration_anomalies\n",
    "        for_heat_map_number.loc[dc] = inst_and_number_anomalies\n",
    "        for_result.loc[dc] = {'Number of sigmas': n_s,\n",
    "                             'Number of anomalies': number_of_all_anomalies,\n",
    "                              'Expected number of anomalies': np.round(len(dc_file[dc])*(20/30)*(plot_data.shape[0]/(60*24*30))), \n",
    "                             'Amount of anomaly-time': all_duration }\n",
    "        dict_dc_inst_anomalies[dc] = dict_dc\n",
    "        dict_dc_inst_anomalies_coeff[dc] = dict_dc_coeff\n",
    "        anomalies_dict_for_dcs[dc] = anomalies_dict_for_dc\n",
    "    return [for_heat_map_duration,for_heat_map_number,for_result,dict_dc_inst_anomalies,dict_dc_inst_anomalies_coeff, anomalies_dict_for_dcs]"
   ]
  },
  {
   "cell_type": "code",
   "execution_count": 12,
   "metadata": {
    "scrolled": true
   },
   "outputs": [
    {
     "name": "stdout",
     "output_type": "stream",
     "text": [
      "dc = us3\n",
      "inst_n = 12; anomalies: [[1586334120, 1586335920]]\n",
      "dc = us3\n",
      "inst_n = 13; anomalies: [[1586333160, 1586335260], [1586736720, 1586737680]]\n",
      "dc = us3\n",
      "inst_n = 14; anomalies: [[1586335620, 1586336160]]\n",
      "dc = us3\n",
      "inst_n = 15; anomalies: [[1586330460, 1586332020]]\n",
      "dc = us3\n",
      "inst_n = 16; anomalies: [[1588190940, 1588193340], [1589404140, 1589405580]]\n",
      "dc = us3\n",
      "inst_n = 18; anomalies: [[1586330460, 1586336460], [1586733060, 1586734020]]\n",
      "dc = us3\n",
      "inst_n = 19; anomalies: [[1586330460, 1586333160], [1586407560, 1586408760], [1586580060, 1586580540], [1586664120, 1586664720], [1586732940, 1586737740], [1586767140, 1586768520]]\n",
      "dc = us3\n",
      "inst_n = 1; anomalies: [[1586330940, 1586335920]]\n",
      "dc = us3\n",
      "inst_n = 20; anomalies: [[1586329920, 1586330700], [1586706060, 1586706240], [1586732880, 1586736540], [1586771820, 1586773260]]\n",
      "dc = us3\n",
      "inst_n = 2; anomalies: [[1586331360, 1586333820], [1586335620, 1586336640]]\n",
      "dc = us3\n",
      "inst_n = 3; anomalies: [[1586331540, 1586335740], [1586740320, 1586740860]]\n",
      "dc = us3\n",
      "inst_n = 4; anomalies: [[1586333040, 1586336280]]\n",
      "dc = us3\n",
      "inst_n = 5; anomalies: [[1586329920, 1586330940], [1586333280, 1586335080]]\n",
      "dc = us3\n",
      "inst_n = 8; anomalies: [[1586334060, 1586335200]]\n",
      "dc = au2-acs1\n",
      "inst_n = 14; anomalies: [[1586516580, 1586517060]]\n",
      "dc = au2-acs1\n",
      "inst_n = 15; anomalies: [[1585748820, 1585749060], [1586860740, 1586860980], [1589472960, 1589473140]]\n",
      "dc = au2-acs1\n",
      "inst_n = 16; anomalies: [[1586516880, 1586517060]]\n",
      "dc = au2-acs1\n",
      "inst_n = 2; anomalies: [[1588606920, 1588608000]]\n",
      "dc = au2-acs1\n",
      "inst_n = 8; anomalies: [[1585624860, 1585625220], [1588606920, 1588608060]]\n",
      "dc = eu3-acs1\n",
      "inst_n = 10; anomalies: [[1587463380, 1587464280]]\n",
      "dc = eu3-acs1\n",
      "inst_n = 11; anomalies: [[1587463440, 1587464640]]\n",
      "dc = eu3-acs1\n",
      "inst_n = 12; anomalies: [[1585573380, 1585574220]]\n",
      "dc = eu3-acs1\n",
      "inst_n = 13; anomalies: [[1585573320, 1585574100]]\n",
      "dc = eu3-acs1\n",
      "inst_n = 14; anomalies: [[1587463380, 1587464400]]\n",
      "dc = eu3-acs1\n",
      "inst_n = 16; anomalies: [[1585573920, 1585574160], [1585722000, 1585723740], [1587463380, 1587464340]]\n",
      "dc = eu3-acs1\n",
      "inst_n = 17; anomalies: [[1585573320, 1585574280]]\n",
      "dc = eu3-acs1\n",
      "inst_n = 18; anomalies: [[1585573380, 1585574040], [1585722240, 1585723800], [1587463380, 1587464340]]\n",
      "dc = eu3-acs1\n",
      "inst_n = 19; anomalies: [[1585721940, 1585723740], [1587463380, 1587464340]]\n",
      "dc = eu3-acs1\n",
      "inst_n = 1; anomalies: [[1585721940, 1585723800], [1587463380, 1587464340]]\n",
      "dc = eu3-acs1\n",
      "inst_n = 20; anomalies: [[1585573500, 1585573860], [1585721940, 1585723740]]\n",
      "dc = eu3-acs1\n",
      "inst_n = 21; anomalies: [[1585722900, 1585723740], [1587463380, 1587464340]]\n",
      "dc = eu3-acs1\n",
      "inst_n = 22; anomalies: [[1585573380, 1585574160], [1585722840, 1585723800], [1587463440, 1587464400]]\n",
      "dc = eu3-acs1\n",
      "inst_n = 23; anomalies: [[1585573320, 1585574040]]\n",
      "dc = eu3-acs1\n",
      "inst_n = 24; anomalies: [[1587463380, 1587464340]]\n",
      "dc = eu3-acs1\n",
      "inst_n = 25; anomalies: [[1585722000, 1585723800]]\n",
      "dc = eu3-acs1\n",
      "inst_n = 26; anomalies: [[1585573320, 1585574220], [1585722840, 1585723740], [1587463380, 1587464340]]\n",
      "dc = eu3-acs1\n",
      "inst_n = 27; anomalies: [[1585721940, 1585723740], [1587463380, 1587464340]]\n",
      "dc = eu3-acs1\n",
      "inst_n = 3; anomalies: [[1585573320, 1585573500], [1587463380, 1587464340], [1589580780, 1589581080]]\n",
      "dc = eu3-acs1\n",
      "inst_n = 4; anomalies: [[1587463440, 1587464400]]\n",
      "dc = eu3-acs1\n",
      "inst_n = 5; anomalies: [[1585573440, 1585573860]]\n",
      "dc = eu3-acs1\n",
      "inst_n = 6; anomalies: [[1585721940, 1585722900], [1587463380, 1587464400]]\n",
      "dc = eu3-acs1\n",
      "inst_n = 7; anomalies: [[1585573500, 1585574220], [1587463380, 1587464340]]\n",
      "dc = eu3-acs1\n",
      "inst_n = 8; anomalies: [[1587463380, 1587464340]]\n",
      "dc = eu3-acs1\n",
      "inst_n = 9; anomalies: [[1585573320, 1585574100]]\n",
      "dc = us6-acs2\n",
      "inst_n = 10; anomalies: [[1588828260, 1588832520]]\n",
      "dc = us6-acs2\n",
      "inst_n = 12; anomalies: [[1587456360, 1587458100]]\n",
      "dc = us6-acs2\n",
      "inst_n = 13; anomalies: [[1587457080, 1587458160]]\n",
      "dc = us6-acs2\n",
      "inst_n = 14; anomalies: [[1587456360, 1587458160], [1588830360, 1588831680]]\n",
      "dc = us6-acs2\n",
      "inst_n = 15; anomalies: [[1587456420, 1587458100], [1588828380, 1588832460]]\n",
      "dc = us6-acs2\n",
      "inst_n = 17; anomalies: [[1587456360, 1587458160]]\n",
      "dc = us6-acs2\n",
      "inst_n = 1; anomalies: [[1587456360, 1587457320], [1588828320, 1588832460]]\n",
      "dc = us6-acs2\n",
      "inst_n = 2; anomalies: [[1587456240, 1587458160], [1588830300, 1588831140]]\n",
      "dc = us6-acs2\n",
      "inst_n = 3; anomalies: [[1587141360, 1587142920], [1587456360, 1587458160], [1588831740, 1588832460]]\n",
      "dc = us6-acs2\n",
      "inst_n = 4; anomalies: [[1588828560, 1588832460]]\n",
      "dc = us6-acs2\n",
      "inst_n = 5; anomalies: [[1587456360, 1587458100], [1588830600, 1588832220], [1589083080, 1589083320]]\n",
      "dc = us6-acs2\n",
      "inst_n = 6; anomalies: [[1587457260, 1587458100]]\n",
      "dc = us6-acs2\n",
      "inst_n = 7; anomalies: [[1587457980, 1587458160]]\n",
      "dc = us6-acs2\n",
      "inst_n = 8; anomalies: [[1588828500, 1588832460]]\n",
      "dc = us6-acs2\n",
      "inst_n = 9; anomalies: [[1587435660, 1587438780], [1587456360, 1587458100], [1588386120, 1588389120], [1588392600, 1588393860], [1588824360, 1588828080]]\n"
     ]
    }
   ],
   "source": [
    "for_heat_map_duration, for_heat_map_number, for_result, dict_dc_inst_anomalies, dict_dc_inst_anomalies_coeff, anomalies_dict_for_dcs = results(dcs, dc_reslut)"
   ]
  },
  {
   "cell_type": "markdown",
   "metadata": {},
   "source": [
    "## Saving results "
   ]
  },
  {
   "cell_type": "code",
   "execution_count": 76,
   "metadata": {},
   "outputs": [],
   "source": [
    "for_heat_map_duration.to_csv('../datasets/'+folder+'/heat_map_duartion.csv', header=False)\n",
    "for_heat_map_number.to_csv('../datasets/'+folder+'/heat_map_nubmer.csv', header=False) \n",
    "for_result.to_csv('../datasets/'+folder+'/for_result.csv') \n",
    "\n",
    "json.dump(dc_reslut, open( \"../datasets/\"+folder+\"/anomaly_and_sigma.json\", 'w' ) )\n",
    "json.dump(dict_dc_inst_anomalies, open( \"../datasets/\"+folder+\"/dict_dc_inst_anomalies.json\", 'w' ))\n",
    "json.dump(dict_dc_inst_anomalies_coeff, open( \"../datasets/\"+folder+\"/dict_dc_inst_anomalies_coeff.json\", 'w'))\n",
    "json.dump(anomalies_dict_for_dcs, open( \"../datasets/\"+folder+\"/anomalies_dict_for_dcs.json\", 'w'))\n",
    "#json.dump(dict_dc_inst_metric, open( \"../datasets/\"+folder+\"/dict_dc_inst_metric.json\", 'w'))"
   ]
  },
  {
   "cell_type": "code",
   "execution_count": 13,
   "metadata": {},
   "outputs": [
    {
     "data": {
      "text/plain": [
       "Text(0.5, 1.0, 'Number of anomalies')"
      ]
     },
     "execution_count": 13,
     "metadata": {},
     "output_type": "execute_result"
    },
    {
     "data": {
      "image/png": "[encoded data removed]",
      "text/plain": [
       "<Figure size 1152x720 with 2 Axes>"
      ]
     },
     "metadata": {
      "needs_background": "light"
     },
     "output_type": "display_data"
    }
   ],
   "source": [
    "plt.figure(figsize=(16, 10))  \n",
    "plt.style.use('seaborn-whitegrid')\n",
    "plt.rcParams.update({'font.size': 12})\n",
    "sns.heatmap(for_heat_map_number, cmap=\"YlGnBu\", linewidths=1 ,annot=True, linecolor = 'gray',  fmt = \"g\").set_title('Number of anomalies')"
   ]
  },
  {
   "cell_type": "code",
   "execution_count": 14,
   "metadata": {},
   "outputs": [
    {
     "data": {
      "text/plain": [
       "Text(0.5, 1.0, 'Duration of anomalies')"
      ]
     },
     "execution_count": 14,
     "metadata": {},
     "output_type": "execute_result"
    },
    {
     "data": {
      "image/png": "[encoded data removed]",
      "text/plain": [
       "<Figure size 1152x720 with 2 Axes>"
      ]
     },
     "metadata": {},
     "output_type": "display_data"
    }
   ],
   "source": [
    "fig, ax = plt.subplots(figsize=(16,10))\n",
    "plt.style.use('seaborn-whitegrid')\n",
    "plt.rcParams.update({'font.size': 12})\n",
    "sns.heatmap(for_heat_map_duration, cmap=\"YlGnBu\", linewidths=1 ,annot=True, linecolor = 'gray', ax = ax, fmt = 'g').set_title('Duration of anomalies')"
   ]
  },
  {
   "cell_type": "code",
   "execution_count": 15,
   "metadata": {},
   "outputs": [
    {
     "data": {
      "text/html": [
       "<div>\n",
       "<style scoped>\n",
       "    .dataframe tbody tr th:only-of-type {\n",
       "        vertical-align: middle;\n",
       "    }\n",
       "\n",
       "    .dataframe tbody tr th {\n",
       "        vertical-align: top;\n",
       "    }\n",
       "\n",
       "    .dataframe thead th {\n",
       "        text-align: right;\n",
       "    }\n",
       "</style>\n",
       "<table border=\"1\" class=\"dataframe\">\n",
       "  <thead>\n",
       "    <tr style=\"text-align: right;\">\n",
       "      <th></th>\n",
       "      <th>Number of sigmas</th>\n",
       "      <th>Number of anomalies</th>\n",
       "      <th>Expected number of anomalies</th>\n",
       "      <th>Amount of anomaly-time</th>\n",
       "    </tr>\n",
       "  </thead>\n",
       "  <tbody>\n",
       "    <tr>\n",
       "      <th>us3</th>\n",
       "      <td>8</td>\n",
       "      <td>28</td>\n",
       "      <td>20</td>\n",
       "      <td>923</td>\n",
       "    </tr>\n",
       "    <tr>\n",
       "      <th>au2-acs1</th>\n",
       "      <td>6.4</td>\n",
       "      <td>8</td>\n",
       "      <td>21</td>\n",
       "      <td>65</td>\n",
       "    </tr>\n",
       "    <tr>\n",
       "      <th>eu3-acs1</th>\n",
       "      <td>7.6</td>\n",
       "      <td>42</td>\n",
       "      <td>35</td>\n",
       "      <td>688</td>\n",
       "    </tr>\n",
       "    <tr>\n",
       "      <th>us6-acs2</th>\n",
       "      <td>5.7</td>\n",
       "      <td>27</td>\n",
       "      <td>29</td>\n",
       "      <td>917</td>\n",
       "    </tr>\n",
       "  </tbody>\n",
       "</table>\n",
       "</div>"
      ],
      "text/plain": [
       "         Number of sigmas Number of anomalies Expected number of anomalies  \\\n",
       "us3                     8                  28                           20   \n",
       "au2-acs1              6.4                   8                           21   \n",
       "eu3-acs1              7.6                  42                           35   \n",
       "us6-acs2              5.7                  27                           29   \n",
       "\n",
       "         Amount of anomaly-time  \n",
       "us3                         923  \n",
       "au2-acs1                     65  \n",
       "eu3-acs1                    688  \n",
       "us6-acs2                    917  "
      ]
     },
     "execution_count": 15,
     "metadata": {},
     "output_type": "execute_result"
    }
   ],
   "source": [
    "for_result"
   ]
  },
  {
   "cell_type": "code",
   "execution_count": 15,
   "metadata": {},
   "outputs": [
    {
     "data": {
      "image/png": "[encoded data removed]",
      "text/plain": [
       "<Figure size 1296x288 with 4 Axes>"
      ]
     },
     "metadata": {},
     "output_type": "display_data"
    }
   ],
   "source": [
    "plt.style.use('seaborn-whitegrid')\n",
    "plt.rcParams.update({'font.size': 12})\n",
    "plt.rcParams['figure.figsize'] = (18.0, 4.0)\n",
    "plt.subplot(141)\n",
    "plt.hist(for_heat_map_duration.iloc[0], bins =20)\n",
    "plt.title('eu3-acs1') \n",
    "plt.subplot(142)\n",
    "plt.hist(for_heat_map_duration.iloc[1], bins =20)\n",
    "plt.title('us6-acs2') \n",
    "plt.subplot(143)\n",
    "plt.hist(for_heat_map_duration.iloc[2].dropna(), bins =20)\n",
    "plt.title('au2-acs1') \n",
    "plt.subplot(144)\n",
    "plt.hist(for_heat_map_duration.iloc[3].dropna(), bins =20)\n",
    "plt.title('us3') \n",
    "plt.show()"
   ]
  },
  {
   "cell_type": "code",
   "execution_count": 18,
   "metadata": {},
   "outputs": [],
   "source": [
    "def percentile_maker(start_time, finis_time, query_bucket, metric_start, metric_end,anomaly,  step='1m', data_path=None, for_anomaly = True):\n",
    "    \n",
    "    if data_path is None:\n",
    "        df = loader.get_normalized_time_series(query=query_bucket,\n",
    "                                               finish=finis_time,\n",
    "                                               start=start_time,\n",
    "                                               step=step\n",
    "                                               )\n",
    "    else:\n",
    "        df = pd.read_csv(data_path)\n",
    "        \n",
    "    df = utils.get_df_with_renamed_col_for_var(df)\n",
    "    df1 = pd.DataFrame.copy(df)\n",
    "    df = df[df.columns[2:]]\n",
    "    df = df.diff()\n",
    "    df['summ'] = df[metric_start + '+Inf' + metric_end]\n",
    "    \n",
    "    list_of_reloads_indexes = df[df['summ'] < 0].index.tolist()\n",
    "    list_of_previous_indexes = [i - 1 for i in list_of_reloads_indexes]\n",
    "    df.iloc[list_of_reloads_indexes] += df1.iloc[list_of_previous_indexes]\n",
    "    \n",
    "    list_of_reloads_indexes = df[df[df.columns[0]] < 0].index.tolist()\n",
    "    list_of_previous_indexes = [i - 1 for i in list_of_reloads_indexes]\n",
    "    df.iloc[list_of_reloads_indexes] += df1.iloc[list_of_previous_indexes]\n",
    "    \n",
    "    df['target'] = df1['target']\n",
    "    df['time_stamp'] = df1['time_stamp']\n",
    "    df = df.drop(df.index[0])\n",
    "    df = df.drop(columns = [metric_start + '+Inf' + metric_end])\n",
    "    df.dropna(inplace = True)\n",
    "    if for_anomaly:\n",
    "        df = df[df['time_stamp'].isin([anomaly[0] - shift * 60 for shift in range(60*24)]+\n",
    "                                             [anomaly[1] + shift * 60 for shift in range(1,60*24)])]\n",
    "\n",
    "    numbers_1 = conf.get_var_numbers_1()\n",
    "    df['99th_percentile'] = df[df.columns[:33]].apply(lambda row: sum(1-(row//(row['summ']*0.99))) ,axis = 1)\n",
    "    df.dropna(inplace = True)\n",
    "    df['99th_percentile'] = df['99th_percentile'].apply(lambda x: numbers_1[int(x)-1] if int(x) > 0 else numbers_1[0])\n",
    "    return df"
   ]
  },
  {
   "cell_type": "markdown",
   "metadata": {},
   "source": [
    "# Персентили для аномальных данных "
   ]
  },
  {
   "cell_type": "code",
   "execution_count": 15,
   "metadata": {
    "scrolled": true
   },
   "outputs": [
    {
     "name": "stdout",
     "output_type": "stream",
     "text": [
      "\n",
      "DC=au2-acs1\n",
      "INSTANCE=au2-acs1-stor14.vstoragedomain\n",
      "[1586516580, 1586517060]\n",
      "\n",
      "DC=au2-acs1\n",
      "INSTANCE=au2-acs1-stor15.vstoragedomain\n",
      "[1585748760, 1585749060]\n",
      "[1586612160, 1586612340]\n",
      "[1586860740, 1586860980]\n",
      "[1589199240, 1589199360]\n",
      "[1589472960, 1589473140]\n",
      "\n",
      "DC=au2-acs1\n",
      "INSTANCE=au2-acs1-stor16.vstoragedomain\n",
      "[1586516880, 1586517060]\n",
      "\n",
      "DC=au2-acs1\n",
      "INSTANCE=au2-acs1-stor02.vstoragedomain\n",
      "[1588606920, 1588608000]\n",
      "\n",
      "DC=au2-acs1\n",
      "INSTANCE=au2-acs1-stor03.vstoragedomain\n",
      "[1585748760, 1585748940]\n",
      "[1586784780, 1586786400]\n",
      "\n",
      "DC=au2-acs1\n",
      "INSTANCE=au2-acs1-stor04.vstoragedomain\n",
      "[1588341360, 1588341540]\n",
      "[1589129040, 1589129160]\n",
      "\n",
      "DC=au2-acs1\n",
      "INSTANCE=au2-acs1-stor08.vstoragedomain\n",
      "[1585624860, 1585625220]\n",
      "[1588606920, 1588608060]\n",
      "\n",
      "DC=eu3-acs1\n",
      "INSTANCE=eu3-acs1-stor10.vstoragedomain\n",
      "[1585573260, 1585573380]\n",
      "[1585721940, 1585723740]\n",
      "[1585814820, 1585816500]\n",
      "[1585823160, 1585823940]\n",
      "[1587463380, 1587464340]\n",
      "\n",
      "DC=eu3-acs1\n",
      "INSTANCE=eu3-acs1-stor11.vstoragedomain\n",
      "[1585815840, 1585817400]\n",
      "[1587463440, 1587464640]\n",
      "\n",
      "DC=eu3-acs1\n",
      "INSTANCE=eu3-acs1-stor12.vstoragedomain\n",
      "[1585573320, 1585574220]\n",
      "[1585722000, 1585724640]\n",
      "[1585732380, 1585732860]\n",
      "[1585815840, 1585817760]\n",
      "[1587463380, 1587464400]\n",
      "\n",
      "DC=eu3-acs1\n",
      "INSTANCE=eu3-acs1-stor13.vstoragedomain\n",
      "[1585573320, 1585574100]\n",
      "[1585722840, 1585723740]\n",
      "[1585814880, 1585817460]\n",
      "[1587463380, 1587464340]\n",
      "\n",
      "DC=eu3-acs1\n",
      "INSTANCE=eu3-acs1-stor14.vstoragedomain\n",
      "[1585722000, 1585723800]\n",
      "[1585732380, 1585732500]\n",
      "[1585817460, 1585817520]\n",
      "[1587463380, 1587464400]\n",
      "\n",
      "DC=eu3-acs1\n",
      "INSTANCE=eu3-acs1-stor15.vstoragedomain\n",
      "[1585721940, 1585723740]\n",
      "[1585817280, 1585817460]\n",
      "[1587463380, 1587464340]\n",
      "[1587534240, 1587534960]\n",
      "[1587891660, 1587893340]\n",
      "\n",
      "DC=eu3-acs1\n",
      "INSTANCE=eu3-acs1-stor16.vstoragedomain\n",
      "[1585573440, 1585574160]\n",
      "[1585722000, 1585724760]\n",
      "[1585817460, 1585817820]\n",
      "[1587460500, 1587461460]\n",
      "[1587463380, 1587464340]\n",
      "\n",
      "DC=eu3-acs1\n",
      "INSTANCE=eu3-acs1-stor17.vstoragedomain\n",
      "[1585573320, 1585574400]\n",
      "[1585721940, 1585722900]\n",
      "[1585815780, 1585817520]\n",
      "\n",
      "DC=eu3-acs1\n",
      "INSTANCE=eu3-acs1-stor18.vstoragedomain\n",
      "[1585573380, 1585574040]\n",
      "[1585721940, 1585724640]\n",
      "[1587463380, 1587464400]\n",
      "\n",
      "DC=eu3-acs1\n",
      "INSTANCE=eu3-acs1-stor19.vstoragedomain\n",
      "[1585721940, 1585723740]\n",
      "[1585814820, 1585817520]\n",
      "[1585821540, 1585822260]\n",
      "[1587463380, 1587464340]\n",
      "\n",
      "DC=eu3-acs1\n",
      "INSTANCE=eu3-acs1-stor01.vstoragedomain\n",
      "[1585721940, 1585724640]\n",
      "[1587463380, 1587464340]\n",
      "\n",
      "DC=eu3-acs1\n",
      "INSTANCE=eu3-acs1-stor20.vstoragedomain\n",
      "[1585573500, 1585573980]\n",
      "[1585721940, 1585724640]\n",
      "[1585732380, 1585732620]\n",
      "[1585816860, 1585817520]\n",
      "\n",
      "DC=eu3-acs1\n",
      "INSTANCE=eu3-acs1-stor21.vstoragedomain\n",
      "[1585573320, 1585574280]\n",
      "[1585722900, 1585723740]\n",
      "[1585816080, 1585817460]\n",
      "[1587463380, 1587464340]\n",
      "\n",
      "DC=eu3-acs1\n",
      "INSTANCE=eu3-acs1-stor22.vstoragedomain\n",
      "[1585573380, 1585574160]\n",
      "[1585721940, 1585724640]\n",
      "[1585732380, 1585732680]\n",
      "[1585821360, 1585821960]\n",
      "[1587463440, 1587464400]\n",
      "[1588062300, 1588062420]\n",
      "\n",
      "DC=eu3-acs1\n",
      "INSTANCE=eu3-acs1-stor23.vstoragedomain\n",
      "[1585573320, 1585574040]\n",
      "[1585721940, 1585724580]\n",
      "[1587460500, 1587461460]\n",
      "[1587463380, 1587464340]\n",
      "\n",
      "DC=eu3-acs1\n",
      "INSTANCE=eu3-acs1-stor24.vstoragedomain\n",
      "[1585721940, 1585724040]\n",
      "[1585815840, 1585817520]\n",
      "[1587463380, 1587464340]\n",
      "\n",
      "DC=eu3-acs1\n",
      "INSTANCE=eu3-acs1-stor25.vstoragedomain\n",
      "[1585722000, 1585724820]\n",
      "[1585815060, 1585816140]\n",
      "[1585820040, 1585821600]\n",
      "[1587463380, 1587464400]\n",
      "\n",
      "DC=eu3-acs1\n",
      "INSTANCE=eu3-acs1-stor26.vstoragedomain\n",
      "[1585573260, 1585574220]\n",
      "[1585722780, 1585724940]\n",
      "[1585815960, 1585817460]\n",
      "[1587463380, 1587464340]\n",
      "[1588269420, 1588270740]\n",
      "\n",
      "DC=eu3-acs1\n",
      "INSTANCE=eu3-acs1-stor27.vstoragedomain\n",
      "[1585573320, 1585573980]\n",
      "[1585721940, 1585723740]\n",
      "[1585815780, 1585817460]\n",
      "[1587463380, 1587464340]\n",
      "\n",
      "DC=eu3-acs1\n",
      "INSTANCE=eu3-acs1-stor02.vstoragedomain\n",
      "[1585815300, 1585817520]\n",
      "[1587463380, 1587464340]\n",
      "\n",
      "DC=eu3-acs1\n",
      "INSTANCE=eu3-acs1-stor03.vstoragedomain\n",
      "[1585573320, 1585574040]\n",
      "[1585735260, 1585736460]\n",
      "[1585796280, 1585799520]\n",
      "[1585816320, 1585817460]\n",
      "[1587463380, 1587464340]\n",
      "[1589580780, 1589581080]\n",
      "\n",
      "DC=eu3-acs1\n",
      "INSTANCE=eu3-acs1-stor04.vstoragedomain\n",
      "[1585573440, 1585574040]\n",
      "[1585721940, 1585724640]\n",
      "[1585732380, 1585732500]\n",
      "[1585789320, 1585792620]\n",
      "[1585816020, 1585817760]\n",
      "[1587463440, 1587464400]\n",
      "\n",
      "DC=eu3-acs1\n",
      "INSTANCE=eu3-acs1-stor05.vstoragedomain\n",
      "[1585573440, 1585573920]\n",
      "[1585721940, 1585723740]\n",
      "[1587463380, 1587464340]\n",
      "\n",
      "DC=eu3-acs1\n",
      "INSTANCE=eu3-acs1-stor06.vstoragedomain\n",
      "[1585721940, 1585724640]\n",
      "[1585732380, 1585732860]\n",
      "[1585815180, 1585817640]\n",
      "[1585822440, 1585824120]\n",
      "[1587460560, 1587461460]\n",
      "[1587463380, 1587464400]\n",
      "\n",
      "DC=eu3-acs1\n",
      "INSTANCE=eu3-acs1-stor07.vstoragedomain\n",
      "[1585573380, 1585574220]\n",
      "[1585722840, 1585723920]\n",
      "[1585814760, 1585815180]\n",
      "[1587463380, 1587464400]\n",
      "\n",
      "DC=eu3-acs1\n",
      "INSTANCE=eu3-acs1-stor08.vstoragedomain\n",
      "[1585705800, 1585706760]\n",
      "[1585722840, 1585724580]\n",
      "[1585734360, 1585736340]\n",
      "[1585814940, 1585816860]\n",
      "[1585821480, 1585821900]\n",
      "[1587463380, 1587464340]\n",
      "\n",
      "DC=eu3-acs1\n",
      "INSTANCE=eu3-acs1-stor09.vstoragedomain\n",
      "[1585573320, 1585574160]\n",
      "[1585722840, 1585723080]\n",
      "[1585732440, 1585732620]\n",
      "[1585816740, 1585817940]\n",
      "[1585822200, 1585823220]\n",
      "[1586855460, 1586855880]\n",
      "[1587463380, 1587464400]\n"
     ]
    }
   ],
   "source": [
    "for dc in dict_dc_inst_anomalies: # dc_period:\n",
    "    for inst_num in list(dict_dc_inst_anomalies[dc].keys()):\n",
    "        instance = utils.get_instance_for_dc(dc, int(inst_num))\n",
    "        print(f'\\nDC={dc}\\nINSTANCE={instance}')\n",
    "        start_time = dc_period[dc][0]\n",
    "        end_time = dc_period[dc][1]\n",
    "        \n",
    "        st_time = start_time.replace(\" \", \"\").replace(\"/\", \"\").replace(\":\", \"\")\n",
    "        en_time = end_time.replace(\" \", \"\").replace(\"/\", \"\").replace(\":\", \"\")\n",
    "    \n",
    "        bucket_query = 'abgw_iop_latency_ms_bucket{dc=\"' + dc + '\"' + ', err=\"OK\", iop=\"isync\", instance=\"' \n",
    "        bucket_query += instance + '\", proxied = \"0\"}'\n",
    "        metric_start = 'abgw_req_latency_ms_bucket{le=\"'\n",
    "        metirc_end = '\", dc=\"' + dc +'\", instance=\"' + instance +'\", req=\"OpenFile+Append\"} '\n",
    "\n",
    "        var_file_name = load_var_data(dc, inst_num, st_time, en_time, pri=False)\n",
    "        for anomaly in dict_dc_inst_anomalies[dc][inst_num]:\n",
    "            print(anomaly)\n",
    "            out_file_name = 'percentile/'\n",
    "            out_file_name += utils.get_file_name(kind='percentile',\n",
    "                                            dc=dc, inst_num=inst_num, st_time=anomaly[0], en_time=anomaly[1])\n",
    "            df_per = percentile_maker(start_time, end_time, bucket_query, metric_start, metirc_end, anomaly, data_path=var_file_name, for_anomaly = False)\n",
    "            writer.write_df(df=df_per, file_name=out_file_name)"
   ]
  },
  {
   "cell_type": "markdown",
   "metadata": {},
   "source": [
    "# Пенсентили для всех данных "
   ]
  },
  {
   "cell_type": "code",
   "execution_count": 22,
   "metadata": {
    "scrolled": true
   },
   "outputs": [
    {
     "name": "stdout",
     "output_type": "stream",
     "text": [
      "\n",
      "DC=us3\n",
      "INSTANCE=us3-acs1-stor10.vstoragedomain\n",
      "\n",
      "DC=us3\n",
      "INSTANCE=us3-acs1-stor11.vstoragedomain\n",
      "\n",
      "DC=us3\n",
      "INSTANCE=us3-acs1-stor12.vstoragedomain\n",
      "\n",
      "DC=us3\n",
      "INSTANCE=us3-acs1-stor13.vstoragedomain\n",
      "\n",
      "DC=us3\n",
      "INSTANCE=us3-acs1-stor14.vstoragedomain\n",
      "\n",
      "DC=us3\n",
      "INSTANCE=us3-acs1-stor15.vstoragedomain\n",
      "\n",
      "DC=us3\n",
      "INSTANCE=us3-acs1-stor16.vstoragedomain\n",
      "\n",
      "DC=us3\n",
      "INSTANCE=us3-acs1-stor18.vstoragedomain\n",
      "\n",
      "DC=us3\n",
      "INSTANCE=us3-acs1-stor19.vstoragedomain\n",
      "\n",
      "DC=us3\n",
      "INSTANCE=us3-acs1-stor01.vstoragedomain\n",
      "\n",
      "DC=us3\n",
      "INSTANCE=us3-acs1-stor20.vstoragedomain\n",
      "\n",
      "DC=us3\n",
      "INSTANCE=us3-acs1-stor02.vstoragedomain\n",
      "\n",
      "DC=us3\n",
      "INSTANCE=us3-acs1-stor03.vstoragedomain\n",
      "\n",
      "DC=us3\n",
      "INSTANCE=us3-acs1-stor04.vstoragedomain\n",
      "\n",
      "DC=us3\n",
      "INSTANCE=us3-acs1-stor05.vstoragedomain\n",
      "\n",
      "DC=us3\n",
      "INSTANCE=us3-acs1-stor08.vstoragedomain\n",
      "\n",
      "DC=us3\n",
      "INSTANCE=us3-acs1-stor09.vstoragedomain\n",
      "\n",
      "DC=au2-acs1\n",
      "INSTANCE=au2-acs1-stor14.vstoragedomain\n",
      "\n",
      "DC=au2-acs1\n",
      "INSTANCE=au2-acs1-stor15.vstoragedomain\n",
      "\n",
      "DC=au2-acs1\n",
      "INSTANCE=au2-acs1-stor16.vstoragedomain\n",
      "\n",
      "DC=au2-acs1\n",
      "INSTANCE=au2-acs1-stor02.vstoragedomain\n",
      "\n",
      "DC=au2-acs1\n",
      "INSTANCE=au2-acs1-stor03.vstoragedomain\n",
      "\n",
      "DC=au2-acs1\n",
      "INSTANCE=au2-acs1-stor04.vstoragedomain\n",
      "\n",
      "DC=au2-acs1\n",
      "INSTANCE=au2-acs1-stor08.vstoragedomain\n",
      "\n",
      "DC=eu3-acs1\n",
      "INSTANCE=eu3-acs1-stor10.vstoragedomain\n",
      "\n",
      "DC=eu3-acs1\n",
      "INSTANCE=eu3-acs1-stor11.vstoragedomain\n",
      "\n",
      "DC=eu3-acs1\n",
      "INSTANCE=eu3-acs1-stor12.vstoragedomain\n",
      "\n",
      "DC=eu3-acs1\n",
      "INSTANCE=eu3-acs1-stor13.vstoragedomain\n",
      "\n",
      "DC=eu3-acs1\n",
      "INSTANCE=eu3-acs1-stor14.vstoragedomain\n",
      "\n",
      "DC=eu3-acs1\n",
      "INSTANCE=eu3-acs1-stor16.vstoragedomain\n",
      "\n",
      "DC=eu3-acs1\n",
      "INSTANCE=eu3-acs1-stor17.vstoragedomain\n",
      "\n",
      "DC=eu3-acs1\n",
      "INSTANCE=eu3-acs1-stor18.vstoragedomain\n",
      "\n",
      "DC=eu3-acs1\n",
      "INSTANCE=eu3-acs1-stor19.vstoragedomain\n",
      "\n",
      "DC=eu3-acs1\n",
      "INSTANCE=eu3-acs1-stor01.vstoragedomain\n",
      "\n",
      "DC=eu3-acs1\n",
      "INSTANCE=eu3-acs1-stor20.vstoragedomain\n",
      "\n",
      "DC=eu3-acs1\n",
      "INSTANCE=eu3-acs1-stor21.vstoragedomain\n",
      "\n",
      "DC=eu3-acs1\n",
      "INSTANCE=eu3-acs1-stor22.vstoragedomain\n",
      "\n",
      "DC=eu3-acs1\n",
      "INSTANCE=eu3-acs1-stor23.vstoragedomain\n",
      "\n",
      "DC=eu3-acs1\n",
      "INSTANCE=eu3-acs1-stor24.vstoragedomain\n",
      "\n",
      "DC=eu3-acs1\n",
      "INSTANCE=eu3-acs1-stor25.vstoragedomain\n",
      "\n",
      "DC=eu3-acs1\n",
      "INSTANCE=eu3-acs1-stor26.vstoragedomain\n",
      "\n",
      "DC=eu3-acs1\n",
      "INSTANCE=eu3-acs1-stor27.vstoragedomain\n",
      "\n",
      "DC=eu3-acs1\n",
      "INSTANCE=eu3-acs1-stor02.vstoragedomain\n",
      "\n",
      "DC=eu3-acs1\n",
      "INSTANCE=eu3-acs1-stor03.vstoragedomain\n",
      "\n",
      "DC=eu3-acs1\n",
      "INSTANCE=eu3-acs1-stor04.vstoragedomain\n",
      "\n",
      "DC=eu3-acs1\n",
      "INSTANCE=eu3-acs1-stor05.vstoragedomain\n",
      "\n",
      "DC=eu3-acs1\n",
      "INSTANCE=eu3-acs1-stor06.vstoragedomain\n",
      "\n",
      "DC=eu3-acs1\n",
      "INSTANCE=eu3-acs1-stor07.vstoragedomain\n",
      "\n",
      "DC=eu3-acs1\n",
      "INSTANCE=eu3-acs1-stor08.vstoragedomain\n",
      "\n",
      "DC=eu3-acs1\n",
      "INSTANCE=eu3-acs1-stor09.vstoragedomain\n",
      "\n",
      "DC=us6-acs2\n",
      "INSTANCE=us6-acs2-stor10.vstoragedomain\n",
      "\n",
      "DC=us6-acs2\n",
      "INSTANCE=us6-acs2-stor12.vstoragedomain\n",
      "\n",
      "DC=us6-acs2\n",
      "INSTANCE=us6-acs2-stor13.vstoragedomain\n",
      "\n",
      "DC=us6-acs2\n",
      "INSTANCE=us6-acs2-stor14.vstoragedomain\n",
      "\n",
      "DC=us6-acs2\n",
      "INSTANCE=us6-acs2-stor15.vstoragedomain\n",
      "\n",
      "DC=us6-acs2\n",
      "INSTANCE=us6-acs2-stor17.vstoragedomain\n",
      "\n",
      "DC=us6-acs2\n",
      "INSTANCE=us6-acs2-stor01.vstoragedomain\n",
      "\n",
      "DC=us6-acs2\n",
      "INSTANCE=us6-acs2-stor02.vstoragedomain\n",
      "\n",
      "DC=us6-acs2\n",
      "INSTANCE=us6-acs2-stor03.vstoragedomain\n",
      "\n",
      "DC=us6-acs2\n",
      "INSTANCE=us6-acs2-stor04.vstoragedomain\n",
      "\n",
      "DC=us6-acs2\n",
      "INSTANCE=us6-acs2-stor05.vstoragedomain\n",
      "\n",
      "DC=us6-acs2\n",
      "INSTANCE=us6-acs2-stor06.vstoragedomain\n",
      "\n",
      "DC=us6-acs2\n",
      "INSTANCE=us6-acs2-stor07.vstoragedomain\n",
      "\n",
      "DC=us6-acs2\n",
      "INSTANCE=us6-acs2-stor08.vstoragedomain\n",
      "\n",
      "DC=us6-acs2\n",
      "INSTANCE=us6-acs2-stor09.vstoragedomain\n"
     ]
    }
   ],
   "source": [
    "for dc in dict_dc_inst_anomalies: # dc_period:\n",
    "    for inst_num in list(dict_dc_inst_anomalies[dc].keys()): \n",
    "        instance = utils.get_instance_for_dc(dc, int(inst_num))\n",
    "        print(f'\\nDC={dc}\\nINSTANCE={instance}')\n",
    "        start_time = dc_period[dc][0]\n",
    "        end_time = dc_period[dc][1]\n",
    "        \n",
    "        st_time = start_time.replace(\" \", \"\").replace(\"/\", \"\").replace(\":\", \"\")\n",
    "        en_time = end_time.replace(\" \", \"\").replace(\"/\", \"\").replace(\":\", \"\")\n",
    "    \n",
    "        bucket_query = 'abgw_iop_latency_ms_bucket{dc=\"' + dc + '\"' + ', err=\"OK\", iop=\"isync\", instance=\"' \n",
    "        bucket_query += instance + '\", proxied = \"0\"}'\n",
    "        metric_start = 'abgw_req_latency_ms_bucket{le=\"'\n",
    "        metirc_end = '\", dc=\"' + dc +'\", instance=\"' + instance +'\", req=\"OpenFile+Append\"} '\n",
    "\n",
    "        var_file_name = load_var_data(dc, inst_num, st_time, en_time, pri=False)\n",
    "\n",
    "        out_file_name = 'percentile/'\n",
    "        out_file_name += utils.get_file_name(kind='percentile',\n",
    "                                        dc=dc, inst_num=inst_num, st_time = 0 , en_time = 1)\n",
    "        if not os.path.isfile(f'../datasets/{out_file_name}.csv'):\n",
    "            df_per = percentile_maker(start_time, end_time, bucket_query, metric_start, metirc_end, anomaly, data_path=var_file_name, for_anomaly = False)\n",
    "            writer.write_df(df=df_per, file_name=out_file_name)"
   ]
  },
  {
   "cell_type": "code",
   "execution_count": 92,
   "metadata": {},
   "outputs": [],
   "source": [
    "def get_plotly_wiht_sep_an(df, columns, list_of_anomalys, dc, inst_num, reloads, perc_df, mean_an=[], err_an=[]):\n",
    "    if 'target_der' not in df.columns.values:\n",
    "        print('hmmmm it seems you are to get new ../datasets/for_plot/...')\n",
    "        print('the suitable version established on 03.03.2020')\n",
    "    colors = ['purple', 'pink', 'green', 'blue', 'yellow', 'blue', 'aquamarine', 'black']\n",
    "    fig = make_subplots(rows=5, cols=1)\n",
    "    number_of_picture_in_subplot = 3\n",
    "    for column, color in zip(columns, colors):\n",
    "        spec_group = False\n",
    "\n",
    "        if column in ['target_der_sc', 'predictions_sc']:\n",
    "            fig.add_trace(go.Scatter(\n",
    "                x=df['date'],\n",
    "                y=df[column],\n",
    "                line_color=color,\n",
    "                name=column,\n",
    "                opacity=0.8), row=1, col=1)\n",
    "            for rl in reloads:\n",
    "                fig.add_trace(go.Scatter(\n",
    "                    x=[datetime.fromtimestamp(rl), datetime.fromtimestamp(rl)],\n",
    "                    y=[0, max(df['target_der_sc'])],\n",
    "                    line_color='black',\n",
    "                    name='reload',\n",
    "                    opacity=0.8), row=1, col=1)\n",
    "            spec_group = True\n",
    "            \n",
    "        if column in ['99th_percentile']:\n",
    "            fig.add_trace(go.Scatter(\n",
    "                x=perc_df['date'][perc_df['time_stamp']>df['time_stamp'].min()],\n",
    "                y=perc_df[column][perc_df['time_stamp']>df['time_stamp'].min()],\n",
    "                line_color=color,\n",
    "                name=column,\n",
    "                opacity=0.8), row=2, col=1)\n",
    "            spec_group = True\n",
    "            \n",
    "\n",
    "        if column in ['target', 'predicted_target']:\n",
    "#             fig.add_trace(go.Scatter(\n",
    "#                 x=df['date'],\n",
    "#                 y=df[column],\n",
    "#                 line_color=color,\n",
    "#                 name=column,\n",
    "#                 opacity=0.8), row=3, col=1)\n",
    "            spec_group = True\n",
    "\n",
    "        if not spec_group:\n",
    "            fig.add_trace(go.Scatter(\n",
    "                x=df['date'],\n",
    "                y=df[column],\n",
    "                line_color=color,\n",
    "                name=column,\n",
    "                opacity=0.8), row=number_of_picture_in_subplot, col=1)\n",
    "            number_of_picture_in_subplot += 1\n",
    "    plot_anomaly(df, list_of_anomalys, fig, row=1)\n",
    "    plot_anomaly(df, err_an, fig, column='main_error', kind_of_anomaly='error anomaly', row=3)\n",
    "    plot_anomaly(df, mean_an, fig, column='mean', kind_of_anomaly='mean_latency_anomaly', row=4)\n",
    "    fig.update_layout(height=280*5, width=900, title_text='dc = ' + dc + ' inst_num = ' + str(inst_num))\n",
    "    # plotly.offline.plot(fig,filename='sampleplot.html')\n",
    "    return fig\n",
    "\n",
    "\n",
    "def plot_anomaly(df, list_of_anomaly, fig, column='target_der_sc', kind_of_anomaly='anomaly', row=1):\n",
    "    i = 0\n",
    "    for anomaly in list_of_anomaly:\n",
    "        if i == 0:\n",
    "            fig.add_trace(go.Scatter(\n",
    "                x=df['date'].loc[\n",
    "                  list(df[df['time_stamp'] == anomaly[0]].index)[0]:list(df[df['time_stamp'] == anomaly[1]].index)[0]],\n",
    "                y=df[column].loc[\n",
    "                  list(df[df['time_stamp'] == anomaly[0]].index)[0]:list(df[df['time_stamp'] == anomaly[1]].index)[0]],\n",
    "                line_color='red',\n",
    "                line_width=3,\n",
    "                name=kind_of_anomaly,\n",
    "                opacity=0.9), row=row, col=1)\n",
    "            i += 1\n",
    "        else:\n",
    "            fig.add_trace(go.Scatter(\n",
    "                x=df['date'].loc[\n",
    "                  list(df[df['time_stamp'] == anomaly[0]].index)[0]:list(df[df['time_stamp'] == anomaly[1]].index)[0]],\n",
    "                y=df[column].loc[\n",
    "                  list(df[df['time_stamp'] == anomaly[0]].index)[0]:list(df[df['time_stamp'] == anomaly[1]].index)[0]],\n",
    "                line_color='red',\n",
    "                line_width=3,\n",
    "                showlegend=False,\n",
    "                opacity=0.9), row=row, col=1)\n",
    "\n"
   ]
  },
  {
   "cell_type": "code",
   "execution_count": 39,
   "metadata": {},
   "outputs": [],
   "source": [
    "# path = '../datasets/for_plot_div_by_error/'\n",
    "# html_path = '../datasets/plots_div_by_error/'\n",
    "# n_an = []\n",
    "# for dc in ['au2-acs1']:\n",
    "#     for file in sorted(dc_file[dc]):\n",
    "#         print(file)\n",
    "#         f_s = str(file).split('__')\n",
    "#         print(f'DC={f_s[3]}\\nINST_N={f_s[4]}\\n{f_s[2]}\\n{f_s[1]}')\n",
    "#         inst_n = int(f_s[4])\n",
    "#         dc = f_s[3]\n",
    "#         # getting data and adding a column with date\n",
    "#         train_size = int(f_s[1][6:])\n",
    "#         plot_data = pd.read_csv(path + file).dropna()[train_size + two_week:]\n",
    "#         reloads_ts = plot_data[plot_data['target_der'] < 0]['time_stamp'].values\n",
    "#         print(f'reloads time_stamps: {reloads_ts}')\n",
    "#         # then fit bound before and after reloads\n",
    "#         plot_data = analyzer.get_df_with_no_reloads(plot_data, reloads_ts, 'predicted_target')\n",
    "#         plot_data = analyzer.get_df_with_no_reloads(plot_data, reloads_ts, 'target')\n",
    "#         plot_data = analyzer.get_df_with_droped_reloads(plot_data, reloads_ts, reload_window=60 * 10)\n",
    "\n",
    "#         plot_data['date'] = plot_data['time_stamp'].apply(lambda x: datetime.fromtimestamp(x))\n",
    "#         # anomaly stuff\n",
    "        \n",
    "        \n",
    "        \n",
    "#         error_anomalys = analyzer.find_interval_of_anomaly_with_simple_mode(plot_data, n_s[dc], \n",
    "#                                                                             'main_error')\n",
    "#         mean_anomalys = analyzer.find_interval_of_anomaly_with_simple_mode(plot_data, n_s[dc], 'mean')\n",
    "#         list_of_anomalys = analyzer.intersection_of_two_lists_of_anomalies(error_anomalys,\n",
    "#                                                                            mean_anomalys)\n",
    "#         print(list_of_anomalys)\n",
    "\n",
    "#         n_an.append(len(list_of_anomalys))\n",
    "#         # an statistic for anomaly\n",
    "#         an_len = 0\n",
    "#         for interval in list_of_anomalys:\n",
    "#             an_len += interval[1] - interval[0]\n",
    "#         total_time = max(plot_data['time_stamp'].values) - min(plot_data['time_stamp'].values)\n",
    "#         print(f'a part of animaly time is {an_len/total_time * 100}%\\n')\n",
    "#         # plotting, RAM-consuming\n",
    "#         # '''\n",
    "#         fig = get_plotly_wiht_sep_an(plot_data, ['target_der_sc', 'predictions_sc','main_error', \n",
    "#                                               'mean', 'variance', 'predicted_target', 'target'],\n",
    "#                                   list_of_anomalys, dc, inst_n, reloads_ts, mean_an=mean_anomalys,\n",
    "#                                   err_an=error_anomalys)\n",
    "#         plot(fig, filename=f'{html_path}{file}.html', auto_open=False)\n",
    "\n",
    "#         #and plot there matplotlib plots\n",
    "#         '''\n",
    "#         fig, axs = pe_plt.get_ez_ram_plt(plot_data, list_of_anomalys, reloads_ts)\n",
    "#         plt.show()\n",
    "#         '''"
   ]
  },
  {
   "cell_type": "markdown",
   "metadata": {},
   "source": [
    "# Графики в оригинальных и наших переменных "
   ]
  },
  {
   "cell_type": "code",
   "execution_count": 97,
   "metadata": {
    "scrolled": true
   },
   "outputs": [
    {
     "name": "stdout",
     "output_type": "stream",
     "text": [
      "\n",
      "DC = eu3-acs1\n",
      "INSTANCE = eu3-acs1-stor02.vstoragedomain\n"
     ]
    }
   ],
   "source": [
    "path = '../datasets/for_plot/'\n",
    "html_path = '../datasets/plots/'\n",
    "month = 60 * 24 * 30\n",
    "n_s = for_result['Number of sigmas'].to_dict()\n",
    "for dc in ['eu3-acs1']:#dict_dc_inst_anomalies: \n",
    "    for inst_num in [2]:#list(dict_dc_inst_anomalies[dc].keys()):\n",
    "        instance = utils.get_instance_for_dc(dc, int(inst_num))\n",
    "        print(f'\\nDC = {dc}\\nINSTANCE = {instance}')\n",
    "#         start_time = dc_period[dc][0]\n",
    "#         end_time = dc_period[dc][1]\n",
    "        \n",
    "#         st_time = start_time.replace(\" \", \"\").replace(\"/\", \"\").replace(\":\", \"\")\n",
    "#         en_time = end_time.replace(\" \", \"\").replace(\"/\", \"\").replace(\":\", \"\")\n",
    "\n",
    "        \n",
    "#         data_file_name = load_model_data(dc, inst_num, st_time, en_time, pri=False)\n",
    "#         data = pd.read_csv(data_file_name)\n",
    "#         data['date'] = data['time_stamp'].apply(lambda x: datetime.fromtimestamp(x))\n",
    "        \n",
    "        file = [inst for inst in sorted(dc_file[dc]) if int(inst_num) == int(str(inst).split('__')[4])][0]\n",
    "        f_s = str(file).split('__')\n",
    "        train_size = int(f_s[1][6:])\n",
    "        plot_data = pd.read_csv(path + file).dropna()[train_size + month:]\n",
    "        reloads_ts = plot_data[plot_data['target_der'] < 0]['time_stamp'].values\n",
    "        # then fit bound before and after reloads\n",
    "        plot_data = analyzer.get_df_with_no_reloads(plot_data, reloads_ts, 'predicted_target')\n",
    "        plot_data = analyzer.get_df_with_no_reloads(plot_data, reloads_ts, 'target')\n",
    "        plot_data = analyzer.get_df_with_droped_reloads(plot_data, reloads_ts, reload_window=60 * 10)\n",
    "\n",
    "        plot_data['date'] = plot_data['time_stamp'].apply(lambda x: datetime.fromtimestamp(x))\n",
    "        # anomaly stuff\n",
    "        \n",
    "        error_anomalys = analyzer.find_interval_of_anomaly_with_simple_mode(plot_data, n_s[dc], \n",
    "                                                                            'main_error')\n",
    "        mean_anomalys = analyzer.find_interval_of_anomaly_with_simple_mode(plot_data, n_s[dc], 'mean')\n",
    "        list_of_anomalys = analyzer.intersection_of_two_lists_of_anomalies(error_anomalys,\n",
    "                                                                           mean_anomalys)\n",
    "        \n",
    "        \n",
    "        \n",
    "            \n",
    "        perc_name = '../datasets/percentile/'\n",
    "        perc_name += utils.get_file_name(kind='percentile',\n",
    "                                        dc=dc, inst_num=inst_num, st_time=0, en_time=1)\n",
    "        perc_name += '.csv'\n",
    "        perc_data = pd.read_csv(perc_name)\n",
    "        perc_data['date'] = perc_data['time_stamp'].apply(lambda x: datetime.fromtimestamp(x))\n",
    "        \n",
    "        fig = get_plotly_wiht_sep_an(plot_data, ['target_der_sc', 'predictions_sc','99th_percentile','main_error', \n",
    "                                              'mean', 'variance', 'predicted_target', 'target'],\n",
    "                                  list_of_anomalys, dc, inst_num, reloads_ts, perc_data, mean_an=mean_anomalys,\n",
    "                                  err_an=error_anomalys)\n",
    "            \n",
    "           \n",
    "        plot(fig, filename=f'{html_path}dc={dc}__inst_n={inst_num}__4mnth.html', auto_open=False)\n",
    "        \n",
    "    \n",
    "#             ts_intervals = [j for j in data['time_stamp'].values.tolist() if (j >= anomaly[0] - 60*10 and j <= anomaly[1] + 60*10)]\n",
    "#             an_intervals = [j for j in data['time_stamp'].values.tolist() if (j >= anomaly[0]  and j <= anomaly[1] )]\n",
    "#             fig = make_subplots(rows = 5 , cols=1)\n",
    "#             colors = ['purple', 'pink', 'green', 'gold', 'yellow', 'blue']\n",
    "#             for i, metric in enumerate(dict_dc_inst_metric[dc][inst_num]):\n",
    "#                 if not metric == \"er\":\n",
    "#                     fig.add_trace(go.Scatter(x=data['date'][train_size + two_week:], y=data[metric][train_size + two_week:].diff(), name = metric[4:], marker_color = colors[i]), row = i + 1 , col = 1)\n",
    "#                     fig.add_trace(go.Scatter(x=data.loc[data['time_stamp'].isin(an_intervals)]['date'], y=data.loc[data['time_stamp'].isin(an_intervals)][metric].diff(), marker_color='red', showlegend=False,), row = i + 1 , col = 1)\n",
    "#             fig.update_layout(height=1200, width=900, title_text = 'dc = ' + dc + ' inst_n = '+ str(inst_num)+ ' coeff = ' + str(dict_dc_inst_anomalies_coeff[dc][inst_num][j]) , xaxis_title = \"Date\")\n",
    "#             fig.show()"
   ]
  },
  {
   "cell_type": "code",
   "execution_count": 20,
   "metadata": {},
   "outputs": [
    {
     "name": "stdout",
     "output_type": "stream",
     "text": [
      "\n",
      "DC = us3\n",
      "INSTANCE = us3-acs1-stor10.vstoragedomain\n"
     ]
    }
   ],
   "source": [
    "path = '../datasets/for_plot/'\n",
    "html_path = '../datasets/plots/'\n",
    "month = 60 * 24 * 30\n",
    "n_s = for_result['Number of sigmas'].to_dict()\n",
    "for dc in dict_dc_inst_anomalies: \n",
    "    for inst_num in list(dict_dc_inst_anomalies[dc].keys()):\n",
    "        instance = utils.get_instance_for_dc(dc, int(inst_num))\n",
    "        print(f'\\nDC = {dc}\\nINSTANCE = {instance}')\n",
    "#         start_time = dc_period[dc][0]\n",
    "#         end_time = dc_period[dc][1]\n",
    "        \n",
    "#         st_time = start_time.replace(\" \", \"\").replace(\"/\", \"\").replace(\":\", \"\")\n",
    "#         en_time = end_time.replace(\" \", \"\").replace(\"/\", \"\").replace(\":\", \"\")\n",
    "\n",
    "        \n",
    "#         data_file_name = load_model_data(dc, inst_num, st_time, en_time, pri=False)\n",
    "#         data = pd.read_csv(data_file_name)\n",
    "#         data['date'] = data['time_stamp'].apply(lambda x: datetime.fromtimestamp(x))\n",
    "        \n",
    "        file = [inst for inst in sorted(dc_file[dc]) if int(inst_num) == int(str(inst).split('__')[4])][0]\n",
    "        f_s = str(file).split('__')\n",
    "        train_size = int(f_s[1][6:])\n",
    "        plot_data = pd.read_csv(path + file).dropna()[train_size + month:]\n",
    "        reloads_ts = plot_data[plot_data['target_der'] < 0]['time_stamp'].values\n",
    "        # then fit bound before and after reloads\n",
    "        plot_data = analyzer.get_df_with_no_reloads(plot_data, reloads_ts, 'predicted_target')\n",
    "        plot_data = analyzer.get_df_with_no_reloads(plot_data, reloads_ts, 'target')\n",
    "        plot_data = analyzer.get_df_with_droped_reloads(plot_data, reloads_ts, reload_window=60 * 10)\n",
    "\n",
    "        plot_data['date'] = plot_data['time_stamp'].apply(lambda x: datetime.fromtimestamp(x))\n",
    "        # anomaly stuff\n",
    "        break\n",
    "    break"
   ]
  },
  {
   "cell_type": "markdown",
   "metadata": {},
   "source": [
    "# Conf matrix "
   ]
  },
  {
   "cell_type": "code",
   "execution_count": 223,
   "metadata": {
    "scrolled": true
   },
   "outputs": [
    {
     "name": "stdout",
     "output_type": "stream",
     "text": [
      "\n",
      "DC = au2-acs1\n",
      "INSTANCE = au2-acs1-stor14.vstoragedomain\n",
      "\n",
      "DC = au2-acs1\n",
      "INSTANCE = au2-acs1-stor15.vstoragedomain\n",
      "\n",
      "DC = au2-acs1\n",
      "INSTANCE = au2-acs1-stor16.vstoragedomain\n",
      "\n",
      "DC = au2-acs1\n",
      "INSTANCE = au2-acs1-stor02.vstoragedomain\n",
      "\n",
      "DC = au2-acs1\n",
      "INSTANCE = au2-acs1-stor03.vstoragedomain\n",
      "\n",
      "DC = au2-acs1\n",
      "INSTANCE = au2-acs1-stor04.vstoragedomain\n",
      "\n",
      "DC = au2-acs1\n",
      "INSTANCE = au2-acs1-stor08.vstoragedomain\n",
      "\n",
      "DC = eu3-acs1\n",
      "INSTANCE = eu3-acs1-stor10.vstoragedomain\n",
      "\n",
      "DC = eu3-acs1\n",
      "INSTANCE = eu3-acs1-stor11.vstoragedomain\n",
      "\n",
      "DC = eu3-acs1\n",
      "INSTANCE = eu3-acs1-stor12.vstoragedomain\n",
      "\n",
      "DC = eu3-acs1\n",
      "INSTANCE = eu3-acs1-stor13.vstoragedomain\n",
      "\n",
      "DC = eu3-acs1\n",
      "INSTANCE = eu3-acs1-stor14.vstoragedomain\n",
      "\n",
      "DC = eu3-acs1\n",
      "INSTANCE = eu3-acs1-stor15.vstoragedomain\n",
      "\n",
      "DC = eu3-acs1\n",
      "INSTANCE = eu3-acs1-stor16.vstoragedomain\n",
      "\n",
      "DC = eu3-acs1\n",
      "INSTANCE = eu3-acs1-stor17.vstoragedomain\n",
      "\n",
      "DC = eu3-acs1\n",
      "INSTANCE = eu3-acs1-stor18.vstoragedomain\n",
      "\n",
      "DC = eu3-acs1\n",
      "INSTANCE = eu3-acs1-stor19.vstoragedomain\n",
      "\n",
      "DC = eu3-acs1\n",
      "INSTANCE = eu3-acs1-stor01.vstoragedomain\n",
      "\n",
      "DC = eu3-acs1\n",
      "INSTANCE = eu3-acs1-stor20.vstoragedomain\n",
      "\n",
      "DC = eu3-acs1\n",
      "INSTANCE = eu3-acs1-stor21.vstoragedomain\n",
      "\n",
      "DC = eu3-acs1\n",
      "INSTANCE = eu3-acs1-stor22.vstoragedomain\n",
      "\n",
      "DC = eu3-acs1\n",
      "INSTANCE = eu3-acs1-stor23.vstoragedomain\n",
      "\n",
      "DC = eu3-acs1\n",
      "INSTANCE = eu3-acs1-stor24.vstoragedomain\n",
      "\n",
      "DC = eu3-acs1\n",
      "INSTANCE = eu3-acs1-stor25.vstoragedomain\n",
      "\n",
      "DC = eu3-acs1\n",
      "INSTANCE = eu3-acs1-stor26.vstoragedomain\n",
      "\n",
      "DC = eu3-acs1\n",
      "INSTANCE = eu3-acs1-stor27.vstoragedomain\n",
      "\n",
      "DC = eu3-acs1\n",
      "INSTANCE = eu3-acs1-stor02.vstoragedomain\n",
      "\n",
      "DC = eu3-acs1\n",
      "INSTANCE = eu3-acs1-stor03.vstoragedomain\n",
      "\n",
      "DC = eu3-acs1\n",
      "INSTANCE = eu3-acs1-stor04.vstoragedomain\n",
      "\n",
      "DC = eu3-acs1\n",
      "INSTANCE = eu3-acs1-stor05.vstoragedomain\n",
      "\n",
      "DC = eu3-acs1\n",
      "INSTANCE = eu3-acs1-stor06.vstoragedomain\n",
      "\n",
      "DC = eu3-acs1\n",
      "INSTANCE = eu3-acs1-stor07.vstoragedomain\n",
      "\n",
      "DC = eu3-acs1\n",
      "INSTANCE = eu3-acs1-stor08.vstoragedomain\n",
      "\n",
      "DC = eu3-acs1\n",
      "INSTANCE = eu3-acs1-stor09.vstoragedomain\n"
     ]
    }
   ],
   "source": [
    "yes_mod = 0\n",
    "no_mod = 0\n",
    "all_an_mod = 0\n",
    "for dc in dict_dc_inst_anomalies: \n",
    "    for inst_num in list(dict_dc_inst_anomalies[dc].keys()):\n",
    "        instance = utils.get_instance_for_dc(dc, int(inst_num))\n",
    "        print(f'\\nDC = {dc}\\nINSTANCE = {instance}')\n",
    "        for j, anomaly in enumerate(dict_dc_inst_anomalies[dc][inst_num]):\n",
    "            all_an_mod += 1\n",
    "            perc_name = '../datasets/percentile/'\n",
    "            perc_name += utils.get_file_name(kind='percentile',\n",
    "                                            dc=dc, inst_num=inst_num, st_time=anomaly[0], en_time=anomaly[1])\n",
    "            perc_name += '.csv'\n",
    "            perc_data = pd.read_csv(perc_name)\n",
    "            perc_data['date'] = perc_data['time_stamp'].apply(lambda x: datetime.fromtimestamp(x))\n",
    "            summ_perc = perc_data[perc_data['time_stamp'].isin(list(range(anomaly[0],anomaly[1]+1, 60)))]['99th_percentile'].sum()/perc_data[perc_data['time_stamp'].isin(list(range(anomaly[0],anomaly[1]+1, 60)))].shape[0]\n",
    "            threshold = perc_data['99th_percentile'].mean()+3*perc_data['99th_percentile'].var()**(0.5)\n",
    "            if summ_perc > threshold:\n",
    "                yes_mod += 1\n",
    "            else:\n",
    "                no_mod += 1"
   ]
  },
  {
   "cell_type": "code",
   "execution_count": 68,
   "metadata": {
    "scrolled": true
   },
   "outputs": [
    {
     "name": "stdout",
     "output_type": "stream",
     "text": [
      "\n",
      "DC=us3\n",
      "INSTANCE=us3-acs1-stor10.vstoragedomain\n",
      "\n",
      "DC=us3\n",
      "INSTANCE=us3-acs1-stor11.vstoragedomain\n",
      "\n",
      "DC=us3\n",
      "INSTANCE=us3-acs1-stor12.vstoragedomain\n",
      "\n",
      "DC=us3\n",
      "INSTANCE=us3-acs1-stor13.vstoragedomain\n",
      "\n",
      "DC=us3\n",
      "INSTANCE=us3-acs1-stor14.vstoragedomain\n",
      "\n",
      "DC=us3\n",
      "INSTANCE=us3-acs1-stor15.vstoragedomain\n",
      "\n",
      "DC=us3\n",
      "INSTANCE=us3-acs1-stor16.vstoragedomain\n",
      "\n",
      "DC=us3\n",
      "INSTANCE=us3-acs1-stor18.vstoragedomain\n",
      "\n",
      "DC=us3\n",
      "INSTANCE=us3-acs1-stor19.vstoragedomain\n",
      "\n",
      "DC=us3\n",
      "INSTANCE=us3-acs1-stor01.vstoragedomain\n",
      "\n",
      "DC=us3\n",
      "INSTANCE=us3-acs1-stor20.vstoragedomain\n",
      "\n",
      "DC=us3\n",
      "INSTANCE=us3-acs1-stor02.vstoragedomain\n",
      "\n",
      "DC=us3\n",
      "INSTANCE=us3-acs1-stor03.vstoragedomain\n",
      "\n",
      "DC=us3\n",
      "INSTANCE=us3-acs1-stor04.vstoragedomain\n",
      "\n",
      "DC=us3\n",
      "INSTANCE=us3-acs1-stor05.vstoragedomain\n",
      "\n",
      "DC=us3\n",
      "INSTANCE=us3-acs1-stor08.vstoragedomain\n",
      "\n",
      "DC=us3\n",
      "INSTANCE=us3-acs1-stor09.vstoragedomain\n",
      "\n",
      "DC=au2-acs1\n",
      "INSTANCE=au2-acs1-stor14.vstoragedomain\n",
      "\n",
      "DC=au2-acs1\n",
      "INSTANCE=au2-acs1-stor15.vstoragedomain\n",
      "\n",
      "DC=au2-acs1\n",
      "INSTANCE=au2-acs1-stor16.vstoragedomain\n",
      "\n",
      "DC=au2-acs1\n",
      "INSTANCE=au2-acs1-stor02.vstoragedomain\n",
      "\n",
      "DC=au2-acs1\n",
      "INSTANCE=au2-acs1-stor03.vstoragedomain\n",
      "\n",
      "DC=au2-acs1\n",
      "INSTANCE=au2-acs1-stor04.vstoragedomain\n",
      "\n",
      "DC=au2-acs1\n",
      "INSTANCE=au2-acs1-stor08.vstoragedomain\n",
      "\n",
      "DC=eu3-acs1\n",
      "INSTANCE=eu3-acs1-stor10.vstoragedomain\n",
      "\n",
      "DC=eu3-acs1\n",
      "INSTANCE=eu3-acs1-stor11.vstoragedomain\n",
      "\n",
      "DC=eu3-acs1\n",
      "INSTANCE=eu3-acs1-stor12.vstoragedomain\n",
      "\n",
      "DC=eu3-acs1\n",
      "INSTANCE=eu3-acs1-stor13.vstoragedomain\n",
      "\n",
      "DC=eu3-acs1\n",
      "INSTANCE=eu3-acs1-stor14.vstoragedomain\n",
      "\n",
      "DC=eu3-acs1\n",
      "INSTANCE=eu3-acs1-stor16.vstoragedomain\n",
      "\n",
      "DC=eu3-acs1\n",
      "INSTANCE=eu3-acs1-stor17.vstoragedomain\n",
      "\n",
      "DC=eu3-acs1\n",
      "INSTANCE=eu3-acs1-stor18.vstoragedomain\n",
      "\n",
      "DC=eu3-acs1\n",
      "INSTANCE=eu3-acs1-stor19.vstoragedomain\n",
      "\n",
      "DC=eu3-acs1\n",
      "INSTANCE=eu3-acs1-stor01.vstoragedomain\n",
      "\n",
      "DC=eu3-acs1\n",
      "INSTANCE=eu3-acs1-stor20.vstoragedomain\n",
      "\n",
      "DC=eu3-acs1\n",
      "INSTANCE=eu3-acs1-stor21.vstoragedomain\n",
      "\n",
      "DC=eu3-acs1\n",
      "INSTANCE=eu3-acs1-stor22.vstoragedomain\n",
      "\n",
      "DC=eu3-acs1\n",
      "INSTANCE=eu3-acs1-stor23.vstoragedomain\n",
      "\n",
      "DC=eu3-acs1\n",
      "INSTANCE=eu3-acs1-stor24.vstoragedomain\n",
      "\n",
      "DC=eu3-acs1\n",
      "INSTANCE=eu3-acs1-stor25.vstoragedomain\n",
      "\n",
      "DC=eu3-acs1\n",
      "INSTANCE=eu3-acs1-stor26.vstoragedomain\n",
      "\n",
      "DC=eu3-acs1\n",
      "INSTANCE=eu3-acs1-stor27.vstoragedomain\n",
      "\n",
      "DC=eu3-acs1\n",
      "INSTANCE=eu3-acs1-stor02.vstoragedomain\n",
      "\n",
      "DC=eu3-acs1\n",
      "INSTANCE=eu3-acs1-stor03.vstoragedomain\n",
      "\n",
      "DC=eu3-acs1\n",
      "INSTANCE=eu3-acs1-stor04.vstoragedomain\n",
      "\n",
      "DC=eu3-acs1\n",
      "INSTANCE=eu3-acs1-stor05.vstoragedomain\n",
      "\n",
      "DC=eu3-acs1\n",
      "INSTANCE=eu3-acs1-stor06.vstoragedomain\n",
      "\n",
      "DC=eu3-acs1\n",
      "INSTANCE=eu3-acs1-stor07.vstoragedomain\n",
      "\n",
      "DC=eu3-acs1\n",
      "INSTANCE=eu3-acs1-stor08.vstoragedomain\n",
      "\n",
      "DC=eu3-acs1\n",
      "INSTANCE=eu3-acs1-stor09.vstoragedomain\n",
      "\n",
      "DC=us6-acs2\n",
      "INSTANCE=us6-acs2-stor10.vstoragedomain\n",
      "\n",
      "DC=us6-acs2\n",
      "INSTANCE=us6-acs2-stor12.vstoragedomain\n",
      "\n",
      "DC=us6-acs2\n",
      "INSTANCE=us6-acs2-stor13.vstoragedomain\n",
      "\n",
      "DC=us6-acs2\n",
      "INSTANCE=us6-acs2-stor14.vstoragedomain\n",
      "\n",
      "DC=us6-acs2\n",
      "INSTANCE=us6-acs2-stor15.vstoragedomain\n",
      "\n",
      "DC=us6-acs2\n",
      "INSTANCE=us6-acs2-stor17.vstoragedomain\n",
      "\n",
      "DC=us6-acs2\n",
      "INSTANCE=us6-acs2-stor01.vstoragedomain\n",
      "\n",
      "DC=us6-acs2\n",
      "INSTANCE=us6-acs2-stor02.vstoragedomain\n",
      "\n",
      "DC=us6-acs2\n",
      "INSTANCE=us6-acs2-stor03.vstoragedomain\n",
      "\n",
      "DC=us6-acs2\n",
      "INSTANCE=us6-acs2-stor04.vstoragedomain\n",
      "\n",
      "DC=us6-acs2\n",
      "INSTANCE=us6-acs2-stor05.vstoragedomain\n",
      "\n",
      "DC=us6-acs2\n",
      "INSTANCE=us6-acs2-stor06.vstoragedomain\n",
      "\n",
      "DC=us6-acs2\n",
      "INSTANCE=us6-acs2-stor07.vstoragedomain\n",
      "\n",
      "DC=us6-acs2\n",
      "INSTANCE=us6-acs2-stor08.vstoragedomain\n",
      "\n",
      "DC=us6-acs2\n",
      "INSTANCE=us6-acs2-stor09.vstoragedomain\n"
     ]
    }
   ],
   "source": [
    "yes_per = 0\n",
    "no_per = 0\n",
    "all_an_per = 0\n",
    "top = 20\n",
    "train_size = 60*24*7\n",
    "month = 60*24*30\n",
    "for dc in dict_dc_inst_anomalies: # dc_period:\n",
    "    for inst_num in list(dict_dc_inst_anomalies[dc].keys()): \n",
    "        instance = utils.get_instance_for_dc(dc, int(inst_num))\n",
    "        print(f'\\nDC={dc}\\nINSTANCE={instance}')\n",
    "\n",
    "        out_file_name = 'percentile/'\n",
    "        out_file_name += utils.get_file_name(kind='percentile',\n",
    "                                        dc=dc, inst_num=inst_num, st_time = 0 , en_time = 1)\n",
    "\n",
    "        df_per = pd.read_csv('../datasets/'+out_file_name+'.csv')[train_size+month:]\n",
    "        an_ts = df_per.sort_values('99th_percentile', ascending=False)[:top]['time_stamp'].values.tolist()\n",
    "        all_an_per += len(dict_dc_inst_anomalies[dc][inst_num])\n",
    "        \n",
    "        for anomaly in dict_dc_inst_anomalies[dc][inst_num]:\n",
    "            i = len(an_ts)\n",
    "            for ts in an_ts:\n",
    "                if ts <= anomaly[1] and ts >= anomaly[0]: \n",
    "                    yes_per += 1\n",
    "                    break\n",
    "                i -= 1\n",
    "                if i == 0:\n",
    "                    no_per += 1\n",
    "            if not df_per['time_stamp'].isin([anomaly[1]]).any():\n",
    "                yes_per += 1\n",
    "                no_per -= 1\n",
    "            if not df_per['time_stamp'].isin([anomaly[0]]).any():\n",
    "                yes_per += 1\n",
    "                no_per -= 1\n",
    "        \n",
    "#         for ts in an_ts:\n",
    "#             i = len(dict_dc_inst_anomalies[dc][inst_num])\n",
    "#             for anomaly in dict_dc_inst_anomalies[dc][inst_num]:\n",
    "#                 if ts <= anomaly[1] and ts >= anomaly[0]: \n",
    "#                     yes_per += 1\n",
    "#                     break\n",
    "#                 i -= 1\n",
    "#                 if i == 0:\n",
    "#                     no_per += 1"
   ]
  },
  {
   "cell_type": "code",
   "execution_count": 69,
   "metadata": {},
   "outputs": [
    {
     "data": {
      "text/plain": [
       "65"
      ]
     },
     "execution_count": 69,
     "metadata": {},
     "output_type": "execute_result"
    }
   ],
   "source": [
    "yes_per"
   ]
  },
  {
   "cell_type": "code",
   "execution_count": 70,
   "metadata": {},
   "outputs": [
    {
     "data": {
      "text/plain": [
       "76"
      ]
     },
     "execution_count": 70,
     "metadata": {},
     "output_type": "execute_result"
    }
   ],
   "source": [
    "no_per"
   ]
  },
  {
   "cell_type": "code",
   "execution_count": 71,
   "metadata": {},
   "outputs": [
    {
     "data": {
      "text/plain": [
       "141"
      ]
     },
     "execution_count": 71,
     "metadata": {},
     "output_type": "execute_result"
    }
   ],
   "source": [
    "all_an_per"
   ]
  },
  {
   "cell_type": "code",
   "execution_count": 228,
   "metadata": {},
   "outputs": [],
   "source": [
    "confusion = pd.DataFrame(index = ['positive', 'negative'],\n",
    "                          columns = ['positive', 'negative']\n",
    "                         )\n",
    "confusion.iloc[0] = [yes_per, no_mod]\n",
    "confusion.iloc[1] = [no_per, 'others']"
   ]
  },
  {
   "cell_type": "code",
   "execution_count": 229,
   "metadata": {},
   "outputs": [
    {
     "data": {
      "text/html": [
       "<div>\n",
       "<style scoped>\n",
       "    .dataframe tbody tr th:only-of-type {\n",
       "        vertical-align: middle;\n",
       "    }\n",
       "\n",
       "    .dataframe tbody tr th {\n",
       "        vertical-align: top;\n",
       "    }\n",
       "\n",
       "    .dataframe thead th {\n",
       "        text-align: right;\n",
       "    }\n",
       "</style>\n",
       "<table border=\"1\" class=\"dataframe\">\n",
       "  <thead>\n",
       "    <tr style=\"text-align: right;\">\n",
       "      <th></th>\n",
       "      <th>positive</th>\n",
       "      <th>negative</th>\n",
       "    </tr>\n",
       "  </thead>\n",
       "  <tbody>\n",
       "    <tr>\n",
       "      <td>positive</td>\n",
       "      <td>15</td>\n",
       "      <td>39</td>\n",
       "    </tr>\n",
       "    <tr>\n",
       "      <td>negative</td>\n",
       "      <td>19</td>\n",
       "      <td>others</td>\n",
       "    </tr>\n",
       "  </tbody>\n",
       "</table>\n",
       "</div>"
      ],
      "text/plain": [
       "         positive negative\n",
       "positive       15       39\n",
       "negative       19   others"
      ]
     },
     "execution_count": 229,
     "metadata": {},
     "output_type": "execute_result"
    }
   ],
   "source": [
    "confusion"
   ]
  }
 ],
 "metadata": {
  "kernelspec": {
   "display_name": "stat",
   "language": "python",
   "name": "stat"
  },
  "language_info": {
   "codemirror_mode": {
    "name": "ipython",
    "version": 3
   },
   "file_extension": ".py",
   "mimetype": "text/x-python",
   "name": "python",
   "nbconvert_exporter": "python",
   "pygments_lexer": "ipython3",
   "version": "3.7.4"
  }
 },
 "nbformat": 4,
 "nbformat_minor": 2
}
